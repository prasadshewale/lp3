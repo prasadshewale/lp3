{
  "cells": [
    {
      "cell_type": "markdown",
      "id": "9fa47041",
      "metadata": {
        "id": "9fa47041"
      },
      "source": [
        "# Assignment 1\n",
        "\n",
        "\n",
        "\n",
        "## Predict the price of the Uber ride from a given pickup point to the agreed drop-off location. Perform following tasks:\n",
        "1.\tPre-process the dataset.\n",
        "2.\tIdentify outliers.\n",
        "3.\tCheck the correlation.\n",
        "4.\tImplement linear regression and random forest regression models.\n",
        "5.\tEvaluate the models and compare their respective scores like R2, RMSE, etc. Dataset link: https://www.kaggle.com/datasets/yasserh/uber-fares-dataset\n"
      ]
    },
    {
      "cell_type": "code",
      "execution_count": null,
      "id": "8cf18579",
      "metadata": {
        "id": "8cf18579"
      },
      "outputs": [],
      "source": [
        "#Importing the required libraries\n",
        "import pandas as pd\n",
        "import numpy as np\n",
        "import seaborn as sns\n",
        "import matplotlib.pyplot as plt"
      ]
    },
    {
      "cell_type": "code",
      "execution_count": null,
      "id": "9785d23e",
      "metadata": {
        "id": "9785d23e"
      },
      "outputs": [],
      "source": [
        "#importing the dataset\n",
        "df  = pd.read_csv(\"./uber.csv\")"
      ]
    },
    {
      "cell_type": "markdown",
      "id": "38ef68f5",
      "metadata": {
        "id": "38ef68f5"
      },
      "source": [
        "##  1.\tPre-process the dataset."
      ]
    },
    {
      "cell_type": "code",
      "execution_count": null,
      "id": "95a9241d",
      "metadata": {
        "colab": {
          "base_uri": "https://localhost:8080/",
          "height": 374
        },
        "id": "95a9241d",
        "outputId": "46101b2e-81b5-4fc4-90db-97c4ef47e047"
      },
      "outputs": [
        {
          "output_type": "execute_result",
          "data": {
            "text/plain": [
              "   Unnamed: 0                            key  fare_amount  \\\n",
              "0    24238194    2015-05-07 19:52:06.0000003          7.5   \n",
              "1    27835199    2009-07-17 20:04:56.0000002          7.7   \n",
              "2    44984355   2009-08-24 21:45:00.00000061         12.9   \n",
              "3    25894730    2009-06-26 08:22:21.0000001          5.3   \n",
              "4    17610152  2014-08-28 17:47:00.000000188         16.0   \n",
              "\n",
              "           pickup_datetime  pickup_longitude  pickup_latitude  \\\n",
              "0  2015-05-07 19:52:06 UTC        -73.999817        40.738354   \n",
              "1  2009-07-17 20:04:56 UTC        -73.994355        40.728225   \n",
              "2  2009-08-24 21:45:00 UTC        -74.005043        40.740770   \n",
              "3  2009-06-26 08:22:21 UTC        -73.976124        40.790844   \n",
              "4  2014-08-28 17:47:00 UTC        -73.925023        40.744085   \n",
              "\n",
              "   dropoff_longitude  dropoff_latitude  passenger_count  \n",
              "0         -73.999512         40.723217              1.0  \n",
              "1         -73.994710         40.750325              1.0  \n",
              "2         -73.962565         40.772647              1.0  \n",
              "3         -73.965316         40.803349              3.0  \n",
              "4         -73.973082         40.761247              5.0  "
            ],
            "text/html": [
              "\n",
              "  <div id=\"df-f2a910b7-9b03-4d4c-90d2-8f976e51ca04\">\n",
              "    <div class=\"colab-df-container\">\n",
              "      <div>\n",
              "<style scoped>\n",
              "    .dataframe tbody tr th:only-of-type {\n",
              "        vertical-align: middle;\n",
              "    }\n",
              "\n",
              "    .dataframe tbody tr th {\n",
              "        vertical-align: top;\n",
              "    }\n",
              "\n",
              "    .dataframe thead th {\n",
              "        text-align: right;\n",
              "    }\n",
              "</style>\n",
              "<table border=\"1\" class=\"dataframe\">\n",
              "  <thead>\n",
              "    <tr style=\"text-align: right;\">\n",
              "      <th></th>\n",
              "      <th>Unnamed: 0</th>\n",
              "      <th>key</th>\n",
              "      <th>fare_amount</th>\n",
              "      <th>pickup_datetime</th>\n",
              "      <th>pickup_longitude</th>\n",
              "      <th>pickup_latitude</th>\n",
              "      <th>dropoff_longitude</th>\n",
              "      <th>dropoff_latitude</th>\n",
              "      <th>passenger_count</th>\n",
              "    </tr>\n",
              "  </thead>\n",
              "  <tbody>\n",
              "    <tr>\n",
              "      <th>0</th>\n",
              "      <td>24238194</td>\n",
              "      <td>2015-05-07 19:52:06.0000003</td>\n",
              "      <td>7.5</td>\n",
              "      <td>2015-05-07 19:52:06 UTC</td>\n",
              "      <td>-73.999817</td>\n",
              "      <td>40.738354</td>\n",
              "      <td>-73.999512</td>\n",
              "      <td>40.723217</td>\n",
              "      <td>1.0</td>\n",
              "    </tr>\n",
              "    <tr>\n",
              "      <th>1</th>\n",
              "      <td>27835199</td>\n",
              "      <td>2009-07-17 20:04:56.0000002</td>\n",
              "      <td>7.7</td>\n",
              "      <td>2009-07-17 20:04:56 UTC</td>\n",
              "      <td>-73.994355</td>\n",
              "      <td>40.728225</td>\n",
              "      <td>-73.994710</td>\n",
              "      <td>40.750325</td>\n",
              "      <td>1.0</td>\n",
              "    </tr>\n",
              "    <tr>\n",
              "      <th>2</th>\n",
              "      <td>44984355</td>\n",
              "      <td>2009-08-24 21:45:00.00000061</td>\n",
              "      <td>12.9</td>\n",
              "      <td>2009-08-24 21:45:00 UTC</td>\n",
              "      <td>-74.005043</td>\n",
              "      <td>40.740770</td>\n",
              "      <td>-73.962565</td>\n",
              "      <td>40.772647</td>\n",
              "      <td>1.0</td>\n",
              "    </tr>\n",
              "    <tr>\n",
              "      <th>3</th>\n",
              "      <td>25894730</td>\n",
              "      <td>2009-06-26 08:22:21.0000001</td>\n",
              "      <td>5.3</td>\n",
              "      <td>2009-06-26 08:22:21 UTC</td>\n",
              "      <td>-73.976124</td>\n",
              "      <td>40.790844</td>\n",
              "      <td>-73.965316</td>\n",
              "      <td>40.803349</td>\n",
              "      <td>3.0</td>\n",
              "    </tr>\n",
              "    <tr>\n",
              "      <th>4</th>\n",
              "      <td>17610152</td>\n",
              "      <td>2014-08-28 17:47:00.000000188</td>\n",
              "      <td>16.0</td>\n",
              "      <td>2014-08-28 17:47:00 UTC</td>\n",
              "      <td>-73.925023</td>\n",
              "      <td>40.744085</td>\n",
              "      <td>-73.973082</td>\n",
              "      <td>40.761247</td>\n",
              "      <td>5.0</td>\n",
              "    </tr>\n",
              "  </tbody>\n",
              "</table>\n",
              "</div>\n",
              "      <button class=\"colab-df-convert\" onclick=\"convertToInteractive('df-f2a910b7-9b03-4d4c-90d2-8f976e51ca04')\"\n",
              "              title=\"Convert this dataframe to an interactive table.\"\n",
              "              style=\"display:none;\">\n",
              "        \n",
              "  <svg xmlns=\"http://www.w3.org/2000/svg\" height=\"24px\"viewBox=\"0 0 24 24\"\n",
              "       width=\"24px\">\n",
              "    <path d=\"M0 0h24v24H0V0z\" fill=\"none\"/>\n",
              "    <path d=\"M18.56 5.44l.94 2.06.94-2.06 2.06-.94-2.06-.94-.94-2.06-.94 2.06-2.06.94zm-11 1L8.5 8.5l.94-2.06 2.06-.94-2.06-.94L8.5 2.5l-.94 2.06-2.06.94zm10 10l.94 2.06.94-2.06 2.06-.94-2.06-.94-.94-2.06-.94 2.06-2.06.94z\"/><path d=\"M17.41 7.96l-1.37-1.37c-.4-.4-.92-.59-1.43-.59-.52 0-1.04.2-1.43.59L10.3 9.45l-7.72 7.72c-.78.78-.78 2.05 0 2.83L4 21.41c.39.39.9.59 1.41.59.51 0 1.02-.2 1.41-.59l7.78-7.78 2.81-2.81c.8-.78.8-2.07 0-2.86zM5.41 20L4 18.59l7.72-7.72 1.47 1.35L5.41 20z\"/>\n",
              "  </svg>\n",
              "      </button>\n",
              "      \n",
              "  <style>\n",
              "    .colab-df-container {\n",
              "      display:flex;\n",
              "      flex-wrap:wrap;\n",
              "      gap: 12px;\n",
              "    }\n",
              "\n",
              "    .colab-df-convert {\n",
              "      background-color: #E8F0FE;\n",
              "      border: none;\n",
              "      border-radius: 50%;\n",
              "      cursor: pointer;\n",
              "      display: none;\n",
              "      fill: #1967D2;\n",
              "      height: 32px;\n",
              "      padding: 0 0 0 0;\n",
              "      width: 32px;\n",
              "    }\n",
              "\n",
              "    .colab-df-convert:hover {\n",
              "      background-color: #E2EBFA;\n",
              "      box-shadow: 0px 1px 2px rgba(60, 64, 67, 0.3), 0px 1px 3px 1px rgba(60, 64, 67, 0.15);\n",
              "      fill: #174EA6;\n",
              "    }\n",
              "\n",
              "    [theme=dark] .colab-df-convert {\n",
              "      background-color: #3B4455;\n",
              "      fill: #D2E3FC;\n",
              "    }\n",
              "\n",
              "    [theme=dark] .colab-df-convert:hover {\n",
              "      background-color: #434B5C;\n",
              "      box-shadow: 0px 1px 3px 1px rgba(0, 0, 0, 0.15);\n",
              "      filter: drop-shadow(0px 1px 2px rgba(0, 0, 0, 0.3));\n",
              "      fill: #FFFFFF;\n",
              "    }\n",
              "  </style>\n",
              "\n",
              "      <script>\n",
              "        const buttonEl =\n",
              "          document.querySelector('#df-f2a910b7-9b03-4d4c-90d2-8f976e51ca04 button.colab-df-convert');\n",
              "        buttonEl.style.display =\n",
              "          google.colab.kernel.accessAllowed ? 'block' : 'none';\n",
              "\n",
              "        async function convertToInteractive(key) {\n",
              "          const element = document.querySelector('#df-f2a910b7-9b03-4d4c-90d2-8f976e51ca04');\n",
              "          const dataTable =\n",
              "            await google.colab.kernel.invokeFunction('convertToInteractive',\n",
              "                                                     [key], {});\n",
              "          if (!dataTable) return;\n",
              "\n",
              "          const docLinkHtml = 'Like what you see? Visit the ' +\n",
              "            '<a target=\"_blank\" href=https://colab.research.google.com/notebooks/data_table.ipynb>data table notebook</a>'\n",
              "            + ' to learn more about interactive tables.';\n",
              "          element.innerHTML = '';\n",
              "          dataTable['output_type'] = 'display_data';\n",
              "          await google.colab.output.renderOutput(dataTable, element);\n",
              "          const docLink = document.createElement('div');\n",
              "          docLink.innerHTML = docLinkHtml;\n",
              "          element.appendChild(docLink);\n",
              "        }\n",
              "      </script>\n",
              "    </div>\n",
              "  </div>\n",
              "  "
            ]
          },
          "metadata": {},
          "execution_count": 9
        }
      ],
      "source": [
        "df.head()"
      ]
    },
    {
      "cell_type": "code",
      "execution_count": null,
      "id": "f2050540",
      "metadata": {
        "colab": {
          "base_uri": "https://localhost:8080/"
        },
        "id": "f2050540",
        "outputId": "e696af9b-0984-4276-dba7-4079a04685dc"
      },
      "outputs": [
        {
          "output_type": "stream",
          "name": "stdout",
          "text": [
            "<class 'pandas.core.frame.DataFrame'>\n",
            "RangeIndex: 8918 entries, 0 to 8917\n",
            "Data columns (total 9 columns):\n",
            " #   Column             Non-Null Count  Dtype  \n",
            "---  ------             --------------  -----  \n",
            " 0   Unnamed: 0         8918 non-null   int64  \n",
            " 1   key                8918 non-null   object \n",
            " 2   fare_amount        8917 non-null   float64\n",
            " 3   pickup_datetime    8917 non-null   object \n",
            " 4   pickup_longitude   8917 non-null   float64\n",
            " 5   pickup_latitude    8917 non-null   float64\n",
            " 6   dropoff_longitude  8917 non-null   float64\n",
            " 7   dropoff_latitude   8917 non-null   float64\n",
            " 8   passenger_count    8917 non-null   float64\n",
            "dtypes: float64(6), int64(1), object(2)\n",
            "memory usage: 627.2+ KB\n"
          ]
        }
      ],
      "source": [
        "df.info() #To get the required information of the dataset"
      ]
    },
    {
      "cell_type": "code",
      "execution_count": null,
      "id": "7a58d76d",
      "metadata": {
        "colab": {
          "base_uri": "https://localhost:8080/"
        },
        "id": "7a58d76d",
        "outputId": "9f817bc9-791c-4fa5-cd2a-243753c87ecd"
      },
      "outputs": [
        {
          "output_type": "execute_result",
          "data": {
            "text/plain": [
              "Index(['Unnamed: 0', 'key', 'fare_amount', 'pickup_datetime',\n",
              "       'pickup_longitude', 'pickup_latitude', 'dropoff_longitude',\n",
              "       'dropoff_latitude', 'passenger_count'],\n",
              "      dtype='object')"
            ]
          },
          "metadata": {},
          "execution_count": 11
        }
      ],
      "source": [
        "df.columns #TO get number of columns in the dataset"
      ]
    },
    {
      "cell_type": "code",
      "execution_count": null,
      "id": "2b805dc7",
      "metadata": {
        "id": "2b805dc7"
      },
      "outputs": [],
      "source": [
        "df = df.drop(['Unnamed: 0', 'key'], axis= 1) #To drop unnamed column as it isn't required"
      ]
    },
    {
      "cell_type": "code",
      "execution_count": null,
      "id": "e98cae88",
      "metadata": {
        "colab": {
          "base_uri": "https://localhost:8080/",
          "height": 337
        },
        "id": "e98cae88",
        "outputId": "fcdec2cd-9e6b-49a8-af79-1422ffad2a6d"
      },
      "outputs": [
        {
          "output_type": "execute_result",
          "data": {
            "text/plain": [
              "   fare_amount          pickup_datetime  pickup_longitude  pickup_latitude  \\\n",
              "0          7.5  2015-05-07 19:52:06 UTC        -73.999817        40.738354   \n",
              "1          7.7  2009-07-17 20:04:56 UTC        -73.994355        40.728225   \n",
              "2         12.9  2009-08-24 21:45:00 UTC        -74.005043        40.740770   \n",
              "3          5.3  2009-06-26 08:22:21 UTC        -73.976124        40.790844   \n",
              "4         16.0  2014-08-28 17:47:00 UTC        -73.925023        40.744085   \n",
              "\n",
              "   dropoff_longitude  dropoff_latitude  passenger_count  \n",
              "0         -73.999512         40.723217              1.0  \n",
              "1         -73.994710         40.750325              1.0  \n",
              "2         -73.962565         40.772647              1.0  \n",
              "3         -73.965316         40.803349              3.0  \n",
              "4         -73.973082         40.761247              5.0  "
            ],
            "text/html": [
              "\n",
              "  <div id=\"df-b4963c7f-27a1-4110-ac3a-36ff4e4e0fd3\">\n",
              "    <div class=\"colab-df-container\">\n",
              "      <div>\n",
              "<style scoped>\n",
              "    .dataframe tbody tr th:only-of-type {\n",
              "        vertical-align: middle;\n",
              "    }\n",
              "\n",
              "    .dataframe tbody tr th {\n",
              "        vertical-align: top;\n",
              "    }\n",
              "\n",
              "    .dataframe thead th {\n",
              "        text-align: right;\n",
              "    }\n",
              "</style>\n",
              "<table border=\"1\" class=\"dataframe\">\n",
              "  <thead>\n",
              "    <tr style=\"text-align: right;\">\n",
              "      <th></th>\n",
              "      <th>fare_amount</th>\n",
              "      <th>pickup_datetime</th>\n",
              "      <th>pickup_longitude</th>\n",
              "      <th>pickup_latitude</th>\n",
              "      <th>dropoff_longitude</th>\n",
              "      <th>dropoff_latitude</th>\n",
              "      <th>passenger_count</th>\n",
              "    </tr>\n",
              "  </thead>\n",
              "  <tbody>\n",
              "    <tr>\n",
              "      <th>0</th>\n",
              "      <td>7.5</td>\n",
              "      <td>2015-05-07 19:52:06 UTC</td>\n",
              "      <td>-73.999817</td>\n",
              "      <td>40.738354</td>\n",
              "      <td>-73.999512</td>\n",
              "      <td>40.723217</td>\n",
              "      <td>1.0</td>\n",
              "    </tr>\n",
              "    <tr>\n",
              "      <th>1</th>\n",
              "      <td>7.7</td>\n",
              "      <td>2009-07-17 20:04:56 UTC</td>\n",
              "      <td>-73.994355</td>\n",
              "      <td>40.728225</td>\n",
              "      <td>-73.994710</td>\n",
              "      <td>40.750325</td>\n",
              "      <td>1.0</td>\n",
              "    </tr>\n",
              "    <tr>\n",
              "      <th>2</th>\n",
              "      <td>12.9</td>\n",
              "      <td>2009-08-24 21:45:00 UTC</td>\n",
              "      <td>-74.005043</td>\n",
              "      <td>40.740770</td>\n",
              "      <td>-73.962565</td>\n",
              "      <td>40.772647</td>\n",
              "      <td>1.0</td>\n",
              "    </tr>\n",
              "    <tr>\n",
              "      <th>3</th>\n",
              "      <td>5.3</td>\n",
              "      <td>2009-06-26 08:22:21 UTC</td>\n",
              "      <td>-73.976124</td>\n",
              "      <td>40.790844</td>\n",
              "      <td>-73.965316</td>\n",
              "      <td>40.803349</td>\n",
              "      <td>3.0</td>\n",
              "    </tr>\n",
              "    <tr>\n",
              "      <th>4</th>\n",
              "      <td>16.0</td>\n",
              "      <td>2014-08-28 17:47:00 UTC</td>\n",
              "      <td>-73.925023</td>\n",
              "      <td>40.744085</td>\n",
              "      <td>-73.973082</td>\n",
              "      <td>40.761247</td>\n",
              "      <td>5.0</td>\n",
              "    </tr>\n",
              "  </tbody>\n",
              "</table>\n",
              "</div>\n",
              "      <button class=\"colab-df-convert\" onclick=\"convertToInteractive('df-b4963c7f-27a1-4110-ac3a-36ff4e4e0fd3')\"\n",
              "              title=\"Convert this dataframe to an interactive table.\"\n",
              "              style=\"display:none;\">\n",
              "        \n",
              "  <svg xmlns=\"http://www.w3.org/2000/svg\" height=\"24px\"viewBox=\"0 0 24 24\"\n",
              "       width=\"24px\">\n",
              "    <path d=\"M0 0h24v24H0V0z\" fill=\"none\"/>\n",
              "    <path d=\"M18.56 5.44l.94 2.06.94-2.06 2.06-.94-2.06-.94-.94-2.06-.94 2.06-2.06.94zm-11 1L8.5 8.5l.94-2.06 2.06-.94-2.06-.94L8.5 2.5l-.94 2.06-2.06.94zm10 10l.94 2.06.94-2.06 2.06-.94-2.06-.94-.94-2.06-.94 2.06-2.06.94z\"/><path d=\"M17.41 7.96l-1.37-1.37c-.4-.4-.92-.59-1.43-.59-.52 0-1.04.2-1.43.59L10.3 9.45l-7.72 7.72c-.78.78-.78 2.05 0 2.83L4 21.41c.39.39.9.59 1.41.59.51 0 1.02-.2 1.41-.59l7.78-7.78 2.81-2.81c.8-.78.8-2.07 0-2.86zM5.41 20L4 18.59l7.72-7.72 1.47 1.35L5.41 20z\"/>\n",
              "  </svg>\n",
              "      </button>\n",
              "      \n",
              "  <style>\n",
              "    .colab-df-container {\n",
              "      display:flex;\n",
              "      flex-wrap:wrap;\n",
              "      gap: 12px;\n",
              "    }\n",
              "\n",
              "    .colab-df-convert {\n",
              "      background-color: #E8F0FE;\n",
              "      border: none;\n",
              "      border-radius: 50%;\n",
              "      cursor: pointer;\n",
              "      display: none;\n",
              "      fill: #1967D2;\n",
              "      height: 32px;\n",
              "      padding: 0 0 0 0;\n",
              "      width: 32px;\n",
              "    }\n",
              "\n",
              "    .colab-df-convert:hover {\n",
              "      background-color: #E2EBFA;\n",
              "      box-shadow: 0px 1px 2px rgba(60, 64, 67, 0.3), 0px 1px 3px 1px rgba(60, 64, 67, 0.15);\n",
              "      fill: #174EA6;\n",
              "    }\n",
              "\n",
              "    [theme=dark] .colab-df-convert {\n",
              "      background-color: #3B4455;\n",
              "      fill: #D2E3FC;\n",
              "    }\n",
              "\n",
              "    [theme=dark] .colab-df-convert:hover {\n",
              "      background-color: #434B5C;\n",
              "      box-shadow: 0px 1px 3px 1px rgba(0, 0, 0, 0.15);\n",
              "      filter: drop-shadow(0px 1px 2px rgba(0, 0, 0, 0.3));\n",
              "      fill: #FFFFFF;\n",
              "    }\n",
              "  </style>\n",
              "\n",
              "      <script>\n",
              "        const buttonEl =\n",
              "          document.querySelector('#df-b4963c7f-27a1-4110-ac3a-36ff4e4e0fd3 button.colab-df-convert');\n",
              "        buttonEl.style.display =\n",
              "          google.colab.kernel.accessAllowed ? 'block' : 'none';\n",
              "\n",
              "        async function convertToInteractive(key) {\n",
              "          const element = document.querySelector('#df-b4963c7f-27a1-4110-ac3a-36ff4e4e0fd3');\n",
              "          const dataTable =\n",
              "            await google.colab.kernel.invokeFunction('convertToInteractive',\n",
              "                                                     [key], {});\n",
              "          if (!dataTable) return;\n",
              "\n",
              "          const docLinkHtml = 'Like what you see? Visit the ' +\n",
              "            '<a target=\"_blank\" href=https://colab.research.google.com/notebooks/data_table.ipynb>data table notebook</a>'\n",
              "            + ' to learn more about interactive tables.';\n",
              "          element.innerHTML = '';\n",
              "          dataTable['output_type'] = 'display_data';\n",
              "          await google.colab.output.renderOutput(dataTable, element);\n",
              "          const docLink = document.createElement('div');\n",
              "          docLink.innerHTML = docLinkHtml;\n",
              "          element.appendChild(docLink);\n",
              "        }\n",
              "      </script>\n",
              "    </div>\n",
              "  </div>\n",
              "  "
            ]
          },
          "metadata": {},
          "execution_count": 13
        }
      ],
      "source": [
        "df.head()"
      ]
    },
    {
      "cell_type": "code",
      "execution_count": null,
      "id": "465258ab",
      "metadata": {
        "colab": {
          "base_uri": "https://localhost:8080/"
        },
        "id": "465258ab",
        "outputId": "9f4aa16b-9ac3-42e3-8408-9be29d312780"
      },
      "outputs": [
        {
          "output_type": "execute_result",
          "data": {
            "text/plain": [
              "(8918, 7)"
            ]
          },
          "metadata": {},
          "execution_count": 14
        }
      ],
      "source": [
        "df.shape #To get the total (Rows,Columns)"
      ]
    },
    {
      "cell_type": "code",
      "execution_count": null,
      "id": "4abc8b91",
      "metadata": {
        "colab": {
          "base_uri": "https://localhost:8080/"
        },
        "id": "4abc8b91",
        "outputId": "254cbee3-99b6-42f3-e9a4-a7273231a379"
      },
      "outputs": [
        {
          "output_type": "execute_result",
          "data": {
            "text/plain": [
              "fare_amount          float64\n",
              "pickup_datetime       object\n",
              "pickup_longitude     float64\n",
              "pickup_latitude      float64\n",
              "dropoff_longitude    float64\n",
              "dropoff_latitude     float64\n",
              "passenger_count      float64\n",
              "dtype: object"
            ]
          },
          "metadata": {},
          "execution_count": 15
        }
      ],
      "source": [
        "df.dtypes #To get the type of each column"
      ]
    },
    {
      "cell_type": "code",
      "execution_count": null,
      "id": "28181a85",
      "metadata": {
        "colab": {
          "base_uri": "https://localhost:8080/"
        },
        "id": "28181a85",
        "outputId": "4904261f-449c-468a-b479-b30fb68940ed"
      },
      "outputs": [
        {
          "output_type": "stream",
          "name": "stdout",
          "text": [
            "<class 'pandas.core.frame.DataFrame'>\n",
            "RangeIndex: 8918 entries, 0 to 8917\n",
            "Data columns (total 7 columns):\n",
            " #   Column             Non-Null Count  Dtype  \n",
            "---  ------             --------------  -----  \n",
            " 0   fare_amount        8917 non-null   float64\n",
            " 1   pickup_datetime    8917 non-null   object \n",
            " 2   pickup_longitude   8917 non-null   float64\n",
            " 3   pickup_latitude    8917 non-null   float64\n",
            " 4   dropoff_longitude  8917 non-null   float64\n",
            " 5   dropoff_latitude   8917 non-null   float64\n",
            " 6   passenger_count    8917 non-null   float64\n",
            "dtypes: float64(6), object(1)\n",
            "memory usage: 487.8+ KB\n"
          ]
        }
      ],
      "source": [
        "df.info()\n"
      ]
    },
    {
      "cell_type": "code",
      "execution_count": null,
      "id": "6b42caca",
      "metadata": {
        "colab": {
          "base_uri": "https://localhost:8080/",
          "height": 300
        },
        "id": "6b42caca",
        "outputId": "dd2d7e05-9649-4cce-ccdd-00bb5a261b32"
      },
      "outputs": [
        {
          "output_type": "execute_result",
          "data": {
            "text/plain": [
              "       fare_amount  pickup_longitude  pickup_latitude  dropoff_longitude  \\\n",
              "count   8917.00000       8917.000000      8917.000000        8917.000000   \n",
              "mean      11.44521        -72.700539        40.000828         -72.673399   \n",
              "std       10.41732         12.320446         5.895643           9.855862   \n",
              "min        2.50000       -748.016667       -74.009697         -75.350437   \n",
              "25%        6.00000        -73.992015        40.734997         -73.991472   \n",
              "50%        8.50000        -73.981582        40.752407         -73.979908   \n",
              "75%       12.50000        -73.967155        40.767058         -73.963588   \n",
              "max      350.00000         40.770667        41.366138          40.761672   \n",
              "\n",
              "       dropoff_latitude  passenger_count  \n",
              "count       8917.000000      8917.000000  \n",
              "mean          40.005821         1.665358  \n",
              "std            5.880433         1.286880  \n",
              "min          -73.994370         0.000000  \n",
              "25%           40.733642         1.000000  \n",
              "50%           40.752997         1.000000  \n",
              "75%           40.768180         2.000000  \n",
              "max           41.366138         6.000000  "
            ],
            "text/html": [
              "\n",
              "  <div id=\"df-15140aac-80b2-4041-80d3-1006b6b1c990\">\n",
              "    <div class=\"colab-df-container\">\n",
              "      <div>\n",
              "<style scoped>\n",
              "    .dataframe tbody tr th:only-of-type {\n",
              "        vertical-align: middle;\n",
              "    }\n",
              "\n",
              "    .dataframe tbody tr th {\n",
              "        vertical-align: top;\n",
              "    }\n",
              "\n",
              "    .dataframe thead th {\n",
              "        text-align: right;\n",
              "    }\n",
              "</style>\n",
              "<table border=\"1\" class=\"dataframe\">\n",
              "  <thead>\n",
              "    <tr style=\"text-align: right;\">\n",
              "      <th></th>\n",
              "      <th>fare_amount</th>\n",
              "      <th>pickup_longitude</th>\n",
              "      <th>pickup_latitude</th>\n",
              "      <th>dropoff_longitude</th>\n",
              "      <th>dropoff_latitude</th>\n",
              "      <th>passenger_count</th>\n",
              "    </tr>\n",
              "  </thead>\n",
              "  <tbody>\n",
              "    <tr>\n",
              "      <th>count</th>\n",
              "      <td>8917.00000</td>\n",
              "      <td>8917.000000</td>\n",
              "      <td>8917.000000</td>\n",
              "      <td>8917.000000</td>\n",
              "      <td>8917.000000</td>\n",
              "      <td>8917.000000</td>\n",
              "    </tr>\n",
              "    <tr>\n",
              "      <th>mean</th>\n",
              "      <td>11.44521</td>\n",
              "      <td>-72.700539</td>\n",
              "      <td>40.000828</td>\n",
              "      <td>-72.673399</td>\n",
              "      <td>40.005821</td>\n",
              "      <td>1.665358</td>\n",
              "    </tr>\n",
              "    <tr>\n",
              "      <th>std</th>\n",
              "      <td>10.41732</td>\n",
              "      <td>12.320446</td>\n",
              "      <td>5.895643</td>\n",
              "      <td>9.855862</td>\n",
              "      <td>5.880433</td>\n",
              "      <td>1.286880</td>\n",
              "    </tr>\n",
              "    <tr>\n",
              "      <th>min</th>\n",
              "      <td>2.50000</td>\n",
              "      <td>-748.016667</td>\n",
              "      <td>-74.009697</td>\n",
              "      <td>-75.350437</td>\n",
              "      <td>-73.994370</td>\n",
              "      <td>0.000000</td>\n",
              "    </tr>\n",
              "    <tr>\n",
              "      <th>25%</th>\n",
              "      <td>6.00000</td>\n",
              "      <td>-73.992015</td>\n",
              "      <td>40.734997</td>\n",
              "      <td>-73.991472</td>\n",
              "      <td>40.733642</td>\n",
              "      <td>1.000000</td>\n",
              "    </tr>\n",
              "    <tr>\n",
              "      <th>50%</th>\n",
              "      <td>8.50000</td>\n",
              "      <td>-73.981582</td>\n",
              "      <td>40.752407</td>\n",
              "      <td>-73.979908</td>\n",
              "      <td>40.752997</td>\n",
              "      <td>1.000000</td>\n",
              "    </tr>\n",
              "    <tr>\n",
              "      <th>75%</th>\n",
              "      <td>12.50000</td>\n",
              "      <td>-73.967155</td>\n",
              "      <td>40.767058</td>\n",
              "      <td>-73.963588</td>\n",
              "      <td>40.768180</td>\n",
              "      <td>2.000000</td>\n",
              "    </tr>\n",
              "    <tr>\n",
              "      <th>max</th>\n",
              "      <td>350.00000</td>\n",
              "      <td>40.770667</td>\n",
              "      <td>41.366138</td>\n",
              "      <td>40.761672</td>\n",
              "      <td>41.366138</td>\n",
              "      <td>6.000000</td>\n",
              "    </tr>\n",
              "  </tbody>\n",
              "</table>\n",
              "</div>\n",
              "      <button class=\"colab-df-convert\" onclick=\"convertToInteractive('df-15140aac-80b2-4041-80d3-1006b6b1c990')\"\n",
              "              title=\"Convert this dataframe to an interactive table.\"\n",
              "              style=\"display:none;\">\n",
              "        \n",
              "  <svg xmlns=\"http://www.w3.org/2000/svg\" height=\"24px\"viewBox=\"0 0 24 24\"\n",
              "       width=\"24px\">\n",
              "    <path d=\"M0 0h24v24H0V0z\" fill=\"none\"/>\n",
              "    <path d=\"M18.56 5.44l.94 2.06.94-2.06 2.06-.94-2.06-.94-.94-2.06-.94 2.06-2.06.94zm-11 1L8.5 8.5l.94-2.06 2.06-.94-2.06-.94L8.5 2.5l-.94 2.06-2.06.94zm10 10l.94 2.06.94-2.06 2.06-.94-2.06-.94-.94-2.06-.94 2.06-2.06.94z\"/><path d=\"M17.41 7.96l-1.37-1.37c-.4-.4-.92-.59-1.43-.59-.52 0-1.04.2-1.43.59L10.3 9.45l-7.72 7.72c-.78.78-.78 2.05 0 2.83L4 21.41c.39.39.9.59 1.41.59.51 0 1.02-.2 1.41-.59l7.78-7.78 2.81-2.81c.8-.78.8-2.07 0-2.86zM5.41 20L4 18.59l7.72-7.72 1.47 1.35L5.41 20z\"/>\n",
              "  </svg>\n",
              "      </button>\n",
              "      \n",
              "  <style>\n",
              "    .colab-df-container {\n",
              "      display:flex;\n",
              "      flex-wrap:wrap;\n",
              "      gap: 12px;\n",
              "    }\n",
              "\n",
              "    .colab-df-convert {\n",
              "      background-color: #E8F0FE;\n",
              "      border: none;\n",
              "      border-radius: 50%;\n",
              "      cursor: pointer;\n",
              "      display: none;\n",
              "      fill: #1967D2;\n",
              "      height: 32px;\n",
              "      padding: 0 0 0 0;\n",
              "      width: 32px;\n",
              "    }\n",
              "\n",
              "    .colab-df-convert:hover {\n",
              "      background-color: #E2EBFA;\n",
              "      box-shadow: 0px 1px 2px rgba(60, 64, 67, 0.3), 0px 1px 3px 1px rgba(60, 64, 67, 0.15);\n",
              "      fill: #174EA6;\n",
              "    }\n",
              "\n",
              "    [theme=dark] .colab-df-convert {\n",
              "      background-color: #3B4455;\n",
              "      fill: #D2E3FC;\n",
              "    }\n",
              "\n",
              "    [theme=dark] .colab-df-convert:hover {\n",
              "      background-color: #434B5C;\n",
              "      box-shadow: 0px 1px 3px 1px rgba(0, 0, 0, 0.15);\n",
              "      filter: drop-shadow(0px 1px 2px rgba(0, 0, 0, 0.3));\n",
              "      fill: #FFFFFF;\n",
              "    }\n",
              "  </style>\n",
              "\n",
              "      <script>\n",
              "        const buttonEl =\n",
              "          document.querySelector('#df-15140aac-80b2-4041-80d3-1006b6b1c990 button.colab-df-convert');\n",
              "        buttonEl.style.display =\n",
              "          google.colab.kernel.accessAllowed ? 'block' : 'none';\n",
              "\n",
              "        async function convertToInteractive(key) {\n",
              "          const element = document.querySelector('#df-15140aac-80b2-4041-80d3-1006b6b1c990');\n",
              "          const dataTable =\n",
              "            await google.colab.kernel.invokeFunction('convertToInteractive',\n",
              "                                                     [key], {});\n",
              "          if (!dataTable) return;\n",
              "\n",
              "          const docLinkHtml = 'Like what you see? Visit the ' +\n",
              "            '<a target=\"_blank\" href=https://colab.research.google.com/notebooks/data_table.ipynb>data table notebook</a>'\n",
              "            + ' to learn more about interactive tables.';\n",
              "          element.innerHTML = '';\n",
              "          dataTable['output_type'] = 'display_data';\n",
              "          await google.colab.output.renderOutput(dataTable, element);\n",
              "          const docLink = document.createElement('div');\n",
              "          docLink.innerHTML = docLinkHtml;\n",
              "          element.appendChild(docLink);\n",
              "        }\n",
              "      </script>\n",
              "    </div>\n",
              "  </div>\n",
              "  "
            ]
          },
          "metadata": {},
          "execution_count": 17
        }
      ],
      "source": [
        "df.describe() #To get statistics of each columns "
      ]
    },
    {
      "cell_type": "markdown",
      "id": "76d8c68b",
      "metadata": {
        "id": "76d8c68b"
      },
      "source": [
        "### Filling Missing values"
      ]
    },
    {
      "cell_type": "code",
      "execution_count": null,
      "id": "2cdecff4",
      "metadata": {
        "colab": {
          "base_uri": "https://localhost:8080/"
        },
        "id": "2cdecff4",
        "outputId": "cc7a693b-a525-4cc8-a477-ad59dfa430e6"
      },
      "outputs": [
        {
          "output_type": "execute_result",
          "data": {
            "text/plain": [
              "fare_amount          1\n",
              "pickup_datetime      1\n",
              "pickup_longitude     1\n",
              "pickup_latitude      1\n",
              "dropoff_longitude    1\n",
              "dropoff_latitude     1\n",
              "passenger_count      1\n",
              "dtype: int64"
            ]
          },
          "metadata": {},
          "execution_count": 18
        }
      ],
      "source": [
        "df.isnull().sum() "
      ]
    },
    {
      "cell_type": "code",
      "execution_count": null,
      "id": "764a1207",
      "metadata": {
        "id": "764a1207"
      },
      "outputs": [],
      "source": [
        "df['dropoff_latitude'].fillna(value=df['dropoff_latitude'].mean(),inplace = True)\n",
        "df['dropoff_longitude'].fillna(value=df['dropoff_longitude'].median(),inplace = True)"
      ]
    },
    {
      "cell_type": "code",
      "execution_count": null,
      "id": "77e59aaa",
      "metadata": {
        "colab": {
          "base_uri": "https://localhost:8080/"
        },
        "id": "77e59aaa",
        "outputId": "e07a4617-c3e7-440e-fdb3-31cdd5b06276"
      },
      "outputs": [
        {
          "output_type": "execute_result",
          "data": {
            "text/plain": [
              "fare_amount          1\n",
              "pickup_datetime      1\n",
              "pickup_longitude     1\n",
              "pickup_latitude      1\n",
              "dropoff_longitude    0\n",
              "dropoff_latitude     0\n",
              "passenger_count      1\n",
              "dtype: int64"
            ]
          },
          "metadata": {},
          "execution_count": 20
        }
      ],
      "source": [
        "df.isnull().sum() "
      ]
    },
    {
      "cell_type": "code",
      "execution_count": null,
      "id": "7fe577b7",
      "metadata": {
        "colab": {
          "base_uri": "https://localhost:8080/"
        },
        "id": "7fe577b7",
        "outputId": "f50c5e00-3439-4c53-d023-a87a1a8dfb69"
      },
      "outputs": [
        {
          "output_type": "execute_result",
          "data": {
            "text/plain": [
              "fare_amount          float64\n",
              "pickup_datetime       object\n",
              "pickup_longitude     float64\n",
              "pickup_latitude      float64\n",
              "dropoff_longitude    float64\n",
              "dropoff_latitude     float64\n",
              "passenger_count      float64\n",
              "dtype: object"
            ]
          },
          "metadata": {},
          "execution_count": 21
        }
      ],
      "source": [
        "df.dtypes"
      ]
    },
    {
      "cell_type": "markdown",
      "id": "9ead348e",
      "metadata": {
        "id": "9ead348e"
      },
      "source": [
        "### Column pickup_datetime is in wrong format (Object). Convert it to DateTime Format"
      ]
    },
    {
      "cell_type": "code",
      "execution_count": null,
      "id": "83065d5c",
      "metadata": {
        "id": "83065d5c"
      },
      "outputs": [],
      "source": [
        "df.pickup_datetime = pd.to_datetime(df.pickup_datetime, errors='coerce') "
      ]
    },
    {
      "cell_type": "code",
      "execution_count": null,
      "id": "cb243df9",
      "metadata": {
        "colab": {
          "base_uri": "https://localhost:8080/"
        },
        "id": "cb243df9",
        "outputId": "3a970614-d7db-4f7a-a8a2-ff65fffe62cf"
      },
      "outputs": [
        {
          "output_type": "execute_result",
          "data": {
            "text/plain": [
              "fare_amount                      float64\n",
              "pickup_datetime      datetime64[ns, UTC]\n",
              "pickup_longitude                 float64\n",
              "pickup_latitude                  float64\n",
              "dropoff_longitude                float64\n",
              "dropoff_latitude                 float64\n",
              "passenger_count                  float64\n",
              "dtype: object"
            ]
          },
          "metadata": {},
          "execution_count": 23
        }
      ],
      "source": [
        "df.dtypes"
      ]
    },
    {
      "cell_type": "markdown",
      "id": "4e65531d",
      "metadata": {
        "id": "4e65531d"
      },
      "source": [
        "### To segregate each time of date and time"
      ]
    },
    {
      "cell_type": "code",
      "execution_count": null,
      "id": "8ab48d27",
      "metadata": {
        "id": "8ab48d27"
      },
      "outputs": [],
      "source": [
        "df= df.assign(hour = df.pickup_datetime.dt.hour,\n",
        "             day= df.pickup_datetime.dt.day,\n",
        "             month = df.pickup_datetime.dt.month,\n",
        "             year = df.pickup_datetime.dt.year,\n",
        "             dayofweek = df.pickup_datetime.dt.dayofweek)"
      ]
    },
    {
      "cell_type": "code",
      "execution_count": null,
      "id": "b71d05c5",
      "metadata": {
        "colab": {
          "base_uri": "https://localhost:8080/"
        },
        "id": "b71d05c5",
        "outputId": "7cff0582-7906-44f1-a520-04ab0af77d6e"
      },
      "outputs": [
        {
          "output_type": "execute_result",
          "data": {
            "text/plain": [
              "   fare_amount           pickup_datetime  pickup_longitude  pickup_latitude  \\\n",
              "0          7.5 2015-05-07 19:52:06+00:00        -73.999817        40.738354   \n",
              "1          7.7 2009-07-17 20:04:56+00:00        -73.994355        40.728225   \n",
              "2         12.9 2009-08-24 21:45:00+00:00        -74.005043        40.740770   \n",
              "3          5.3 2009-06-26 08:22:21+00:00        -73.976124        40.790844   \n",
              "4         16.0 2014-08-28 17:47:00+00:00        -73.925023        40.744085   \n",
              "\n",
              "   dropoff_longitude  dropoff_latitude  passenger_count  hour   day  month  \\\n",
              "0         -73.999512         40.723217              1.0  19.0   7.0    5.0   \n",
              "1         -73.994710         40.750325              1.0  20.0  17.0    7.0   \n",
              "2         -73.962565         40.772647              1.0  21.0  24.0    8.0   \n",
              "3         -73.965316         40.803349              3.0   8.0  26.0    6.0   \n",
              "4         -73.973082         40.761247              5.0  17.0  28.0    8.0   \n",
              "\n",
              "     year  dayofweek  \n",
              "0  2015.0        3.0  \n",
              "1  2009.0        4.0  \n",
              "2  2009.0        0.0  \n",
              "3  2009.0        4.0  \n",
              "4  2014.0        3.0  "
            ],
            "text/html": [
              "\n",
              "  <div id=\"df-51a776c8-593d-48df-b7b6-4801e2861ce0\">\n",
              "    <div class=\"colab-df-container\">\n",
              "      <div>\n",
              "<style scoped>\n",
              "    .dataframe tbody tr th:only-of-type {\n",
              "        vertical-align: middle;\n",
              "    }\n",
              "\n",
              "    .dataframe tbody tr th {\n",
              "        vertical-align: top;\n",
              "    }\n",
              "\n",
              "    .dataframe thead th {\n",
              "        text-align: right;\n",
              "    }\n",
              "</style>\n",
              "<table border=\"1\" class=\"dataframe\">\n",
              "  <thead>\n",
              "    <tr style=\"text-align: right;\">\n",
              "      <th></th>\n",
              "      <th>fare_amount</th>\n",
              "      <th>pickup_datetime</th>\n",
              "      <th>pickup_longitude</th>\n",
              "      <th>pickup_latitude</th>\n",
              "      <th>dropoff_longitude</th>\n",
              "      <th>dropoff_latitude</th>\n",
              "      <th>passenger_count</th>\n",
              "      <th>hour</th>\n",
              "      <th>day</th>\n",
              "      <th>month</th>\n",
              "      <th>year</th>\n",
              "      <th>dayofweek</th>\n",
              "    </tr>\n",
              "  </thead>\n",
              "  <tbody>\n",
              "    <tr>\n",
              "      <th>0</th>\n",
              "      <td>7.5</td>\n",
              "      <td>2015-05-07 19:52:06+00:00</td>\n",
              "      <td>-73.999817</td>\n",
              "      <td>40.738354</td>\n",
              "      <td>-73.999512</td>\n",
              "      <td>40.723217</td>\n",
              "      <td>1.0</td>\n",
              "      <td>19.0</td>\n",
              "      <td>7.0</td>\n",
              "      <td>5.0</td>\n",
              "      <td>2015.0</td>\n",
              "      <td>3.0</td>\n",
              "    </tr>\n",
              "    <tr>\n",
              "      <th>1</th>\n",
              "      <td>7.7</td>\n",
              "      <td>2009-07-17 20:04:56+00:00</td>\n",
              "      <td>-73.994355</td>\n",
              "      <td>40.728225</td>\n",
              "      <td>-73.994710</td>\n",
              "      <td>40.750325</td>\n",
              "      <td>1.0</td>\n",
              "      <td>20.0</td>\n",
              "      <td>17.0</td>\n",
              "      <td>7.0</td>\n",
              "      <td>2009.0</td>\n",
              "      <td>4.0</td>\n",
              "    </tr>\n",
              "    <tr>\n",
              "      <th>2</th>\n",
              "      <td>12.9</td>\n",
              "      <td>2009-08-24 21:45:00+00:00</td>\n",
              "      <td>-74.005043</td>\n",
              "      <td>40.740770</td>\n",
              "      <td>-73.962565</td>\n",
              "      <td>40.772647</td>\n",
              "      <td>1.0</td>\n",
              "      <td>21.0</td>\n",
              "      <td>24.0</td>\n",
              "      <td>8.0</td>\n",
              "      <td>2009.0</td>\n",
              "      <td>0.0</td>\n",
              "    </tr>\n",
              "    <tr>\n",
              "      <th>3</th>\n",
              "      <td>5.3</td>\n",
              "      <td>2009-06-26 08:22:21+00:00</td>\n",
              "      <td>-73.976124</td>\n",
              "      <td>40.790844</td>\n",
              "      <td>-73.965316</td>\n",
              "      <td>40.803349</td>\n",
              "      <td>3.0</td>\n",
              "      <td>8.0</td>\n",
              "      <td>26.0</td>\n",
              "      <td>6.0</td>\n",
              "      <td>2009.0</td>\n",
              "      <td>4.0</td>\n",
              "    </tr>\n",
              "    <tr>\n",
              "      <th>4</th>\n",
              "      <td>16.0</td>\n",
              "      <td>2014-08-28 17:47:00+00:00</td>\n",
              "      <td>-73.925023</td>\n",
              "      <td>40.744085</td>\n",
              "      <td>-73.973082</td>\n",
              "      <td>40.761247</td>\n",
              "      <td>5.0</td>\n",
              "      <td>17.0</td>\n",
              "      <td>28.0</td>\n",
              "      <td>8.0</td>\n",
              "      <td>2014.0</td>\n",
              "      <td>3.0</td>\n",
              "    </tr>\n",
              "  </tbody>\n",
              "</table>\n",
              "</div>\n",
              "      <button class=\"colab-df-convert\" onclick=\"convertToInteractive('df-51a776c8-593d-48df-b7b6-4801e2861ce0')\"\n",
              "              title=\"Convert this dataframe to an interactive table.\"\n",
              "              style=\"display:none;\">\n",
              "        \n",
              "  <svg xmlns=\"http://www.w3.org/2000/svg\" height=\"24px\"viewBox=\"0 0 24 24\"\n",
              "       width=\"24px\">\n",
              "    <path d=\"M0 0h24v24H0V0z\" fill=\"none\"/>\n",
              "    <path d=\"M18.56 5.44l.94 2.06.94-2.06 2.06-.94-2.06-.94-.94-2.06-.94 2.06-2.06.94zm-11 1L8.5 8.5l.94-2.06 2.06-.94-2.06-.94L8.5 2.5l-.94 2.06-2.06.94zm10 10l.94 2.06.94-2.06 2.06-.94-2.06-.94-.94-2.06-.94 2.06-2.06.94z\"/><path d=\"M17.41 7.96l-1.37-1.37c-.4-.4-.92-.59-1.43-.59-.52 0-1.04.2-1.43.59L10.3 9.45l-7.72 7.72c-.78.78-.78 2.05 0 2.83L4 21.41c.39.39.9.59 1.41.59.51 0 1.02-.2 1.41-.59l7.78-7.78 2.81-2.81c.8-.78.8-2.07 0-2.86zM5.41 20L4 18.59l7.72-7.72 1.47 1.35L5.41 20z\"/>\n",
              "  </svg>\n",
              "      </button>\n",
              "      \n",
              "  <style>\n",
              "    .colab-df-container {\n",
              "      display:flex;\n",
              "      flex-wrap:wrap;\n",
              "      gap: 12px;\n",
              "    }\n",
              "\n",
              "    .colab-df-convert {\n",
              "      background-color: #E8F0FE;\n",
              "      border: none;\n",
              "      border-radius: 50%;\n",
              "      cursor: pointer;\n",
              "      display: none;\n",
              "      fill: #1967D2;\n",
              "      height: 32px;\n",
              "      padding: 0 0 0 0;\n",
              "      width: 32px;\n",
              "    }\n",
              "\n",
              "    .colab-df-convert:hover {\n",
              "      background-color: #E2EBFA;\n",
              "      box-shadow: 0px 1px 2px rgba(60, 64, 67, 0.3), 0px 1px 3px 1px rgba(60, 64, 67, 0.15);\n",
              "      fill: #174EA6;\n",
              "    }\n",
              "\n",
              "    [theme=dark] .colab-df-convert {\n",
              "      background-color: #3B4455;\n",
              "      fill: #D2E3FC;\n",
              "    }\n",
              "\n",
              "    [theme=dark] .colab-df-convert:hover {\n",
              "      background-color: #434B5C;\n",
              "      box-shadow: 0px 1px 3px 1px rgba(0, 0, 0, 0.15);\n",
              "      filter: drop-shadow(0px 1px 2px rgba(0, 0, 0, 0.3));\n",
              "      fill: #FFFFFF;\n",
              "    }\n",
              "  </style>\n",
              "\n",
              "      <script>\n",
              "        const buttonEl =\n",
              "          document.querySelector('#df-51a776c8-593d-48df-b7b6-4801e2861ce0 button.colab-df-convert');\n",
              "        buttonEl.style.display =\n",
              "          google.colab.kernel.accessAllowed ? 'block' : 'none';\n",
              "\n",
              "        async function convertToInteractive(key) {\n",
              "          const element = document.querySelector('#df-51a776c8-593d-48df-b7b6-4801e2861ce0');\n",
              "          const dataTable =\n",
              "            await google.colab.kernel.invokeFunction('convertToInteractive',\n",
              "                                                     [key], {});\n",
              "          if (!dataTable) return;\n",
              "\n",
              "          const docLinkHtml = 'Like what you see? Visit the ' +\n",
              "            '<a target=\"_blank\" href=https://colab.research.google.com/notebooks/data_table.ipynb>data table notebook</a>'\n",
              "            + ' to learn more about interactive tables.';\n",
              "          element.innerHTML = '';\n",
              "          dataTable['output_type'] = 'display_data';\n",
              "          await google.colab.output.renderOutput(dataTable, element);\n",
              "          const docLink = document.createElement('div');\n",
              "          docLink.innerHTML = docLinkHtml;\n",
              "          element.appendChild(docLink);\n",
              "        }\n",
              "      </script>\n",
              "    </div>\n",
              "  </div>\n",
              "  "
            ]
          },
          "metadata": {},
          "execution_count": 25
        }
      ],
      "source": [
        "df.head()"
      ]
    },
    {
      "cell_type": "code",
      "execution_count": null,
      "id": "6a4c6fb6",
      "metadata": {
        "id": "6a4c6fb6"
      },
      "outputs": [],
      "source": [
        "# drop the column 'pickup_daetime' using drop()\n",
        "# 'axis = 1' drops the specified column\n",
        "\n",
        "df = df.drop('pickup_datetime',axis=1)\n"
      ]
    },
    {
      "cell_type": "code",
      "execution_count": null,
      "id": "ce586cd5",
      "metadata": {
        "colab": {
          "base_uri": "https://localhost:8080/"
        },
        "id": "ce586cd5",
        "outputId": "ce06a4cf-f1fc-42ed-f763-81cfe6694707"
      },
      "outputs": [
        {
          "output_type": "execute_result",
          "data": {
            "text/plain": [
              "   fare_amount  pickup_longitude  pickup_latitude  dropoff_longitude  \\\n",
              "0          7.5        -73.999817        40.738354         -73.999512   \n",
              "1          7.7        -73.994355        40.728225         -73.994710   \n",
              "2         12.9        -74.005043        40.740770         -73.962565   \n",
              "3          5.3        -73.976124        40.790844         -73.965316   \n",
              "4         16.0        -73.925023        40.744085         -73.973082   \n",
              "\n",
              "   dropoff_latitude  passenger_count  hour   day  month    year  dayofweek  \n",
              "0         40.723217              1.0  19.0   7.0    5.0  2015.0        3.0  \n",
              "1         40.750325              1.0  20.0  17.0    7.0  2009.0        4.0  \n",
              "2         40.772647              1.0  21.0  24.0    8.0  2009.0        0.0  \n",
              "3         40.803349              3.0   8.0  26.0    6.0  2009.0        4.0  \n",
              "4         40.761247              5.0  17.0  28.0    8.0  2014.0        3.0  "
            ],
            "text/html": [
              "\n",
              "  <div id=\"df-d92ad538-f17c-49c6-902f-9fa1e923e578\">\n",
              "    <div class=\"colab-df-container\">\n",
              "      <div>\n",
              "<style scoped>\n",
              "    .dataframe tbody tr th:only-of-type {\n",
              "        vertical-align: middle;\n",
              "    }\n",
              "\n",
              "    .dataframe tbody tr th {\n",
              "        vertical-align: top;\n",
              "    }\n",
              "\n",
              "    .dataframe thead th {\n",
              "        text-align: right;\n",
              "    }\n",
              "</style>\n",
              "<table border=\"1\" class=\"dataframe\">\n",
              "  <thead>\n",
              "    <tr style=\"text-align: right;\">\n",
              "      <th></th>\n",
              "      <th>fare_amount</th>\n",
              "      <th>pickup_longitude</th>\n",
              "      <th>pickup_latitude</th>\n",
              "      <th>dropoff_longitude</th>\n",
              "      <th>dropoff_latitude</th>\n",
              "      <th>passenger_count</th>\n",
              "      <th>hour</th>\n",
              "      <th>day</th>\n",
              "      <th>month</th>\n",
              "      <th>year</th>\n",
              "      <th>dayofweek</th>\n",
              "    </tr>\n",
              "  </thead>\n",
              "  <tbody>\n",
              "    <tr>\n",
              "      <th>0</th>\n",
              "      <td>7.5</td>\n",
              "      <td>-73.999817</td>\n",
              "      <td>40.738354</td>\n",
              "      <td>-73.999512</td>\n",
              "      <td>40.723217</td>\n",
              "      <td>1.0</td>\n",
              "      <td>19.0</td>\n",
              "      <td>7.0</td>\n",
              "      <td>5.0</td>\n",
              "      <td>2015.0</td>\n",
              "      <td>3.0</td>\n",
              "    </tr>\n",
              "    <tr>\n",
              "      <th>1</th>\n",
              "      <td>7.7</td>\n",
              "      <td>-73.994355</td>\n",
              "      <td>40.728225</td>\n",
              "      <td>-73.994710</td>\n",
              "      <td>40.750325</td>\n",
              "      <td>1.0</td>\n",
              "      <td>20.0</td>\n",
              "      <td>17.0</td>\n",
              "      <td>7.0</td>\n",
              "      <td>2009.0</td>\n",
              "      <td>4.0</td>\n",
              "    </tr>\n",
              "    <tr>\n",
              "      <th>2</th>\n",
              "      <td>12.9</td>\n",
              "      <td>-74.005043</td>\n",
              "      <td>40.740770</td>\n",
              "      <td>-73.962565</td>\n",
              "      <td>40.772647</td>\n",
              "      <td>1.0</td>\n",
              "      <td>21.0</td>\n",
              "      <td>24.0</td>\n",
              "      <td>8.0</td>\n",
              "      <td>2009.0</td>\n",
              "      <td>0.0</td>\n",
              "    </tr>\n",
              "    <tr>\n",
              "      <th>3</th>\n",
              "      <td>5.3</td>\n",
              "      <td>-73.976124</td>\n",
              "      <td>40.790844</td>\n",
              "      <td>-73.965316</td>\n",
              "      <td>40.803349</td>\n",
              "      <td>3.0</td>\n",
              "      <td>8.0</td>\n",
              "      <td>26.0</td>\n",
              "      <td>6.0</td>\n",
              "      <td>2009.0</td>\n",
              "      <td>4.0</td>\n",
              "    </tr>\n",
              "    <tr>\n",
              "      <th>4</th>\n",
              "      <td>16.0</td>\n",
              "      <td>-73.925023</td>\n",
              "      <td>40.744085</td>\n",
              "      <td>-73.973082</td>\n",
              "      <td>40.761247</td>\n",
              "      <td>5.0</td>\n",
              "      <td>17.0</td>\n",
              "      <td>28.0</td>\n",
              "      <td>8.0</td>\n",
              "      <td>2014.0</td>\n",
              "      <td>3.0</td>\n",
              "    </tr>\n",
              "  </tbody>\n",
              "</table>\n",
              "</div>\n",
              "      <button class=\"colab-df-convert\" onclick=\"convertToInteractive('df-d92ad538-f17c-49c6-902f-9fa1e923e578')\"\n",
              "              title=\"Convert this dataframe to an interactive table.\"\n",
              "              style=\"display:none;\">\n",
              "        \n",
              "  <svg xmlns=\"http://www.w3.org/2000/svg\" height=\"24px\"viewBox=\"0 0 24 24\"\n",
              "       width=\"24px\">\n",
              "    <path d=\"M0 0h24v24H0V0z\" fill=\"none\"/>\n",
              "    <path d=\"M18.56 5.44l.94 2.06.94-2.06 2.06-.94-2.06-.94-.94-2.06-.94 2.06-2.06.94zm-11 1L8.5 8.5l.94-2.06 2.06-.94-2.06-.94L8.5 2.5l-.94 2.06-2.06.94zm10 10l.94 2.06.94-2.06 2.06-.94-2.06-.94-.94-2.06-.94 2.06-2.06.94z\"/><path d=\"M17.41 7.96l-1.37-1.37c-.4-.4-.92-.59-1.43-.59-.52 0-1.04.2-1.43.59L10.3 9.45l-7.72 7.72c-.78.78-.78 2.05 0 2.83L4 21.41c.39.39.9.59 1.41.59.51 0 1.02-.2 1.41-.59l7.78-7.78 2.81-2.81c.8-.78.8-2.07 0-2.86zM5.41 20L4 18.59l7.72-7.72 1.47 1.35L5.41 20z\"/>\n",
              "  </svg>\n",
              "      </button>\n",
              "      \n",
              "  <style>\n",
              "    .colab-df-container {\n",
              "      display:flex;\n",
              "      flex-wrap:wrap;\n",
              "      gap: 12px;\n",
              "    }\n",
              "\n",
              "    .colab-df-convert {\n",
              "      background-color: #E8F0FE;\n",
              "      border: none;\n",
              "      border-radius: 50%;\n",
              "      cursor: pointer;\n",
              "      display: none;\n",
              "      fill: #1967D2;\n",
              "      height: 32px;\n",
              "      padding: 0 0 0 0;\n",
              "      width: 32px;\n",
              "    }\n",
              "\n",
              "    .colab-df-convert:hover {\n",
              "      background-color: #E2EBFA;\n",
              "      box-shadow: 0px 1px 2px rgba(60, 64, 67, 0.3), 0px 1px 3px 1px rgba(60, 64, 67, 0.15);\n",
              "      fill: #174EA6;\n",
              "    }\n",
              "\n",
              "    [theme=dark] .colab-df-convert {\n",
              "      background-color: #3B4455;\n",
              "      fill: #D2E3FC;\n",
              "    }\n",
              "\n",
              "    [theme=dark] .colab-df-convert:hover {\n",
              "      background-color: #434B5C;\n",
              "      box-shadow: 0px 1px 3px 1px rgba(0, 0, 0, 0.15);\n",
              "      filter: drop-shadow(0px 1px 2px rgba(0, 0, 0, 0.3));\n",
              "      fill: #FFFFFF;\n",
              "    }\n",
              "  </style>\n",
              "\n",
              "      <script>\n",
              "        const buttonEl =\n",
              "          document.querySelector('#df-d92ad538-f17c-49c6-902f-9fa1e923e578 button.colab-df-convert');\n",
              "        buttonEl.style.display =\n",
              "          google.colab.kernel.accessAllowed ? 'block' : 'none';\n",
              "\n",
              "        async function convertToInteractive(key) {\n",
              "          const element = document.querySelector('#df-d92ad538-f17c-49c6-902f-9fa1e923e578');\n",
              "          const dataTable =\n",
              "            await google.colab.kernel.invokeFunction('convertToInteractive',\n",
              "                                                     [key], {});\n",
              "          if (!dataTable) return;\n",
              "\n",
              "          const docLinkHtml = 'Like what you see? Visit the ' +\n",
              "            '<a target=\"_blank\" href=https://colab.research.google.com/notebooks/data_table.ipynb>data table notebook</a>'\n",
              "            + ' to learn more about interactive tables.';\n",
              "          element.innerHTML = '';\n",
              "          dataTable['output_type'] = 'display_data';\n",
              "          await google.colab.output.renderOutput(dataTable, element);\n",
              "          const docLink = document.createElement('div');\n",
              "          docLink.innerHTML = docLinkHtml;\n",
              "          element.appendChild(docLink);\n",
              "        }\n",
              "      </script>\n",
              "    </div>\n",
              "  </div>\n",
              "  "
            ]
          },
          "metadata": {},
          "execution_count": 27
        }
      ],
      "source": [
        "df.head()"
      ]
    },
    {
      "cell_type": "code",
      "execution_count": null,
      "id": "dd383ed2",
      "metadata": {
        "colab": {
          "base_uri": "https://localhost:8080/"
        },
        "id": "dd383ed2",
        "outputId": "068d5e37-03a9-4773-c61f-9314a93a5d22"
      },
      "outputs": [
        {
          "output_type": "execute_result",
          "data": {
            "text/plain": [
              "fare_amount          float64\n",
              "pickup_longitude     float64\n",
              "pickup_latitude      float64\n",
              "dropoff_longitude    float64\n",
              "dropoff_latitude     float64\n",
              "passenger_count      float64\n",
              "hour                 float64\n",
              "day                  float64\n",
              "month                float64\n",
              "year                 float64\n",
              "dayofweek            float64\n",
              "dtype: object"
            ]
          },
          "metadata": {},
          "execution_count": 28
        }
      ],
      "source": [
        "df.dtypes"
      ]
    },
    {
      "cell_type": "markdown",
      "id": "862aaa86",
      "metadata": {
        "id": "862aaa86"
      },
      "source": [
        "## Checking outliers and filling them "
      ]
    },
    {
      "cell_type": "code",
      "execution_count": null,
      "id": "d02f34bc",
      "metadata": {
        "colab": {
          "base_uri": "https://localhost:8080/",
          "height": 1000
        },
        "id": "d02f34bc",
        "outputId": "54c34635-11ea-4770-da69-f0b5d354b900"
      },
      "outputs": [
        {
          "output_type": "execute_result",
          "data": {
            "text/plain": [
              "fare_amount             AxesSubplot(0.125,0.787927;0.352273x0.0920732)\n",
              "pickup_longitude     AxesSubplot(0.547727,0.787927;0.352273x0.0920732)\n",
              "pickup_latitude         AxesSubplot(0.125,0.677439;0.352273x0.0920732)\n",
              "dropoff_longitude    AxesSubplot(0.547727,0.677439;0.352273x0.0920732)\n",
              "dropoff_latitude        AxesSubplot(0.125,0.566951;0.352273x0.0920732)\n",
              "passenger_count      AxesSubplot(0.547727,0.566951;0.352273x0.0920732)\n",
              "hour                    AxesSubplot(0.125,0.456463;0.352273x0.0920732)\n",
              "day                  AxesSubplot(0.547727,0.456463;0.352273x0.0920732)\n",
              "month                   AxesSubplot(0.125,0.345976;0.352273x0.0920732)\n",
              "year                 AxesSubplot(0.547727,0.345976;0.352273x0.0920732)\n",
              "dayofweek               AxesSubplot(0.125,0.235488;0.352273x0.0920732)\n",
              "dtype: object"
            ]
          },
          "metadata": {},
          "execution_count": 29
        },
        {
          "output_type": "display_data",
          "data": {
            "text/plain": [
              "<Figure size 1080x1440 with 14 Axes>"
            ],
            "image/png": "[encoded data removed]"
          },
          "metadata": {
            "needs_background": "light"
          }
        }
      ],
      "source": [
        "df.plot(kind = \"box\",subplots = True,layout = (7,2),figsize=(15,20)) #Boxplot to check the outliers"
      ]
    },
    {
      "cell_type": "code",
      "execution_count": null,
      "id": "738b633b",
      "metadata": {
        "id": "738b633b"
      },
      "outputs": [],
      "source": [
        "#Using the InterQuartile Range to fill the values\n",
        "def remove_outlier(df1 , col):\n",
        "    Q1 = df1[col].quantile(0.25)\n",
        "    Q3 = df1[col].quantile(0.75)\n",
        "    IQR = Q3 - Q1\n",
        "    lower_whisker = Q1-1.5*IQR\n",
        "    upper_whisker = Q3+1.5*IQR\n",
        "    df[col] = np.clip(df1[col] , lower_whisker , upper_whisker)\n",
        "    return df1\n",
        "\n",
        "def treat_outliers_all(df1 , col_list):\n",
        "    for c in col_list:\n",
        "        df1 = remove_outlier(df , c)\n",
        "    return df1"
      ]
    },
    {
      "cell_type": "code",
      "execution_count": null,
      "id": "132161bd",
      "metadata": {
        "id": "132161bd"
      },
      "outputs": [],
      "source": [
        "df = treat_outliers_all(df , df.iloc[: , 0::])"
      ]
    },
    {
      "cell_type": "code",
      "execution_count": null,
      "id": "1080ca21",
      "metadata": {
        "colab": {
          "base_uri": "https://localhost:8080/",
          "height": 1000
        },
        "id": "1080ca21",
        "outputId": "aa0e5ae5-628d-4756-ab86-0549195887b9"
      },
      "outputs": [
        {
          "output_type": "execute_result",
          "data": {
            "text/plain": [
              "fare_amount             AxesSubplot(0.125,0.787927;0.352273x0.0920732)\n",
              "pickup_longitude     AxesSubplot(0.547727,0.787927;0.352273x0.0920732)\n",
              "pickup_latitude         AxesSubplot(0.125,0.677439;0.352273x0.0920732)\n",
              "dropoff_longitude    AxesSubplot(0.547727,0.677439;0.352273x0.0920732)\n",
              "dropoff_latitude        AxesSubplot(0.125,0.566951;0.352273x0.0920732)\n",
              "passenger_count      AxesSubplot(0.547727,0.566951;0.352273x0.0920732)\n",
              "hour                    AxesSubplot(0.125,0.456463;0.352273x0.0920732)\n",
              "day                  AxesSubplot(0.547727,0.456463;0.352273x0.0920732)\n",
              "month                   AxesSubplot(0.125,0.345976;0.352273x0.0920732)\n",
              "year                 AxesSubplot(0.547727,0.345976;0.352273x0.0920732)\n",
              "dayofweek               AxesSubplot(0.125,0.235488;0.352273x0.0920732)\n",
              "dtype: object"
            ]
          },
          "metadata": {},
          "execution_count": 32
        },
        {
          "output_type": "display_data",
          "data": {
            "text/plain": [
              "<Figure size 1080x1440 with 14 Axes>"
            ],
            "image/png": "[encoded data removed]"
          },
          "metadata": {
            "needs_background": "light"
          }
        }
      ],
      "source": [
        "df.plot(kind = \"box\",subplots = True,layout = (7,2),figsize=(15,20)) #Boxplot shows that dataset is free from outliers"
      ]
    },
    {
      "cell_type": "code",
      "source": [
        "!pip install haversine"
      ],
      "metadata": {
        "colab": {
          "base_uri": "https://localhost:8080/"
        },
        "id": "kRRswsIzWEDw",
        "outputId": "f9c37e55-86e7-4651-e245-571325711323"
      },
      "id": "kRRswsIzWEDw",
      "execution_count": null,
      "outputs": [
        {
          "output_type": "stream",
          "name": "stdout",
          "text": [
            "Looking in indexes: https://pypi.org/simple, https://us-python.pkg.dev/colab-wheels/public/simple/\n",
            "Collecting haversine\n",
            "  Downloading haversine-2.7.0-py2.py3-none-any.whl (6.9 kB)\n",
            "Installing collected packages: haversine\n",
            "Successfully installed haversine-2.7.0\n"
          ]
        }
      ]
    },
    {
      "cell_type": "code",
      "execution_count": null,
      "id": "f9042841",
      "metadata": {
        "colab": {
          "base_uri": "https://localhost:8080/",
          "height": 288
        },
        "id": "f9042841",
        "outputId": "61f77651-eab2-47a7-8f3d-ba95f2d94fba"
      },
      "outputs": [
        {
          "output_type": "stream",
          "name": "stdout",
          "text": [
            "[1.6833250775073447, 2.4575932783467835, 5.036384146783453, 1.661685753650294, 4.110211913288743, 0.0, 9.537624298955508, 0.8859948220429716, 2.3327142314177545, 4.889423641655177, 2.2508607308770285, 0.8859948220429716, 0.3022521108558365, 3.5812557740132496, 1.3099517093917648, 1.716279792276335, 0.7299665570466272, 2.515953547298386, 1.790321726187665, 1.0347050399795192, 2.4902472008677727, 0.9594701844599927, 1.2613897673437817, 1.7517650017211177, 6.1932445014761095, 2.736192584061414, 0.7232537124105735, 3.229443537425455, 1.4295172964395384, 2.233699311547041, 11.02371674587468, 1.8950491608266506, 1.9049353402365328, 3.1821178242889583, 4.400015037293744, 2.9230236888626995, 1.200213842045202, 2.635790807404098, 2.253613903554444, 9.201513417411665, 4.826533532872274, 1.2502926870845612, 0.7984742276755328, 0.840396152683202, 0.38519924001701444, 2.434346176233359, 3.127909533264099, 3.7346507724526368, 0.0, 4.504360509008704, 1.5579008497303448, 4.923160610490316, 7.683158068167262, 0.77634314184112, 4.523573083259081, 4.06303179170157, 1.1746737081325782, 1.2923819784535335, 1.21232151965934, 0.8729716749950138, 2.1074756058990856, 5.901643616945056, 0.6855640840334924, 5.634300221883286, 0.7550126930090186, 0.8859948220429716, 1.0321749030315608, 5.847123145760689, 3.0962647003859574, 2.068044688771067, 1.5086978898301036, 3.310688313214333, 0.5099461974827887, 1.9072963928940811, 6.152304270973421, 6.100540899228414, 1.9571596722303939, 4.580228282398262, 4.247622321534987, 0.9043278463938618, 2.499149034842446, 0.41957484389859023, 9.589402488692025, 4.741483270405726, 0.0, 2.944307722325589, 1.2980360742853914, 6.903605106108037, 1.80509590056403, 1.3540037466619592, 1.3985793924855354, 1.0855348055513168, 0.8859948220429716, 1.2560044656304787, 1.2322854358550752, 2.177184869699798, 0.5913097887913589, 0.7059208750601758, 6.3689751862533095, 5.5182615502859935, 2.0175432998561025, 0.5730744516191166, 0.7485379148591866, 2.800572945460828, 6.5651946360691715, 2.151452815480442, 0.9853760531912669, 1.705646050191744, 0.6325957503446071, 2.5205599224510924, 5.5555911761089485, 1.2902717916405408, 2.2039006742188842, 6.600037307734847, 1.3620086545357155, 0.8339963144694047, 2.339481564210149, 1.7643888489494255, 3.2125588562896175, 1.9504898596578084, 0.8859948220429716, 2.3992175140695715, 1.4694773253693545, 1.9741348182430898, 3.740438452483117, 2.176311362468996, 1.2195234142647462, 1.1528728732020785, 2.1235004521220673, 3.5739610800397585, 1.5679009708942961, 1.0121554184708625, 3.513305615404955, 0.8859948220429716, 1.7841984734351823, 3.4302129383474664, 3.7726640147517996, 5.060744411441399, 2.7231858480669056, 4.715419442881193, 2.1793115241552314, 1.70866368385628, 1.19476321862848, 1.6390222354302528, 3.0685608081368967, 4.473289665851048, 1.37341302240955, 3.481380394599612, 1.0186481929664464, 3.6116963717578914, 5.600499262544222, 0.919827160362576, 3.5885450229857203, 3.4468771664826057, 0.6774823849168342, 1.166554730338164, 0.8456297568751322, 1.481729691783599, 0.5808106243688994, 1.4819618793333265, 0.9054249595313008, 2.6227549008377546, 4.425237713489356, 1.5240431957846732, 1.8947043339560112, 3.0793847352288597, 0.0, 1.066524360439298, 3.907631850108434, 0.8859948220429716, 1.3238717252730092, 1.4225749614603436, 2.31597774099886, 1.6598673834539075, 2.3359208961641458, 3.6193655097463826, 2.9547192169738765, 1.0581972284125865, 5.259926514450871, 0.9517585737436477, 2.622033614711671, 3.6544207914251037, 5.744520049956267, 1.4099935576123503, 2.3731618371467786, 0.7459983249024945, 2.037028759274383, 4.447412149306085, 6.266021875809639, 6.102571795022024, 1.136059938462684, 0.4445695655507225, 8.305590458344271, 2.9969312113645437, 1.6880697796691957, 3.4192543921764096, 6.447083307413556, 3.239160591551795, 1.3160927544902608, 6.3239664101151, 1.403449368792598, 1.824875242257348, 4.803775734776615, 1.1540979512543523, 9.437744227527915, 9.025935561654762, 1.8044575499927282, 0.2630230396164467, 1.0843264058702755, 1.1339639614584733, 3.066968595549588, 0.8447879467847005, 2.4567303881601017, 1.9441282991504945, 4.447081871480841, 0.7549463978280366, 6.340800401734032, 1.5020942962323471, 4.615772843385764, 1.7514377249484463, 1.9070604598703718, 5.0955040732855235, 6.88898020535702, 10.074405138041094, 0.8717589098431497, 4.946085236853659, 9.500000281731328, 0.8805574307190026, 1.4136419949939485, 2.1171056720053976, 2.396713554128903, 1.428890513842054, 1.2696816522951435, 3.0761080538691283, 0.777776683309271, 4.524011276386306, 1.8316384585992311, 0.8859948220429716, 0.5878310700387969, 2.2671016634316494, 6.109066282333016, 1.8301186747611875, 1.0320970913885732, 3.287281125183714, 2.5309548788864404, 2.820714319336463, 5.153358154745971, 1.0514557394368378, 0.9370347202687204, 4.0076157324919, 3.407794584431871, 0.9069650672102905, 3.1957201482771658, 1.855751233786371, 1.7816896808136653, 3.2893642153446696, 1.1102900259853528, 1.5305966750547555, 5.669289630045369, 2.0619516487367537, 2.964787207618063, 1.37439119863637, 1.4867873316830493, 2.615256304607202, 5.307339210348947, 2.0551270047297665, 2.913775111717478, 2.2854336229377803, 6.862146431500417, 1.1321098421075944, 3.8980643064935903, 1.3483004540015666, 1.8778521168502242, 2.7086127461385794, 2.849660131367168, 0.7502259308508177, 7.816854975491772, 0.8197169165531962, 0.637783187568734, 6.019992146736847, 1.0740364899145673, 1.2700700374569274, 2.9734034401985547, 3.0116147920135834, 6.815085550014233, 2.3117681592280888, 2.6167108650408415, 3.8605586262495906, 0.8376659220622726, 2.2318566446333223, 6.870033039426992, 2.1701328664295407, 2.260245533570669, 2.0675428885425866, 0.45343004068156095, 5.197545351800834, 2.050534429744812, 0.7906358101792909, 3.8659334960163165, 1.7345080962077137, 2.9310646591022587, 5.017741716983639, 1.69676275592188, 0.8182452803165237, 1.558254498123731, 1.9977641638140224, 1.8739592430616279, 5.642816480993136, 0.5656187740299337, 2.2216634205992745, 5.210951003197061, 1.2482518665688118, 2.7076963816300155, 2.15681425811478, 2.0354111961964683, 9.181729037530616, 0.8859948220429716, 1.6792879719299658, 0.7726437078664028, 6.601001273588086, 2.794748182640361, 0.11662473456151841, 7.89627920356595, 1.4989314914213383, 1.1376001974132999, 1.768631576406727, 3.7917861726540916, 6.106378475888705, 4.253132968700945, 4.736561043567871, 1.6081578291654195, 2.4309190094703865, 6.173318526640938, 4.960576514428606, 3.152673004602956, 0.8871533865617451, 2.1021187803224657, 0.7016708392612302, 3.6039242909497586, 7.34693198999573, 1.7752639784781883, 2.892455314938483, 0.7123582388742966, 0.6329587547560238, 5.464886666552504, 1.7724901954681087, 11.797966377219177, 0.848050391473813, 5.335117160459943, 1.3814764234177208, 2.003784831804579, 2.8051963320067212, 1.2784706662883207, 1.6347419897288369, 1.1709104013792118, 4.172434360901016, 2.165961078746152, 0.7345049093557242, 1.676533378261942, 1.8541170093620831, 3.424185644245665, 0.09771039234721299, 2.6136025292117417, 0.19864745506307777, 0.3303543804390589, 1.8324676049519892, 7.907901453298938, 3.770414619529034, 1.3649227997441662, 2.282314718096799, 2.03259134883066, 1.8249615157515897, 1.0888024691132883, 2.831060645922549, 1.6703799542221531, 10.893431737666688, 1.9584552291998643, 3.418008322105889, 2.463244768079452, 4.8558516146941155, 1.650257559898209, 1.537444614708705, 0.2825599378027148, 0.5553213194190024, 3.3508800232590463, 1.3223235249073542, 3.1399660251977752, 3.8763297477390313, 4.4109768947999335, 0.8859948220429716, 1.8870437474802155, 1.8754267410108403, 8.981676918718176, 1.795792427591927, 0.5878927920839351, 1.3369185040260436, 2.2472584882969744, 1.2986515625210666, 7.012917099516167, 3.1837289930871018, 2.557923445563547, 6.523190624866108, 2.0593281719808725, 1.7191102533721345, 4.83780843371231, 0.689300644079872, 0.6487597203396355, 2.4077790198451168, 3.4855635064245534, 4.286426008464891, 2.3513078928385456, 1.532139389138959, 0.8859948220429716, 1.1877918931639615, 4.322649423125438, 3.565825156790359, 0.5891569005623903, 1.714143172025093, 8.493920616727893, 1.6024941617278432, 2.27087121603153, 1.0936375681686001, 5.016570592882959, 5.011125875838255, 5.2168277536888015, 3.422279491799945, 3.876951546882687, 0.8859948220429716, 0.7240951406553017, 0.5204338393564141, 3.7533170584463833, 4.13885049561834, 0.6952572918176088, 2.3045712719846834, 1.3135581791415394, 1.5779749196009698, 6.144441005188224, 4.6888655751009995, 2.112291107300044, 8.238326728107612, 0.885665457677127, 3.8341329919278313, 10.927679867812072, 1.7309400715206562, 1.0125791809859863, 3.1809399052764062, 1.9477408522623545, 0.8459764927908993, 1.2687659135334046, 1.3414709430292162, 0.8859948220429716, 1.4588232891326043, 2.2895923323056895, 7.625593808958714, 0.92604591608269, 2.86880046589127, 2.0441538459888444, 0.15851631888644194, 3.692351849835081, 2.0193965043999618, 1.0099614279388553, 1.4917185101746704, 1.51978635774001, 3.6186879383790576, 4.915393538619769, 1.1679764088591194, 3.9509978615022536, 0.0, 1.0237567701848143, 1.3942824554541593, 0.8182888341956682, 1.2266922540603835, 0.6486966346700421, 2.0517326775865308, 4.465562222562157, 0.36798407759072044, 2.257552311699234, 1.2724626621587156, 1.5426496032860373, 2.7696182273659207, 3.0030659342015555, 0.5137198062988275, 0.47050099976415233, 1.152215578608276, 2.3595576810789183, 1.8238927179091515, 0.7301496430602897, 11.794648205867638, 1.1702807628426788, 4.278186898403274, 2.139020834850892, 1.9419779675245836, 3.2200924471559387, 3.732453446411291, 12.129538821325154, 10.404128000700823, 1.5721527083213753, 3.926686002760724, 1.082968680897182, 1.908434319748239, 0.9767591601490874, 6.312720052945961, 6.671440855060088, 2.1674998278671826, 5.358575939695272, 6.800834534266343, 1.4984470715648295, 2.047379865183603, 2.014341745641009, 1.6805957719951525, 1.0114910223076548, 2.4469897836708903, 0.6288854558640983, 3.816324786242919, 3.860193932056304, 1.8677046164956665, 7.349390994392025, 4.7299648223310875, 1.1449848475485134, 4.94341894373907, 2.3853207884604952, 3.59905488314125, 0.9415703995907913, 0.9219224946595967, 4.859360909188374, 1.777950048066609, 1.6167585902738237, 4.373199866470946, 4.350333025395098, 7.627247373919188, 1.3296967160736641, 3.2128052234443634, 0.7369009671532577, 1.3935106503520962, 0.9556730444087008, 1.1105039204554548, 4.9497404432382055, 4.991862892928841, 0.6466676309960426, 4.657554246822394, 2.3135943540068773, 3.058593312489884, 2.8096621236304116, 3.4507464160578434, 2.613176167892551, 1.929439056436529, 1.841827555746606, 1.5784920027165998, 4.139357790848963, 1.3788036841230704, 1.7718559472541635, 4.324522024442271, 1.2998178822150275, 6.8878940388607175, 2.5144596357259785, 6.559221973372529, 0.8859948220429716, 3.214164805099608, 0.7117751106482453, 2.4111707644656954, 0.8859948220429716, 2.6403859631565156, 3.0065595446660582, 1.257229333513927, 3.794471155550668, 4.754888147231437, 1.0972841005012344, 1.428788072292393, 3.8393914713678123, 5.620734537791365, 9.992842181113403, 2.328867189977751, 3.1788468764468965, 1.864766514057273, 2.963557269614453, 3.414396911213883, 2.525972999216851, 3.396135340864232, 0.8089603221053214, 1.26263752157333, 5.295749734128347, 0.5333099584649932, 3.759930274437996, 6.326646060811302, 6.066953693197636, 6.773948621639868, 0.5598729272408635, 0.8575046049062067, 2.445397820328373, 2.819299882067107, 0.6631050632140973, 1.529175531905398, 2.8065552316422444, 2.415435767100913, 9.821785168910273, 1.6709866693739857, 2.3089477018006606, 5.069408912952638, 2.279424174203932, 2.175872183824103, 1.7822549639345722, 2.027691556820331, 4.935236863266085, 1.769930606439239, 3.5464445522995054, 1.930228556402269, 2.8967472892238733, 8.196970997448558, 1.7356454118294677, 3.179668880507512, 11.056029613480037, 3.3392491828727238, 2.802434054464456, 0.7780875857644323, 1.0555368055749053, 7.346839928882246, 1.1033684919098945, 1.330409545845683, 1.0945881283615069, 1.1278515221295327, 0.07312531440803731, 7.139796982642585, 1.5250910735289303, 2.132863748846976, 1.217169659775424, 4.8891917255868105, 2.0582005327690176, 1.5933552497708745, 1.5271127136282383, 1.4425099381741628, 2.9763896465671817, 1.9064433193421977, 2.435203045963132, 1.5220758462984687, 2.1145179355258907, 0.4245331575392342, 1.284338033040748, 6.62865818622723, 3.9565476409007556, 0.45435419424602635, 3.182334385545619, 4.048970729528765, 1.182727946057354, 0.9253870852163723, 7.065031578957336, 3.4830842837589238, 2.207251298003133, 4.7724404291016675, 11.345043930440726, 11.072018140097244, 2.666080402801578, 9.603226368603467, 5.55314298116919, 1.0131147993453922, 1.2246396471765753, 1.4105469835413413, 1.782242992232637, 1.887976791816379, 2.6713942284217027, 5.532827433154519, 1.2364921515287135, 0.7549119616813444, 0.2017058942707934, 7.9865945024153575, 3.376204629461158, 6.5406716356446735, 2.426261251065555, 4.966785447109509, 2.494627957066291, 1.4965143701203412, 2.311715660284443, 1.501226980843212, 2.866730457175025, 0.8859948220429716, 1.303413803403511, 0.6665943697135664, 2.699298171593384, 4.6038445164375705, 2.0045432916833734, 2.123431317796762, 2.0471557363265602, 0.6356044232156017, 6.481609505674108, 3.3328148795753636, 2.053888426902192, 7.819852926567719, 1.9971729869288573, 0.3971168333138258, 1.8780531712593953, 0.7254565419178712, 2.0819031925372244, 3.550899328485873, 1.8263187880684726, 2.296210737760639, 4.874023545192515, 7.7579023149904796, 0.657369245577794, 4.588853209670556, 3.5783986884586465, 3.436540345098955, 0.9312765398652313, 0.6826715332999583, 1.70332048812373, 4.8486555695047695, 1.5513312701575195, 0.724792579337403, 1.8224928357945687, 2.8553297299716744, 0.4931170059278314, 11.120536155768256, 1.2713293208229537, 3.331561741870138, 3.9625167343368672, 1.5497326059200096, 3.3159287507013535, 2.2364969655721434, 3.809148114825199, 3.0454453670685764, 3.4492974348802976, 2.0277384242189176, 2.9290610134344797, 2.3443416255896694, 1.8585713607209204, 0.6093896212130627, 0.8047490492658376, 3.304256051582717, 0.9185079416078408, 3.5363177950907168, 3.079931826959036, 1.2879034431578669, 0.31016035126772595, 9.521065034289222, 2.839134060354311, 0.0, 4.839891625106934, 6.901900092410091, 1.6212933234712446, 1.3404013731030586, 3.075714506482144, 4.063534146036065, 5.429864131246641, 2.479076237927193, 9.854976972363021, 1.8827128326093123, 8.49366518882013, 2.757322651253192, 2.770005031649036, 7.391869230857363, 1.0242935350137097, 1.0322114367941204, 1.3859234785861263, 0.6896975406083913, 1.125851875869708, 1.9641104557749733, 1.1436945655908968, 0.8859948220429716, 1.350391816480814, 6.3601580530711574, 1.033316530682402, 5.578543275221338, 5.774863362904877, 2.090677676851702, 5.602092869892499, 4.42090133357855, 2.832460756471197, 2.0247851919397766, 4.0752079081654164, 1.6933716363352969, 1.7685964798353426, 3.2966683584597067, 0.6330598672139752, 0.6128430173625699, 0.9372042554319255, 5.417997173496873, 6.406606504026187, 2.335206712502547, 6.689555776387006, 5.413129768788556, 2.2314265324856306, 1.3649818172237111, 2.813700460878114, 2.262515664750233, 1.5414797447137452, 5.6046793110415285, 1.5229000197903686, 6.13495307214191, 0.7473281639199638, 5.014757908337086, 4.564305581115082, 2.8945506181928304, 2.131555536480811, 0.9856030297032413, 0.40503073577719884, 1.8108124245764523, 2.987086952763552, 3.32984254393489, 0.772834881151759, 0.5724932652355229, 2.731224317059544, 5.014396597710069, 1.7182794768417162, 7.80644373034564, 6.427496272856929, 1.4245655213651893, 1.6023858287615176, 2.2352804497202703, 2.9886067281847546, 2.1394393129097398, 3.530043089623396, 1.7618994146890958, 0.9090491377711108, 1.3853815603152442, 4.586366881261418, 2.1023665139757393, 4.534256429097138, 1.3904209472479547, 0.7571467452313818, 5.136243742344894, 4.938556865065128, 3.6287690778314197, 0.29093105264477015, 1.8403084964090806, 1.824288691023579, 4.481634152068384, 2.0840566460800054, 1.5748103638724262, 2.2668017020507274, 2.125461484269435, 2.4428989788380493, 2.13954990258659, 2.712606747689459, 1.7376771124581445, 2.4503482806172467, 1.9358712394820639, 2.053116325168115, 0.8859948220429716, 0.6816597044927067, 3.265221205768907, 1.433951899799339, 1.2418717726238544, 2.2232635821474296, 2.74312403285971, 1.396495653062777, 0.7533563429767167, 1.918366338563976, 3.276090734545401, 1.0220981275353787, 0.8028731813128359, 4.12655075836135, 1.1815959751383016, 1.75364153968604, 0.7402785252804821, 2.4152364904704666, 0.958111361314147, 1.3539310414657006, 3.2411526012417027, 4.66093964473386, 0.6784269362697066, 7.141306028195869, 1.2323472113721292, 1.5729504646537178, 0.0006881096783448881, 1.0194462591538884, 0.2673044885838518, 1.4923319965749529, 1.7413080398998093, 1.4677377563732839, 2.114199690018914, 6.300863261137619, 5.398460357329391, 4.857843833938755, 4.410081739428757, 1.984787243886089, 1.1980500351934138, 7.397915631399255, 5.068335354389368, 0.9298059679606306, 4.708010402865085, 0.36597878731840056, 3.8098111050268852, 8.739372534531608, 4.755259017839335, 2.101033210408425, 1.7796155439711778, 1.2416116683275618, 1.9655005971330346, 0.044975441822248746, 0.68184564424943, 1.7351825105424725, 0.7426908936122262, 4.94680694085774, 1.2615669163699652, 2.3497105174371966, 7.342795765801345, 5.454863023380073, 6.818246737854603, 3.6356623107458077, 2.3763138233998538, 1.2398187111762753, 7.507305415911398, 3.8766178679922474, 0.38987470455768436, 1.5771435499248874, 1.4710299431608118, 2.2043613706362843, 4.014265396642929, 2.444316628523308, 0.0011469893917261562, 2.162838141820863, 4.234554310158971, 1.6649876952639204, 3.209033024155447, 6.1923121478466925, 4.736899083648394, 1.7046039223136809, 2.3395153521883296, 1.153296505750822, 10.300521373031533, 1.9894121213893767, 3.512904476068075, 3.792825880046498, 2.956198730866217, 2.229959454641979, 2.487535423486973, 8.487044758765482, 1.7229164226352438, 0.3499243531594926, 5.0716600856411285, 4.088464938992787, 5.926617034215528, 2.9518125984276957, 1.9424496727134426, 1.1476506080296858, 1.4214939464842302, 3.24626798590751, 1.4854335767232132, 0.7914244945415305, 8.823221045719995, 0.7748849127532341, 0.574224053339419, 1.5572587259249049, 5.439721177141878, 1.9910491217540927, 0.8163556242359274, 2.735692293927604, 2.1836766349334704, 1.6379171357573095, 6.610539990722355, 0.84176399432555, 3.8236706667296887, 7.131694041260707, 3.15000265602892, 0.8890510578085677, 4.265919962661307, 4.721744721434179, 2.663716247771879, 1.0980991988116056, 3.8850614742529825, 2.4475734097926733, 3.689529829970618, 1.341043427245331, 0.6398617286820958, 1.5215388206847715, 2.5940702084581195, 2.3379833439380504, 2.27566569572684, 9.111542133083853, 0.6661168931067618, 2.2536868002308568, 1.02463767282862, 3.1963992069602387, 1.344639742223829, 4.493648352494523, 3.875021519505824, 2.7676433882404505, 1.7570889810476737, 2.9112630931231327, 1.2106229482146853, 1.9954416277497475, 1.3414797805465732, 3.0115765585384358, 5.193054402751557, 1.3890144546952996, 1.971155434455477, 7.360919160254177, 8.117248943175197, 1.8998668113230914, 2.7330975056713473, 0.3046672682119567, 2.3681857721120796, 7.774143109251912, 5.675996385384852, 2.3364752879742516, 0.7200963018558747, 4.356159432256988, 1.7001217778094833, 2.368860127883199, 2.568767296328695, 1.1259514789242318, 3.2279354198279515, 2.413369187015248, 1.5199867955991746, 1.4010391366175086, 1.4593390943610371, 4.110568450765721, 3.608494393141639, 1.5970462349044667, 0.6861132863869174, 1.1411897200472265, 4.971873082245743, 9.994829126271021, 6.432190085565161, 1.535812551860008, 0.5588809246812072, 2.8319306209945734, 0.7898307935179049, 3.868857160338128, 3.546316598328982, 4.400055488105051, 4.745686543536994, 4.0086565985552305, 7.83110944610743, 1.263377632792654, 4.944237787605122, 0.9564167551815841, 2.122082197050733, 2.115246999555451, 1.7483665622260285, 2.7234808135425106, 1.3772385349060259, 3.8545116672516726, 1.785524941430556, 7.227540059312864, 4.574587610337051, 7.620621474948491, 2.7889832317376406, 0.03049578852122082, 3.2074127257023917, 0.8859948220429716, 1.231435476189047, 2.148278205273223, 3.2990285294452244, 1.6393124593040609, 9.637308063682399, 0.8804149113996567, 2.379466793615054, 1.048255422066904, 0.6629086379821616, 2.2392280333080175, 1.649202155255127, 10.58159075890188, 4.110039195144463, 0.0, 1.9055179367191706, 0.4960994154351598, 0.8859948220429716, 1.3618959190724145, 0.8859948220429716, 1.4286744834012273, 1.7549596474134357, 3.1361838466985574, 0.5401658311874824, 2.208753280228507, 1.7716837135008818, 1.252597479741085, 0.5375697959606327, 5.072274643518847, 0.8859948220429716, 0.8859948220429716, 0.9853391042712635, 1.6897536065290144, 3.856603400238423, 1.821291112529748, 3.031297943754969, 1.7771349011548447, 2.4134597090844387, 5.311031411381153, 7.7015390404767015, 7.952857862581569, 0.7916361665695844, 2.6029387810439464, 6.124562633519065, 0.7277892693616597, 0.896696709445104, 0.9233245802238299, 0.5145146003650922, 3.532613282502893, 6.7987527342780485, 1.052659786346181, 3.1073857800916223, 1.5670982045609374, 1.3547140400478752, 1.3986941791340006, 0.5935126829646322, 3.687258014693758, 1.598750362098644, 5.579338370559944, 1.1167190624723924, 0.715027058632789, 1.0522413143223925, 1.4219007528937746, 2.216054369255467, 6.356587485813811, 4.891912199867753, 1.486942530013739, 0.21970113032191727, 1.808972843129309, 1.1916879920079608, 8.023449012374448, 5.852067839115605, 1.81083266295317, 2.1269236474783577, 0.8859948220429716, 7.232336101098802, 0.6931560444761985, 3.517191793941164, 0.9184716575417908, 0.7185719773182616, 0.8484993594298539, 0.7039928735945751, 4.77637090040103, 1.9482046949613905, 1.4455834717478913, 2.8738132920689523, 4.601841858627828, 5.46301455259536, 3.117413730261359, 3.0459780929663216, 1.4700733551209046, 2.9722334697599178, 6.917905929455007, 4.665905698440272, 1.9384974846743606, 2.7087336674530005, 6.323763386165566, 2.169321028022744, 4.729808856525502, 1.200716305247137, 5.56502503628004, 8.145744797336764, 3.5189853123167407, 2.670526442837544, 2.592461739132576, 1.2216166521145755, 1.268604903714963, 1.6364366741030656, 7.832050788893964, 1.534845999606927, 2.4099957475980167, 0.1925456450943214, 1.7389689584194379, 2.2101543295106607, 1.2087211470995551, 2.4438537178402258, 1.726070129244995, 6.148468370394818, 2.5110118417012197, 1.3173987035772698, 5.634400342303334, 0.8859948220429716, 1.6012616304330218, 1.5772162344191156, 0.6285443470903892, 0.49116611443920755, 0.8282522913415381, 1.987166814663348, 1.9366645745522273, 1.3262816854021655, 5.532066488982764, 0.5597766098834809, 1.4565883527510348, 1.0947188534998535, 1.2112298721831658, 0.2389230615313922, 3.06279038762957, 2.2071274941909076, 2.4086132403297698, 0.665189431087682, 4.316529783952394, 1.6399039286414925, 1.094830656388314, 7.054756923046468, 1.7806380722770914, 1.358873581347936, 6.892702574283619, 0.8629255863303856, 0.855486262072642, 0.7823854892827872, 1.1679905203352936, 1.5352474128452058, 1.438224829078486, 2.8080436934233424, 5.566272487628392, 0.5725063796103669, 2.2024242613270095, 7.005854890456982, 1.3797378357194552, 0.8543636756505559, 0.9124888346966287, 1.4719425524769445, 1.8327566204903978, 0.9698997468236903, 5.817432190340369, 3.277563282660684, 1.8901432953111643, 5.273362074915413, 1.2048523670177873, 1.6167427538464318, 2.5659753412034236, 2.44454815558668, 1.372117824250716, 0.8859948220429716, 5.690776964544172, 1.0157689522897093, 1.0407908472478409, 1.0307169079502356, 0.7367029894633589, 6.027962625666873, 5.880326971085679, 1.2345688012654148, 0.538975352272235, 1.7197450614875402, 0.8731031462587311, 1.4976423894985358, 1.4777438917107295, 4.315122531258918, 1.9757342994629221, 2.568634591218788, 1.9891307466632009, 2.7585242814803594, 0.9012301598373964, 7.424859115526168, 2.5402610632593365, 2.2756242204428325, 5.299120064971655, 2.1727138345903207, 2.575809454333887, 3.3026152643455156, 5.758023420793775, 5.477554438776495, 5.584474745960522, 0.46404721756605233, 8.662052179999288, 0.8022814499511527, 0.7222103859203219, 1.2118958007793321, 2.6098503176244416, 0.90224605839743, 3.150711283840943, 6.313399399204617, 7.334386151881189, 0.9684043430906449, 6.431858318660052, 4.102946238987951, 1.0449194062063232, 4.830107310493626, 0.6735364752909165, 1.9896121059035474, 1.093089677670954, 5.102677220169568, 1.0394179943484112, 1.152213572192653, 4.068773274764458, 1.0372172786288751, 1.0453930681576484, 0.9661672838252621, 4.42830705825513, 0.8859948220429716, 5.8594569311176805, 0.8373389477608628, 2.4101201797835885, 3.090926707239612, 0.779862596490959, 1.657935692562631, 2.5744037487276996, 1.9454455168021787, 2.3239240009932036, 2.1769726989558, 1.1991804556892476, 7.91848185496378, 0.7367404475299255, 3.4714691996013576, 1.3659177027331473, 4.702718324052807, 6.678058170722643, 6.4045382848352945, 5.4221085778701195, 2.6859640837336074, 2.7556390008751737, 3.289113109137225, 4.940345581369989, 6.584122625332629, 2.524598908817353, 2.6284225876808582, 6.658732307667326, 0.771689243258012, 3.346870013651939, 1.9966208332964421, 3.1620153859554665, 4.7700218222569655, 4.606756452975069, 0.8309718666512168, 0.8859948220429716, 4.616567202084629, 4.31517288118805, 1.1105039862671746, 0.0, 2.031159484473606, 2.1353574400994617, 1.0312847366300162, 2.8436396671169937, 5.407263934026032, 6.416418044229993, 0.6622715879986337, 1.190873918587193, 4.5001360983792065, 2.7431367003917484, 0.7844543087199617, 5.189723774575683, 4.5297391566845295, 1.2355637612374704, 1.8720812137986367, 2.8747183718871696, 3.7253979835732594, 1.0507966594047238, 3.2627535583464877, 2.8600881320570486, 1.399989717167159, 0.7856033103977607, 4.944265068454502, 5.771458969973255, 1.0569999875688836, 0.7661067931339053, 1.2524408639050262, 3.2905335721687963, 0.6215535481732499, 0.9401785543659558, 5.358320855725813, 1.412816994424341, 0.47906642881142936, 1.80532158178076, 5.211146685764646, 1.3041968884341388, 1.5249954254676497, 3.2954750871771306, 1.669178881383312, 2.8040230024439263, 1.2966614884324825, 1.233222216630626, 2.3935693648678353, 0.4240003967365276, 1.8404341614070776, 4.0980976932629, 1.2776316776453855, 4.108399179702064, 0.7335239290747092, 4.312259332298636, 1.4179520523595508, 0.3972244038479111, 1.4201743233036173, 0.6743013250203118, 8.244237266945674, 1.6541150146125272, 0.8417551076047561, 0.8978550428216444, 4.077673321357464, 1.651493809023399, 1.133786944320795, 2.728237928496343, 4.0648152480169095, 1.213493839989962, 4.045293038514495, 2.8927505165026295, 2.7520464383244376, 1.573483441806476, 1.9817141124950381, 4.343708971397915, 1.1942501758482542, 1.931380771593889, 7.089126890669206, 1.9962603229803664, 0.4523778957825065, 3.1335310932483877, 3.9188571843713405, 4.633033886850994, 6.458258032562445, 0.546530873791339, 3.0551791378793807, 4.427943333704658, 3.607139168068057, 3.2965463663851287, 1.7416283909815802, 3.7224899203043873, 1.984917344186, 3.6360441207604492, 0.6137138961830755, 1.5097804875654668, 1.4927271422844888, 1.3426534860230592, 3.1123731183779304, 2.4589069580326735, 0.44875082527556176, 2.5835022847822064, 1.4541112646698604, 1.4790637202103012, 3.6179649449978943, 0.9862822947893012, 2.612824759633317, 0.8369960637938099, 1.5440067408645965, 11.065912446671238, 2.747115371013695, 4.832921311839594, 0.5479642505296903, 2.120310387077727, 2.1131449790034775, 0.9577249890798779, 0.9569061982925721, 0.8054051201576238, 0.4930418037233081, 1.8411506567051643, 1.2056575120973352, 1.321515513985389, 3.8631904101684995, 2.978323548183571, 2.485740809057383, 1.5321238598744547, 0.9086196601779143, 1.5766039494121802, 0.0, 2.6430068143030563, 1.8102021268134185, 0.5588290778318861, 1.4827344282909714, 0.7044161550185707, 1.0067628071659454, 5.890331417377229, 2.536262481374288, 4.32682350501593, 0.9732649323367475, 1.1532556239756888, 1.748455062002832, 0.9742866791600426, 3.603334094173726, 1.326181796597195, 1.1474011776802717, 3.285320797641921, 4.787098363393747, 4.514636581529914, 6.8536462160881, 1.0392629090577168, 6.677680285889829, 2.75689234206639, 5.103135883268539, 5.545640667799004, 0.641418178473839, 1.74568008970909, 1.0371027925170877, 1.5875392326100446, 2.290337077748416, 5.882023166026353, 5.641322594342525, 4.047171609501299, 3.2859052117119063, 1.7796789491951324, 4.0204976934058765, 1.4438655945772527, 1.7698471379250373, 1.4180903564899403, 0.6819309291941491, 1.2647267234005788, 1.9881665736986056, 4.554190786040834, 5.2610253675995935, 0.0003366890591144804, 1.3726388629455473, 2.7273615223693297, 1.433076809564288, 1.660373164665331, 3.3088262009724816, 0.7989570304444525, 0.8859948220429716, 1.1804552978562688, 1.3015308167992785, 0.6459302699892231, 5.388169821900565, 2.960264005767992, 0.7683395983387311, 1.0206848302841207, 1.195814451117417, 1.5178577030187732, 3.6223413398832167, 5.70072381493092, 1.0490293408979023, 0.9483177047722887, 3.757905766964512, 0.617857713593196, 6.4522754640758, 1.8431769948543397, 1.255575325898732, 7.91893118685416, 3.5985951626552746, 4.0378198255958395, 1.2337340084324073, 0.6101749207282223, 2.1921254655875764, 5.346677977788025, 1.6036799163443218, 0.8859948220429716, 1.581704492706767, 3.147654468334803, 1.5340035534104928, 1.8073016560264532, 1.0000373299131922, 5.7436778174877325, 0.4115892028490858, 1.8771182180755102, 2.057356864263033, 2.642719423779181, 3.6878958960380066, 3.758800344029737, 4.360924880798491, 0.9550718606992938, 1.3822622212218565, 5.478600274185689, 0.6618256969491524, 7.701311834777633, 1.4792455302676908, 0.8367782075508686, 9.48760119891934, 1.9743029998007227, 8.419579701495902e-05, 2.525267930018804, 3.132146017771167, 6.841731416812576, 0.24368473193473653, 1.4723892806095564, 2.08590143074006, 9.137386058893448, 1.6934541915089993, 0.9655669797886891, 0.640497233897442, 4.3885588244954015, 2.205742088647971, 2.6704007516543906, 0.9512101746732686, 5.173626729891042, 4.707626624109499, 1.6454395678177094, 1.9756641560169226, 0.8859948220429716, 6.252616753548103, 1.2224657109379193, 2.971602507267503, 2.2736500789304186, 3.5498846806312803, 0.6568614967001946, 3.246284611775282, 3.807087767071813, 6.041897458041036, 4.8913869628643, 3.0323257689328496, 1.1157308757348512, 10.215884218328013, 1.2464992829655546, 1.878135236424483, 5.138815202869527, 0.8859948220429716, 0.7902356294581672, 8.013138738659794, 0.7137757955752847, 3.2009917243046053, 5.137912100419938, 4.496015740275183, 4.366783845679333, 1.4340483752113304, 0.767745259589062, 2.5300631177234454, 3.867276163356591, 2.994883817578291, 1.639628964718472, 10.400892897932424, 1.215870637140161, 5.276057511671278, 6.841976244531033, 0.7452437272562675, 5.678863109444716, 3.806389242839118, 1.3371514744186004, 2.5669694872574147, 0.8859948220429716, 1.4602255402809268, 0.9498440405731523, 1.0895427354172431, 1.3611242485765658, 5.111058647800628, 1.2894436451125704, 4.115579480496538, 4.103281777095369, 3.9542707499270286, 1.5102323430293552, 3.434662049871444, 3.8884741955931656, 1.425484698984322, 2.9285352568028373, 2.6193577507357024, 0.524149278834417, 5.605660064652117, 3.636750809521383, 3.7575506918958452, 2.802468330099319, 4.039202764328918, 0.98060421108514, 2.68527256774293, 2.6330886896607155, 1.0461849354931771, 1.4771591546381775, 2.0902670456735604, 1.5226985930690202, 6.585471454986922, 2.9042265846511004, 2.064225139398322, 0.9803302608846155, 2.6264199451256913, 2.111699221123189, 2.3696720175501107, 2.325464207997254, 2.934109218549562, 7.173693980603492, 2.245548424197469, 3.672489877265714, 3.6436366665791233, 1.0216962785006432, 0.8859948220429716, 1.548671531464471, 2.1580471827490806, 0.9787427107638021, 1.5231768637580472, 6.034887164959574, 4.499799533040871, 5.953255664856821, 1.8951618394974188, 0.9763648441533808, 3.4889011139934443, 2.2287549376042475, 0.6837397262818701, 3.9993500237294053, 1.1346108832916002, 4.7401115397439035, 1.3680229952014042, 3.515295565942494, 2.9296555256253733, 2.1663696944654465, 5.171928735611939, 1.0436718254394992, 7.024090072674438, 3.0400805582870984, 1.1471430558380726, 1.7825964274311212, 1.2891763291646103, 2.452367379094061, 11.111376519957576, 1.191110200070251, 1.5231273721879357, 2.2796172722770116, 1.55803031324618, 2.3515160328403617, 1.4758207351139563, 0.6842074574882846, 1.4026908081348848, 0.9346128966810237, 3.379642586601736, 4.115067704675627, 2.6762600203384594, 1.8833242656753184, 0.10902153222140351, 3.4681830949367227, 3.0820705863760556, 1.1040704115875375, 1.0567198200952674, 3.9149796350796913, 1.7058128596149487, 5.722273950533169, 0.8774040244350755, 0.8337757872377143, 3.1665906430126536, 0.6878864718363286, 0.8859948220429716, 0.4107252668746206, 8.334280708333232, 6.877021477755447, 2.2693070354385827, 2.5522861689276257, 2.7662643613077655, 1.313122951061845, 3.1135723143443337, 1.0716423295311672, 0.8859948220429716, 5.909856037091087, 5.20897923289303, 1.6064686249836604, 1.5890206965579416, 1.6774270106765141, 2.3900832348899064, 1.5190461296590574, 4.359903569978742, 11.145495567221362, 4.692835069109957, 1.1900301547373735, 6.951966964604029, 0.7152079899861757, 4.709608972779439, 8.013920466413865, 1.0965491513468892, 0.5864201106470333, 1.1915551128613935, 1.871363092830043, 3.2919950680345544, 3.969848866038901, 1.3613196365721254, 1.2496266838366836, 3.558971830554911, 1.6665697612233865, 2.8944285801517053, 1.320075087885787, 4.131981972966386, 1.9499498050890511, 1.2687781329400067, 3.1480745280757136, 0.6824529536302324, 2.493741951476924, 1.4724698538370775, 9.84088415472202, 2.489538524199509, 4.611591912840267, 2.4642947103658974, 1.1669785180112144, 10.726480074408016, 0.8683758356818462, 4.7587000969940725, 4.627879490039675, 3.4584021136234533, 1.907051044657638, 6.5034637822880335, 7.842675476251227, 0.5130573575558622, 5.479358495698218, 5.234483327478538, 0.8822296712756469, 0.6354590605725381, 0.029976047980629708, 13.410238832178875, 1.5976657145430149, 1.9448686603219087, 3.5353860432325273, 0.6017115230192857, 1.0702024394312413, 5.11154819013154, 1.7985472110579963, 2.5283345619729176, 5.247824558878983, 1.0940467669465255, 3.522201383732002, 0.15042969910667447, 1.1928525171308553, 3.1340092902232324, 1.347366832300963, 1.8235200143989816, 5.911646186166032, 5.533086155533153, 0.48968015661906594, 0.763473416701511, 2.551923437382381, 2.597668450124012, 0.786169288304035, 1.4467435532419402, 2.6693146449421157, 1.0735179421292556, 1.20737675779222, 1.5901378206532462, 2.8732996494940912, 6.227414585348316, 1.3536431851483588, 9.492515151399722, 2.3068844036503258, 4.304614896957927, 0.3390528935389672, 2.7381259175265713, 1.0831158278047146, 6.003903147334216, 0.8231491351549792, 2.9481574728559514, 3.654225124183569, 1.4487174725020624, 1.8518212054533367, 2.171959180192224, 2.550479791616564, 1.8878508355247798, 3.8507158714226386, 4.40847127873009, 2.1340580303761834, 2.6663227132073293, 0.8859948220429716, 1.4952592913234206, 8.980235832512454, 1.4317994219057777, 0.627262132709229, 0.7925709904208146, 6.8075526831229, 2.1599059898145807, 0.8068683722575679, 1.2594124524028076, 7.497364745220595, 7.414338339094805, 2.296852057340542, 4.377323557680073, 1.6859800177527904, 1.3326415791392179, 1.3665259717430553, 2.3666562617338425, 2.3425535612689172, 1.3150854234061728, 0.8859948220429716, 3.6973568746531456, 5.232135666423204, 1.2520139785539937, 3.521855481516006, 0.6263132471454546, 1.717624884408447, 4.1490442044226175, 4.900973627275129, 3.2812917130246553, 0.08410093292209854, 0.7680008523829213, 1.4541047475091653, 1.1784412693740056, 4.199255576010294, 0.46491305665960836, 2.340919247650545, 1.9032007583984667, 2.948987557016268, 5.745626437191535, 0.613015355071376, 1.219815149720658, 4.880549782266246, 3.0476906161014568, 4.960700373058177, 1.1198088721378316, 3.262141033675633, 0.9237484013223227, 1.5254233028917186, 1.645156372767566, 4.196543023895069, 3.3635590739035286, 1.7132158545253977, 3.2445115033031304, 2.81728927071094, 1.4383312090411684, 0.8200677173607849, 3.6814614034289517, 5.2113268615678505, 2.1407158829801105, 1.2867932339885972, 5.459673104980302, 2.471622648143689, 0.6709466338429761, 5.415961199988563, 1.009475934594166, 0.18231891261680133, 0.8859948220429716, 3.534709289524402, 4.758427873491896, 0.9858883210199603, 1.6447515608478704, 0.8859948220429716, 0.8859948220429716, 7.65438874580369, 5.4896290296584676, 1.3641832518855972, 4.2917854875264325, 2.000843175416051, 0.8859948220429716, 1.6776640169220334, 4.027321482101738, 0.9903306421979475, 4.31590853794846, 0.6190534139146078, 0.8703271391962748, 5.420284468837579, 6.527952211747891, 0.6908784960854699, 2.4484069663812997, 8.726982040265929, 2.738867675792331, 4.6183268069924965, 5.525381811688904, 1.3365234256562377, 1.4555562151761139, 2.6954672828180506, 0.5645078295562769, 2.0043343022904105, 1.3893128189566504, 2.756778286516232, 1.725960430762253, 0.8859948220429716, 0.8859948220429716, 1.508570036588646, 1.0488202603726007, 1.7607532811953035, 1.4681035883998805, 4.731931090130102, 4.309457243953276, 0.6227387102467576, 0.8859948220429716, 1.8462902130570307, 1.6306012570025699, 5.810058177219869, 0.7738239165874452, 8.679951550180487, 7.972659512307352, 1.0139622492052531, 0.8859948220429716, 2.623647674064405, 5.161225804207575, 4.587899307343566, 1.7750611519554333, 2.647725662445558, 5.6934862494223495, 2.459819876849835, 3.2027738342634238, 4.500147952828206, 2.5202199469090147, 6.20800866694394, 1.998040704571104, 0.0, 1.488973775930447, 2.4706955702984406, 1.5455077953638834, 1.286902424136698, 3.8477117957477485, 3.0752583177623567, 2.3833424395181724, 1.7459353758813647, 1.111027687327675, 1.0394880264520856, 5.259300149453278, 0.5623881178677175, 1.933472994803374, 0.3361809204462144, 1.7533961551579138, 2.1385791881812204, 0.8859948220429716, 6.058248430646514, 1.4254343231263877, 8.109634559196481, 2.7879799121997473, 4.236644738347407, 3.1426006072938932, 2.2785325795717823, 1.4325147794376645, 5.918210394667637, 4.944833921803725, 1.57633310949063, 5.3397695468008965, 0.24620332906505538, 4.139513554970924, 2.63359443222556, 10.08032946238113, 0.6867534277154071, 0.6854272953316205, 5.006932000301396, 1.3874072427512574, 3.0457014742178194, 5.363046864458418, 1.7943476222821226, 1.452944935683103, 3.575330971569984, 1.2756765591295673, 5.2867139154431975, 3.885728668557899, 1.4774699804669513, 5.020344228379248, 1.74710181552164, 1.5640719271420187, 0.9480824568227042, 6.386811142919155, 1.6220005880204071, 2.7698460276153263, 1.727659320983344, 1.049355406148329, 0.44003333926338706, 1.4917272395222083, 10.263400209035767, 2.911719565209882, 0.66960593080278, 0.8859948220429716, 0.8942063243183014, 2.369039680889963, 0.8799602563752489, 3.7937593797568496, 3.6711818077905662, 6.686359896034799, 2.284347754528728, 4.048949013817847, 3.2143313594054597, 0.8808680296851972, 2.5497386308114933, 2.779725352486919, 0.8014460506568939, 1.1063729293845999, 0.772727015288163, 1.8532201255164316, 3.0384325011892814, 1.3752294656910786, 0.8066355639712152, 0.7261691264348742, 2.192024718671329, 5.5265938147177165, 4.66541710957418, 2.0899761966725108, 0.782020218742119, 1.5592478478132297, 1.9212185466843559, 0.8336318151350163, 0.8859948220429716, 2.8273373105669903, 2.8889201081438465, 1.0467371324484085, 2.7058659648058607, 3.361061410054958, 1.860483429289545, 0.803711988207789, 0.31068760418119074, 0.6599199290846619, 2.5514590229517715, 3.198824364088574, 0.6259806863130032, 4.323354732135699, 5.714611320802226, 4.216334689963797, 0.7954602122058544, 0.0, 0.41992546505330963, 4.692022418154579, 0.4157751252176135, 2.8956998309821933, 4.728674662318734, 4.010458189822255, 4.666660906566711, 1.4726731455872168, 0.4891160019295369, 9.458887703935755, 8.546640320452617, 0.12763503303423626, 1.4082759003213152, 7.062581969714605, 1.3952768109735336, 1.596897739421102, 1.4016744964989436, 3.2933304046309546, 3.1360527432331553, 2.5048786366721085, 1.0094361437852595, 2.917125556827016, 10.997674749311685, 0.8795762821476337, 6.657914783961159, 7.959390806643281, 2.4570245810414946, 2.7999827626844476, 0.6263168101330298, 5.925949997697288, 0.3055576347165925, 0.8316434197605153, 1.8750155006116793, 1.7022416243351273, 1.1829814257930582, 1.2104891988325897, 4.70413629579965, 1.852865695806499, 4.638310167811008, 2.3348875555453286, 0.6298069050966428, 2.3564714096618085, 1.2460413686635137, 1.7892983275283294, 4.657780892124398, 2.8272531756495356, 1.1630811561482852, 0.963712146893169, 1.125758868583199, 2.260917692113236, 5.22860316411927, 2.2220159012069365, 3.2674492144732064, 1.5232660658182053, 1.4992402149102015, 1.4394080456262508, 1.5279787979234432, 1.81151460866129, 0.2700002010153838, 1.4035575065580574, 3.912288343836844, 1.1785801537830256, 4.673749400864555, 1.946555248938957, 0.8916756378981572, 1.6856424379771913, 2.8239599875094736, 3.5951665070959233, 3.2835873851364794, 3.6478879030576286, 6.914203002554966, 1.0604003113126923, 0.882080011192658, 3.418416707576939, 1.291893390671654, 1.460389968594265, 1.9264289549812708, 2.903120204886801, 0.6215171114107705, 7.014782274045672, 2.2132452128228053, 4.137509680912779, 3.0130339368795727, 0.7409767051547886, 4.081573119373257, 0.920937431919459, 0.6035928111268107, 6.609252402804925, 5.550090491226862, 2.6103317522743, 7.158765123568796, 0.20293177566696313, 2.2396702537887525, 3.3701444270396816, 0.9533475776539041, 4.454164762013742, 1.8985123723641317, 2.5929330930972223, 0.2844613103465958, 0.3309934932831623, 5.46127556699533, 2.638257406776785, 1.2807103657366947, 1.3322857175383347, 0.1985999241823307, 3.178888921596992, 1.3114412938263278, 3.5810173063695823, 2.2190714497660102, 6.027833449897791, 1.486751046353266, 2.4394052250904616, 2.898425815536459, 5.476614718686998, 3.5471540824031074, 1.0886394196299123, 3.114101529504945, 0.9476711193668461, 2.2841119172834023, 4.637830478237484, 3.1580582038565432, 1.7218491626003238, 0.7956172989731842, 13.366073315312104, 2.6521858852458595, 6.502094484114042, 5.0193388435211235, 1.648947167439941, 3.396086025521367, 2.249837056394233, 0.8859948220429716, 4.818349766607081, 6.106383740968794, 1.3303912618880347, 5.505366675940638, 3.2584942780311144, 2.368248900679256, 3.7603393542894885, 2.660614503512705, 1.6703975968733749, 2.2603144747452184, 0.7415886095433992, 4.049256450809549, 0.893865487739408, 5.3361739110471955, 0.8859948220429716, 3.4163879304493805, 3.782765803285009, 0.0, 0.8683758356818462, 0.6606955136709899, 2.320529975546519, 3.650411029923572, 1.2189554048979159, 10.152304420679268, 3.2833494937959404, 0.12979915199674552, 6.580970818426448, 4.8287070611631, 2.1703190006452733, 1.045662134998531, 1.786963534366189, 0.0, 3.170194526706774, 1.0939322566447567, 1.4952303919171994, 2.406734183098716, 4.667282625333761, 2.6645449367862586, 6.34289633342731, 2.998045716538413, 2.4927083685115967, 2.113063399229033, 0.6696189894426562, 1.849941717850744, 4.333485828839369, 0.7797616653180032, 2.3769121213941524, 1.3926326692565725, 2.2549660918377956, 0.0, 0.23392153312652997, 5.8544739674086115, 4.514594976189612, 1.5330728250395587, 1.3731392757065686, 1.843262030721358, 0.5865923136029978, 1.1224077068105602, 1.493285941534575, 5.990900886112138, 4.082999112037758, 0.8859948220429716, 2.8918485692032885, 1.2869190833882396, 2.3764947574234454, 2.419704283069658, 0.13298000514690772, 3.0176400892780464, 1.716189481650804, 4.287667432713097, 2.411069763626705, 0.9844806013829014, 0.28020386427477645, 1.5173373405180977, 4.952142729132819, 1.8249462555267706, 0.8859948220429716, 2.1442802864551735, 1.1862039357001877, 3.303468978957412, 2.135896158485349, 2.097801871080736, 4.760917221859523, 1.6560428902977, 7.134611368957537, 9.761735828187215, 0.8859948220429716, 7.95189749589952, 5.683364001422102, 0.6410747273628058, 5.196086856514138, 0.6176551448773139, 1.8878499245106473, 1.7908265684812692, 3.685249883771781, 0.792524283479555, 4.652178652763928, 6.1212331262584705, 2.880252802891866, 1.3481830083999966, 5.738570817125289, 2.56692852326587, 0.42632568466671356, 2.032530157063417, 2.079073365794502, 7.285623182741791, 4.676151784346908, 1.4246067102863933, 4.110181779678624, 2.2235630739794936, 2.378913804620698, 10.303854934945187, 1.6200777686273327, 2.7805739746779548, 2.988894666348394, 0.6108630394198358, 8.97421636081462, 0.2437050891454729, 6.460223216039195, 1.385769670031218, 1.7067216519023205, 1.177863990206827, 0.8455040035563274, 1.6112636015129789, 1.0647920761506686, 11.197936476255544, 1.0781806772659173, 1.7450143525694517, 3.432898245636699, 1.7691680620156558, 0.7623993721740457, 1.7735574925806126, 7.141493024449881, 4.187357280508139, 3.175740623334162, 2.9816414053972666, 1.2170960096945767, 2.979497959012505, 0.7110011029465414, 1.6223505413544976, 1.9337705730496866, 0.9320235758053277, 3.418287366610977, 1.4288192242201485, 7.681984318135368, 2.2468477531814113, 0.5739210331033504, 1.4493539788429606, 4.457275811395376, 3.8303344383718634, 1.4597632103287046, 2.3428336172908852, 1.7099252889028764, 2.2960041074025637, 7.07480554493871, 1.2416837395647395, 5.779409137883215, 1.4740466709786055, 3.773075257249904, 0.6051004896253778, 3.515684716896299, 1.4313107975468706, 1.3584197496301436, 4.728289060314005, 0.8152339603486489, 3.859198835826323, 3.6086701291060796, 1.0520912233576407, 1.904438452941058, 11.75228914286136, 2.5751324939246314, 0.9286650877096314, 0.9338160541378558, 0.6655529240348048, 5.099077601590612, 3.265801983017281, 4.3820890661029415, 1.607995856941646, 3.3524847796842545, 0.583692146218712, 2.9052359465518296, 9.815724296232661, 1.2271237369771182, 1.3331547877003462, 5.060775315517774, 2.7505873258532603, 2.6798923662054133, 0.8258808981291158, 2.785107457124524, 1.5935135179132178, 0.7692575328318717, 3.3433397099632605, 1.1034568176409854, 4.422732598166054, 1.0606161308370614, 3.6198246328541024, 0.9394007185275597, 10.206113205859083, 1.2780792848654852, 2.207756087658755, 1.048929780356346, 1.9192998221130095, 1.3130346596783171, 1.1337959902509378, 2.3868840459326157, 1.015244462918648, 0.823843677273728, 2.2853931763302864, 0.8490110325919098, 1.131836452272241, 5.4833737034365955, 3.3364807427680025, 1.7786205522591276, 0.510177197559324, 1.1485357123324424, 2.44920507996557, 1.1571083379577505, 8.233979745020784, 2.039904719762536, 4.069008160846899, 1.8681989633952163, 2.8753086374425005, 1.896107560582664, 3.2495936183877117, 2.2207089171973724, 5.086137111787749, 2.92745269602118, 3.4589237539917166, 1.6212915464579452, 1.4537779619012792, 2.96690954724678, 6.617849275568654, 1.2192542500276815, 1.7069055884072493, 2.681568707622116, 0.8859948220429716, 2.5138567402048495, 1.6603151971720311, 5.002219041076168, 1.33966976774187, 0.0, 1.5437751214930007, 0.6080021645137069, 2.7133012948515405, 0.7435930937200967, 6.088229076395579, 9.141818235340612, 4.532653422376432, 4.1247814875789635, 1.5099043391511358, 2.013248293237806, 1.1501819105563689, 1.3544234444927903, 1.0925207014818394, 1.877877070951745, 9.773224817223134, 4.403383505102834, 1.592269633361216, 6.8849952747669825, 3.9987362991645394, 1.425903071547474, 2.874040630851414, 0.5013325714144862, 3.0843443434295557, 0.9235586710121144, 1.443115472922996, 4.775916977717797, 2.1329364202011805, 3.2624219559362015, 0.6033704933504395, 1.3681214939421875, 1.5900381016913308, 1.3566932958791598, 10.302013563044794, 0.9747228452393291, 1.57559203497921, 1.2611834040709484, 2.585407305914587, 1.196007607238179, 0.9642650052345817, 3.664836255960461, 2.462281188250588, 3.6323325771469364, 3.220115617167905, 0.0, 2.1827751473612094, 0.8859948220429716, 2.2859621450060956, 0.7214352724042271, 1.8543688842267583, 5.184222924935171, 4.548985944647218, 5.6259005392685175, 2.6908522571582965, 2.1835583390377304, 2.104327275820541, 2.1245934568062332, 2.6918748508186376, 1.1001933218708788, 1.3641069586152437, 1.871480958711514, 1.9351366022569243, 2.941641875959334, 4.522050751465783, 2.548010354161014, 0.8689871974322434, 0.7192473448715796, 1.3263244862277146, 1.980502556538204, 2.164992044674042, 3.160321946899368, 2.132055812201948, 1.2598173468302742, 7.281902681394791, 0.6825099096069338, 6.673659450337441, 4.988503835474405, 1.7514134309635232, 6.521411543358943, 2.6831935312917237, 1.5682449405503267, 2.1731449908346723, 4.059893920689294, 3.6846283020488046, 0.8859948220429716, 4.86419105972211, 1.3144712995386412, 5.3923776844125975, 1.6441074997022807, 0.8727869478753383, 1.3311091799349821, 1.4010243040587895, 6.839778448931411, 1.7644957763680915, 1.8325809130615203, 1.0291799628695741, 7.233569298981586, 6.462283749296034, 1.6899423800244027, 3.180757033060703, 1.9063361520409363, 4.540701039265708, 1.2132346249090855, 2.0201376675508547, 0.0, 5.7934677160077035, 2.219599052388281, 1.1560485038472028, 3.0344070302241377, 1.8061856065623185, 3.4851501609430775, 1.495502569382095, 1.342412124263266, 0.8383412577416156, 0.7932244712933549, 4.188864989851912, 0.5607412942790984, 0.6231650159791653, 1.213483521325059, 1.2825888976549613, 3.9077598874849677, 1.256797949591786, 1.2723294218781729, 6.603317289265519, 0.873188074451616, 3.3682759515209697, 3.381879706591455, 8.926548183825325, 3.22997069209737, 3.048457662822853, 2.7540770381536857, 7.800219178371109, 6.207006883239882, 1.0445601936172368, 13.116129704115787, 2.5153694065165775, 0.8134102912987232, 6.054420046534121, 4.880530993429423, 3.7109784518230535, 2.4404372914970427, 3.7092580406070272, 1.2299949701701194, 5.375282369729034, 2.1225333118961722, 2.3820846579954176, 7.087057188223243, 3.044711817277307, 1.820181461796301, 6.007097290497494, 1.1637815333834531, 2.952274087646681, 10.181202657116659, 1.8159241669236657, 5.468454615202248, 0.9929759127550654, 2.9166692482602437, 0.5756545839678878, 2.2573476528679772, 1.7763210569864305, 3.462817487282491, 2.1346520241083127, 4.098371996059938, 1.1356086533676062, 4.468635066671714, 2.6873957610380974, 6.36711766707756, 4.103830418845405, 0.686024208147703, 1.320284057316564, 3.404157832962118, 1.3766476413064783, 2.7691693567647415, 1.999354896223793, 6.928602630292706, 3.2055821724071727, 1.494269349259075, 0.758046301936513, 4.982545206791772, 1.6662354846679175, 1.2575162850024737, 5.876999538200609, 5.785457585087956, 1.3681526154227042, 1.0994497562360661, 3.711351266129405, 1.510946850202208, 5.238175429796688, 2.7965961970285975, 1.547747898584673, 1.2643881713038634, 0.583376078926714, 1.802430452127557, 2.6538688361509846, 1.6894123164703319, 4.506673494357751, 1.88559553366973, 5.3203937510837935, 1.4030620050376872, 1.0804780284864617, 2.3954410684250385, 0.9531967570240356, 2.9977152301928007, 2.0173983320826983, 2.772001548457497, 1.6560573601459192, 0.8131944905327164, 1.5242770469287383, 2.145007882795048, 4.597647454416565, 9.058875333544666, 1.6191252313780553, 4.623021538440978, 1.2419920189562907, 3.3477549726604185, 1.2431490684553517, 2.505222953135678, 1.1455728080274366, 1.0989275036185537, 1.7184505088383768, 1.502179332345969, 2.5260867122406463, 1.4267973617166503, 0.9159405784604802, 1.45635127128186, 1.5486830941331955, 1.2283318705300599, 1.2748446399840065, 4.4010029478884825, 2.04485258108383, 1.2066033255804551, 0.0, 4.200644159382324, 1.8873926743388003, 0.8629168004302417, 7.941877090668403, 3.445083553055415, 3.7690495229946754, 1.264448220360639, 4.001108654874928, 3.800674454961062, 0.6820232441798355, 3.2517193210860977, 4.305075206347009, 0.8859948220429716, 9.509686292269567, 8.47913938732682, 2.918682826487987, 1.4400654122675642, 1.4554729696071602, 6.613266116461552, 4.110846326896547, 9.019825660025504, 5.0852399788668095, 4.325043891826804, 0.9534009826174707, 1.529653560878727, 0.4520373324165662, 0.5927742782881765, 0.8859948220429716, 1.763560675445797, 1.0780183942823964, 2.8673583073074034, 2.693140015005779, 3.1331286410491255, 3.4702979991137157, 0.9021401476102886, 1.3855514146458776, 2.201685150830411, 1.7764888010255737, 1.998881180984761, 2.5752131441584845, 1.5412066738431893, 0.6366016995803973, 5.214362979021791, 7.251832410131319, 6.78039798565479, 6.948474392416967, 3.231302518421282, 2.7764904090886215, 5.68374345429002, 1.6184586783244772, 5.330851368141541, 1.4291732156581005, 0.8683758356818462, 1.002963930463614, 2.2446735109018428, 0.6901452674591507, 1.6673425816984693, 0.8716824675707625, 0.8153487556869446, 4.650478494772522, 1.3553818057794818, 2.0788303555589835, 2.4529423726780735, 1.6686105588386622, 1.6148939996618272, 1.3807117754780704, 4.1928374847215135, 0.7947364047504399, 1.0611608426093786, 0.9534146079529765, 0.5010815050310274, 2.61544557934434, 5.288996636683819, 1.614817741610021, 2.2703585236153483, 4.4406641876304045, 10.441426007269856, 0.8859948220429716, 2.0120728820290266, 0.9932894734851139, 1.6034949107543586, 1.8912314269577402, 1.1965961635150806, 2.738630431850229, 2.132924102505941, 0.38933789089708065, 2.997025099229755, 1.9333514818407302, 1.582659765681919, 2.7690260704246863, 2.8373787886213555, 2.4434053323826532, 8.20716478955637, 2.39709989043614, 2.021165132377901, 1.4668537568053839, 1.8068412347972678, 1.8273770660223259, 2.990843988236643, 2.417374747012526, 4.118610938976063, 2.266569785314707, 5.811027687573422, 2.9554628554824824, 4.092103654239574, 1.430714556220918, 8.90685074057754, 10.143575086520466, 0.7938152893672021, 2.4041395417252156, 0.6505984994127629, 1.1642338738117242, 5.878920491397403, 1.8852490733708391, 1.5557191149510978, 0.5713753053465049, 1.3312033082447678, 6.024161395861208, 0.8831980783031596, 1.4419084477442925, 1.237868219424237, 3.911471671176712, 1.2699823350077148, 5.454653460807945, 2.115494214365295, 0.8859948220429716, 2.279820031851717, 0.9972069234013246, 1.2248925614431592, 3.951646537420047, 5.838747902062831, 0.45169011902547823, 2.324594292096717, 4.751533053545505, 0.8188382302731128, 1.051759298454707, 4.466981303826508, 1.1962930881813674, 1.945821762786344, 3.3650915052998553, 1.0237107549517743, 1.433841893928724, 1.296650249848636, 6.988478137580126, 1.1306263483167411, 1.7423861223727681, 0.8907299542343042, 2.85211915799368, 3.371671603931697, 1.426348723018499, 1.8834715122457468, 1.4170121003279124, 0.6583599262698694, 3.655860343032246, 1.5748446469752615, 2.8108521782098195, 2.5424309799497204, 8.353230680945716, 2.0496826293840886, 3.4115238035607427, 7.0723862003505396, 1.5027796564931313, 1.8808089943814632, 4.018376507918675, 1.1662336038826466, 0.5161517817908792, 5.984953600579114, 1.679325913908394, 3.4044913265648633, 0.9850546678241588, 3.0269431771114363, 3.34569340286401, 4.305546988043185, 1.760150367115331, 1.9526106740264293, 5.726272153395015, 1.6571010176101832, 1.9505048619192351, 1.6674247380111216, 2.266087676489358, 4.343466892309291, 1.1704284819814705, 2.2033372733855616, 1.1388336509374113, 5.86208694543344, 1.3476494898976694, 4.733101961329097, 6.58470092058133, 6.016281674814489, 1.5010371807127383, 1.5140875522397073, 5.293247580099456, 1.1847675867718936, 2.381532722081585, 4.0141727563316, 1.7670216091100763, 3.665658058997952, 3.4843647770098323, 2.576964513916599, 2.967789612854653, 3.153603437323361, 3.6358602518523404, 1.3717461261783013, 2.142153466170644, 7.599391805844106, 2.8640827934233495, 0.6901532759097175, 4.357642260468565, 5.261974590885807, 1.0480114279844563, 1.5021595999105073, 1.5444649606113983, 1.1491347952178153, 0.9570560889487981, 8.626970843031174, 2.7989941675845547, 1.3221553193319557, 0.5533468059362221, 0.6084527177464792, 6.010354818162229, 1.5482376868300722, 2.4933071939359204, 0.7382941693048671, 2.9276187776645384, 1.9468893672519194, 2.3510171007465566, 1.6274783346807151, 3.3343433035032035, 1.7669431415376404, 3.6048506453469935, 5.056773619664614, 2.5025393302376364, 1.4288748870779238, 4.164279064742718, 2.503742188160019, 1.201620769626448, 2.7992265020083136, 6.696932633688612, 3.403703590546543, 3.278166956434638, 6.381215543164977, 2.7288108259452035, 2.240164354208361, 1.0911723426172841, 1.0889171067493209, 10.228741840286196, 0.8745928377996495, 1.4560741942485826, 2.1380736666610036, 0.6528667818958798, 1.203120944654447, 1.8571609989041022, 2.7671963299142726, 5.196835035723169, 0.6990439317036578, 0.7748374881450586, 0.8807781415854663, 1.958464666791752, 3.4776586981704543, 0.681836829151967, 5.911305763195321, 1.3150445697142406, 1.3622400130010452, 1.0349962053201547, 5.714826693163356, 1.4250482068563277, 6.677656887836916, 0.9121576138891143, 5.538697863914067, 1.9738176183868532, 7.958018821590895, 3.5973285168897506, 4.28479055201094, 2.981972739707398, 1.0575447457423153, 1.8831879593648957, 2.5279284381342073, 1.031365919240218, 0.46220830524295775, 4.876670406099073, 4.208129911309208, 4.964681091228916, 1.5981753335258049, 3.2722807218401346, 0.8279590314671512, 1.270929096197366, 4.705178363657341, 3.852807551737283, 3.8406741444030734, 4.742169009738603, 0.8994955706289809, 2.4575364447134693, 1.312100880800785, 5.076359551400738, 1.5225276641454297, 5.153575121357089, 2.2946628457004494, 6.885026270730272, 1.2458531088365528, 8.011643437367544, 1.5768763841279194, 0.7182095484215131, 0.7086458977570727, 3.9936103077570815, 2.1234201695961747, 5.367136836171075, 1.9730102419320774, 2.078030449895177, 5.364144402093863, 6.77428481674299, 3.559701531092762, 1.6386883569356727, 2.6150939737291257, 1.6686572363745453, 0.15598115210346844, 1.7922797521925384, 9.412110209033502, 4.298105970717583, 1.1982296902785525, 1.648350822208566, 5.231226460781647, 1.3881616463785247, 2.2979576268394744, 3.4264218867135567, 2.125850244687781, 2.017921454544544, 4.473505506536635, 0.8859948220429716, 1.8647988756030631, 6.951011286313119, 3.057483537096577, 4.555743694276937, 1.0697613877342245, 1.0968587273846873, 1.5264224108593436, 6.460422771796922, 0.6598104077882707, 3.90405862895432, 0.20318560255556864, 0.90351860266028, 1.2300610960737677, 10.440698458429658, 1.0249846322684104, 0.9641100584965511, 7.904399483498778, 1.6787063837933238, 1.7349206345034685, 3.3690456807309683, 0.9949082713786035, 0.9650186397079479, 0.6818335203249277, 3.530968184712909, 5.108109522779863, 1.5537399800744969, 5.085611772452427, 5.992836237775595, 2.7313140410014576, 0.8969888806123627, 1.4557122133982083, 2.608929228187785, 1.5454566683015603, 2.355763306623642, 1.0597538044483532, 1.3771038635015467, 4.673159366675514, 0.0, 1.7913729249960404, 3.8054273844626945, 1.0541588619032205, 9.114259339269507, 4.652430995369001, 4.210825902333321, 2.7657503744623124, 1.3789216647573852, 1.4578976308273541, 1.8428336175151259, 2.9801449015383956, 2.729321637708197, 0.4421054142580471, 0.6605635219953269, 6.123804914904883, 1.435963800667722, 0.8859948220429716, 2.874563755991078, 2.5223959901361117, 1.2472862658472363, 0.6383636684067353, 3.723155243633901, 2.39314340271148, 1.2065333294532827, 2.1597530872826796, 2.234557537825303, 0.8045993659156618, 0.8912566427729159, 0.09860152294451997, 2.3320547223829253, 1.994783309628188, 1.2490788447995418, 6.022728708685965, 2.8288613020729256, 5.860856801456091, 4.932430654686407, 1.8788603274385558, 1.108161599924838, 0.12844217126564186, 4.487082894673565, 2.6863193259795692, 1.7003328463468845, 2.1569234660196988, 0.8683758356818462, 1.8683593824036073, 0.7875039870514906, 2.939426915339042, 1.2132516595870433, 8.38079045323098, 0.9371737376269917, 7.736127214831998, 8.351710293113918, 0.863191176002866, 2.322619105405067, 1.3975404213730052, 2.1914145129831013, 2.5676911657649732, 9.572273831511655, 0.577022265453699, 6.586382318044666, 1.9453946563154103, 0.7338407675803108, 3.2316767358699874, 5.283201586592632, 2.678379900724679, 1.985309706623458, 0.9092483820749406, 1.4904992277265592, 1.2363810758871698, 1.0272381948554954, 1.0822216775337765, 1.060244758124368, 2.262897757613754, 1.613676550129883, 0.5490011625413087, 1.4861919033752735, 0.5649554370426587, 1.1855916070000874, 1.167934173174884, 0.8958829251900028, 0.8115529464140505, 4.878087276641594, 1.081547616776281, 8.03533474008548, 2.3887146275628837, 1.0011297716979652, 1.7147339101026287, 2.8031756743289558, 2.9556936705106045, 3.0503513334186048, 1.6482549291404034, 3.8150116444004927, 1.5140604746192512, 3.79294388275583, 3.726399066984131, 1.4344386505324076, 2.0088003321586982, 0.26688791789607036, 2.2310906816346066, 4.596560353474549, 2.4989590729759263, 2.9359844460475997, 2.7037219423262773, 2.174913152165381, 2.329636418624573, 3.830296861591956, 0.9832130956782721, 0.6707199212124394, 1.3581761443570528, 3.55796418341214, 1.8684709652547322, 2.4615912674979614, 1.5602986992255787, 1.2652543472501638, 1.8548419512777934, 2.1382971317373163, 1.3189840081022448, 0.8859948220429716, 2.10148050351541, 4.078678038004704, 4.682865209500694, 3.476361949337074, 4.03272715736517, 5.095765855557552, 2.949988267089053, 2.790728239357619, 1.376564744103176, 5.3164726764508785, 0.7552591675942585, 5.359851806996615, 4.932231838687173, 3.810978228081823, 1.1335766935420228, 2.809007108272286, 3.1190132902842453, 0.4191729184659658, 2.247735374569668, 7.416054428668148, 0.7151629767200917, 1.3379136214255394, 1.6956400360796235, 2.996262969454801, 1.2670786419516074, 1.7729502848890004, 3.2812050411991596, 3.500174927010446, 1.0497382192925189, 0.4441819146629218, 5.697294191807322, 0.3440711310033674, 1.2652035008847098, 0.8586738323572503, 0.6971209916104785, 2.0409335143502503, 2.808915177473451, 1.569912724207539, 1.583795092558633, 3.880405455073462, 1.2456551152581434, 2.250879303033324, 2.6972985263896283, 0.9250746522614062, 1.4046939178742368, 1.9095622213084713, 2.6398897944518205, 1.5570373578796948, 2.382807558834812, 0.9121319506710525, 4.257170967716695, 3.8699810379929396, 1.9516836409230633, 6.47921717100406, 0.9758071019221762, 2.085264115403057, 2.244317675949368, 2.50087941350837, 2.5723278471757367, 3.687452530234308, 7.453799644968798, 3.58752581357979, 0.8859948220429716, 1.0617182471357314, 1.2814168176914005, 2.1157689799998938, 2.725675109256776, 0.3546566209803198, 2.843640094750972, 0.6613532130977903, 4.205311806333234, 0.8143225556297853, 0.5047925307811681, 4.174134702418938, 10.054641041318758, 0.7983089528522217, 10.972512612642783, 1.0168165751842406, 0.7081054338207984, 2.322708372178981, 8.853862152903899, 4.0087785439054695, 4.489167685107625, 5.320931386818054, 1.21177061345968, 6.984054825667158, 0.3683052709585001, 4.270192476937259, 2.572254383607642, 1.2419561547850986, 3.0089371744173072, 4.477896524816766, 5.956779363974902, 2.2373834202987704, 2.3182332029166677, 8.263320734011623, 2.990878012708732, 1.5669165688922448, 1.7920480952214872, 1.354603612673085, 1.1917838411351738, 2.06428788907047, 1.1307654443261146, 10.96724404287918, 4.927748127457225, 3.170841022137128, 0.5650242979457786, 4.3909850905584245, 7.488224664785345, 1.814853569114269, 2.6844137355308013, 2.640720634573486, 1.7195657747835928, 0.6043939353905304, 2.6375527371318306, 1.337273384263043, 1.260578341723874, 0.8816887536949874, 2.5409392020889903, 0.8697159175018342, 1.5441815043335876, 8.05761074735014, 4.6391327505428155, 2.269624880847887, 2.7988956548868003, 3.00651617250434, 1.140239262196486, 0.8016338423893051, 4.3042939316531825, 6.092473252485983, 2.3041635419862176, 1.9319408810528307, 0.6186999245968711, 3.7095069106008425, 2.7875253128144055, 2.087355464100837, 1.238878167511814, 1.338304080887094, 4.7284242698303025, 1.1366221413558733, 0.32347756059151234, 4.021264740084917, 1.7456711086278394, 2.805450644675664, 1.2731730038445697, 2.163850302767256, 1.3874841154854478, 2.461475029098507, 0.02044954761376233, 1.1189868581324909, 0.8859948220429716, 2.575224087873828, 1.6634517771826807, 1.3887632987427805, 1.9848503718621051, 0.8361269322109252, 0.8488280843719256, 1.546617042846984, 1.3582520389725001, 1.8985411773781966, 0.0, 2.403090194217752, 0.8859948220429716, 3.804593071984376, 1.6031547308426743, 1.833763432002651, 1.2877576427935846, 1.4646741394024363, 1.2559583536996477, 1.9176414043939976, 0.8835985110074613, 4.100072411994586, 1.3829353048903101, 0.8265506374793007, 3.0707671212095935, 4.634631981273551, 3.1353616231507897, 3.880624462977645, 1.817739278219919, 4.3467245727091814, 3.774400432557416, 1.0639011967251213, 4.125208719513073, 5.7525018822509875, 1.0859357926581086, 9.073299267277104, 0.8349791838981498, 1.436427608033128, 1.8911960989122258, 6.572757999628214, 2.358569541891355, 0.8859948220429716, 1.8618627100426337, 0.6346034683414474, 4.001578752122509, 3.4069658266506946, 0.19402252889789545, 4.743550663713175, 2.51463832030972, 1.7195667150406377, 1.5707185652493667, 6.053062167306009, 1.2978435323874262, 3.747544067973192, 2.2150722375123646, 2.0205889517225315, 5.6819233327664564, 9.49789361811692, 1.0495880028522377, 1.1930176525302965, 2.9537848981007127, 0.8567942429743894, 3.6662397856438553, 2.143618166166356, 1.7545998589048135, 2.8427032938725993, 2.4900915364029523, 2.860702716641148, 2.2511939410988626, 0.6629696290596724, 6.952324277839787, 9.153871117708862, 0.8859948220429716, 1.5873253786384225, 10.952522971136878, 4.036003265490834, 1.2381411152954775, 1.1346754818191729, 1.2522624683043322, 1.2607700483339295, 1.122546703106224, 1.8761138401488533, 0.37486393534785795, 1.9835936704800003, 8.650723112819813, 1.9917600958468078, 2.0053610669769215, 2.4329081473852154, 1.0051655067044993, 0.3716726075952074, 5.999250731610605, 3.076243933197936, 2.809211813826232, 1.434976527845106, 1.9499556671530585, 2.3777854676315284, 6.310416469233846, 1.8029290995225145, 5.820126998992354, 4.265929395288931, 3.4342412136368523, 4.792069231070734, 1.9581015215172317, 4.385893769057356, 1.7343341286161056, 3.7256135254218967, 0.6655977795810702, 7.2508069121621785, 4.379260630617673, 5.383618457130525, 5.828467361367394, 1.6741250819313878, 3.983505378888643, 0.344015516529608, 5.046269000503781, 1.9715229662200122, 0.9289869143510652, 4.439362085714403, 2.4471882684298985, 1.0188878003065374, 5.196639402382294, 0.8087237503838827, 0.5667399436364642, 2.113805339398611, 5.898803534786982, 1.571788924879437, 1.6500807018063814, 2.3832283322688346, 1.3699216878336604, 1.6738434755005036, 1.4135071075756878, 1.4077985093630925, 4.040215573600144, 3.707394317300737, 2.454915114117151, 1.1839565910124417, 3.643583649250626, 1.5131321290592805, 2.9575968768263583, 4.921423266739436, 1.292956912949053, 4.983739710223422, 5.953948547895549, 2.2680706905516805, 0.336411349794427, 0.9310115852513534, 3.623013944137977, 1.5657646125608493, 0.9115405047642586, 2.7031523920221314, 1.9066223495820538, 7.8126635095956205, 3.905906466629014, 0.6784273125712256, 3.1783046926774534, 1.9294442105434537, 0.7126752600136733, 9.086597657625436, 1.8035501347436373, 0.9438329698460981, 5.542242156153643, 1.5326040387087152, 5.66865368688091, 4.00049422838507, 3.4309707231445707, 5.204191682048658, 7.2028084668893175, 9.55989106472759, 5.488348403724752, 4.839244757470586, 1.4868733095076525, 6.198364376878825, 2.135698114993552, 1.1029311118299645, 0.6892740201278732, 1.8395989482880057, 7.132324374714259, 2.2196603046008283, 5.056386945390796, 2.5062232587603797, 0.7184314276893841, 1.1884970226611584, 0.8863712625588603, 2.3537904933891065, 2.2974190133543617, 1.740487270305092, 8.509061917252112, 1.3842736935061035, 6.098176606225151, 3.144899733524536, 1.5703952798426288, 2.41700593049237, 1.801673878842496, 1.9974685322673238, 1.1459807096035723, 3.385382740851239, 0.8142332743605016, 0.8425190651278699, 3.7953603250756305, 3.9473473101504237, 3.6567606368434067, 1.405492902568074, 0.5132847348617499, 1.9749737589667264, 8.99111343665811, 0.3953882093952781, 2.5714986932672543, 1.8711395698866533, 0.4708713444789181, 4.107228646199975, 1.5660867606806212, 5.0765005252826745, 1.9134178541015143, 1.2708507375492881, 3.6776296774113137, 9.944580782178445, 4.839376724685882, 1.6602186685494293, 9.372165781358365, 0.6953614298722803, 1.7392536475621143, 0.9046873306195928, 6.272587683792108, 2.7628709437445784, 0.8803179009523634, 2.541451336465626, 1.035194142388138, 2.3615172157560314, 0.06727626831793153, 2.328655672349632, 1.1728261511187985, 2.352974139946668, 3.113093352445503, 2.913226524994173, 1.1109109705405875, 1.1661942187630687, 0.9349480122705036, 3.0572739789573298, 2.611505865511897, 1.0764445383449852, 1.2648428878029794, 4.972432265134626, 3.015752904044162, 9.226102060481209, 4.428140366388328, 1.363862531771875, 0.8859948220429716, 3.589721105059414, 1.7544732412148383, 4.136433988306517, 0.9947162811789986, 6.156998107420591, 0.523181860131903, 0.7584393191636017, 3.898676878148393, 1.3745069883245715, 2.129698369772187, 0.13442541139287556, 5.102359268042503, 1.8377361339787062, 1.371222736691943, 1.450277612534725, 5.6299051862140805, 3.450770641192034, 2.975027103050103, 1.1004327634085458, 0.7496792590781866, 1.4551131337354073, 4.493637199947144, 0.8744099437649225, 1.9544888243501186, 1.6477687386065103, 4.435346564419418, 2.082617033666873, 5.597508644432029, 1.995865193115469, 1.1959016999430265, 2.7837351121852683, 4.033584433773211, 1.9010363188614192, 9.621337846666162, 1.9974404265930548, 0.8859948220429716, 2.6020089660311787, 1.9532395093626795, 1.0065048546180582, 0.7531894672595203, 1.438148764586085, 2.25528679490422, 3.77483119096361, 2.515898308426173, 0.8831403478785933, 0.0, 0.46563666524295516, 2.12932921669595, 3.159646679844162, 3.056780764672335, 1.8478997294343973, 1.1081195823876133, 1.119935963047519, 0.0693253806015984, 4.481481988647563, 2.0576336214075264, 1.9965549159345304, 3.0059407256742516, 7.848646323167211, 2.146208993907669, 2.0349555149844436, 0.758115111082946, 0.9691626748759518, 3.4105735765894627, 1.8358717173592292, 5.127042995004905, 1.4487556990349224, 2.4560040433386283, 1.6091463273065443, 0.6817312300796233, 4.883009499082702, 7.283478835747325, 0.8658651926827066, 3.0079921228051605, 2.902943683514269, 1.9066195208134928, 13.331755672092559, 1.7496035066361149, 1.4821010343470986, 1.659189439507874, 2.3916312574164373, 1.3249637650057855, 3.427648046162755, 2.2189264368185655, 4.4145283511689195, 5.89350500833751, 1.7427937180285282, 1.5448631113739892, 1.1324276186931668, 9.716084859247669, 2.080748515583016, 2.208894885745684, 1.2049774082951177, 1.3287828393741765, 2.6088904156990753, 3.6977270977492647, 6.382791320375467, 1.5876677065052938, 2.5464846760154125, 1.3623668748172284, 1.6612887120612874, 2.3652966148158923, 0.5811603462066156, 1.7558453537852774, 1.582522294034764, 2.007860157368524, 2.05839042214785, 0.23834221357418003, 3.905380503345712, 0.7876256648664829, 1.2045609515930769, 0.5768687271231391, 0.8859948220429716, 8.586909668633309, 1.2214525722359457, 0.5714602237946395, 1.485529396977252, 1.3615868605915322, 3.1012980022738383, 0.8802118049655602, 1.5199407221899166, 1.2728590180308152, 5.653804390241398, 2.665445783812198, 7.722654806563213, 2.094307661742, 1.8992340641883343, 2.183708211688047, 0.8859948220429716, 2.035620500370604, 1.9643683942838603, 0.7331511203687635, 0.5197533523617, 1.432990736759806, 1.2767310403975562, 2.0845271618925154, 0.6393695976046826, 8.71754365708257, 0.5737289839711677, 3.894856781280734, 0.6979806064654615, 2.3478891985728856, 1.4521209701609323, 8.350120566914581, 2.0092691078613414, 8.223294082430273, 3.024570582911872, 2.0059216425098096, 0.6686176682622594, 1.3015878160378391, 5.791945616335699, 6.079311473760593, 0.781868485477447, 1.0818692291137302, 2.687421992839982, 1.0653552103282855, 6.712318974595739, 0.4045971018116285, 0.7873609020946395, 4.269017318264051, 6.927632387361339, 9.904176131935317, 9.29040137955147, 3.076308611832958, 1.590497210475205, 9.049645239027816, 2.2453984454789206, 0.8633588587199601, 4.592489829006567, 3.386411761846554, 2.987852990886297, 1.2555487721620484, 1.3731802081734288, 4.152451261945871, 1.8551819810305084, 8.24305070421052, 2.5551474005829076, 1.319603738204251, 1.586453752008896, 2.138655844574799, 1.8706612955992785, 2.844740156975288, 2.389267477596183, 1.735413040773519, 0.6522320428948352, 6.987011834749901, 4.077994948159378, 1.7956997354835222, 1.507597770494351, 3.1974809001383364, 2.4186571766972076, 1.0138734092819996, 3.3493034678487756, 4.17181712711513, 2.469961335620535, 5.65597177282336, 0.6936755867210284, 1.2910552995986864, 0.9447993458757057, 1.2067271579905037, 0.07620595626112396, 1.2816722663534095, 6.433579148330613, 2.7854113451563007, 3.719075601762146, 2.404720431897834, 1.7855403460220731, 5.026694290523312, 1.3148547047688588, 0.23145810941515899, 1.9827090236445548, 2.6998005463655153, 1.5066672844712172, 0.6521371006601114, 8.184152259764819, 1.8634555369681642, 3.6995121202425443, 2.1350056475344408, 0.0, 2.3933351383058104, 1.479987630554324, 3.04776360175159, 3.129099246381002, 7.73089842657522, 1.8201438725417645, 1.7560433088789729, 8.134445032540832, 1.8605015255293151, 5.843154876410442, 1.4642330636243157, 0.5587203057834669, 0.8859948220429716, 1.1957280274729165, 5.983470097296699, 0.22571562514917684, 1.2117826220564876, 0.6011227835427584, 5.942785487874652, 2.2065548181959795, 0.011285299578508396, 7.578144893320034, 0.593615110215895, 3.5898496987808706, 0.4605430640878351, 1.0219341098900563, 1.9740010527218539, 1.9408214127422694, 5.776092666394703, 2.453029158377338, 3.1937670602623176, 0.039207204157158, 1.9909268695271962, 1.668164697411765, 7.9424979609992885, 3.3021110042811266, 2.0454409450319258, 3.9228326708911396, 3.541378173715635, 2.4930857561253283, 0.6341449969638163, 2.989318957895467, 4.623403323242779, 2.531915821355139, 2.136985323916336, 5.922866868761606, 2.2998761461615485, 10.18528914194781, 4.04516696754794, 0.9887352319394158, 6.661305476271382, 1.4737057741897164, 3.3900141039818052, 1.3560274764609037, 1.874459954642929, 1.6462478419574806, 1.118902519053532, 1.1846714019863993, 0.7502016739000021, 5.734497317171024, 2.637405212079394, 0.7053018493890254, 0.8833633531764431, 10.391216953105166, 6.14303646235964, 3.0005883407209213, 5.457936577137629, 2.001448799127532, 3.4867680280910247, 1.5880661278824417, 2.196393995801152, 5.014674739576263, 3.165953752642427, 1.9559029001984376, 1.7406878683328972, 1.331518234824967, 6.488127471662096, 2.193385399543017, 5.831885655916222, 1.753245144563192, 1.1549512512477682, 3.86702507353695, 3.1390201658721453, 3.6940001867826737, 5.794018755891093, 1.025216524583203, 3.191967098676282, 0.6785728495588992, 2.9406943121574005, 2.0720377086554818, 4.549343087606367, 4.87242336002055, 2.570506173887408, 2.388010801423743, 0.6540249210935115, 2.0010872491772798, 1.4877209968273888, 1.220341402106812, 2.902603027065285, 0.8079707499246249, 2.211126143328748, 2.077119920460976, 1.6720358496101277, 7.045017513313039, 2.2938068842903627, 0.8139309288897005, 3.7774902231145426, 0.9927133749764819, 0.8798604743498823, 1.855395653256001, 1.344136121677504, 4.641201259043602, 1.8814641984078786, 2.186380412769933, 2.087855619107506, 0.7182484634222753, 2.094543989466137, 3.279075827020716, 5.095854433709657, 3.1375266374033193, 1.048104181694884, 0.8737197596549228, 1.4788901486784374, 0.8859948220429716, 3.3987742191198316, 0.9389488188190728, 3.5929731509360714, 11.114138330188599, 2.3591531917506128, 4.227534052014797, 2.8505130314272518, 14.652751522612142, 0.8852575736664264, 3.5434715043908054, 4.335461923307532, 2.5762763627204777, 2.576611905860083, 4.298970828602425, 1.6619977427463728, 6.449411159403559, 3.1617705791383193, 1.0945201484509615, 3.120324768770158, 6.41110852839399, 1.0027533330766718, 1.6037421936263259, 0.5350638660801856, 4.464294926817639, 4.067675529488784, 7.21645858253543, 0.9713509315641395, 0.00452050176070913, 1.999291496514266, 1.7488603455257372, 0.49070605407242324, 9.990413092117521, 0.5346490875703147, 0.5563603294366959, 4.947333827965989, 1.2295362427219454, 2.1334271990652587, 1.557992432523692, 2.6147795012027335, 9.801579560569516, 3.0634269646917325, 3.549423025342932, 2.383385117821346, 5.65202119313948, 1.829504700058568, 5.236812699313476, 5.021998525553425, 5.052505164752203, 2.2577238494555387, 1.3471420818486002, 1.6652773292620047, 9.246144687289497, 3.0916843444598587, 0.4661622289145368, 1.31980336356931, 8.655584696802629, 3.8149436400294845, 1.4888696959834888, 4.570152310796567, 2.3204091065465207, 0.701234832412696, 3.0439461483790846, 3.1991880557563777, 5.864946050965682, 1.9174719793719022, 4.741932734428055, 3.328205232310335, 2.134949019005931, 1.2824465751601886, 7.59631797294987, 2.001119796507781, 0.5900414602755519, 0.9231090000849858, 1.272676068435829, 1.26487558330959, 3.035133183791298, 1.4372428031375313, 1.0776456582993066, 2.1898068024948865, 2.641354476035854, 2.176663715301252, 5.753700376492288, 5.38509713123332, 0.8859948220429716, 6.036890161059164, 2.552353080320449, 5.616715619222454, 3.5502770551147815, 6.2388549114385, 0.9912788724920788, 5.933733822909217, 1.1554915446411784, 1.5331818719293393, 0.7770111725372619, 8.701916729056167, 1.719471081751503, 1.7582821706503287, 2.8419433240393848, 1.9860527929723382, 1.0013044315030206, 6.632879726429146, 0.8836793496126495, 2.5459906449669676, 5.913629906816488, 5.956891481068197, 2.3770211028633508, 2.587751415321664, 2.108243564897221, 1.6718395620699178, 0.8859948220429716, 0.771215004451993, 2.8552266174264656, 1.342458175843282, 3.2068195480493236, 3.3477032140826375, 7.921418097307739, 3.33117957597868, 3.8868829213402987, 1.6444938572750394, 1.5181635044924426, 4.965156706295322, 8.169793924537498, 6.6326134571532185, 6.849094291336549, 1.6724528180110931, 1.068341295890347, 0.8356142707175622, 2.0680043618411106, 3.9266044310231454, 6.055645455944119, 1.9263963513591422, 2.113204412509203, 4.079807171304548, 0.9697886698478172, 1.9176138538055216, 0.007389876500396858, 0.8859948220429716, 2.7908886526523493, 8.940820015579751, 1.5953975433785919, 1.7423666313964963, 1.186562535339339, 0.8642439417934955, 1.464222328585877, 0.9617412966787445, 4.034349313565546, 3.5978281731693027, 1.1026417872274683, 3.295416667631762, 2.3281321421213845, 1.3990501424002633, 10.473017710949163, 6.34530030879953, 1.4007478281027916, 2.4980121776734117, 2.196536196117177, 1.6775616666910447, 2.83167129892297, 2.7816951287294, 1.9464953258616606, 3.646644280360431, 1.4798054479029183, 1.7895281838234443, 5.863397932469154, 1.1158677393653451, 2.5267559594431375, 1.3698017757109675, 1.448305253479432, 5.1754887491136365, 0.8708661836740192, 2.701101837997625, 4.517072546878188, 2.447448115351143, 0.4426947321030262, 3.920441074540616, 0.6198237373754399, 0.7883531107889898, 4.551359823074159, 12.230204278295274, 9.351990461935301, 1.4491462668731905, 0.9921859395150069, 1.3323086258593166, 4.013474978398834, 0.0, 0.9515536982211898, 8.88425863198825, 2.184655353351417, 3.205606211985535, 3.023811455447481, 0.8859948220429716, 0.24279304160570198, 2.509540096122991, 6.164700053965083, 6.7720520205634145, 0.9067381786089587, 2.680720881600092, 1.2180828840248548, 1.301398750412194, 0.6106320171397487, 4.622238798220477, 4.833770680226374, 0.9154892216501502, 3.199878424842209, 3.648259992830131, 0.965893388301231, 1.715748897511692, 1.3815975248815249, 0.8363555801506303, 2.3891805355409326, 5.760629155612849, 3.701431776710071, 1.1669342765539146, 2.3347190355853003, 1.4308147629883619, 1.1370820970911422, 2.899445422766521, 4.831462693497543, 2.247845430500326, 1.841296144161114, 9.164764759320875, 0.13543914686158862, 1.773243381604665, 2.764703832954511, 0.6254208057580251, 0.2850676304581588, 1.2599384005281706, 3.692965475937331, 1.9176951459131977, 0.685944125008231, 0.7292559782735395, 8.085669258638916, 2.4379248376489375, 3.141823711193169, 1.8516304979359581, 6.283691842011916, 2.503396120820281, 1.054798968165393, 0.7544433359378425, 1.1556672753564994, 0.9656978463562903, 7.059214401824132, 1.7445151535573824, 1.2847101445613582, 3.0323684358535203, 0.8859948220429716, 4.99231705797115, 2.025726120237701, 4.465184841905899, 0.9554933479025375, 4.132812341742012, 9.772770366449034, 4.151267341324638, 0.709572152020737, 2.048123101023006, 1.9127086625741063, 5.200840180028744, 1.4080889491499728, 0.9759543984126632, 6.826575147149276, 1.5322533302439387, 5.038104784346769, 0.750484865007915, 0.4047756781753864, 1.0448465897460315, 3.6045694165193702, 1.34327603676333, 1.0888359068300055, 0.9464220602447033, 0.6599069704342888, 1.1246148665116582, 4.457398916161792, 1.6358390909938254, 2.5514564636721278, 1.6833175759093355, 1.0338722322745575, 0.767542679929498, 1.5198442540858457, 1.0926856974717254, 8.717408058390376, 0.5906271100225285, 1.3884705076831902, 2.5010996951112667, 9.693289855157273, 3.760364200548218, 8.656913879057251, 1.6934602820966285, 1.6434125981448773, 4.455019435505591, 1.6860631224337703, 2.687728443417243, 5.308472849134076, 2.0514201532574097, 5.566344272888913, 2.768996114645695, 0.757152193058207, 0.8781758574795118, 2.0705096224250648, 1.9296031716497466, 2.360794869749138, 2.016351947529786, 1.0758052371658273, 1.335513230263469, 0.8048875668311313, 1.7517427429272088, 1.1588136398632858, 0.8525893022822089, 9.788015992966097, 2.978519828802753, 3.745960983593415, 3.5401823955598015, 1.837577921214552, 1.377480804205624, 4.072291378349446, 5.861719042678952, 3.700776630102837, 0.5882795145044863, 1.5745228636752373, 1.2513084939342702, 3.580940595326932, 1.21200459554788, 4.386902080565026, 3.6234315735266325, 1.7067845560886086, 2.4375087715897243, 1.3671717511893453, 6.282068047376747, 2.0653183800620396, 1.4903249289249727, 1.305593408123945, 1.0386299454830792, 1.4608744951793118, 1.5700806234676803, 0.8859948220429716, 2.001808514557853, 0.7488590782415352, 2.1262080818308435, 1.7616795459727341, 5.7923531417022955, 3.8294899973879684, 5.407712642474157, 1.1810838160765247, 1.9861505283163172, 1.0652821974614908, 1.8246040202047191, 1.6851303101007489, 0.6704907164233803, 5.42592048724469, 0.4077923679751817, 4.181929927965201, 5.424965569719566, 8.330984216702152, 1.6102798214256933, 0.223504501977245, 2.260014902347574, 7.70800228089695, 2.36803157789063, 3.913511211158816, 1.6718939630147343, 3.044220416954138, 4.449812048172937, 1.014110182775133, 0.6713675412635779, 0.8859948220429716, 2.358618284730167, 4.149113274790821, 6.593233740297509, 1.8625978084382873, 1.6146596405594915, 1.2447142856378537, 2.4077138389685415, 6.921630728209221, 3.5233316363060516, 0.8683755355795324, 5.797375753148276, 1.2643720079591583, 4.510350044632904, 1.9597276746376704, 1.195322554515219, 8.380189450120099, 4.8133924411629385, 0.9401702610425288, 0.9007096754501184, 1.2420445604846824, 0.43766608890983716, 1.0488632931754482, 4.226005408543769, 3.341729003996021, 2.35120438395834, 3.3760302220238305, 2.747742404115519, 5.281461397727469, 4.294272455425423, 0.5494435458980472, 1.135238453361907, 4.377182492882981, 4.199436297382551, 6.7701491180010365, 2.205126014604185, 0.8308402659881402, 0.6391336207112143, 6.644716060937229, 3.3305633840820494, 2.7757161230637752, 2.63554495577629, 0.0, 0.9087186680562699, 1.6819831509929186, 1.585282070829143, 0.2985326511246745, 5.657893102861795, 1.4517055684127005, 3.777136039622238, 0.6820813643473541, 1.651156933375958, 1.7786974381630893, 0.8859948220429716, 1.2888144586433206, 1.314340201431392, 0.675970121050114, 5.731917776541844, 2.6863836427928245, 2.85666358488622, 0.8859948220429716, 6.4740679031481365, 1.1670690893624427, 5.564441443476558, 6.58223115241578, 1.4379608655032534, 4.009352907402345, 0.8859948220429716, 3.713937660228802, 0.8859948220429716, 1.1895498487669143, 1.1462978670935446, 1.0495474063418253, 5.189455140029001, 0.018370170867522812, 0.52133268582313, 3.0363882553495274, 5.629539236983189, 1.979821565671011, 5.31387787739249, 1.4887432974223767, 1.6860347271678058, 1.2489566080493921, 2.4095033716749064, 3.511262158394234, 9.492064468964433, 0.4319756581910051, 3.276337589614765, 5.898387681215504, 1.3390175056127585, 1.97155279935817, 1.4101337178001563, 2.335519388306639, 1.3927366045810161, 5.222195452068529, 8.37687167888319, 3.6076658836249056, 4.548576807047239, 2.511237852575191, 0.827873336569304, 2.102483750733912, 3.146018354626189, 1.9535002476990035, 3.166619823314602, 2.99402625975291, 0.9528792951075926, 2.879522174604865, 5.778397550103979, 4.462557341577215, 2.466093685541614, 8.244388283477898, 0.00040368869046297914, 4.448630087813125, 1.0602008270145533, 1.1540480876300918, 4.757584662083858, 3.164249741150915, 2.5533977407600417, 1.8705352217512947, 0.44949071090150455, 5.532375963793007, 0.306643255847568, 2.0663737923121404, 0.626948335391797, 0.7926242696536763, 3.236954025981088, 0.9419851385095082, 1.3371026136011643, 2.508883201802083, 0.9683936753173583, 3.7900337775579676, 0.6901975313093747, 9.56234558128012, 5.609407020210315, 0.7424022126364143, 1.3059040926072825, 0.7797862101577999, 9.642048241576473, 3.1562301769843804, 0.6528849769483769, 1.1196371390139073, 0.8698631435169869, 8.456523492782209, 4.683781429920999, 0.8859948220429716, 0.8117742376216199, 0.9727246981569255, 5.502258864588853, 1.2506846657248782, 2.0075611924190033, 2.529122135890323, 0.9550586243970722, 1.355661672454644, 2.1571884531332604, 1.85651021582164, 3.7209821029153467, 8.265703582609461, 1.7360108108367043, 1.2558354699613932, 1.05417799008053, 1.953474345267223, 1.9833058457020452, 2.377138832879845, 1.6418571806750273, 6.2982454567919826, 1.5813383334128066, 1.180667987810903, 1.3068913123714887, 2.41598119013624, 1.4242884114275594, 0.8254841984038576, 1.3099082904326853, 3.9155228357261387, 1.1816810372204096, 2.9167304406064414, 0.0, 5.351312078604148, 9.798803724496073, 10.402404762894388, 0.8275681125620333, 1.525677994416212, 3.569841197905922, 1.7187955535902406, 1.8203812995659456, 6.273043575092536, 0.7537227812878848, 3.590400751428742, 1.4709204428810498, 2.746261940830401, 1.3501109345648326, 1.0206094683236546, 11.992403405870144, 0.8859948220429716, 5.376424991837886, 3.0826866918021807, 2.2740537509488514, 1.8457454846791201, 6.394927203432896, 2.2447849251517167, 0.3901124134381026, 6.10101227981728, 0.5399785410629808, 1.0528217282560486, 1.1113984847901528, 1.1726457209048848, 5.798586411623149, 1.7454904836928793, 5.188886117340642, 3.8572770804187066, 1.541294740007724, 0.9690222642135649, 4.859119423117705, 8.235774015404356, 2.3829021690126453, 4.731662649918266, 4.9497606890686345, 5.295065993722531, 1.9293212963268407, 4.096590754441556, 5.517231045573441, 1.26739100733487, 1.7572587081360984, 0.7495424921100592, 0.9137146197657122, 10.81325237750058, 1.7766361924004048, 3.604061579946139, 5.4503727168433205, 2.373383511946073, 0.8236117903579534, 2.669786172594241, 7.857025109842596, 9.76779129807884, 3.1218207814440944, 3.0084874349097808, 6.626551482058121, 0.5643885758318925, 5.7806517700648365, 1.0648964903124198, 1.3948720905839447, 1.517473728568426, 2.430958534818635, 2.3584946574936576, 2.413411656745867, 2.7679914459417816, 3.1201553222318514, 0.6992939780848906, 1.232608119552409, 3.601583692315814, 3.0630902413108942, 0.8108526854681923, 5.459089339903652, 2.5400531416614136, 0.5746495257544229, 0.8859948220429716, 2.8087964033865505, 4.748434564206002, 0.8522382414521136, 3.043542716240195, 10.730248622036987, 1.8883131161122808, 2.0132922994394638, 0.6817139642559167, 4.774200175567199, 0.8859948220429716, 3.287029250801357, 0.9589802786368713, 6.661508675659243, 3.569082357413726, 1.191034451971486, 0.7820958931090326, 3.23869128975572, 2.1460821847090803, 0.8208702445033996, 2.020653863689429, 4.161143456199078, 1.5289841601749867, 4.272403597985389, 3.496800890457254, 2.6200708885751074, 3.5182741377182594, 7.019985920582111, 1.052534749376468, 1.665745901923161, 1.219617442472198, 1.2383649902445648, 7.24287217138342, 3.6605164500860043, 2.8773203825443705, 1.04964168926638, 3.894878611732228, 1.7175087420542807, 0.8859948220429716, 3.2907809768550345, 4.209632071382296, 1.3018072027970293, 1.6266417610861112, 1.4375183392070972, 2.224639331145831, 1.9987087582793854, 1.46350363544848, 5.792463355219956, 6.647246182808491, 4.4221537784729765, 4.19207404883319, 1.0182282628521484, 2.015098806813162, 1.512828487134439, 2.3748484940474164, 3.4679119347660032, 0.6274696643207731, 0.05206753855182103, 5.005159100095322, 0.9144706989796044, 4.122639315908086, 1.6091356174638365, 1.7799088228351512, 3.895266763394857, 5.410337030603319, 4.4204369295702435, 1.59878984852194, 4.619127030067721, 0.9706182654644875, 1.9469208944480794, 1.5760108433528184, 5.6969781339483285, 2.8089322703442856, 3.0062215816447324, 2.184052632614077, 1.035891910402779, 0.456298138442732, 2.322265407463442, 1.352078030159474, 3.8490235888955997, 2.7800859822940462, 1.8501129017729634, 6.077436936089118, 2.877521448532526, 0.5341031208621145, 1.9215846635382894, 0.5810413817231823, 3.214029781462486, 7.805911358908507, 1.0327090033069435, 1.7608529950703027, 0.9532443201656411, 1.8557875427092674, 2.247571218231958, 2.0310425523276128, 2.5190492744720347, 2.47539289311534, 0.6715213520223225, 2.0015401868273397, 0.0, 0.8880618202425128, 2.9617904685134686, 3.9560049875879253, 1.7900351719636836, 1.079512659665316, 0.8798879704601181, 1.740440101839728, 0.7423180657213885, 3.563936410931207, 1.6477458880132863, 0.9521846717519197, 3.894529815227965, 5.542036844064242, 10.544051613109932, 1.18433320140875, 1.8251367026411678, 2.640770291434639, 0.0508403533232033, 1.3672449669860747, 0.31934058229130635, 4.241591333135968, 1.7379866993109327, 1.4639280831600867, 1.317108224445753, 2.2465635041646936, 2.7013420738444074, 2.8016619586704787, 2.0485808843904563, 7.304628127904194, 2.642590731954375, 4.649442409060912, 1.0299998064554081, 2.919805520976097, 3.594065237109616, 2.264935499673868, 3.6404180110190194, 1.196372102017282, 4.8680007301686254, 4.173631394399905, 1.7519392650787269, 2.469013771819862, 5.458668573111463, 2.3088326433417077, 1.3431720368064415, 2.579636586560034, 0.9186994704817161, 2.06574478942309, 10.416150007049195, 1.6626087408900683, 1.1785915841915557, 1.059784388471399, 2.4792043824649954, 5.248002608200106, 2.0891998104924245, 1.6189345476784487, 1.0254522913344093, 0.5385316729566934, 1.4132312602300963, 4.41052376205318, 0.986128820908964, 2.956824895998851, 2.2495990098007144, 0.8220382008019494, 1.3279087164359387, 2.9136313038320814, 2.990014411208859, 6.747684141344229, 3.1244052603351227, 0.8644451098735215, 5.519465631063343, 0.058130100184217146, 2.820305373769385, 8.816278083271685, 0.698076134068082, 1.3373407923411536, 1.934197225682611, 2.5613838084576916, 3.3567306959853322, 1.553554500458029, 4.929744965054625, 1.6291528211253539, 1.3297624172293199, 1.701165833355059, 1.1313924909651485, 4.310348936518599, 3.7644413025611567, 5.5978261841332, 3.7116906165558508, 1.9687480435972313, 0.2365400371940541, 0.703634360600029, 0.0, 7.8467831367355085, 0.3362619000823324, 1.478066265696206, 2.0270692517005973, 0.0, 1.7568334225709528, 0.9059942935784244, 1.1824213104044705, 2.9017656070933486, 1.7042111006246405, 0.5972571141299616, 4.1360091904564324, 1.3195429904180864, 0.14907954142566038, 1.4512405974147247, 5.496145939278982, 5.224525713219823, 1.202310687465635, 0.8859948220429716, 1.1850155194316068, 1.0005632359476355, 1.7767800649518437, 1.233387105359788, 7.340487718697693, 0.5028143606505737, 2.214251195285101, 2.148222711427041, 3.4496605691204323, 4.770648314843085, 2.058605835223107, 0.897576097448238, 3.199904364295318, 0.586341569660583, 4.139291264086039, 1.7733951697226407, 1.0503339979330162, 2.05042930835947, 1.4232790816278216, 10.405769150801563, 1.3800018520153368, 2.5567981395592168, 3.4539278920598266, 1.314664785912002, 1.211127820906696, 0.7955332398850997, 4.508396736537754, 4.556359314537859, 0.09552493593052509, 4.730126977628976, 1.7476383590731468, 1.5242732246165465, 1.7843006274105349, 1.5311099955845564, 1.2643831737411042, 8.871025415515563, 3.3514585942897592, 1.4714176457509474, 2.169481839654086, 0.35160371149054864, 2.0291859679113893, 0.8859948220429716, 5.3796902425893105, 1.5352046895201772, 3.42225823202344, 1.9123244391944592, 7.653492964625497, 7.207883151751302, 1.7979083535096452, 1.969090098995315, 0.8859948220429716, 1.780353812871223, 2.043062878149751, 0.007761103204281143, 2.928969830962803, 1.6209862127771317, 0.812282291928574, 1.8895088229956594, 1.1880719069966619, 1.4632463114306486, 5.683110326343792, 1.690059794278733, 4.5564451943800135, 5.359385860356427, 0.48197993165736785, 0.6490221541512932, 1.7343058179564497, 1.9452711254569042, 1.3716645757457675, 1.6614448600107885, 0.6521325325656941, 1.8127002880296612, 1.087788530512524, 1.2411922148923389, 2.04099224156213, 4.657128777024891, 4.983297273149329, 4.387595683809253, 8.155519214934158, 1.2905644870210045, 1.113231827356034, 1.3654541972096983, 1.5760825809721533, 1.0460654370700087, 1.3847458849862058, 0.5085648204090748, 5.2136198189760865, 2.4334298642546153, 2.9225448427392395, 0.7351092970625395, 1.982429575174515, 3.013557984264587, 0.9671052545198965, 2.367190448553859, 1.9273387019877515, 2.056009439258409, 1.0205595383415993, 6.260923261152883, 3.108336185242178, 0.8992275926913643, 3.4984545788207915, 1.0034069821389566, 3.8250260023382143, 3.8775695932561214, 4.656974468887643, 4.144860760698109, 6.818226870465591, 4.106660503715008, 0.7414942874234945, 1.4088582529954041, 2.339625396274722, 2.0852066415829915, 0.4999828674668561, 1.155620354161616, 1.0434885736774857, 2.9946750644657922, 6.051447149613941, 1.142054658012861, 3.127640740815898, 2.2290345989180866, 1.0243789619491506, 3.9318123179534923, 6.160507412955373, 1.8540650752419792, 4.767402329266142, 2.068823945203284, 1.1188233267427647, 0.9124105939993152, 1.3109881616590293, 1.285593192374941, 0.0, 2.175548983189069, 2.4665131357214647, 1.3102805248783371, 1.6321568663526, 0.8104970796582868, 7.443781150956603, 2.4443141206966597, 4.097762421073799, 0.0, 1.189800141704109, 2.0335273782581624, 3.1671502502651294, 0.9749353768364508, 4.253867688928024, 1.8741050480526804, 0.7295666668873201, 5.060100948981369, 4.328812833372105, 2.197894590897912, 1.2432789849413894, 1.7835105443006238, 1.4674706697773772, 0.5341581786568916, 6.4911921625720375, 2.0662695254969785, 5.98115870920048, 6.397731320193738, 11.267321434602056, 1.9743231312188054, 1.9559590219064271, 6.426715907857718, 0.9467959494578907, 1.3091532341080696, 1.222005486899087, 1.12933453728308, 3.1259479952090445, 7.438836489416088, 1.717446080245853, 0.5172683026734425, 8.610136572572902, 2.2772126379751874, 0.31310900955568766, 3.761504063749395, 1.4425407255498337, 1.5197831740374252, 1.4694256072010214, 2.7279897491919622, 3.5353187056114423, 1.7452600016381716, 0.9726331909922488, 11.254163846690375, 1.3352554765312579, 3.5507149387675687, 2.146186358327056, 2.901947002566394, 1.2378361081213125, 4.151875107931125, 5.722841397314527, 2.9033691288721055, 5.601567634350624, 1.9982808044153715, 0.8753672823188415, 0.8015470384140126, 2.6933862889349505, 4.180923821573706, 1.6821090412922635, 2.668606721399731, 2.750599572616346, 0.0, 0.5450445921727037, 8.28628769809679, 3.1508592330796623, 2.197386111266804, 4.1003539462257566, 2.859469809029762, 5.9280482169630515, 2.7177399930675086, 0.5848018901829729, 1.3226932888126826, 5.709350209323483, 2.4577042095987416, 0.7388568413494923, 3.4312174185837545, 1.1045760258759323, 3.2721524823504717, 1.0045771344322927, 6.152073668929726, 0.8859948220429716, 0.7304164791872718, 1.839159894505615, 6.348564819287448, 0.8179432617548159, 1.3599996187732413, 11.750979218335756, 1.5793239292828898, 1.7529105377293175, 0.5471018210756797, 1.2594127158757535, 3.3807758258279392, 6.560442967676597, 3.7820418220736505, 5.999966091277029, 4.324208023519131, 3.5160943640239606, 1.3947611267531175, 2.3898690047418016, 2.814613591241842, 5.586484258887138, 1.568908319602942, 2.7530770587129307, 3.8191742319513775, 1.0674303005772987, 3.1426249124328094, 2.8563859953076727, 1.2483576342959872, 5.241063243774515, 1.1578202451953619, 6.514060911524089, 1.147163159196926, 3.197147670886165, 5.047524507467314, 2.261048700107557, 2.4418997504037567, 3.745295664203941, 1.3790146554800038, 0.20592472320890845, 1.9685236658546221, 7.861735688401458, 2.7448931408679305, 1.9653799013750504, 1.6872747946785394, 0.31364663199920134, 7.571466536331948, 2.2036582224828125, 3.9817883157897325, 3.2938506235132934, 6.568912009942163, 3.0467124079830903, 3.4649904479658913, 0.9236758715310031, 4.967547596024876, 3.317739795650529, 0.13949422815352222, 1.9425746773611152, 1.7421946362462881, 8.26442830109042, 1.7568143010410586, 2.2360991717545162, 2.2968097711356283, 9.34277481362194, 2.341321628362588, 0.8259277100806585, 2.244032732800178, 1.145621508360835, 5.47735493127672, 1.6423816936402758, 3.1022092214776698, 1.6227607279615988, 1.8720055330061016, 2.8261832343161664, 4.51262506827778, 1.0897213413910196, 1.1045543870877084, 1.469866191409726, 0.8683758356818462, 2.4959318002921442, 3.647333245877665, 0.8985838122586206, 0.42087361396365897, 2.3590196664559206, 1.1936579406514607, 4.763684176548452, 0.7489163577118805, 4.892938692681377, 6.192617117322876, 6.323446431427631, 7.28220568637742, 1.3527131478610888, 3.7624295908082726, 1.795821724353401, 1.4523521772550008, 2.8045974266913705, 4.954281442893499, 7.07460813715734, 0.9446268591213018, 1.8020619181946964, 3.790483441107194, 0.8026967303205764, 2.0805330915322338, 7.0918069366412375, 3.435148159934233, 0.3160643117018732, 1.1749917562008028, 1.3254352187428229, 1.871886858426061, 1.5913181252109843, 0.48884068973403266, 2.073725941330346, 9.147337496776531, 2.4085408241029604, 1.7205589343125718, 2.1009602634457916, 0.4582933506909591, 3.3025754206669236, 1.9851735909461694, 0.6015934227497577, 3.888660206815057, 1.3674427196090968, 0.7531514908348599, 1.662450434189137, 2.0962031529333394, 0.13041153024024424, 4.971794177413376, 3.1340473680929537, 1.155540790105592, 2.611798903335931, 5.205445492651955, 2.761250128084215, 2.44418776083737, 2.320982343218846, 1.1251780060792584, 2.7392259639139134, 0.7517822348111636, 0.6901175203624647, 2.3067134600754287, 0.5411054046028265, 3.8487934297385653, 0.8988198274817817, 3.713477272709766, 1.461936627613296, 1.2673847843271866, 2.017232095518063, 3.801678201759055, 3.0171998927426498, 3.9857015655706265, 1.2560683761861258, 1.3775269102734187, 0.8859948220429716, 2.5801312115342294, 1.088093879484003, 0.46302948209929273, 2.4169959946568156, 0.867239441072372, 0.8982480685938148, 1.79912507781371, 3.4309957385650995, 7.85139341240243, 2.1624746403470168, 2.689327942119284, 5.411935377625851, 1.4756212695537183, 0.8902141410932226, 1.4827728388314323, 4.580135526597173, 2.8706058252317543, 6.104527731404757, 0.8655605177064125, 4.191835477063659, 2.492041160023464, 3.965538645583554, 2.608646992689424, 0.8859948220429716, 2.826284248936052, 1.3596398882440675, 1.9081237268791416, 1.0234606607873613, 0.0, 4.12895700528135, 0.5141072697985514, 3.201627001437589, 1.1493121556517025, 1.0458092888993218, 0.9791366424867048, 1.235072649547152, 2.0974557844295507, 3.842499267859614, 1.0421006901327332, 2.7849080472516987, 1.6365503315041805, 6.238135534144419, 4.288622059505471, 0.8859948220429716, 4.184850289849376, 2.2172127524158403, 3.7418173536767645, 3.024665888043761, 3.16901287971413, 2.4709772900467275, 0.7406668025128097, 0.7533786370765304, 2.087597776614402, 5.184513461486411, 4.642489348044008, 2.4793500260112356, 0.7390690250073029, 3.852023829219776, 0.964413776501025, 1.5660201830261808, 5.590138201652619, 1.224538277835689, 1.9515327423072784, 5.058554665292047, 2.185960670369739, 1.2172450020607957, 4.131891351555846, 2.9833454203584324, 0.8308583234454936, 1.819452841341163, 6.2429142296431985, 1.8335946913435621, 1.4399968159673675, 1.739733731873779, 1.4131691468948482, 4.902992624878314, 1.7582971033383343, 2.2551565165435656, 1.4426602226625937, 3.3221707227982913, 2.550867111927484, 6.936722587370492, 4.379629530470864, 3.5796479502565695, 5.0183945494949205, 1.5598279470380534, 1.242051402201573, 5.730985969762916, 2.1353341907619017, 3.8836872631989907, 7.594751555642495, 8.905206287344761, 2.9720720988660743, 1.8319693422124472, 2.4641854429751455, 4.579112385242248, 1.237885755437423, 4.181170725778479, 3.1627258560381977, 0.8118538014982626, 2.269414512646139, 10.16764905900041, 4.4899830653895565, 2.0359579114559057, 3.1122159511956213, 1.786682695629252, 3.196726709799232, 1.4376980730238607, 10.382648149053407, 1.440841582871425, 3.1670288830741713, 1.7455495260679692, 5.194886713135756, 2.174846701564297, 10.42443684293317, 0.8296961422515553, 0.9842417091934531, 2.426942659115808, 0.9495803280430131, 11.912098951404298, 2.153164881406961, 4.031590297658022, 3.438572694035076, 5.5509087603442255, 4.430926986196028, 1.4209204437552274, 0.8859948220429716, 2.539034417807477, 9.335000762735131, 1.0699171633448021, 8.705618144565891, 1.7448683228985111, 2.3792442254434265, 9.313169737752936, 0.0036643172353777514, 0.6332664517710531, 1.9878717728377877, 2.0796769343945014, 2.204772513816052, 0.714328583711752, 0.6616627473209198, 3.635296484583172, 0.5803043615837695, 4.637377975640494, 1.9787832911643335, 1.384854613976693, 6.616471580485043, 2.016980055834362, 1.2040585083945494, 2.48549167413436, 2.2135968776967916, 11.200312712924234, 4.161380647237305, 1.9886406799734875, 1.1009897406966216, 3.6730469005363187, 3.310363565928147, 0.4661161909148721, 4.537257388611543, 1.3348493136316795, 2.707115058425717, 1.86540233276101, 1.6775170671669957, 10.266089609954095, 3.4707910744470127, 2.9134764304067975, 5.236201037165283, 1.6916343073473723, 3.5747535087545876, 2.2941962485648193, 3.2443833693399604, 1.2933013055104645, 2.188710153835229, 5.455141233786089, 1.3907086125775276, 2.1978563232323176, 2.1942753424061032, 1.6609310254409233, 2.112545537050593, 2.5237648616172956, 9.904620847167337, 2.104276572126213, 7.411131171855636, 1.9764271491421361, 1.9394973667460464, 0.9220628528640243, 1.1107365908546003, 0.9724774292074775, 8.689429982884565, 1.174272020194138, 4.366668504139689, 2.1140866219546735, 2.173352185406569, 2.679060872148709, 0.8148950253556116, 1.3855820388817632, 3.8405148676931575, 2.9930504471365915, 4.027886012650955, 1.00422509302614, 0.9669820732763573, 1.0644513252102776, 3.740383773829102, 5.098596691167018, 3.267308617965465, 2.9531634667161906, 3.46223516484008, 1.4169386588992274, 1.4052159472881058, 2.521708999212354, 2.8470817572050713, 0.48796863941733004, 10.363765256855459, 1.1519581011201117, 3.819074860476499, 2.4164898770692327, 3.182774437178061, 1.5899448746925353, 2.607564063759506, 1.850183023004097, 1.7815261638737439, 4.2521099675501555, 2.1783272732392955, 1.2671510781630582, 0.0, 2.000832744227653, 4.766066061798424, 4.130514098140004, 4.090299731601956, 5.532165427676333, 0.8706789295916835, 3.9395411523452486, 1.180466682000962, 2.5179595313018455, 6.575907273234249, 0.7566554632130249, 0.9510017563726907, 0.0, 3.0268166356164987, 1.1791209434077234, 0.81690443549678, 0.971437521494021, 1.5048904891858288, 1.9583792674276976, 1.196893182591422, 1.6178455383305892, 1.529418468419812, 7.623860529668977, 3.353359987455831, 3.169771697635998, 8.000302189893272, 0.8859948220429716, 6.825483618004288, 0.9279908120595329, 1.0743058231059885, 0.6558220974124926, 2.6457447107273366, 1.1698548620893985, 0.4238306067957189, 3.336435020708899, 1.976949560882115, 0.588217863648692, 2.1463120608655917, 3.9371745615816898, 2.783126579358701, 8.751362368173028, 4.674295154206213, 1.1210382317707293, 5.784300645101794, 0.519384408297077, 0.8859948220429716, 2.7468641180689017, 3.089640951809274, 0.7592680487895079, 1.372817128947647, 1.3453440724999859, 6.950813252019089, 3.9052395562009683, 7.785153710984081, 2.2904713094409366, 1.2799691193083689, 1.6115163683517844, 1.143396461057194, 1.6045998065936868, 1.4199407866624012, 3.2045379235028344, 2.871799795466208, 2.729495168919746, 0.27654302562767136, 4.052835106741314, 9.716499640380748, 9.706670553231378, 2.416569472308339, 0.840138939101799, 4.352897894082884, 4.1870135445137615, 3.8436508171955293, 1.9971459797834936, 2.1829164343128094, 3.759676881160779, 10.99060342101934, 1.4927236946406381, 1.534260519929313, 4.949925555776581, 8.22709811075074, 1.5837576029209106, 1.0448224949961844, 5.2903592675135656, 1.142909731913627, 6.928371268172436, 7.911989502217312, 0.6750236926880931, 0.8739061634024021, 2.4835049819033648, 1.964540865088326, 1.4901992469723806, 0.9418721526491916, 2.016300317974168, 1.5724726183598428, 1.8846313258127398, 3.29205550597486, 2.8525611153752473, 2.288023495516173, 3.0603388412888215, 0.9691455330346471, 4.4136622181579375, 0.5031507611266604, 2.293541856992299, 3.4396332828984946, 1.2839249140418898, 1.1372333607079292, 4.82368145461838, 3.485220890696085, 0.5509327615074233, 4.0053122031670725, 1.919260168371364, 0.8921894579237026, 4.5115043409623805, 1.3302499414346582, 6.05630400950411, 3.5069002490295205, 3.8085527142766207, 6.377165542865221, 1.7973206217300473, 2.0983891934068053, 1.2978800365595862, 0.6793099174314912, 2.443041475698169, 0.9776697041540092, 1.6179032778207771, 2.1808276209107023, 2.103249228891155, 1.1063367137871025, 10.47413671590814, 2.4380813965434087, 4.00891968817745, 7.3756391184917405, 1.3245198822910649, 2.724008761470615, 0.700031540893145, 1.2062397697084473, 1.421340951566325, 2.837395247081525, 1.7379557253269762, 2.6444362862887227, 1.9814933759828637, 4.955539690442041, 1.8062404838172355, 1.1114186945343305, 1.0560389593297914, 3.687327604158618, 3.056648905355193, 7.2718623692383, 5.999702394338657, 3.614753831486597, 1.8882164803243513, 1.5983945607095411, 11.47607954331929, 1.7250694498119559, 0.5317132518531513, 3.656761674962233, 1.2776924567295356, 1.990990870307037, 7.3243812423573855, 1.2801926887116382, 1.7452557590250006, 6.28529909590861, 0.6234112042389138, 1.2377344044186855, 1.1799669369261723, 1.5185389213656348, 9.738067792052735, 2.308797392006828, 0.779291307133013, 5.990240907194559, 1.0450816884576115, 0.9199129167932878, 2.8651418514430698, 3.1293416793115716, 7.878369023115675, 6.3261883886300065, 10.686946983876567, 4.555309361528, 4.94697036734773, 3.073315831858154, 3.14332979915248, 1.5068913889848115, 10.392874834718539, 7.570798805237914, 2.640855906908229, 4.367023560176248, 6.459989283579712, 1.6609216436781618, 3.566395389745889, 0.06445536227311946, 5.620698269284923, 0.8366918939164376, 3.7584500555618625, 2.9428618953484817, 0.9766521486823109, 2.9106172569230786, 1.7889218986449407, 2.52770694594621, 3.0936453041511265, 3.5119897488129714, 1.7230676312418636, 1.0885515980909921, 2.9938430761007613, 9.586489552923318, 3.0104024739403363, 7.896235040042594, 1.6597374044293327, 2.035893644440145, 0.9336340393191351, 3.7740565982659717, 1.2263191833036688, 6.236602802841836, 2.5530907861805776, 1.9933929560168626, 2.1520939775462034, 2.1152740743473024, 0.46595545572632846, 1.2794439580789492, 9.156245233061252, 1.1091363536355874, 3.833770888093553, 1.3223120334065108, 0.8859948220429716, 2.829975972651253, 3.4279358554063255, 1.7692537214677828, 2.2094639202626385, 1.7508412598526168, 1.8571934477547247, 1.1129142773417078, 0.8304516837743748, 1.4584300564232897, 0.3519160514611829, 1.3455700753084436, 2.1636566871841434, 1.3575562913817663, 2.9899469072986578, 0.8859948220429716, 1.6959967646874, 9.123179613260106, 4.946227439004593, 0.770832423949006, 1.2481005363634197, 3.8949955620560375, 1.8947274250642012, 0.7372262062442456, 7.982291591716361, 1.5754598775060022, 5.132546714544787, 1.2339130356142554, 1.0981529188725292, 1.9069288837786276, 0.9395289122418149, 4.853612140385464, 5.782547418518819, 1.2590524710725426, 3.372548491098675, 1.9238494468048175, 1.4540171263008899, 5.342113281590234, 8.39454535382867, 4.590379227847754, 0.8794011988312367, 2.994282950533427, 0.8859948220429716, 6.072328985215224, 4.936771329547302, 2.7999268241455746, 4.414921794282576, 3.0705106238939703, 3.0288024420799875, 2.809619523943049, 1.4765843774774843, 2.8594665949059657, 3.1896697299891024, 1.1725609556534435, 6.656305841202605, 2.2561372201347845, 3.2013202226515043, 2.0697029712649972, 1.2577518389043922, 0.34151788646178133, 2.1374572686222755, 5.373631174751814, 4.753456396715389, 2.961759052187203, 2.4971877512579854, 3.0194025475343853, 3.0286469180847804, 2.521113275451773, 2.020145280678323, 4.0206019878931984, 4.060491413482662, 2.834534379898023, 3.171113973895276, 6.2808988743968674, 1.0372843776177225, 3.2756765022127246, 1.2532679352505414, 2.550087348618701, 1.9015540100144253, 5.197459553953084, 6.830452041106157, 2.969046605753959, 1.2410328880172523, 2.6844595761969776, 0.8941672174882807, 5.6587129008123345, 2.185649529742267, 0.8820156846716721, 2.675189405271825, 4.831449389240567, 4.1580654458257085, 8.249242928207812, 6.4261823004416625, 5.146605985989967, 0.7674836481318152, 0.5630516062938872, 1.9458169210442182, 1.3888680946596772, 1.1926888784443888, 0.8859948220429716, 2.8095910644495925, 0.921994258813946, 4.269552012781504, 0.8859948220429716, 3.0670070101145948, 1.6252270212954176, 6.0255361943446655, 1.5948388817634813, 0.12920283004839392, 1.7077670556754674, 1.8908852536016993, 1.240202023897021, 2.263200244449647, 2.9231907660416065, 1.677205026125228, 2.100692243649871, 1.8878605168013223, 2.3126270041149413, 9.732100669421573, 0.9462342400939187, 6.3758530201929835, 0.8573141677849786, 2.5375234390625727, 5.304731823792292, 0.8859948220429716, 0.8911425829263785, 2.7670874201542985, 6.004024538702027, 2.0799148978807147, 2.0177197782561773, 1.3929614667416927, 2.7959971814766695, 2.09265562933846, 9.618513806929489, 1.2165993414141136, 6.442957604440075, 6.290877128844912, 2.0172668601616226, 5.707919746928941, 2.135731805573824, 1.627579530178608, 2.1306831544245965, 1.7429023224671336, 1.1838873642522727, 2.148679229305254, 1.6886281973638182, 5.367952214399996, 1.7729167981768201, 2.6848546803750875, 7.528801419598487, 2.768138747977142, 2.5476239731628416, 2.6220331475372722, 3.7660282064315704, 2.3029300557727694, 3.0958999861383085, 3.5740882778411653, 1.0051032782774918, 1.4889707328820225, 1.4383741145164728, 0.9448804973674582, 4.849495883667078, 7.016984110296196, 1.074611979422196, 3.0281296170224152, 4.216329868154103, 1.350215070966204, 0.8676462362126666, 7.738812589836235, 4.930647215566812, 2.895077845088955, 0.4844686561952576, 4.090648865278203, 2.7091950850255797, 10.933952013720454, 1.4572388964123035, 0.5649857912383199, 1.0933228795883176, 0.9161542476180695, 5.5356105295977915, 1.6682547202016258, 5.198842230000413, 3.2396553702702158, 2.8216266647675976, 1.6430455151351382, 2.788153261410624, 1.8332260377487795, 1.9459641338098201, 0.8833050085979455, 9.641350319209174, 1.0149834974613667, 2.754172684400411, 1.0158540189370913, 1.2035398181777621, 5.670007717652936, 0.05031840580789426, 4.936426696110271, 1.9504892274346175, 1.1991112823628474, 1.67730108155381, 1.5379029805605788, 2.068082326613626, 4.575221186830079, 8.52225264021073, 2.8732473763350823, 0.8285099006150834, 10.011988355815891, 0.6946284597513132, 1.6668977034924441, 1.0861786284541488, 5.283287559755886, 1.0888721786276216, 0.6877882013630556, 5.877791795199652, 1.118284471959763, 0.6437228982489043, 7.245587932483419, 7.54486796978032, 1.6044585061115306, 5.744737005447142, 2.739089516071856, 3.7404579984298483, 2.2657910195223385, 6.091543947934807, 1.5919116118479582, 1.7834964805931095, 0.7575030019240285, 0.8038439508050413, 1.9156754101777145, 10.610069844275499, 1.9094237458661767, 4.605874960481531, 0.976160583769275, 1.5358353174116555, 1.092272555514309, 10.29886674284585, 2.311811212219414, 1.1309022147071113, 1.0459102764087138, 1.7083552600885952, 3.0196657559731324, 1.9316703191017333, 1.580914391396125, 2.3040080023136205, 3.297042294791048, 0.6086184282322011, 1.468412754089358, 1.1484441308562547, 1.8686042246470416, 0.8760210114341911, 2.596378902026184, 2.4408148757909256, 3.3660023950351587, 4.7318777651910375, 4.7751339033894755, 0.6770584845385773, 1.5363242736025093, 1.861527123946271, 5.1942179871598535, 3.302378620578967, 1.3099543946435777, 3.0582392811992296, 1.2513909653410376, 1.573710497295963, 1.569026907494085, 4.295501701207664, 0.7191484855954534, 3.9477648134919696, 3.653462079815411, 3.8292655909763575, 1.9550206709463733, 0.3833371097901719, 1.1345428988563189, 3.7632151160736336, 2.301825276091051, 1.1894856682534876, 1.6839529238097097, 3.341423187216752, 1.187423483823049, 1.01123355465645, 0.6818907722973839, 1.4054152946639995, 2.1345556206369865, 0.9454751510942296, 0.5263070627657531, 1.2092773167875408, 1.1530837365003523, 7.945812592644206, 1.2012162601750411, 2.1835610307109645, 3.491833151240517, 1.8627763733654326, 2.81917433291003, 0.22858164506274886, 6.6570679615212, 1.735069539860032, 4.220790247382503, 3.0066872077617304, 3.933496968022812, 0.8025983041769923, 0.2628441473457865, 4.544783275440435, 11.291734106289955, 1.1382421567263254, 9.963757227620189, 4.747888779115707, 1.2251930029480618, 3.226436720503399, 0.8859948220429716, 2.4695948617335923, 6.0131442982545025, 5.3583919783012615, 1.791504342460633, 6.90635769803271, 9.771485960501591, 2.734737315678216, 1.687807895368702, 2.6162010852013546, 3.251115957757718, 2.1928764945738672, 0.9520587505447207, 1.7218481395442347, 1.0227741332928078, 2.447040617887876, 2.3005447088424984, 2.0522544658607393, 1.5542328620369263, 6.855970037584155, 1.336221322233338, 0.7507908961354136, 2.5602862664573025, 1.4199118084777087, 2.427530156825022, 1.4306534410114917, 5.1600873014506465, 1.193362269616064, 3.5798961586448828, 2.542441492084696, 2.6583378234885813, 1.9711777235454333, 6.24141587768789, 0.8870293854930403, 4.855705357161506, 1.3847496307971525, 7.41919303608033, 0.9835830830961902, 1.6520923092324253, 6.098489665838983, 2.854719033113963, 0.3781535816574235, 6.236071301440815, 1.252410968207987, 3.693266224006904, 1.6993591559943046, 4.79986523324464, 1.4041192606872368, 1.0042524518676308, 1.1253344233285842, 2.7127522589247293, 1.3398300717895892, 0.36987259315824284, 0.361499757292132, 8.640373507958527, 1.9921203085464663, 5.837545723800928, 1.7724026736618976, 1.5054426850210487, 1.562252842816171, 2.8838354647115976, 1.0586807324371423, 1.1802729489340464, 1.7227295364217268, 3.376208841507033, 1.0616689709694151, 2.750368313908815, 0.6814709879858043, 3.904874209701996, 4.59724062401923, 1.335631547566468, 1.680952250206607, 2.35621668389396, 0.7135372959777169, 0.6192550772415389, 3.4254859177378942, 0.9057087480307282, 0.5226026054664924, 1.850625850805139, 6.210092248306397, 10.281664263569034, 0.9107683391536184, 6.007750643811433, 0.430077803247087, 9.577868727748386, 5.743144137979659, 1.0524598321932621, 0.535646569508011, 1.4018039074317088, 1.6589987259285492, 0.8859948220429716, 7.315884130566773, 2.275802387829286, 1.0220354983713684, 0.6698372804010618, 2.333987268120256, 5.793275707039088, 3.957224984221631, 2.0126475917848015, 1.6053201458849342, 8.316875821673197, 1.7036451085529716, 3.5164803977590973, 1.4608763730421805, 4.416535626080426, 5.4178582652454885, 0.7686567391124938, 1.9451510432365968, 6.1376170513364725, 1.2173764601754216, 0.9837711433937959, 0.46135143943776247, 2.004870937850691, 1.179710977319057, 5.694308520057862, 10.48256586259797, 0.8716588379102347, 4.767703086498322, 5.434673711359517, 0.6795549279815717, 3.1779310097567466, 2.97425745648371, 0.9019106262914781, 1.5112983202520853, 2.3148153659893125, 5.082709543560505, 2.2598816837062463, 2.094076728006322, 1.54716949346127, 3.061366568630842, 1.8740106554704614, 8.112692233989549, 0.6070855535090932, 6.376475825693808, 0.0, 0.9081321000415165, 4.488808363396236, 0.9794880724551296, 0.9470993363413626, 2.012326344983363, 10.090127624195572, 0.8085145457940633, 0.8859948220429716, 1.271758589366703, 1.4902175542828995, 3.2757244775924907, 0.824841201394185, 0.8683758356818462, 0.7605753641510969, 5.764748781314293, 4.735068343637992, 0.0, 1.1150532810499159, 3.3917730605344394, 1.0287224961433874, 1.2701778924678235, 1.8162884949589222, 1.9091204849951149, 2.137428017090476, 5.2797960729147455, 0.37509320091500337, 2.6741002433991428, 1.57035096563049, 2.3617172661674912, 0.9414331144863605, 2.644593039846422, 4.818654786724309, 1.8579758815515435, 1.6503013816679646, 3.1317615008128845, 5.4632436920092, 1.1104071671825615, 1.2473963839665354, 1.2411793187615805, 1.1505918016018486, 4.511783477992094, 5.099929524721237, 0.654095040482905, 10.200519889684982, 2.278152432274194, 2.1435275998085794, 1.8774407629892114, 3.1200481528967603, 2.5969148860399267, 1.3394616002741406, 2.1815934442667024, 1.3808132187120854, 1.2848715396869856, 2.293038277990933, 0.8921206087342028, 0.8859948220429716, 2.2043441992013073, 2.779567935740366, 5.8490218751444045, 1.7081441657146184, 0.0, 4.759274726584436, 5.548745473973558, 2.795351745504789, 4.964063181581482, 2.021592701566125, 1.80035776215779, 0.4718735581053892, 4.525662009347249, 6.182390407925595, 1.6098711454512775, 1.6060026421035463, 0.543332375618688, 0.6033269586982052, 1.0056563757327015, 5.4183810692861405, 1.5550462754390035, 0.837024381483955, 2.466938731830016, 3.724604852931103, 0.8859948220429716, 2.455321401831928, 1.863247765869737, 0.9799695476442467, 5.616267977397296, 1.3221138295232115, 5.971454431927216, 7.956021111759433, 1.7252271625877933, 2.559625997983335, 0.0, 4.517345583973921, 2.9197637639048972, 2.03693644173837, 0.6098013734198662, 0.0, 2.1644115362735445, 7.133751484336485, 4.299184795889549, 1.473189992595453, 1.6954715368884778, 4.429325544521507, 1.6897418057565274, 4.657196004262701, 2.15596035023442, 2.9750696890835555, 3.946304792422713, 1.4147586192016226, 2.3433051301952497, 0.8956970688052677, 3.6306833738615008, 10.688830703930734, 1.3691421959382164, 3.1418738177050445, 7.817644129604629, 5.000960293046175, 1.6427634566803309, 8.867100308901552, 2.87583612980231, 0.6809362554545075, 1.426383869430176, 0.0, 2.4328574382197705, 0.7815422464291856, 4.838801561973473, 0.722952803308087, 7.1597393636980655, 2.554931552592357, 0.11460911137083277, 3.381789229418849, 2.343330904966151, 1.1421621916618316, 2.055293199451206, 1.4216718416899985, 0.8859948220429716, 8.609855710522258, 0.9237959251302554, 1.6093982454420561, 1.7628105211930234, 2.2029383064035244, 9.317881482491348, 2.1865319164512416, 3.3562672557166255, 1.7153183163314956, 2.0187481298121868, 1.1362082918215968, 1.79922414636679, 2.9838427249726274, 5.0856802267345405, 0.8843894143454748, 1.4963536318000474, 2.44836069183397, 9.696562354793018, 0.47463195669269864, 1.576712885266384, 4.0558570106195395, 5.547312772814491, 1.1701293413332572, 0.007447871047771201, 0.7763054771708967, 2.6366919389601517, 8.57438999079638, 1.6752240812770738, 1.1236377073263208, 0.7957292635160549, 3.4281787644213475, 3.8243191656106017, 1.0196117751530662, 1.0369534118753134, 5.112058806810201, 1.8552412425049234, 1.1158087875850333, 8.08445292185867, 3.7271241639308528, 3.196708441679431, 0.9397846768841052, 2.630208687279016, 1.980849055150113, 0.8859948220429716, 2.929977428686595, 4.97550465425703, 0.8474337436992222, 2.01450892728519, 1.285029120010718, 3.564664567554174, 1.205553521409221, 4.147681453638929, 0.7202005129151929, 1.482231061570682, 1.0746200444667544, 2.717663229992608, 0.937013961535897, 3.143436190788117, 3.3083912249847844, 2.5253315924119395, 3.4867415680120746, 3.797425901709752, 1.5220909938416638, 2.7376093933009193, 3.406299833036691, 5.368983131541173, 1.5232422859501673, 3.1861760423497976, 1.3627354108974707, 0.27319391726399817, 1.0016016525835343, 5.437669579407424, 1.1271655894182493, 0.0, 2.9611793075737487, 1.036502012486792, 3.6682485157253213, 1.1491415299086385, 2.735047799334248, 5.395450411825584, 3.180611888817431, 2.1903488891058562, 5.178735197487629, 0.9972099777262682, 1.2661997471005526, 7.148729976507593, 1.7909443288203273, 5.2419954072587736, 3.374388892563354, 1.755908269480987, 6.781398907639209, 2.8080200070994255, 8.405193963972089, 5.936108444599458, 1.0745755017296115, 3.9218415090845276, 0.8859948220429716, 3.896878344087039, 0.7802991934078639, 1.2870006658680597, 1.4295403662338413, 1.6696811999197312, 5.314855982552419, 2.7164193645079235, 0.9278011324360158, 3.0290330762520257, 1.4255114874243981, 2.2080853905955826, 2.5390341074859206, 0.8859948220429716, 0.935171961876497, 1.7276172460951844, 4.6098406181612, 6.2704512005263116, 6.198033674251259, 2.036778876288727, 1.2492823522878602, 0.8056360584331266, 2.309805183926257, 1.0230334334204563, 3.3347930389786926, 0.6657923169569485, 2.2556789743303174, 7.103259855421143, 8.6705098166064, 0.8308398724879088, 2.714235484095062, 1.2076558866803133, 1.7076991344361345, 5.810376797148444, 1.04867624505254, 0.8243732714228114, 3.015292985269733, 8.032697312672045, 1.2593233438209408, 11.129612520613893, 2.162119455321857, 7.356723795387074, 6.637553012072809, 4.342764832206864, 1.3482272687896006, 5.217439724429263, 0.6743579159815065, 0.8101630822094693, 3.4329470265128945, 2.4733620733385235, 3.549845446030106, 4.472484482936575, 4.007664605654354, 2.787525813415576, 4.029766161317247, 4.072847118911496, 10.200964632001096, 0.34479525443979997, 2.0153639241119174, 1.6377982944242113, 1.5360566548471946, 0.9000369320630512, 2.2940460915003817, 2.3771224621031037, 2.411072906988241, 6.736714446067381, 4.103933375990613, 2.7030464345024283, 1.096710122942597, 1.595481355543341, 6.2505860171979775, 4.711126639269985, 5.99757194725552, 4.3239033202643276, 3.60425329114468, 4.114745613364365, 1.4205053598172082, 3.3248014341253542, 4.80111167828446, 1.1044199125126257, 1.620307511714962, 1.2104760705894988, 1.0219997958437732, 2.3262782646424105, 2.3686497760190792, 2.992698791169171, 0.6359492091789675, 4.91671399705875, 3.554188550618042, 7.621344055220415, 1.0469051469175763, 0.394558720631954, 1.8054343995236803, 1.122154922493293, 6.272119586249986, 1.3117864352142694, 2.7859739320446066, 1.341479059687292, 0.0, 1.914666102429453, 1.813959629443199, 0.9025280391648218, 2.0813852556675014, 0.5578300304880105, 1.3940753647698838, 1.2021484163402192, 10.088531987492125, 1.145422870007569, 0.5883139247582788, 2.03081889213564, 2.580749138250956, 1.0023554348347674, 6.294665319992773, 1.8839963683135028, 0.8602618537889221, 1.244967268832881, 2.8149354490420095, 1.4645594884109856, 0.8859948220429716, 0.9301827483835798, 9.757230686293731, 2.8326487436663594, 3.2664075882476182, 1.0955308387991225, 4.670751996419217, 0.4796765047090566, 1.237978474475961, 3.9412234774503556, 5.715627534482847, 3.3884199912795383, 3.7285489058939594, 3.3817904572740223, 6.616029130704053, 8.866959763942175, 0.652570861443365, 1.9406130076504982, 2.3663399209437115, 1.1605863756266863, 5.389703158181763, 0.9806426311398769, 0.602756776556197, 8.204716312477423, 3.004633601197338, 5.736431990945587, 3.3091729879939877, 2.2622216676645754, 2.102126071630784, 1.5289060298783803, 1.110108289349239, 15.171591022462026, 2.5618068669355103, 3.5304196706817454, 1.9938566732694067, 2.781740705529011, 8.157789562445105, 4.145394569474313, 2.2376362115891575, 0.9720677700896873, 2.5546668397887164, 1.1943176786175855, 4.2166655751558055, 1.498734209509544, 4.117239110665848, 1.0049897671476105, 0.5149682582741074, 0.809466545459802, 1.6429077962450755, 2.4353465437571584, 1.4661113582190664, 2.36800162500398, 1.0588066863135406, 3.389651699271005, 1.4296115985979034, 2.7615626139188247, 1.4952065157956738, 2.9281844596799913, 9.072255581756252, 2.0482394709397376, 4.58966254862313, 2.844986101524188, 1.7794585762739366, 0.7748308225839616, 0.7759280663372154, 4.094973343639221, 1.1856520279054554, 0.6052701497540922, 4.5521511590237145, 1.3999730268793842, 2.319526600656866, 4.537301754491007, 3.1024015298506353, 1.9968618665922715, 0.999069790813874, 1.4111119937551797, 1.2272625448185799, 1.1406534043824446, 1.7393969703464798, 1.294004838727207, 1.7324088485088998, 7.885137969937668, 0.5552861424794484, 1.305777625185315, 0.709647618194038, 3.2368569543716177, 0.8099467778995297, 1.1382890973934467, 0.8859948220429716, 3.8251020848801405, 0.6440409749576808, 0.7553592139763732, 7.637052332768403, 0.0, 2.2137034421530317, 6.960797663824261, 1.7300752527639267, 2.2315285005584573, 4.01131237311659, 2.68996441495836, 3.723304699928913, 1.4955054579247486, 7.46285344508864, 5.734326985822886, 3.015981964432402, 1.9149398492716576, 1.6462754162020197, 1.4524468476378571, 2.6643814023235897, 0.8119658345623454, 0.5777735492825712, 1.6963032741253132, 11.56360308476957, 5.281521555164782, 5.149555985357489, 10.21193179157525, 2.1584283330315426, 2.1815318447431262, 7.42806078953363, 4.0371322009493555, 5.846324511946581, 5.356224843218797, 0.9620312613711977, 0.8683758356818462, 1.162218280649178, 9.464920471508854, 0.5054206886358983, 2.540240357130027, 1.764941090052905, 2.0333944316879267, 1.4222994360785535, 3.7891331504572867, 0.0, 2.410502294201109, 1.9843339687002013, 9.22683927461098, 1.461413267691065, 2.352086550177697, 0.7887185315868862, 3.8167324491384083, 1.1144609755731392, 0.5616420714316348, 1.5558947490305945, 1.2805597016556869, 0.781893216285186, 0.9011863420622261, 1.6777510218808636, 0.7207921753853562, 2.8183519304799467, 1.5960950014869755, 5.213544197777495, 7.403335916821512, 2.9322739318358964, 0.9242291074384382, 1.7214539484710265, 0.8307450989177101, 1.8931052880547918, 1.0866505462658607, 0.9618687292161562, 1.5582170498428145, 1.1211530860909535, 8.21620426426668, 0.9444082589187764, 6.931728275665159, 1.322553096643529, 2.8296923634549813, 1.512791697323619, 0.8859948220429716, 2.7173854824950703, 2.8540634577785697, 1.4062618192813894, 3.080989852325255, 1.9506434478881287, 5.450835453748331, 1.7064840543263156, 3.330799507125727, 1.1935497718346535, 1.748115193422898, 3.765500147410906, 8.330317002229906, 1.1336041110505102, 2.311503305239687, 4.13032402227422, 1.9566268946546213, 5.239640123989199, 1.0788329438593014, 4.106870644366107, 1.4639259336658748, 0.5422404622146919, 1.272008031336465, 2.3696012486422817, 1.7072109729497047, 6.07733287139342, 6.0393456528205425, 0.8859948220429716, 4.72304576166257, 0.8925289293249721, 6.166043583703451, 0.6940329070179374, 2.059269921310446, 1.0166421522677274, 3.1773519528804535, 2.103225862185088, 3.3731505526267695, 0.0, 0.3659949417105995, 6.3213674960146005, 3.176759884048125, 1.4304330797934415, 0.7895951100710681, 2.0829535918240207, 1.7286096360637735, 0.7907510921641979, 2.0095162224254812, 0.0, 1.3696684158751893, 3.5844771766037593, 2.511086237464321, 0.8525412614610745, 1.8295400224421026, 5.294381962911885, 5.559008286799677, 1.0343227030011273, 0.9313256296244513, 2.850028318678481, 3.961194236408629, 1.4696068085228091, 4.0692514036761915, 6.8910106201362575, 0.04224639841152259, 8.437242657608316, 0.8859948220429716, 0.8295865018854306, 2.1680050235012924, 1.8815323871874354, 5.81112145689303, 2.9908031808179483, 7.390534238227981, 2.726531469938387, 5.565264188562123, 1.934808828623694, 2.5524948098704776, 2.387177258675849, 5.653520081118829, 5.256537507176267, 1.1247938103956407, 3.5682474027893467, 0.5980290825204067, 1.0688574570412026, 1.3994746173377963, 4.478179401112358, 1.3747083353451184, 1.3494143372379068, 0.7836268053676898, 2.026328648422983, 1.3552212584425252, 2.4085323072676705, 4.96546132836623, 1.1935275707796715, 2.0342242229550136, 0.3820316158400112, 1.3949591988112737, 2.9559052278435933, 2.383204229732353, 3.296555957295973, 3.491782107415073, 4.232830021148602, 3.682407674788704, 0.8667681407708347, 1.9507472981859364, 0.9498951743260168, 7.442031139249203, 6.265836169187433, 2.8146462155166247, 0.999913701490787, 0.47123286149349874, 1.0483024255557496, 3.3074720020024566, 1.5918214532385628, 1.5158376087166503, 8.145418141246912, 9.289747553599875, 1.5749075000596342, 1.0500420963781187, 2.7107795045126704, 2.5961074885969553, 1.417150200195072, 2.1376781919240533, 1.7057891733378208, 4.724805587140461, 2.0859502700669728, 3.806399670245717, 5.702836006458506, 0.8297813038232952, 6.417615731575257, 1.644886117848193, 2.822901866972534, 1.3909372572699428, 2.0276772073510734, 3.3877729618674226, 6.221320235954442, 0.7794870994400434, 4.255217377061879, 2.202727317185787, 0.8269317010256378, 1.670047702880219, 6.957042109208396, 5.8243088050423015, 0.8859948220429716, 1.8865946083641008, 3.1626574603500033, 1.0330093117178125, 1.2302433065053735, 4.7458578782153475, 1.6708644446615246, 0.8859948220429716, 2.060375182057709, 2.846168177668823, 0.8859948220429716, 4.059818896778309, 2.7496825389392363, 0.7320341629782564, 6.87441281442411, 2.0343174663340333, 1.695608798559922, 1.313757083505539, 3.4941741981267587, 4.217702863258046, 0.8434356869415444, 1.5361346116823296, 3.6532440756407314, 0.31160566984883825, 1.9044597068277762, 2.343359201602452, 3.9723577576533082, 1.0422858134396837, 2.682661520531923, 1.5553958015258014, 1.8486723855704983, 4.6418342918726765, 1.3321673244607455, 0.8768943448959635, 11.12793497494697, 4.1988510497254286, 4.912721688364299, 5.7601334266912305, 1.1129340547539872, 2.666594292527408, 0.8859948220429716, 4.513367539485134, 0.5155507806210643, 1.2717946732565586, 3.1322322364384125, 5.514619102193417, 3.61564362341589, 0.9138742833872554, 10.226393717534151, 2.7878542870168808, 7.078661230395742, 3.899012773038543, 0.7870404651343201, 6.622692718507134, 3.3816990657369432, 3.980737954189577, 2.29820596555763, 4.760865002309958, 0.922775850472303, 1.6497410600461826, 1.4274314579961986, 4.778735242239195, 10.303682286625882, 2.224013564267184, 1.497798935761841, 3.2400959206126094, 2.0018311791774694, 8.334481004145955, 2.0055862657972017, 3.111997440678871, 3.0753011709806626, 0.5605823584940103, 4.312994126650732, 0.9568254333585161, 0.6686672778695927, 0.5377452603483315, 1.3514524908807255, 1.2386576009587105, 1.7748906766300936, 2.0479476690269576, 1.262251424065679, 0.5031970927278359, 1.0368830721049311, 1.9232386232399465, 1.1982029817746385, 3.753369535663074, 1.715378994007854, 2.726734349455209, 1.5036492462838595, 1.088539243982042, 1.9309800086824827, 2.1800123015797332, 1.4175608698780366, 2.4389455487877547, 0.9388777308686743, 1.3133018051081056, 4.529968761655859, 10.9865453057717, 2.7813646833093224, 1.7301856953002297, 4.162913544370184, 1.7539103036805639, 2.6847447958799706, 5.5009334354788235, 1.7760547257570924, 3.7626214378397393, 3.4999639174310615, 1.7497492000794606, 3.6696864659119814, 6.7814191980438405, 1.145293202066875, 7.87038886752116, 2.512623606673989, 0.5653855698035269, 5.103739730464198, 2.0510819186958713, 2.186364643152562, 3.431390874340066, 4.264531941159712, 0.6822021788206967, 3.4203432612469626, 7.824202185587527, 2.350891450502562, 1.3027476697479543, 2.894045223407232, 0.8859948220429716, 2.702294348204649, 2.2659599168849693, 4.626005976782228, 1.056206333010596, 1.0272729191481889, 4.664600632683328, 5.550535011385863, 5.7502675600548026, 0.7838406604501879, 2.3973340284392743, 1.961453828732617, 2.748639974503737, 1.904331685943021, 6.165589070127161, 9.998184338586361, 0.5468049647372563, 2.0651539705391753, 2.190052194693944, 0.9483777492276814, 1.5120033968496793, 6.788435300949196, 2.032430446834813, 0.3329626440118177, 6.417237397124822, 0.8392594862208872, 6.71444144354837, 1.5865168518127182, 0.9816785501259777, 3.241611393142589, 1.2129577586332647, 0.8859948220429716, 3.1734879209007802, 5.276245105094848, 2.8872340386758077, 1.0104594067894919, 3.500369986611877, 1.000516681424777, 4.178697636033513, 1.5024903874782347, 0.8859948220429716, 0.8908401616836774, 2.617132045411234, 1.5034593012348048, 1.3182961273448532, 1.0016374567091304, 6.65872028275997, 1.5375298348185535, 2.4596887497581497, 1.580443539847936, 1.8012847096348232, 2.349388488552775, 1.1557359480429856, 0.8859948220429716, 5.604112407805342, 1.8952304748476494, 3.3386865568390087, 1.1234291536189642, 1.707373747260436, 2.5255823103457367, 1.4685736098519906, 3.442074264376169, 6.5980157742584575, 2.9733179658385973, 3.1358215338701756, 5.478481112258774, 1.6688050183487477, 0.6561783841635386, 5.639166964136418, 0.6595595337548811, 1.2509934474090112, 1.9298590632187718, 0.6915599609530586, 1.9546701426014903, 1.7978983864169535, 0.4470679587255929, 2.0911989827772013, 5.51698396773666, 1.1723654911982975, 2.3495903798932143, 1.1353898582516837, 1.3338538910562354, 1.4605319824461667, 3.4198581567193673, 4.353697648811449, 0.9360312795899032, 1.6666870871316917, 0.8966566015192065, 1.424551174411396, 2.5565221833171625, 0.0, 2.4348851583440823, 5.6578639918679325, 7.103648430620838, 4.4795024305116335, 3.0896884985152777, 4.0920685806849475, 3.769294691200365, 4.5798210179628835, 1.5010312062040825, 1.3593424055167342, 1.9979475205056747, 1.9991143845838424, 3.008285363259108, 0.6285223511742003, 1.8188144495231906, 2.1065607863255233, 1.169019519262298, 2.092804964607368, 1.3330688680518152, 1.5791825998294287, 5.596293082382298, 0.9391486888905595, 2.834690712346827, 2.6709147694838715, 9.287364235320593, 1.095824782698154, 1.4437985010978693, 14.363395075505148, 0.8859948220429716, 4.2070327059842825, 1.5647139050331995, 1.7033288460233154, 4.891709046301543, 0.8830012397213026, 0.8859948220429716, 1.6229145898282602, 3.2288760838385957, 1.6331454434521697, 3.3087072195287557, 5.284639595435164, 1.2208315302117718, 4.1656427681642825, 2.9409310425074744, 1.1147566540362928, 9.56942780822516, 1.719459032492828, 0.8859948220429716, 0.8859948220429716, 0.7056023308566834, 3.481530202383884, 1.7307818125086152, 1.7148258597253576, 2.102190274209083, 5.287201088324131, 0.336140077259092, 1.7442499135785914, 2.6866095220060804, 2.0849739217896706, 1.3911696875141597, 14.320142191513579, 0.8859948220429716, 0.8249106640478359, 3.446938263544204, 1.714692386652568, 7.948060966617217, 0.5256211456111537, 0.6072860966032992, 2.902238636591911, 4.265185178192511, 0.8859948220429716, 0.44885806493292296, 5.762973133969507, 3.4106897361426673, 1.7229754757077924, 1.3883483537034529, 3.83795437435415, 1.6334085653020214, 1.0642003880913007, 2.194992313299101, 2.934219262601257, 1.6754544078879885, 1.5629324044911412, 1.4639472154812787, 1.373130033199256, 3.6445290681665576, 0.7756766794931819, 1.6083357824531814, 1.3346103174212383, 2.2209637417719086, 3.820149197706094, 1.9205839943496177, 1.9098330797028116, 1.8112572295107203, 0.5814149900653813, 3.3721622815001755, 1.221638599482767, 1.3725928792192652, 2.746835652212614, 4.491449422923328, 4.541055940973431, 1.7365957559225784, 1.4289188088297424, 2.9021935192078234, 5.05247843769052, 1.5672459904050435, 0.632525856854274, 3.6188422081864675, 0.7880524235562529, 3.892742386422913, 4.628632996509578, 2.4138131584717195, 7.357456895517443, 4.1212184045185705, 5.165965591791217, 4.7687331504374795, 1.2357684562291842, 2.28655244588596, 2.1689478292309174, 3.3376610688906876, 2.181609613616519, 4.57492806039875, 1.5301953161929478, 3.342763923231941, 1.841023985171345, 9.383353135624771, 0.8859948220429716, 1.7925678656458381, 1.1962708970881772, 2.6360962376413126, 1.8314042787341038, 1.4780016988806077, 1.2328981657238183, 5.017031705607475, 5.896010983642795, 2.264566973179179, 0.8701372062712929, 1.4057084351757774, 1.2764000305593943, 1.7236121793092223, 2.859614573230408, 4.08949706792915, 1.0773581757380726, 0.009929075956047282, 2.138585232787887, 0.6193081827834722, 2.3463473862353887, 2.3111732271660013, 3.4380567800227655, 0.7972137214925068, 2.106512589267594, 2.390073170745469, 4.920040602996719, 0.8930671186816651, 0.9925969505485842, 0.7992425083974716, 8.428317913680582, 0.8859948220429716, 1.2039606812335826, 1.4534524556712247, 4.4032782314961505, 1.814996763453258, 2.688203669668986, 6.482306936900906, 5.465059049465309, 1.1991438026959795, 2.677699448229032, 1.4498402049113965, 3.3408447873719336, 1.2897058200246732, 1.6357062899703227, 2.9499385895175174, 3.085860745408724, 1.7478482875357986, 11.953096529953196, 1.2555167482441858, 2.9227103127210783, 2.3756127101782787, 1.3532264862868286, 2.628215344099998, 3.4148336859369643, 0.3602876891759397, 1.1731411173415807, 2.3277334018317837, 2.624256131264849, 1.2404175659388428, 3.7869245916645746, 2.4616882735891, 2.0430380322906676, 4.656631685453359, 1.6577235777568682, 12.146422269501326, 0.47577815359264397, 5.679461617561436, 1.5733552465723004, 0.7112935945359437, 2.234205710878632, 1.420068291500944, 1.079284984683537, 1.2954293670313888, 1.97634544461883, 1.0222545634727411, 5.153853535932635, 0.0, 2.4106974753825163, 1.9712838168016107, 7.807348213362285, 6.017738241024012, 3.3093411284453587, 3.0223552126678674, 0.7629704715402308, 1.993456240086706, 1.5668483281627956, 4.075668366838987, 2.8775712970495175, 0.8025566659178306, 3.9752153307285125, 0.9600696571928655, 0.24484649120633453, 0.7750947225367962, 1.1988884016773873, 5.082993230470977, 13.246039125731492, 2.7014533144613524, 0.3441632973679589, 1.0509687741604428, 1.0886239418312416, 2.2348883406274003, 0.6851445909957065, 2.513497288874029, 2.6378668963432426, 4.329200421343563, 4.089096852319709, 1.580278591558021, 2.1272168155617113, 8.299924809526614, 0.8625016036693012, 1.4175920084287508, 3.580125442008627, 1.2506302701288046, 3.382184176161379, 2.280637646123998, 1.1746590324237542, 0.8707734233387844, 2.2722793742941176, 0.8015489056634393, 3.4892801926599506, 4.807162511921602, 4.019037337021134, 0.8859948220429716, 5.560161811789331, 3.4501994940297505, 2.772511366058686, 1.3872809690120687, 5.663747361458292, 2.956919067655249, 0.0, 5.162536112134407, 0.8546510725040717, 0.7242456608510525, 0.0036694376480690735, 5.698167621806423, 3.221965178237755, 3.4065394885807097, 2.8378889981105377, 3.3652314012987103, 4.018577238485691, 1.696716173786334, 2.4576524004424978, 3.948011131642941, 2.8799022557809297, 1.4744548183220874, 1.156733088016938, 3.423342285098003, 2.2571013425472124, 1.34207111349612, 5.412441390026975, 0.0, 0.7029407346945411, 3.0879586562349695, 0.6262251625055459, 0.39589902125237225, 1.5383396614255147, 0.8503487129529659, 1.625724097459675, 2.910366845106495, 3.585387005187945, 2.9886183395335366, 0.7456460517567959, 4.4078089336758115, 5.622177196846966, 0.9728854055792842, 4.931809104811926, 2.0067481274652197, 5.236049699306738, 1.532409479803693, 3.328362415228048, 12.683809866175617, 0.8572515608260768, 1.430887134440741, 1.426002030467442, 1.872071243653956, 2.800835074356241, 5.096848038230203, 3.005077893963659, 2.136997340492283, 1.9661503039030275, 7.757154246948076, 0.10433920646697688, 2.7853704291546957, 1.105640113167899, 3.2958278055189947, 2.375351921641504, 0.879120243872334, 1.2232106865947845, 1.224136723915847, 6.175123277462313, 1.0302928496445383, 5.241554641785305, 1.8228076217267306, 3.5728563283242507, 2.8705061931004057, 2.01590781178354, 1.6281313573309513, 0.9126881608183929, 1.2607429364519422, 0.33817834889595677, 1.5680571381875017, 1.7001430366069907, 2.526854397264312, 4.135575571284132, 0.9349549044975611, 3.000115330072822, 4.517841205974108, 4.104836301086174, 1.6108675685297995, 0.9232555913983281, 1.214063109697087, 1.119249457929467, 1.0033665859654166, 5.670401146415218, 0.7781117183878735, 6.1053517517559355, 2.4672045349625393, 0.9920349961751098, 0.8451622697432684, 0.4113403427303133, 2.548122424590463, 3.5583655917948116, 4.963003058152075, 0.9845449839770756, 6.242721107177303, 2.1937201905095103, 3.123052240571379, 0.5590574020521434, 1.9240531069054345, 1.966731664754655, 0.6340693198090711, 0.4126079108117634, 1.060767708174335, 0.7183160685729698, 7.073028633501984, 3.4340367815592496, 1.890084249609848, 0.7727325551360824, 0.5631468184332421, 3.19940330257026, 1.104363610651446, 3.5343813074121115, 1.189433647910115, 2.0915329857047436, 1.0027278967867312, 2.6228598498388567, 1.1964846547517687, 0.8683758356818462, 3.3015317306573975, 0.5619206406780597, 1.9345276868527874, 2.543837014868335, 1.0529660932869687, 1.4895234063604184, 1.5641824736434364, 0.7749501971608774, 1.5146710770792746, 3.5993848456936552, 5.2576446224575175, 2.457801687819603, 2.8929641066317813, 1.0035380512363563, 6.050368372650733, 0.5092211219387114, 3.0824086578142595, 4.688712372587582, 2.3860455285674433, 0.3621134344501733, 1.35395059416237, 1.1088964588349728, 2.707846652217369, 2.0586471936039166, 3.111486854940884, 3.6822308089437508, 3.7014171181004243, 4.22365923998949, 2.281970143734511, 0.8859948220429716, 4.606477287415038, 3.9015993234666366, 4.37187783938701, 0.6965204105858428, 4.652001424926122, 5.043939001700312, 1.6638592016547895, 0.9721527382576872, 5.777496636281572, 0.8559203709666086, 3.943463686126877, 1.9799885249448756, 3.317532898248921, 0.6715807487649231, 1.0559868996285733, 2.2425853144718095, 2.750786094255421, 5.561622152964077, 1.9819468955249, 4.340977094047911, 1.0842195185805383, 2.1076659894346386, 3.269179024310032, 2.809508701160221, 0.8414181246746935, 3.6472887680624106, 0.874752453722487, 0.8859948220429716, 1.8637477629876615, 7.23505572778998, 1.2554714236537117, 0.5651068174195458, 1.8548351470677986, 0.5981796155305662, 1.3890767624517544, 0.24549251139243106, 2.26498753994465, 6.025611415843557, 3.261678479280574, 1.4156042317429078, 4.547516025367707, 2.2830865614504607, 0.0, 0.7981789335374617, 0.45331126234824815, 4.606298875962557, 4.504894770183933, 0.808079359127805, 1.952139362986104, 4.216593561969182, 1.0437977113504011, 1.4976417212692161, 4.69966491623426, 2.1099841632071636, 2.8077271419389613, 1.7679057059499192, 2.195166735761069, 1.3609928282168537, 1.0864608920558096, 0.9253398148961731, 3.5713037641624465, 2.7992793445293014, 1.6123774820171186, 4.28930524570511, 1.0600323789420096, 6.316102413148306, 3.420155858226375, 5.259950953063412, 1.7382467818172438, 1.734644512576228, 2.8906370099627483, 3.356331552268922, 4.4087564794216965, 2.6128692730736978, 1.5348301775412256, 0.9928552594054068, 0.8915035956469473, 6.40214204222084, 3.6801414006145476, 0.6728660020034457, 3.004558162902091, 3.6830239469206516, 9.333613514045544, 8.925723605454527, 10.478180529756402, 6.715821281159004, 2.5483997252848023, 3.5357579322940174, 5.850382778941126, 9.312595539268717, 5.203975787533048, 2.0156298790499023, 4.574853170667883, 6.692903764597236, 7.279130277399409, 9.175015344996442, 3.7689862658575053, 2.996955334464038, 0.8859948220429716, 0.6928081997879738, 2.044850532823793, 0.8560704517249511, 0.792558573619283, 7.1564527648089, 2.0822347226320908, 7.030871249734569, 4.771563037134585, 1.4875029213770894, 2.5431940700925146, 1.4873965126326618, 4.846435009683199, 1.2390881013471058, 8.538975771465605, 1.2411474460317946, 8.277537970527199, 1.1224153054241934, 3.407030459646516, 2.95926557241382, 1.902544535570778, 3.6618105917296564, 8.68907260912745, 6.914412873891609, 0.9088153536570007, 2.800920600364363, 1.9244031582202203, 0.04471524491730674, 2.9617108427638845, 5.078582599421179, 4.600611031773339, 1.5128661893737279, 8.208267748321061, 0.9618128491426482, 1.7510489010429386, 1.678479982577149, 0.8859948220429716, 2.7899866526624093, 0.9903170859242485, 2.1919378855844265, 2.4663423930510953, 2.195684607265317, 0.3672013358475432, 2.757664036170718, 1.035416642135686, 2.6521319176993945, 1.2083953121802307, 7.399233666261513, 1.014348158220615, 0.8978348673117609, 1.9689085131326354, 0.5930804787447258, 0.8594242676613464, 1.5608750289063948, 1.1047388598404315, 1.3359174366052697, 1.8440952194880798, 1.212549399429267, 0.6571932088780107, 7.841523069447262, 5.965475332793308, 2.7602906733092065, 5.488430818504796, 1.479670474847298, 3.3662774660689503, 0.8074398899766376, 1.357050062708562, 1.9301857252184444, 2.0543538556810343, 3.1095796919461822, 3.210185811226812, 1.697623869040965, 6.122399374898133, 0.8679622189271982, 5.917968224792061, 1.6641961176722917, 1.0007986467098424, 5.103829676537122, 3.2509799534843538, 1.2785697662054576, 2.11036493014729, 1.375408442472984, 2.9687896680583754, 1.92228188605646, 3.568029722043657, 0.0, 5.715804219764492, 1.903669231513786, 0.9920744778111185, 0.49175198380046464, 1.9829109991520508, 4.677659089902672, 1.827642131393922, 0.14050664823219583, 2.751935076753592, 7.32718735287851, 2.118875989374126, 0.30435120755339906, 2.9374658734359014, 3.676569053871021, 3.126712373213053, 2.8877726895917726, 0.8723163107132951, 1.4762618008863138, 1.2142134896549164, 1.7607955723769466, 6.717524149367178, 1.744938358193394, 1.5476677437131294, 4.049391520792315, 1.3956776674439355, 6.260839959545524, 0.7672067474287062, 0.9369009479415039, 2.2256672636461365, 5.138308984045687, 2.695340650917185, 4.011979110783282, 1.5081807846484045, 3.387618454323318, 0.5276369062395475, 0.8859948220429716, 0.8351310582367403, 2.1825998993241997, 1.2127362130281754, 0.9816913353266334, 6.793354607627517, 14.085847970614864, 4.68516067581801, 4.031267831948937, 1.6127942181930364, 0.7286449516549787, 1.9121313036716343, 0.0, 3.929234285558835, 7.115429139827475, 0.7330146112762832, 1.6886904468997963, 1.246651274714796, 5.07056474862319, 3.9062852224275897, 1.33745389084621, 4.508606656679118, 0.6707062943931682, 1.932967041353071, 0.8859948220429716, 1.6024428166877922, 6.135302105717632, 0.3003929845247707, 1.9405228407469413, 1.334749142351336, 1.8618508710890458, 1.170212212786585, 7.5539283372275285, 0.7464420522701761, 6.946793163245904, 2.0033944235616237, 4.8561472890173585, 10.346218202372711, 1.5174662495292273, 1.204280694187106, 2.7109271842263096, 9.65783649657265, 2.5938498904437193, 1.1546569745192177, 5.795395753927324, 1.483920262815705, 1.179825688375179, 4.428191160243798, 5.173460928922655, 1.5324618146738271, 2.0904368892301153, 1.8517493209905282, 3.5649976085096835, 0.6570177935295443, 1.3251692659029815, 2.4685293470997105, 3.3523606842496405, 1.4119701072588577, 2.6158365773544228, 13.2076435516726, 2.0568841061324545, 3.8842113276732535, 1.139002303403943, 2.913896514290739, 3.0841285381466204, 2.87029857901403, 6.983135629977606, 0.47553797072204473, 2.745757634253586, 3.249447216499916, 2.3203402583462793, 0.6052342621292393, 6.9244925898950935, 2.3137818117165696, 4.3675856008714184, 0.004828663895926171, 1.652732244164836, 3.8933860213177156, 0.5493009844550173, 4.897395973365026, 6.423103642759718, 5.286121706123415, 1.8804006578874817, 9.412687221481006, 3.1439399729826407, 1.3412745459485949, 4.20642543438932, 0.9344148067101341, 1.437959181469107, 0.7377051655193853, 5.634828818561425, 6.753596484900131, 2.3084015537391434, 1.3968600992098288, 3.9808607564335365, 0.9090725122746877, 1.8619223322991953, 0.5302646603961028, 1.4284430635911674, 2.7673710931486486, 0.8787073282002679, 4.049696421215203, 2.933813679543685, 3.534512349697641, 2.939441708933537, 1.761140752841525, 10.4956313845423, 7.192963140058287, 9.580709768532568, 1.3610401465958346, 0.8082515594602852, 2.6523926224798657, 0.4261245571152219, 1.0401954696349958, 1.2496350966591958, 1.8885706570121774, 0.8246788338570635, 2.934469238937127, 0.8276913170716124, 1.5004775929887306, 1.2799270048095153, 2.5421223241682247, 0.8859948220429716, 2.580875805082102, 2.829176602062334, 6.616958260196411, 0.8859948220429716, 1.6734318205734973, 1.6195896749884287, 1.0379687407101654, 3.6973754797170972, 1.1910936390522577, 4.217384564327573, 2.602820712833681, 0.8859948220429716, 2.17982652882058, 1.552108805107775, 5.6234687932814085, 0.8826184521923807, 4.500446657412081, 2.9914669588835885, 0.8998889974286444, 1.32225774949264, 5.050618419117746, 2.3788444838306124, 9.394150278072189, 4.18673811747798, 3.8940801366187867, 1.9382870999997448, 1.9190391323191527, 1.6466214300724829, 2.2369889715772704, 3.7611265571648747, 2.039621762003024, 0.9620981007412605, 3.005970070450662, 2.64986405503426, 5.96354675146006, 1.181592998207395, 2.762420680645496, 0.10663927384439899, 3.8428939844653285, 2.2473555093937656, 0.7383857749128452, 1.3309821411499605, 2.6338449681516987, 3.588126707355149, 2.0762998977381497, 0.487726774199772, 2.148568407069896, 1.8149330564393793, 7.38976474394358, 2.265486899227471, 1.3740581109047838, 1.3929146643144699, 3.9643650439297615, 3.7867415843877725, 0.8132637067946717, 5.321135325618805, 1.0609097276118353, 1.0256870390696486, 1.3741488034230511, 1.1385251923650064, 0.7391374998675293, 0.6782481288957158, 2.868140392313273, 1.0929120106190047, 1.8369174804731812, 1.0895134875824908, 2.842195074654312, 3.5142266932330126, 1.6537351164991518, 3.9702325884451697, 1.4558033628753255, 0.4441304508431221, 1.9642188435234937, 0.6799939819859566, 2.8241414009069534, 5.142914023414785, 1.3657003216405785, 2.587624395225972, 3.561041062170282, 1.4849120043843846, 1.415702365042855, 2.8284176597380846, 1.0755946511178063, 1.8287127705350315, 0.8859948220429716, 1.6474669541984572, 2.980336528557215, 1.8695549819788173, 0.5631407108554086, 9.491106464550052, 6.952021787437714, 1.8699227374054828, 2.764572300326988, 6.786123471814298, 3.3378694837139715, 2.4013798164817883, 1.1064824086414886, 2.234340483920955, 2.9138778776093566, 2.7960851248878775, 5.622932800636199, 1.9359818630457903, 3.7070140659229738, 2.0546610768398974, 1.1545663031451565, 0.8859948220429716, 0.9758603941196653, 2.1842290191966116, 4.431780075670057, 0.5963796787770977, 1.216088504355509, 3.486865119187424, 2.842675991574957, 1.9508165587856703, 2.325864970286469, 3.6768008453686623, 3.112090743075685, 2.886837181150774, 2.1867518105780914, 3.4326403278790436, 4.340251087306855, 4.300436452430386, 5.8177572393884525, 1.8828774110887636, 7.103242369136859, 5.668096427651566, 0.028274668635063612, 0.386834213317336, 3.1453119631629316, 11.095785031416227, 4.06572239795328, 6.2309610269988145, 3.224980519810977, 0.0, 4.810694138345495, 2.274016468477977, 1.3800334198291018, 0.6707932362062499, 0.7797519214356022, 1.3517244070340415, 0.5637957341464753, 1.6750043825466236, 3.886444540736169, 0.7880350132068829, 1.7612910598941456, 1.0207786364468296, 4.119169164398505, 0.5651430607104285, 3.132084343179975, 1.2868317672760727, 1.663042840266876, 3.383881320977246, 3.7522235676787528, 4.276404780856796, 2.0824615114773155, 9.062680002349444, 1.3980802548286795, 0.5988133294530513, 3.242822487486944, 2.0346510024297477, 6.320220874108929, 0.8191299447836737, 2.2782823169655275, 5.152004240019945, 3.904308099407276, 4.832805202923554, 1.745379202121962, 5.392704842514203, 1.3153673355988298, 1.749824348144237, 3.6544066459556195, 2.3360723082822976, 3.840935876056102, 0.6768031218867688, 1.5383838761249382, 1.9931609844466303, 0.514697047582443, 3.3400912621093664, 2.3762823406772973, 1.1662177281256012, 4.948056199747417, 1.1269451969710966, 2.115956960938635, 1.4180558350457284, 2.6210830714762534, 7.730648776490004, 2.5445757276927816, 6.7719814803695, 3.4652752660126818, 0.73837322528583, 1.7764391168444824, 0.671848895693443, 5.992618319350171, 6.833287183336989, 3.764114730696972, 2.0748987011196607, 5.256626683256879, 1.5837856401632295, 1.1855484989414176, 4.3921764132345045, 0.6212784822207226, 8.967173092441818, 3.4585049880490044, 1.8471699574373845, 0.1675264901255143, 3.942414621065278, 1.4289857894332796, 3.6255461531159616, 4.348062306218219, 2.6308908612625728, 3.6462631269993317, 3.0836218440343557, 6.8737658276255775, 1.4421235859265502, 2.697621415456067, 4.664646483133428, 5.370416799772452, 2.497468542236628, 2.5530319094358576, 0.9896802643310867, 3.3084435243118477, 2.8158817327177634, 1.8063693588140501, 0.8859948220429716, 1.7005799310182972, 1.6611012765309068, 2.0779164186941848, 2.036169670088111, 2.220910779592909, 1.258637406954036, 1.265257007279105, 0.31664721934660844, 1.351751462283932, 3.077030692224976, 1.1556394300798776, 2.0899769779375252, 2.9469731783274553, 2.598711603570722, 1.8373799046899517, 3.522603751344557, 3.8093061640335515, 3.134972692388676, 3.4715375888932396, 0.8859948220429716, 2.602421159613319, 5.57382465416529, 5.204609625326536, 4.6782064572561035, 2.7525106273494515, 5.494614695178469, 5.146089463788466, 2.1295168640865474, 7.2165415602000245, 0.9857203729089871, 0.8701270160584132, 2.27429737139527, 4.1774659486814, 2.6593918166556323, 3.200984161251821, 7.85852918047218, 3.0868970884845086, 1.236968226553239, 0.7312180669937548, 2.351831875958121, 1.1207315690585138, 8.491692223767508, 2.270745947165936, 0.6851683156635086, 4.2298870268265745, 8.267015560239148, 1.4857235911880644, 1.426244444231325, 1.3973666689462156, 4.030561150271163, 2.4343647431184445, 7.06177075293609, 1.4456698175992304, 2.131510361074076, 0.7037915543905635, 0.5777694086391191, 4.66640249462378, 1.1052690331680748, 1.738447941589538, 0.8892938081200749, 4.575067551969816, 0.8955438908738991, 6.755943892732954, 0.7338868556497002, 1.494882719180479, 2.8664352107817717, 3.6833841656621904, 0.5469974455123742, 3.5417064206724587, 0.6920500918352838, 2.5741265149846413, 3.018806277640703, 4.2516630399893875, 3.7868635418028647, 2.2456584674601117, 2.720747335367947, 1.2880836152198003, 1.2612891314700605, 2.8803051898474274, 12.817871775249639, 3.353232449053031, 4.2977425295000575, 0.8859948220429716, 2.1681877212854963, 1.4117149634103325, 7.830424568671815, 7.3091659959224815, 2.0794187866559835, 1.6701874655910443, 1.7161070815262747, 0.7452635266390304, 2.1749986614205143, 10.913433679466564, 0.8859948220429716, 1.8163631650843093, 5.764068688216384, 1.3524080867181862, 1.8747460109840353, 0.4802834731814024, 0.9881849516317276, 1.736887302965198, 7.809491834385563, 0.8076963202843113, 1.7958744057170544, 1.1446415075053225, 0.9730454013956947, 4.551890966007394, 1.5924229623042938, 2.9541203477291265, 1.6319411988370371, 2.6252420313098686, 1.0065075617068564, 6.718769930005639, 2.5572598021768935, 4.617974000595025, 2.518987741107547, 0.5039239222089319, 3.342462328469551, 1.4800998716760816, 2.8385132470259005, 4.93691679286638, 4.238197121282226, 2.19888567251293, 2.0691739996854226, 4.348261273618093, 0.6064871048260291, 8.75675781713631, 8.8834814879844, 1.3246040702638247, 0.9862101490830653, 1.6934874092410654, 4.968491325047208, 1.5249318258958384, 0.8859948220429716, 1.7333077309454217, 3.73138520036201, 2.623626420356814, 1.1779664711614561, 4.8275059883844875, 1.652692989846499, 1.9616472566978385, 6.602863906017184, 2.344380777162519, 1.7597027448232803, 0.8659985589748346, 14.814334654817802, 3.0188681892176894, 0.4772764377582459, 8.696938114978183, 6.853987514371403, 1.4104019192738668, 0.4300035996708356, 2.1362828578297974, 2.9867777957542176, 0.8008970518252244, 2.8814334235989896, 2.231954593415315, 5.386737782599659, 0.8665106763543421, 2.433943050675418, 4.355042296645323, 8.737725055994582, 1.4665061877566983, 5.50855553412988, 4.722250025661846, 2.3799706798743236, 2.832882229047002, 0.20044062313557293, 2.5190893553981835, 2.103260011846438, 0.7868176843930436, 4.498022800714299, 3.734586705454885, 4.634426330395292, 5.74986070849453, 0.8859948220429716, 1.8764988005897345, 1.6655556313733872, 2.882939310065912, 1.9722799399687359, 2.0369951206700923, 1.045966117581024, 0.9471350510073538, 2.471998782178155, 4.747956228962941, 1.235846766480039, 0.8296618035448001, 2.284878026871896, 4.56697641003752, 3.9666880334206316, 2.2181050078973406, 3.6285508318418325, 3.212487246625425, 0.8683758356818462, 1.0111656555909014, 3.2894157240475987, 11.792129145450335, 1.714757526000424, 0.9904161207703812, 5.689603884423441, 0.8859948220429716, 4.97830982400287, 5.363054179823515, 6.888223014121271, 4.4664615833455175, 3.550428975069881, 1.8730303763871745, 0.5171971937418791, 1.0222113412699523, 1.1269376179454726, 3.026861740092933, 0.8185944348967513, 1.4130891986497247, 1.277949280247935, 0.8436477139007782, 4.7858723333094595, 1.1309605650927115, 1.1621052503844194, 1.0850919258874507, 2.1118609297285555, 2.650672944319699, 0.8261900280536818, 4.230953372076138, 0.7707599010064208, 6.379880821836733, 3.178950387751599, 3.2635980499147017, 2.595832391199521, 1.0395277134659908, 3.8789203230938942, 1.7719155663293689, 4.508352759195544, 3.519965795687923, 0.7671091270937309, 1.2774884846367949, 0.998634242265615, 1.5273758730292966, 2.7913253741651203, 2.0624128574330753, 1.4053537125057678, 0.8341178648537277, 0.9695717407974791, 5.708955680064817, 3.084563603821341, 3.869474157011434, 1.679432826322132, 2.619169641551569, 1.0730589062985163, 0.9932986895420283, 0.6383129996096883, 1.9745936763120149, 4.738219955860495, 2.4203696043731835, 2.8949214258474965, 9.058164263070877, 0.8182144566702315, 0.24184384966115755, 0.7563160605858733, 5.164764115682537, 1.126860198766, 5.026890588014018, 0.8859948220429716, 10.966367060223389, 4.507752072165336, 2.1826200753180456, 6.0706884312071425, 5.139076904896245, 6.501454861200548, 2.181026560435216, 3.374660382511495, 0.8908228352045586, 8.115144227446931, 1.4366789518604908, 1.1688400895936717, 0.9389259389578547, 3.122797186951294, 0.9207137004796613, 2.1644872608581736, 0.8859948220429716, 3.3416561106241, 1.516837607751902, 2.177760175152976, 2.9962485649425616, 2.9732343928147955, 6.425882154449282, 1.6338929951922192, 0.9815344809677574, 0.0, 1.2017261034975322, 1.3178100679300428, 0.8157487954541686, 0.7314151645949954, 0.8448790356552237, 9.742635697243571, 2.460586316314813, 3.004468972180935, 1.1355829359470895, 1.6098008367405974, 1.837258957407743, 5.3215602100808, 2.493289777589386, 1.4088452258490978, 2.482690419375253, 0.9110267568519829, 5.911467015775197, 1.1206526503803664, 1.6284789896288512, 0.8859948220429716, 7.018729827082045, 1.0665775625329987, 0.002779456969342994, 1.0423111046737366, 3.193478663057735, 4.190147279453811, 1.1159257033940757, 7.755729777726391, 0.0, 2.8563856043151805, 1.8157863762514421, 1.3492985743616055, 7.8129454084384555, 3.25916822675408, 1.8115293942713449, 2.968809800311655, 1.2226561449798035, 1.3756521732539535, 10.680294825902353, 1.0921268619487332, 6.215459764163353, 2.247139935045079, 3.468925345720892, 0.8506293188533012, 6.8473971079714, 2.3521837986827987, 1.7985268834208938, 5.644317581122638, 4.551246810062285, 2.1354341376843373, 1.6533802391617447, 0.9533871919330378, 2.5526814671152906, 1.1066507135866859, 2.876888906324908, 1.1493752101502714, 3.6005688767067974, 1.2709872700958753, 1.007829783639565, 3.2162206826422546, 1.0835165744068973, 1.6941029210499758, 2.4889359295845854, 0.8960283335372582, 0.5748462574517026, 2.3133259552671666, 1.7768299978518116, 3.1592410436172136, 2.7672419622964326, 1.8534170768159484, 1.5022226800872003, 4.858210459685941, 6.662550711839716, 7.8161189752345, 1.3664188163530973, 1.2518659710393802, 8.370169437183092, 6.002418930638862, 4.836020225139942, 5.731481388158768, 0.022957030002406873, 1.1927095696126842, 2.0984874713243404, 3.753932025145467, 1.795893688412974, 3.679422233216331, 1.0993626006310124, 3.1902561723667695, 1.3611966035063223, 6.88020391150829, 1.3850421720954715, 2.7559703200874677, 3.9734371127650276, 0.2659453321804821, 4.2790691709060376, 7.220053523603373, 2.5594300035344446, 4.3416243426373144, 2.9345639406351975, 1.7454159384336092, 0.6705637727191678, 2.8657030439757674, 0.6001096040341022, 2.619546188184712, 1.514212912408233, 2.422608946745608, 4.528921935471313, 2.0742931736176184, 4.8883875751323895, 2.514505382947226, 1.0360976384779956, 0.8734089629647043, 2.024874771133578, 2.886312477102634, 0.6190481827765825, 4.251468543817782, 4.583289613789, 2.641381076998847, 0.9666537963085051, 1.1254831706697912, 4.915248981960045, 1.3613892094002205, 3.2267324712047816, 5.8048155692717645, 5.742216273333401, 3.708386466455967, 6.026032382297944, 4.222091469565071, 0.7084811881662003, 0.8859948220429716, 6.242237885496953, 7.729875145840013, 2.402410203823003, 1.023259065582411, 10.164795874119164, 2.0970290215711365, 0.8806058855789032, 2.557976774953447, 2.5514710528520506, 2.810574826552827, 1.3020989059984445, 1.5770561833225911, 3.2904299555919594, 0.5817464274700244, 2.363484834517104, 0.9257141470087865, 1.4374291928185083, 4.188409344582126, 3.1325895743494283, 0.5758931396352793, 6.645430703067855, 1.455316858376854, 1.2102437370054684, 0.766858444259426, 1.76548293590898, 1.4362515123217587, 0.681690527095729, 2.0642540776759146, 2.1508582495416046, 0.6317933071044506, 2.232692377940203, 3.578836557418779, 3.5979604157410647, 9.11056472487381, 1.115254689632897, 1.8970317674639716, 4.557968172395257, 0.8185597953367115, 9.53597421636716, 0.7153150826927059, 5.163090533187553, 1.6813630690261938, 1.72791495813554, 1.2379057891940255, 6.793976004979223, 5.052084350802995, 5.049620112229048, 4.40180131151568, 1.7470525336825784, 2.3090933914419653, 1.4669430556624712, 4.870538160903378, 3.0332736782918706, 4.944233429368188, 0.8428379711416141, 4.28351917580249, 0.32122477339880406, 5.425158944089695, 2.8478773608186043, 4.007067419974557, 9.612509796701579, 1.3705417458970282, 4.0460348111729285, 1.0991241095198814, 3.474316396345558, 1.8711910959341118, 4.147551836390201, 2.4587838527168984, 1.4884608652720572, 4.985117091792178, 2.1472950055462006, 1.8835420363631235, 3.3214495245764812, 1.6052146813495123, 3.757120630205012, 2.6802199919114162, 6.821904103413991, 1.143355459441917, 2.3347045879594313, 1.0846813911016384, 8.639914681263694, 0.8859948220429716, 5.216975401898061, 0.0, 1.8153410111042776, 1.0775273160914696, 2.3588479698003915, 3.114212199572844, 3.2048564369026704, 1.6668811308180578, 3.127649134153007, 2.5469208740463505, 4.4715507998841195, 0.28131953101384993, 1.4198031757058678, 0.8859948220429716, 7.068424614075814, 1.1744533696984323, 0.6850517221431135, 0.7002129397589648, 0.9418130129364674, 0.6196153269044701, 3.5643656942938313, 3.1963607007734036, 1.0504488470270397, 2.7320803199705916, 0.5852507427440191, 4.899944582555852, 1.8091381578515378, 0.6481861688917796, 3.91030420352101, 1.6471594401136493, 10.895033971179144, 3.7962204407008753, 3.00031866181695, 1.660647899384041, 2.4085854688494805, 2.377957107709611, 3.5905097986327164, 1.6284791248366863, 4.551604105150205, 4.4230314881896, 2.0772082429439425, 0.0, 10.14939074359411, 2.0637768480049883, 0.5324343612413388, 5.613684210671677, 0.8726848868656142, 4.686228534235097, 2.0523354468667936, 0.6105230404972243, 5.199401392023162, 1.4290648599158295, 1.1596961435582829, 3.6040811161523494, 0.8384649813498652, 0.0, 0.7671157444016581, 1.4904457795581283, 0.9623492633896772, 2.7455214038454954, 1.2634538084964975, 1.8269752510170234, 5.587277233876599, 1.1984619731199841, 0.5602737823008015, 0.771969215737344, 0.0, 6.016401993273834, 3.9350054764915363, 3.3539145968058777, 6.752198031097219, 1.0321071957171928, 8.589580334891101, 3.988236569002432, 2.8818887653814342, 1.749077335363246, 0.7628167763922915, 1.5604433016098027, 2.795876353706309, 1.8721364346520932, 11.779918306518214, 2.0987641962714947, 2.7324695507148173, 0.28808553291080546, 1.379544567053019, 1.345255546865111, 1.4085781612512245, 1.6082182281269406, 2.5795865267775198, 4.833169274461093, 0.7020517663033271, 1.6376501710370532, 3.07754224576577, 4.136802210908483, 0.36637831427495304, 7.627992671107523, 1.5934160018767807, 4.157249893950057, 3.77216519375746, 4.390531711724174, 1.6853521082686977, 1.8078779689416093, 5.052442854934091, 2.899010453843716, 2.6479307332611492, 0.444618010531999, 3.3880072767410745, 2.150408213973843, 2.723245699958687, 0.8859948220429716, 6.806201943945941, 5.298576935182939, 1.1256366695268074, 0.9079486757858091, 1.8633042579881012, 2.554776552658831, 1.1348789873900527, 1.1784945561389302, 4.512718054247295, 0.8859948220429716, 1.5380483792802033, 7.965478094848915, 0.7097843968566103, 1.1234696387338015, 0.4549366758161909, 1.2369402930560256, 1.2671661752634023, 0.9429227540150503, 0.8474385306042929, 1.5337891751579509, 2.2031511147008738, 0.8859948220429716, 5.066662208390591, 3.673668793321685, 1.8664571211269003, 7.048577458270308, 6.58557201367221, 1.3365219229088865, 4.041294291660755, 0.7786531575425404, 3.171323978931803, 1.0186778013736917, 5.642817879930126, 4.429984124835008, 1.0952852506608999, 1.0174378040169032, 2.4527440031907566, 0.6099067445068186, 0.8655681453729783, 1.0909299809219768, 0.6836862583017638, 2.6474126909905227, 0.8377004583274418, 1.9799587017228957, 1.177794761932865, 1.4307561881992408, 10.459340268087656, 3.4765074596568253, 1.2359324701423418, 2.772984121734168, 5.871211894316709, 1.6686123957532575, 2.8112157462712317, 6.657360423329733, 1.8269427128371893, 3.954672573406044, 2.3505737430014517, 3.323197292772891, 4.15472515038719, 0.3889029846795581, 1.4634092144310014, 2.21588798010739, 1.2122074409333854, 1.4732477841145004, 2.1767016120508047, 0.9642858646815679, 0.6223888444362918, 1.8434474315419207, 4.169455359282466, 1.3864039750533008, 3.370740586298844, 0.4414049971464857, 0.7692971916425857, 0.8389446187196384, 3.1530098636329207, 1.358919480999738, 0.8567694239045622, 0.8545497426832749, 1.674211694794184, 4.198573092699102, 0.7087493484983202, 2.0557815050853234, 2.0960646832130685, 0.0003440743534359472, 2.4641973536437494, 1.0843828143292902, 1.0359295445621688, 3.605441610996402, 3.010299839461697, 1.1764267707403708, 1.479480406947896, 0.39969322127492907, 1.0423026415027667, 3.456467510826467, 3.7488461928973753, 2.635586652587033, 4.45587557176068, 4.29192216972363, 1.0063920815066214, 13.896190820774493, 5.8640866047266185, 1.8491342769848198, 1.8495326876660283, 3.0150959298588655, 1.7650106521847757, 3.3235183014615446, 0.7240408369574847, 1.7104566113737947, 4.936694230251441, 1.9412178706048615, 1.1127307428141406, 3.2485189257792424, 1.045013661116837, 3.627439603591223, 0.7741087357668447, 8.909839841692003, 0.9970252757708356, 5.50564625541431, 2.4626568375175544, 1.548539390916693, 0.8376917017377079, 0.5247881633449355, 2.82558921423336, 1.2045350841018336, 0.8859948220429716, 1.211615792909406, 2.3176432334656627, 1.494377204176156, 3.393245535429596, 2.513753063005355, 0.7334557066513798, 2.4953439574393537, 0.8244100162561584, 0.8478312112276933, 1.7726268855792917, 4.000881589671398, 1.1545208737841541, 1.9378133347346536, 1.4098986150303527, 11.488295099058424, 1.4606222888985025, 1.190047276275554, 5.2553475505573175, 4.045367409590376, 2.0381745886563345, 2.266903933097512, 3.4365706778912712, 4.946604047707537, 2.5730892951841113, 1.061037203443951, 1.041306767097731, 3.166958605557698, 2.181044641331354, 0.6157574273327726, 0.952654253710434, 1.1201164058547275, 6.13301026277147, 3.9433319200171333, 1.3134472741649248, 1.1729622545438978, 1.8987456695343952, 0.356429535578789, 6.0074231195431125, 7.118260233434574, 6.3937295550279485, 5.275382124105117, 11.336764951140175, 4.409660388983462, 3.526929024594068, 0.7390373143257526, 4.1585470440549726, 2.004304892016987, 2.4473994610191725, 1.580319837413723, 2.5438087730004364, 6.48878466263714, 3.637270180411679, 4.63880702338848, 4.003258547530209, 1.140429347648485, 3.250279103393183, 7.351999923853469, 1.2790872859731912, 1.164387421356047, 2.667120962882828, 2.7314800328626587, 5.204347418860621, 6.034452565203593, 1.264473042666498, 1.736020163786462, 9.309202862868961, 0.9348257656717417, 1.1401883882860773, 14.814334654817802, 9.178711538560814, 11.512640544877954, 2.040923157186609, 0.9708256772993622, 2.413712255037509, 1.3702749988683438, 11.35792315346506, 4.845792695821137, 3.0099099350497194, 3.5521867054129643, 1.3498085270009836, 2.1779651712401478, 9.454997852241625, 1.094636506613324, 7.341930539370885, 5.041481142845819, 1.1329135487814683, 1.463683151672356, 1.3674123407867453, 2.1271117881546915, 2.0888399051708095, 4.089647349746735, 5.6438727951010375, 1.978934365132687, 1.2593280853252513, 2.4753153561954733, 0.0, 0.8987682381034998, 2.529147597530485, 2.4723390341842038, 2.202704678417664, 0.8859948220429716, 1.639206691752087, 1.5497949234393376, 3.83700147672405, 4.302987144112319, 1.711278684114733, 4.9761580678964945, 1.6939253240538503, 1.2426568844638124, 1.3471162840706623, 1.1460654981003908, 2.42643525628492, 6.870222228029599, 1.5710001582999937, 2.944226193233882, 1.686813760673769, 4.415179626291859, 1.704084756006891, 7.402608494156743, 0.8099990296057287, 0.38699467207282645, 4.607459654347104, 0.9752526073643243, 3.3890277780461, 1.4157473303987385, 7.203153733505662, 2.316617690949543, 1.4861640565725998, 7.799760883441885, 2.9206290650865783, 5.754677459716997, 2.940049381204872, 3.2166774429705387, 1.0032434509378247, 8.883873770346273, 2.9276828680797644, 2.9417033135131656, 6.583668897135697, 2.0808942941043758, 0.16367886228799497, 0.7225572261144719, 0.6439699660824811, 2.229588350301281, 1.1947275570219915, 2.977248083875702, 0.5244277557161935, 1.8551197194559192, 2.2348759281625283, 1.0233569517669414, 10.185694079784914, 1.4926149764629977, 0.7481685616983245, 3.0340536449910944, 6.9238237010717425, 3.3933298093369566, 10.089112494515524, 2.2043047504933164, 2.264850697866185, 1.9275712215425873, 1.060380534519584, 8.360463758133307, 2.3600661800198437, 7.311538822931836, 1.8197090362815131, 0.35553660723713887, 1.2626676609413947, 2.7164896319128866, 1.5603002075216166, 3.2995443105374034, 1.2527878596008466, 1.4484177796701299, 2.4884902511143103, 1.2714073232841967, 2.594769077482037, 4.199856123653281, 2.810548052862899, 1.553761510741381, 3.2939841255271265, 0.8859948220429716, 5.133052135882375, 2.8317788472810195, 1.417735477436802, 1.5391031421863202, 1.5779149692746652, 0.5061765270472008, 1.1442137447489253, 3.8264566371542497, 6.334866856625956, 2.487005283859242, 2.7086015337933045, 0.6301988065006618, 2.91831350367118, 2.1981858086762074, 7.297478065045887, 2.380543582308233, 2.1773835277528155, 0.9723766580223263, 3.5826992294573357, 1.9377103133809035, 1.605476561532073, 3.755116039978074, 2.142959938993531, 3.4265275622311293, 0.9264024245975384, 0.9279813843838981, 10.265909452984989, 1.4233884267363137, 6.475712704918846, 4.4905507927899295, 0.30913414871311795, 0.8723401722440711, 0.1318542491456416, 2.0684729616840167, 2.2122029301845347, 4.406933659083225, 2.00105657786987, 3.143243986451662, 0.836072772491436, 6.664206653279837, 4.49600695053914, 2.777248984822796, 0.06379165070011683, 3.914964044454708, 1.2190585190556946, 5.3639940587609765, 0.5846580351311056, 2.8085886245816325, 2.6930494592765433, 4.454998576903155, 1.5815803033662388, 0.8470735345067136, 3.468733044653817, 2.231727609829615, 5.464947102717788, 2.113530088216952, 1.576198511608219, 4.935347705407682, 1.8341196753239102, 5.872948856739534, 2.5918413748328404, 5.218173674752635, 0.9852199265503212, 1.432420493446355, 0.30558268070528816, 5.05537803530069, 2.1848620672146857, 3.41026069171661, 3.133339183042233, 7.320447746717574, 1.047303707799376, 0.45937591126111, 1.6284470081986209, 2.2050363843933174, 1.6737984007837738, 0.33587692632901817, 7.908636748228436, 1.9672409880131652, 1.8794674773101205, 1.7750756235529952, 0.47077110440432973, 1.1928600754846133, 1.336363414301139, 0.8859948220429716, 1.8749777850643603, 4.238518014285183, 0.9002375240616307, 3.789161978967029, 8.35900289650616, 1.5927770190414015, 4.20010382143194, 0.7693334858648067, 1.0258776743886129, 0.6762865247533094, 3.8246553580377802, 3.9831844015873226, 1.3571207351506027, 1.5646346507317181, 4.4801211081923595, 1.9866831026774492, 1.800278753885451, 1.6032848328480886, 0.6223368386607542, 1.9272768863011602, 4.8198169922139105, 3.299331498487294, 0.3127924682063843, 1.7308194957132197, 1.7364808495824797, 0.0, 3.7367292766568485, 3.5719507157635944, 5.206884743392905, 3.452277076571402, 9.882102994729502, 0.5013002167634723, 5.949169182606386, 0.8807260285855436, 2.1348062571676283, 0.8326068741933951, 3.1249181371387977, 1.8381231589462155, 2.260040268145456, 6.528717354547503, 9.891932177207538, 3.0742241340905054, 2.6689661991608293, 0.4676988967554247, 6.8162978700429, 1.0373617902147458, 1.3177837455052148, 0.1849060062405155, 0.6283310227764579, 4.766288870218624, 1.7079917273968013, 3.040685603587301, 6.611365657022107, 4.8545527472873, 0.7987041553058264, 0.8475068311109112, 1.2844215877893257, 2.939055213262834, 3.0489430044474526, 2.7851303125316256, 2.6234603743034617, 2.0340465517248343, 1.3397249965682911, 1.6159935207932192, 2.113272056466218, 7.593866024944327, 2.5464729569364253, 2.1164097730610787, 2.0332314449369067, 2.263244336959849, 1.9176695158099502, 0.3850630795247128, 1.829111373148896, 0.051513638409639476, 1.5677911166730722, 2.030263149793787, 1.5062293964294082, 2.9356797270309998, 1.7937218880251176, 1.486534734730222, 1.443014847288473, 0.8580051170884965, 0.7746783903627019, 0.9255983783867473, 0.6058732559029008, 1.487033728458942, 2.316714274375921, 6.232587642554109, 6.43791836270371, 2.485953951772465, 1.7114022742033392, 0.8520530075236376, 0.6678742438361572, 2.8326230867246305, 1.2687435386136199, 3.2243723693728423, 1.9179220725503001, 1.552681729059245, 1.2902065171139259, 7.669741028730529, 4.98738808617774, 0.7538786814983994, 1.4713198070680358, 1.0260056186258897, 2.749143895656322, 3.6643021943862473, 1.6100628189757502, 4.595636387910541, 1.370888596815243, 0.7662266347864968, 1.8779059886559246, 0.9484847750617341, 1.3265438508275573, 2.023395983347894, 3.727799094943245, 5.099018280097185, 0.860291981655845, 5.240802756093871, 0.263876536930715, 2.515917702589425, nan]\n"
          ]
        },
        {
          "output_type": "execute_result",
          "data": {
            "text/plain": [
              "   fare_amount  pickup_longitude  pickup_latitude  dropoff_longitude  \\\n",
              "0          7.5        -73.999817        40.738354         -73.999512   \n",
              "1          7.7        -73.994355        40.728225         -73.994710   \n",
              "2         12.9        -74.005043        40.740770         -73.962565   \n",
              "3          5.3        -73.976124        40.790844         -73.965316   \n",
              "4         16.0        -73.929865        40.744085         -73.973082   \n",
              "\n",
              "   dropoff_latitude  passenger_count  hour   day  month    year  dayofweek  \\\n",
              "0         40.723217              1.0  19.0   7.0    5.0  2015.0        3.0   \n",
              "1         40.750325              1.0  20.0  17.0    7.0  2009.0        4.0   \n",
              "2         40.772647              1.0  21.0  24.0    8.0  2009.0        0.0   \n",
              "3         40.803349              3.0   8.0  26.0    6.0  2009.0        4.0   \n",
              "4         40.761247              3.5  17.0  28.0    8.0  2014.0        3.0   \n",
              "\n",
              "   dist_travel_km  \n",
              "0        1.683325  \n",
              "1        2.457593  \n",
              "2        5.036384  \n",
              "3        1.661686  \n",
              "4        4.110212  "
            ],
            "text/html": [
              "\n",
              "  <div id=\"df-edb3538d-5636-4544-9ee8-59aeb7c075da\">\n",
              "    <div class=\"colab-df-container\">\n",
              "      <div>\n",
              "<style scoped>\n",
              "    .dataframe tbody tr th:only-of-type {\n",
              "        vertical-align: middle;\n",
              "    }\n",
              "\n",
              "    .dataframe tbody tr th {\n",
              "        vertical-align: top;\n",
              "    }\n",
              "\n",
              "    .dataframe thead th {\n",
              "        text-align: right;\n",
              "    }\n",
              "</style>\n",
              "<table border=\"1\" class=\"dataframe\">\n",
              "  <thead>\n",
              "    <tr style=\"text-align: right;\">\n",
              "      <th></th>\n",
              "      <th>fare_amount</th>\n",
              "      <th>pickup_longitude</th>\n",
              "      <th>pickup_latitude</th>\n",
              "      <th>dropoff_longitude</th>\n",
              "      <th>dropoff_latitude</th>\n",
              "      <th>passenger_count</th>\n",
              "      <th>hour</th>\n",
              "      <th>day</th>\n",
              "      <th>month</th>\n",
              "      <th>year</th>\n",
              "      <th>dayofweek</th>\n",
              "      <th>dist_travel_km</th>\n",
              "    </tr>\n",
              "  </thead>\n",
              "  <tbody>\n",
              "    <tr>\n",
              "      <th>0</th>\n",
              "      <td>7.5</td>\n",
              "      <td>-73.999817</td>\n",
              "      <td>40.738354</td>\n",
              "      <td>-73.999512</td>\n",
              "      <td>40.723217</td>\n",
              "      <td>1.0</td>\n",
              "      <td>19.0</td>\n",
              "      <td>7.0</td>\n",
              "      <td>5.0</td>\n",
              "      <td>2015.0</td>\n",
              "      <td>3.0</td>\n",
              "      <td>1.683325</td>\n",
              "    </tr>\n",
              "    <tr>\n",
              "      <th>1</th>\n",
              "      <td>7.7</td>\n",
              "      <td>-73.994355</td>\n",
              "      <td>40.728225</td>\n",
              "      <td>-73.994710</td>\n",
              "      <td>40.750325</td>\n",
              "      <td>1.0</td>\n",
              "      <td>20.0</td>\n",
              "      <td>17.0</td>\n",
              "      <td>7.0</td>\n",
              "      <td>2009.0</td>\n",
              "      <td>4.0</td>\n",
              "      <td>2.457593</td>\n",
              "    </tr>\n",
              "    <tr>\n",
              "      <th>2</th>\n",
              "      <td>12.9</td>\n",
              "      <td>-74.005043</td>\n",
              "      <td>40.740770</td>\n",
              "      <td>-73.962565</td>\n",
              "      <td>40.772647</td>\n",
              "      <td>1.0</td>\n",
              "      <td>21.0</td>\n",
              "      <td>24.0</td>\n",
              "      <td>8.0</td>\n",
              "      <td>2009.0</td>\n",
              "      <td>0.0</td>\n",
              "      <td>5.036384</td>\n",
              "    </tr>\n",
              "    <tr>\n",
              "      <th>3</th>\n",
              "      <td>5.3</td>\n",
              "      <td>-73.976124</td>\n",
              "      <td>40.790844</td>\n",
              "      <td>-73.965316</td>\n",
              "      <td>40.803349</td>\n",
              "      <td>3.0</td>\n",
              "      <td>8.0</td>\n",
              "      <td>26.0</td>\n",
              "      <td>6.0</td>\n",
              "      <td>2009.0</td>\n",
              "      <td>4.0</td>\n",
              "      <td>1.661686</td>\n",
              "    </tr>\n",
              "    <tr>\n",
              "      <th>4</th>\n",
              "      <td>16.0</td>\n",
              "      <td>-73.929865</td>\n",
              "      <td>40.744085</td>\n",
              "      <td>-73.973082</td>\n",
              "      <td>40.761247</td>\n",
              "      <td>3.5</td>\n",
              "      <td>17.0</td>\n",
              "      <td>28.0</td>\n",
              "      <td>8.0</td>\n",
              "      <td>2014.0</td>\n",
              "      <td>3.0</td>\n",
              "      <td>4.110212</td>\n",
              "    </tr>\n",
              "  </tbody>\n",
              "</table>\n",
              "</div>\n",
              "      <button class=\"colab-df-convert\" onclick=\"convertToInteractive('df-edb3538d-5636-4544-9ee8-59aeb7c075da')\"\n",
              "              title=\"Convert this dataframe to an interactive table.\"\n",
              "              style=\"display:none;\">\n",
              "        \n",
              "  <svg xmlns=\"http://www.w3.org/2000/svg\" height=\"24px\"viewBox=\"0 0 24 24\"\n",
              "       width=\"24px\">\n",
              "    <path d=\"M0 0h24v24H0V0z\" fill=\"none\"/>\n",
              "    <path d=\"M18.56 5.44l.94 2.06.94-2.06 2.06-.94-2.06-.94-.94-2.06-.94 2.06-2.06.94zm-11 1L8.5 8.5l.94-2.06 2.06-.94-2.06-.94L8.5 2.5l-.94 2.06-2.06.94zm10 10l.94 2.06.94-2.06 2.06-.94-2.06-.94-.94-2.06-.94 2.06-2.06.94z\"/><path d=\"M17.41 7.96l-1.37-1.37c-.4-.4-.92-.59-1.43-.59-.52 0-1.04.2-1.43.59L10.3 9.45l-7.72 7.72c-.78.78-.78 2.05 0 2.83L4 21.41c.39.39.9.59 1.41.59.51 0 1.02-.2 1.41-.59l7.78-7.78 2.81-2.81c.8-.78.8-2.07 0-2.86zM5.41 20L4 18.59l7.72-7.72 1.47 1.35L5.41 20z\"/>\n",
              "  </svg>\n",
              "      </button>\n",
              "      \n",
              "  <style>\n",
              "    .colab-df-container {\n",
              "      display:flex;\n",
              "      flex-wrap:wrap;\n",
              "      gap: 12px;\n",
              "    }\n",
              "\n",
              "    .colab-df-convert {\n",
              "      background-color: #E8F0FE;\n",
              "      border: none;\n",
              "      border-radius: 50%;\n",
              "      cursor: pointer;\n",
              "      display: none;\n",
              "      fill: #1967D2;\n",
              "      height: 32px;\n",
              "      padding: 0 0 0 0;\n",
              "      width: 32px;\n",
              "    }\n",
              "\n",
              "    .colab-df-convert:hover {\n",
              "      background-color: #E2EBFA;\n",
              "      box-shadow: 0px 1px 2px rgba(60, 64, 67, 0.3), 0px 1px 3px 1px rgba(60, 64, 67, 0.15);\n",
              "      fill: #174EA6;\n",
              "    }\n",
              "\n",
              "    [theme=dark] .colab-df-convert {\n",
              "      background-color: #3B4455;\n",
              "      fill: #D2E3FC;\n",
              "    }\n",
              "\n",
              "    [theme=dark] .colab-df-convert:hover {\n",
              "      background-color: #434B5C;\n",
              "      box-shadow: 0px 1px 3px 1px rgba(0, 0, 0, 0.15);\n",
              "      filter: drop-shadow(0px 1px 2px rgba(0, 0, 0, 0.3));\n",
              "      fill: #FFFFFF;\n",
              "    }\n",
              "  </style>\n",
              "\n",
              "      <script>\n",
              "        const buttonEl =\n",
              "          document.querySelector('#df-edb3538d-5636-4544-9ee8-59aeb7c075da button.colab-df-convert');\n",
              "        buttonEl.style.display =\n",
              "          google.colab.kernel.accessAllowed ? 'block' : 'none';\n",
              "\n",
              "        async function convertToInteractive(key) {\n",
              "          const element = document.querySelector('#df-edb3538d-5636-4544-9ee8-59aeb7c075da');\n",
              "          const dataTable =\n",
              "            await google.colab.kernel.invokeFunction('convertToInteractive',\n",
              "                                                     [key], {});\n",
              "          if (!dataTable) return;\n",
              "\n",
              "          const docLinkHtml = 'Like what you see? Visit the ' +\n",
              "            '<a target=\"_blank\" href=https://colab.research.google.com/notebooks/data_table.ipynb>data table notebook</a>'\n",
              "            + ' to learn more about interactive tables.';\n",
              "          element.innerHTML = '';\n",
              "          dataTable['output_type'] = 'display_data';\n",
              "          await google.colab.output.renderOutput(dataTable, element);\n",
              "          const docLink = document.createElement('div');\n",
              "          docLink.innerHTML = docLinkHtml;\n",
              "          element.appendChild(docLink);\n",
              "        }\n",
              "      </script>\n",
              "    </div>\n",
              "  </div>\n",
              "  "
            ]
          },
          "metadata": {},
          "execution_count": 35
        }
      ],
      "source": [
        "#pip install haversine\n",
        "import haversine as hs  #Calculate the distance using Haversine to calculate the distance between to points. Can't use Eucladian as it is for flat surface.\n",
        "travel_dist = []\n",
        "for pos in range(len(df['pickup_longitude'])):\n",
        "        long1,lati1,long2,lati2 = [df['pickup_longitude'][pos],df['pickup_latitude'][pos],df['dropoff_longitude'][pos],df['dropoff_latitude'][pos]]\n",
        "        loc1=(lati1,long1)\n",
        "        loc2=(lati2,long2)\n",
        "        c = hs.haversine(loc1,loc2)\n",
        "        travel_dist.append(c)\n",
        "    \n",
        "print(travel_dist)\n",
        "df['dist_travel_km'] = travel_dist\n",
        "df.head()"
      ]
    },
    {
      "cell_type": "code",
      "execution_count": null,
      "id": "a8fc9d86",
      "metadata": {
        "colab": {
          "base_uri": "https://localhost:8080/"
        },
        "id": "a8fc9d86",
        "outputId": "e3dd7e03-dd12-4891-f75b-f275d79e4481"
      },
      "outputs": [
        {
          "output_type": "stream",
          "name": "stdout",
          "text": [
            "Remaining observastions in the dataset: (8917, 12)\n"
          ]
        }
      ],
      "source": [
        "#Uber doesn't travel over 130 kms so minimize the distance \n",
        "df= df.loc[(df.dist_travel_km >= 1) | (df.dist_travel_km <= 130)]\n",
        "print(\"Remaining observastions in the dataset:\", df.shape)"
      ]
    },
    {
      "cell_type": "code",
      "execution_count": null,
      "id": "65573111",
      "metadata": {
        "id": "65573111"
      },
      "outputs": [],
      "source": [
        "#Finding inccorect latitude (Less than or greater than 90) and longitude (greater than or less than 180)\n",
        "incorrect_coordinates = df.loc[(df.pickup_latitude > 90) |(df.pickup_latitude < -90) |\n",
        "                                   (df.dropoff_latitude > 90) |(df.dropoff_latitude < -90) |\n",
        "                                   (df.pickup_longitude > 180) |(df.pickup_longitude < -180) |\n",
        "                                   (df.dropoff_longitude > 90) |(df.dropoff_longitude < -90)\n",
        "                                    ]"
      ]
    },
    {
      "cell_type": "code",
      "execution_count": null,
      "id": "f7afb6fb",
      "metadata": {
        "colab": {
          "base_uri": "https://localhost:8080/"
        },
        "id": "f7afb6fb",
        "outputId": "bc8c43c1-968b-4049-d3d8-9d7c26a81dca"
      },
      "outputs": [
        {
          "output_type": "stream",
          "name": "stderr",
          "text": [
            "/usr/local/lib/python3.7/dist-packages/pandas/core/frame.py:4913: SettingWithCopyWarning: \n",
            "A value is trying to be set on a copy of a slice from a DataFrame\n",
            "\n",
            "See the caveats in the documentation: https://pandas.pydata.org/pandas-docs/stable/user_guide/indexing.html#returning-a-view-versus-a-copy\n",
            "  errors=errors,\n"
          ]
        }
      ],
      "source": [
        "df.drop(incorrect_coordinates, inplace = True, errors = 'ignore')"
      ]
    },
    {
      "cell_type": "code",
      "execution_count": null,
      "id": "acbaa382",
      "metadata": {
        "colab": {
          "base_uri": "https://localhost:8080/",
          "height": 270
        },
        "id": "acbaa382",
        "outputId": "72a6fc81-cc75-4bad-9f6a-6446c7431159"
      },
      "outputs": [
        {
          "output_type": "execute_result",
          "data": {
            "text/plain": [
              "   fare_amount  pickup_longitude  pickup_latitude  dropoff_longitude  \\\n",
              "0          7.5        -73.999817        40.738354         -73.999512   \n",
              "1          7.7        -73.994355        40.728225         -73.994710   \n",
              "2         12.9        -74.005043        40.740770         -73.962565   \n",
              "3          5.3        -73.976124        40.790844         -73.965316   \n",
              "4         16.0        -73.929865        40.744085         -73.973082   \n",
              "\n",
              "   dropoff_latitude  passenger_count  hour   day  month    year  dayofweek  \\\n",
              "0         40.723217              1.0  19.0   7.0    5.0  2015.0        3.0   \n",
              "1         40.750325              1.0  20.0  17.0    7.0  2009.0        4.0   \n",
              "2         40.772647              1.0  21.0  24.0    8.0  2009.0        0.0   \n",
              "3         40.803349              3.0   8.0  26.0    6.0  2009.0        4.0   \n",
              "4         40.761247              3.5  17.0  28.0    8.0  2014.0        3.0   \n",
              "\n",
              "   dist_travel_km  \n",
              "0        1.683325  \n",
              "1        2.457593  \n",
              "2        5.036384  \n",
              "3        1.661686  \n",
              "4        4.110212  "
            ],
            "text/html": [
              "\n",
              "  <div id=\"df-a428bb8a-1f89-404d-8c67-3145055f31fb\">\n",
              "    <div class=\"colab-df-container\">\n",
              "      <div>\n",
              "<style scoped>\n",
              "    .dataframe tbody tr th:only-of-type {\n",
              "        vertical-align: middle;\n",
              "    }\n",
              "\n",
              "    .dataframe tbody tr th {\n",
              "        vertical-align: top;\n",
              "    }\n",
              "\n",
              "    .dataframe thead th {\n",
              "        text-align: right;\n",
              "    }\n",
              "</style>\n",
              "<table border=\"1\" class=\"dataframe\">\n",
              "  <thead>\n",
              "    <tr style=\"text-align: right;\">\n",
              "      <th></th>\n",
              "      <th>fare_amount</th>\n",
              "      <th>pickup_longitude</th>\n",
              "      <th>pickup_latitude</th>\n",
              "      <th>dropoff_longitude</th>\n",
              "      <th>dropoff_latitude</th>\n",
              "      <th>passenger_count</th>\n",
              "      <th>hour</th>\n",
              "      <th>day</th>\n",
              "      <th>month</th>\n",
              "      <th>year</th>\n",
              "      <th>dayofweek</th>\n",
              "      <th>dist_travel_km</th>\n",
              "    </tr>\n",
              "  </thead>\n",
              "  <tbody>\n",
              "    <tr>\n",
              "      <th>0</th>\n",
              "      <td>7.5</td>\n",
              "      <td>-73.999817</td>\n",
              "      <td>40.738354</td>\n",
              "      <td>-73.999512</td>\n",
              "      <td>40.723217</td>\n",
              "      <td>1.0</td>\n",
              "      <td>19.0</td>\n",
              "      <td>7.0</td>\n",
              "      <td>5.0</td>\n",
              "      <td>2015.0</td>\n",
              "      <td>3.0</td>\n",
              "      <td>1.683325</td>\n",
              "    </tr>\n",
              "    <tr>\n",
              "      <th>1</th>\n",
              "      <td>7.7</td>\n",
              "      <td>-73.994355</td>\n",
              "      <td>40.728225</td>\n",
              "      <td>-73.994710</td>\n",
              "      <td>40.750325</td>\n",
              "      <td>1.0</td>\n",
              "      <td>20.0</td>\n",
              "      <td>17.0</td>\n",
              "      <td>7.0</td>\n",
              "      <td>2009.0</td>\n",
              "      <td>4.0</td>\n",
              "      <td>2.457593</td>\n",
              "    </tr>\n",
              "    <tr>\n",
              "      <th>2</th>\n",
              "      <td>12.9</td>\n",
              "      <td>-74.005043</td>\n",
              "      <td>40.740770</td>\n",
              "      <td>-73.962565</td>\n",
              "      <td>40.772647</td>\n",
              "      <td>1.0</td>\n",
              "      <td>21.0</td>\n",
              "      <td>24.0</td>\n",
              "      <td>8.0</td>\n",
              "      <td>2009.0</td>\n",
              "      <td>0.0</td>\n",
              "      <td>5.036384</td>\n",
              "    </tr>\n",
              "    <tr>\n",
              "      <th>3</th>\n",
              "      <td>5.3</td>\n",
              "      <td>-73.976124</td>\n",
              "      <td>40.790844</td>\n",
              "      <td>-73.965316</td>\n",
              "      <td>40.803349</td>\n",
              "      <td>3.0</td>\n",
              "      <td>8.0</td>\n",
              "      <td>26.0</td>\n",
              "      <td>6.0</td>\n",
              "      <td>2009.0</td>\n",
              "      <td>4.0</td>\n",
              "      <td>1.661686</td>\n",
              "    </tr>\n",
              "    <tr>\n",
              "      <th>4</th>\n",
              "      <td>16.0</td>\n",
              "      <td>-73.929865</td>\n",
              "      <td>40.744085</td>\n",
              "      <td>-73.973082</td>\n",
              "      <td>40.761247</td>\n",
              "      <td>3.5</td>\n",
              "      <td>17.0</td>\n",
              "      <td>28.0</td>\n",
              "      <td>8.0</td>\n",
              "      <td>2014.0</td>\n",
              "      <td>3.0</td>\n",
              "      <td>4.110212</td>\n",
              "    </tr>\n",
              "  </tbody>\n",
              "</table>\n",
              "</div>\n",
              "      <button class=\"colab-df-convert\" onclick=\"convertToInteractive('df-a428bb8a-1f89-404d-8c67-3145055f31fb')\"\n",
              "              title=\"Convert this dataframe to an interactive table.\"\n",
              "              style=\"display:none;\">\n",
              "        \n",
              "  <svg xmlns=\"http://www.w3.org/2000/svg\" height=\"24px\"viewBox=\"0 0 24 24\"\n",
              "       width=\"24px\">\n",
              "    <path d=\"M0 0h24v24H0V0z\" fill=\"none\"/>\n",
              "    <path d=\"M18.56 5.44l.94 2.06.94-2.06 2.06-.94-2.06-.94-.94-2.06-.94 2.06-2.06.94zm-11 1L8.5 8.5l.94-2.06 2.06-.94-2.06-.94L8.5 2.5l-.94 2.06-2.06.94zm10 10l.94 2.06.94-2.06 2.06-.94-2.06-.94-.94-2.06-.94 2.06-2.06.94z\"/><path d=\"M17.41 7.96l-1.37-1.37c-.4-.4-.92-.59-1.43-.59-.52 0-1.04.2-1.43.59L10.3 9.45l-7.72 7.72c-.78.78-.78 2.05 0 2.83L4 21.41c.39.39.9.59 1.41.59.51 0 1.02-.2 1.41-.59l7.78-7.78 2.81-2.81c.8-.78.8-2.07 0-2.86zM5.41 20L4 18.59l7.72-7.72 1.47 1.35L5.41 20z\"/>\n",
              "  </svg>\n",
              "      </button>\n",
              "      \n",
              "  <style>\n",
              "    .colab-df-container {\n",
              "      display:flex;\n",
              "      flex-wrap:wrap;\n",
              "      gap: 12px;\n",
              "    }\n",
              "\n",
              "    .colab-df-convert {\n",
              "      background-color: #E8F0FE;\n",
              "      border: none;\n",
              "      border-radius: 50%;\n",
              "      cursor: pointer;\n",
              "      display: none;\n",
              "      fill: #1967D2;\n",
              "      height: 32px;\n",
              "      padding: 0 0 0 0;\n",
              "      width: 32px;\n",
              "    }\n",
              "\n",
              "    .colab-df-convert:hover {\n",
              "      background-color: #E2EBFA;\n",
              "      box-shadow: 0px 1px 2px rgba(60, 64, 67, 0.3), 0px 1px 3px 1px rgba(60, 64, 67, 0.15);\n",
              "      fill: #174EA6;\n",
              "    }\n",
              "\n",
              "    [theme=dark] .colab-df-convert {\n",
              "      background-color: #3B4455;\n",
              "      fill: #D2E3FC;\n",
              "    }\n",
              "\n",
              "    [theme=dark] .colab-df-convert:hover {\n",
              "      background-color: #434B5C;\n",
              "      box-shadow: 0px 1px 3px 1px rgba(0, 0, 0, 0.15);\n",
              "      filter: drop-shadow(0px 1px 2px rgba(0, 0, 0, 0.3));\n",
              "      fill: #FFFFFF;\n",
              "    }\n",
              "  </style>\n",
              "\n",
              "      <script>\n",
              "        const buttonEl =\n",
              "          document.querySelector('#df-a428bb8a-1f89-404d-8c67-3145055f31fb button.colab-df-convert');\n",
              "        buttonEl.style.display =\n",
              "          google.colab.kernel.accessAllowed ? 'block' : 'none';\n",
              "\n",
              "        async function convertToInteractive(key) {\n",
              "          const element = document.querySelector('#df-a428bb8a-1f89-404d-8c67-3145055f31fb');\n",
              "          const dataTable =\n",
              "            await google.colab.kernel.invokeFunction('convertToInteractive',\n",
              "                                                     [key], {});\n",
              "          if (!dataTable) return;\n",
              "\n",
              "          const docLinkHtml = 'Like what you see? Visit the ' +\n",
              "            '<a target=\"_blank\" href=https://colab.research.google.com/notebooks/data_table.ipynb>data table notebook</a>'\n",
              "            + ' to learn more about interactive tables.';\n",
              "          element.innerHTML = '';\n",
              "          dataTable['output_type'] = 'display_data';\n",
              "          await google.colab.output.renderOutput(dataTable, element);\n",
              "          const docLink = document.createElement('div');\n",
              "          docLink.innerHTML = docLinkHtml;\n",
              "          element.appendChild(docLink);\n",
              "        }\n",
              "      </script>\n",
              "    </div>\n",
              "  </div>\n",
              "  "
            ]
          },
          "metadata": {},
          "execution_count": 39
        }
      ],
      "source": [
        "df.head()"
      ]
    },
    {
      "cell_type": "code",
      "execution_count": null,
      "id": "75be700d",
      "metadata": {
        "colab": {
          "base_uri": "https://localhost:8080/"
        },
        "id": "75be700d",
        "outputId": "6703e6fb-4635-4b36-f4f7-56101b7962ed"
      },
      "outputs": [
        {
          "output_type": "execute_result",
          "data": {
            "text/plain": [
              "fare_amount          0\n",
              "pickup_longitude     0\n",
              "pickup_latitude      0\n",
              "dropoff_longitude    0\n",
              "dropoff_latitude     0\n",
              "passenger_count      0\n",
              "hour                 0\n",
              "day                  0\n",
              "month                0\n",
              "year                 0\n",
              "dayofweek            0\n",
              "dist_travel_km       0\n",
              "dtype: int64"
            ]
          },
          "metadata": {},
          "execution_count": 40
        }
      ],
      "source": [
        "df.isnull().sum()"
      ]
    },
    {
      "cell_type": "code",
      "execution_count": null,
      "id": "b69d9d57",
      "metadata": {
        "colab": {
          "base_uri": "https://localhost:8080/",
          "height": 365
        },
        "id": "b69d9d57",
        "outputId": "f1866cd4-2936-44cf-d6b8-890cb5589982"
      },
      "outputs": [
        {
          "output_type": "execute_result",
          "data": {
            "text/plain": [
              "<matplotlib.axes._subplots.AxesSubplot at 0x7f75065f0850>"
            ]
          },
          "metadata": {},
          "execution_count": 41
        },
        {
          "output_type": "display_data",
          "data": {
            "text/plain": [
              "<Figure size 432x288 with 2 Axes>"
            ],
            "image/png": "[encoded data removed]"
          },
          "metadata": {
            "needs_background": "light"
          }
        }
      ],
      "source": [
        "sns.heatmap(df.isnull()) #Free for null values"
      ]
    },
    {
      "cell_type": "code",
      "execution_count": null,
      "id": "03aee8fb",
      "metadata": {
        "id": "03aee8fb"
      },
      "outputs": [],
      "source": [
        "corr = df.corr() #Function to find the correlation"
      ]
    },
    {
      "cell_type": "code",
      "execution_count": null,
      "id": "6f748085",
      "metadata": {
        "colab": {
          "base_uri": "https://localhost:8080/",
          "height": 490
        },
        "id": "6f748085",
        "outputId": "cd5f1ebe-b33d-4763-d36f-c7171bb2d841"
      },
      "outputs": [
        {
          "output_type": "execute_result",
          "data": {
            "text/plain": [
              "                   fare_amount  pickup_longitude  pickup_latitude  \\\n",
              "fare_amount           1.000000          0.165414        -0.114549   \n",
              "pickup_longitude      0.165414          1.000000         0.273343   \n",
              "pickup_latitude      -0.114549          0.273343         1.000000   \n",
              "dropoff_longitude     0.224611          0.416039         0.062492   \n",
              "dropoff_latitude     -0.132872          0.091690         0.516364   \n",
              "passenger_count      -0.011858         -0.015443        -0.011107   \n",
              "hour                 -0.013400          0.011009         0.027841   \n",
              "day                  -0.000422         -0.012864        -0.000063   \n",
              "month                 0.039592          0.007684         0.000710   \n",
              "year                  0.154025          0.016840        -0.003428   \n",
              "dayofweek             0.027668         -0.025352        -0.032023   \n",
              "dist_travel_km        0.796337          0.062338        -0.079231   \n",
              "\n",
              "                   dropoff_longitude  dropoff_latitude  passenger_count  \\\n",
              "fare_amount                 0.224611         -0.132872        -0.011858   \n",
              "pickup_longitude            0.416039          0.091690        -0.015443   \n",
              "pickup_latitude             0.062492          0.516364        -0.011107   \n",
              "dropoff_longitude           1.000000          0.266043        -0.017582   \n",
              "dropoff_latitude            0.266043          1.000000        -0.023474   \n",
              "passenger_count            -0.017582         -0.023474         1.000000   \n",
              "hour                       -0.064771          0.009796         0.030098   \n",
              "day                        -0.005070          0.000719         0.014889   \n",
              "month                       0.018502          0.001376         0.010609   \n",
              "year                        0.029700          0.004616        -0.003391   \n",
              "dayofweek                  -0.011110         -0.032096         0.041723   \n",
              "dist_travel_km              0.161266         -0.068517        -0.003816   \n",
              "\n",
              "                       hour       day     month      year  dayofweek  \\\n",
              "fare_amount       -0.013400 -0.000422  0.039592  0.154025   0.027668   \n",
              "pickup_longitude   0.011009 -0.012864  0.007684  0.016840  -0.025352   \n",
              "pickup_latitude    0.027841 -0.000063  0.000710 -0.003428  -0.032023   \n",
              "dropoff_longitude -0.064771 -0.005070  0.018502  0.029700  -0.011110   \n",
              "dropoff_latitude   0.009796  0.000719  0.001376  0.004616  -0.032096   \n",
              "passenger_count    0.030098  0.014889  0.010609 -0.003391   0.041723   \n",
              "hour               1.000000  0.005000  0.008108  0.001384  -0.095396   \n",
              "day                0.005000  1.000000 -0.017187 -0.012429   0.002717   \n",
              "month              0.008108 -0.017187  1.000000 -0.113887  -0.000273   \n",
              "year               0.001384 -0.012429 -0.113887  1.000000   0.006451   \n",
              "dayofweek         -0.095396  0.002717 -0.000273  0.006451   1.000000   \n",
              "dist_travel_km    -0.029542 -0.002736  0.027093  0.028554   0.042899   \n",
              "\n",
              "                   dist_travel_km  \n",
              "fare_amount              0.796337  \n",
              "pickup_longitude         0.062338  \n",
              "pickup_latitude         -0.079231  \n",
              "dropoff_longitude        0.161266  \n",
              "dropoff_latitude        -0.068517  \n",
              "passenger_count         -0.003816  \n",
              "hour                    -0.029542  \n",
              "day                     -0.002736  \n",
              "month                    0.027093  \n",
              "year                     0.028554  \n",
              "dayofweek                0.042899  \n",
              "dist_travel_km           1.000000  "
            ],
            "text/html": [
              "\n",
              "  <div id=\"df-1eb45fe2-4bba-4f60-b73d-ad01a7492793\">\n",
              "    <div class=\"colab-df-container\">\n",
              "      <div>\n",
              "<style scoped>\n",
              "    .dataframe tbody tr th:only-of-type {\n",
              "        vertical-align: middle;\n",
              "    }\n",
              "\n",
              "    .dataframe tbody tr th {\n",
              "        vertical-align: top;\n",
              "    }\n",
              "\n",
              "    .dataframe thead th {\n",
              "        text-align: right;\n",
              "    }\n",
              "</style>\n",
              "<table border=\"1\" class=\"dataframe\">\n",
              "  <thead>\n",
              "    <tr style=\"text-align: right;\">\n",
              "      <th></th>\n",
              "      <th>fare_amount</th>\n",
              "      <th>pickup_longitude</th>\n",
              "      <th>pickup_latitude</th>\n",
              "      <th>dropoff_longitude</th>\n",
              "      <th>dropoff_latitude</th>\n",
              "      <th>passenger_count</th>\n",
              "      <th>hour</th>\n",
              "      <th>day</th>\n",
              "      <th>month</th>\n",
              "      <th>year</th>\n",
              "      <th>dayofweek</th>\n",
              "      <th>dist_travel_km</th>\n",
              "    </tr>\n",
              "  </thead>\n",
              "  <tbody>\n",
              "    <tr>\n",
              "      <th>fare_amount</th>\n",
              "      <td>1.000000</td>\n",
              "      <td>0.165414</td>\n",
              "      <td>-0.114549</td>\n",
              "      <td>0.224611</td>\n",
              "      <td>-0.132872</td>\n",
              "      <td>-0.011858</td>\n",
              "      <td>-0.013400</td>\n",
              "      <td>-0.000422</td>\n",
              "      <td>0.039592</td>\n",
              "      <td>0.154025</td>\n",
              "      <td>0.027668</td>\n",
              "      <td>0.796337</td>\n",
              "    </tr>\n",
              "    <tr>\n",
              "      <th>pickup_longitude</th>\n",
              "      <td>0.165414</td>\n",
              "      <td>1.000000</td>\n",
              "      <td>0.273343</td>\n",
              "      <td>0.416039</td>\n",
              "      <td>0.091690</td>\n",
              "      <td>-0.015443</td>\n",
              "      <td>0.011009</td>\n",
              "      <td>-0.012864</td>\n",
              "      <td>0.007684</td>\n",
              "      <td>0.016840</td>\n",
              "      <td>-0.025352</td>\n",
              "      <td>0.062338</td>\n",
              "    </tr>\n",
              "    <tr>\n",
              "      <th>pickup_latitude</th>\n",
              "      <td>-0.114549</td>\n",
              "      <td>0.273343</td>\n",
              "      <td>1.000000</td>\n",
              "      <td>0.062492</td>\n",
              "      <td>0.516364</td>\n",
              "      <td>-0.011107</td>\n",
              "      <td>0.027841</td>\n",
              "      <td>-0.000063</td>\n",
              "      <td>0.000710</td>\n",
              "      <td>-0.003428</td>\n",
              "      <td>-0.032023</td>\n",
              "      <td>-0.079231</td>\n",
              "    </tr>\n",
              "    <tr>\n",
              "      <th>dropoff_longitude</th>\n",
              "      <td>0.224611</td>\n",
              "      <td>0.416039</td>\n",
              "      <td>0.062492</td>\n",
              "      <td>1.000000</td>\n",
              "      <td>0.266043</td>\n",
              "      <td>-0.017582</td>\n",
              "      <td>-0.064771</td>\n",
              "      <td>-0.005070</td>\n",
              "      <td>0.018502</td>\n",
              "      <td>0.029700</td>\n",
              "      <td>-0.011110</td>\n",
              "      <td>0.161266</td>\n",
              "    </tr>\n",
              "    <tr>\n",
              "      <th>dropoff_latitude</th>\n",
              "      <td>-0.132872</td>\n",
              "      <td>0.091690</td>\n",
              "      <td>0.516364</td>\n",
              "      <td>0.266043</td>\n",
              "      <td>1.000000</td>\n",
              "      <td>-0.023474</td>\n",
              "      <td>0.009796</td>\n",
              "      <td>0.000719</td>\n",
              "      <td>0.001376</td>\n",
              "      <td>0.004616</td>\n",
              "      <td>-0.032096</td>\n",
              "      <td>-0.068517</td>\n",
              "    </tr>\n",
              "    <tr>\n",
              "      <th>passenger_count</th>\n",
              "      <td>-0.011858</td>\n",
              "      <td>-0.015443</td>\n",
              "      <td>-0.011107</td>\n",
              "      <td>-0.017582</td>\n",
              "      <td>-0.023474</td>\n",
              "      <td>1.000000</td>\n",
              "      <td>0.030098</td>\n",
              "      <td>0.014889</td>\n",
              "      <td>0.010609</td>\n",
              "      <td>-0.003391</td>\n",
              "      <td>0.041723</td>\n",
              "      <td>-0.003816</td>\n",
              "    </tr>\n",
              "    <tr>\n",
              "      <th>hour</th>\n",
              "      <td>-0.013400</td>\n",
              "      <td>0.011009</td>\n",
              "      <td>0.027841</td>\n",
              "      <td>-0.064771</td>\n",
              "      <td>0.009796</td>\n",
              "      <td>0.030098</td>\n",
              "      <td>1.000000</td>\n",
              "      <td>0.005000</td>\n",
              "      <td>0.008108</td>\n",
              "      <td>0.001384</td>\n",
              "      <td>-0.095396</td>\n",
              "      <td>-0.029542</td>\n",
              "    </tr>\n",
              "    <tr>\n",
              "      <th>day</th>\n",
              "      <td>-0.000422</td>\n",
              "      <td>-0.012864</td>\n",
              "      <td>-0.000063</td>\n",
              "      <td>-0.005070</td>\n",
              "      <td>0.000719</td>\n",
              "      <td>0.014889</td>\n",
              "      <td>0.005000</td>\n",
              "      <td>1.000000</td>\n",
              "      <td>-0.017187</td>\n",
              "      <td>-0.012429</td>\n",
              "      <td>0.002717</td>\n",
              "      <td>-0.002736</td>\n",
              "    </tr>\n",
              "    <tr>\n",
              "      <th>month</th>\n",
              "      <td>0.039592</td>\n",
              "      <td>0.007684</td>\n",
              "      <td>0.000710</td>\n",
              "      <td>0.018502</td>\n",
              "      <td>0.001376</td>\n",
              "      <td>0.010609</td>\n",
              "      <td>0.008108</td>\n",
              "      <td>-0.017187</td>\n",
              "      <td>1.000000</td>\n",
              "      <td>-0.113887</td>\n",
              "      <td>-0.000273</td>\n",
              "      <td>0.027093</td>\n",
              "    </tr>\n",
              "    <tr>\n",
              "      <th>year</th>\n",
              "      <td>0.154025</td>\n",
              "      <td>0.016840</td>\n",
              "      <td>-0.003428</td>\n",
              "      <td>0.029700</td>\n",
              "      <td>0.004616</td>\n",
              "      <td>-0.003391</td>\n",
              "      <td>0.001384</td>\n",
              "      <td>-0.012429</td>\n",
              "      <td>-0.113887</td>\n",
              "      <td>1.000000</td>\n",
              "      <td>0.006451</td>\n",
              "      <td>0.028554</td>\n",
              "    </tr>\n",
              "    <tr>\n",
              "      <th>dayofweek</th>\n",
              "      <td>0.027668</td>\n",
              "      <td>-0.025352</td>\n",
              "      <td>-0.032023</td>\n",
              "      <td>-0.011110</td>\n",
              "      <td>-0.032096</td>\n",
              "      <td>0.041723</td>\n",
              "      <td>-0.095396</td>\n",
              "      <td>0.002717</td>\n",
              "      <td>-0.000273</td>\n",
              "      <td>0.006451</td>\n",
              "      <td>1.000000</td>\n",
              "      <td>0.042899</td>\n",
              "    </tr>\n",
              "    <tr>\n",
              "      <th>dist_travel_km</th>\n",
              "      <td>0.796337</td>\n",
              "      <td>0.062338</td>\n",
              "      <td>-0.079231</td>\n",
              "      <td>0.161266</td>\n",
              "      <td>-0.068517</td>\n",
              "      <td>-0.003816</td>\n",
              "      <td>-0.029542</td>\n",
              "      <td>-0.002736</td>\n",
              "      <td>0.027093</td>\n",
              "      <td>0.028554</td>\n",
              "      <td>0.042899</td>\n",
              "      <td>1.000000</td>\n",
              "    </tr>\n",
              "  </tbody>\n",
              "</table>\n",
              "</div>\n",
              "      <button class=\"colab-df-convert\" onclick=\"convertToInteractive('df-1eb45fe2-4bba-4f60-b73d-ad01a7492793')\"\n",
              "              title=\"Convert this dataframe to an interactive table.\"\n",
              "              style=\"display:none;\">\n",
              "        \n",
              "  <svg xmlns=\"http://www.w3.org/2000/svg\" height=\"24px\"viewBox=\"0 0 24 24\"\n",
              "       width=\"24px\">\n",
              "    <path d=\"M0 0h24v24H0V0z\" fill=\"none\"/>\n",
              "    <path d=\"M18.56 5.44l.94 2.06.94-2.06 2.06-.94-2.06-.94-.94-2.06-.94 2.06-2.06.94zm-11 1L8.5 8.5l.94-2.06 2.06-.94-2.06-.94L8.5 2.5l-.94 2.06-2.06.94zm10 10l.94 2.06.94-2.06 2.06-.94-2.06-.94-.94-2.06-.94 2.06-2.06.94z\"/><path d=\"M17.41 7.96l-1.37-1.37c-.4-.4-.92-.59-1.43-.59-.52 0-1.04.2-1.43.59L10.3 9.45l-7.72 7.72c-.78.78-.78 2.05 0 2.83L4 21.41c.39.39.9.59 1.41.59.51 0 1.02-.2 1.41-.59l7.78-7.78 2.81-2.81c.8-.78.8-2.07 0-2.86zM5.41 20L4 18.59l7.72-7.72 1.47 1.35L5.41 20z\"/>\n",
              "  </svg>\n",
              "      </button>\n",
              "      \n",
              "  <style>\n",
              "    .colab-df-container {\n",
              "      display:flex;\n",
              "      flex-wrap:wrap;\n",
              "      gap: 12px;\n",
              "    }\n",
              "\n",
              "    .colab-df-convert {\n",
              "      background-color: #E8F0FE;\n",
              "      border: none;\n",
              "      border-radius: 50%;\n",
              "      cursor: pointer;\n",
              "      display: none;\n",
              "      fill: #1967D2;\n",
              "      height: 32px;\n",
              "      padding: 0 0 0 0;\n",
              "      width: 32px;\n",
              "    }\n",
              "\n",
              "    .colab-df-convert:hover {\n",
              "      background-color: #E2EBFA;\n",
              "      box-shadow: 0px 1px 2px rgba(60, 64, 67, 0.3), 0px 1px 3px 1px rgba(60, 64, 67, 0.15);\n",
              "      fill: #174EA6;\n",
              "    }\n",
              "\n",
              "    [theme=dark] .colab-df-convert {\n",
              "      background-color: #3B4455;\n",
              "      fill: #D2E3FC;\n",
              "    }\n",
              "\n",
              "    [theme=dark] .colab-df-convert:hover {\n",
              "      background-color: #434B5C;\n",
              "      box-shadow: 0px 1px 3px 1px rgba(0, 0, 0, 0.15);\n",
              "      filter: drop-shadow(0px 1px 2px rgba(0, 0, 0, 0.3));\n",
              "      fill: #FFFFFF;\n",
              "    }\n",
              "  </style>\n",
              "\n",
              "      <script>\n",
              "        const buttonEl =\n",
              "          document.querySelector('#df-1eb45fe2-4bba-4f60-b73d-ad01a7492793 button.colab-df-convert');\n",
              "        buttonEl.style.display =\n",
              "          google.colab.kernel.accessAllowed ? 'block' : 'none';\n",
              "\n",
              "        async function convertToInteractive(key) {\n",
              "          const element = document.querySelector('#df-1eb45fe2-4bba-4f60-b73d-ad01a7492793');\n",
              "          const dataTable =\n",
              "            await google.colab.kernel.invokeFunction('convertToInteractive',\n",
              "                                                     [key], {});\n",
              "          if (!dataTable) return;\n",
              "\n",
              "          const docLinkHtml = 'Like what you see? Visit the ' +\n",
              "            '<a target=\"_blank\" href=https://colab.research.google.com/notebooks/data_table.ipynb>data table notebook</a>'\n",
              "            + ' to learn more about interactive tables.';\n",
              "          element.innerHTML = '';\n",
              "          dataTable['output_type'] = 'display_data';\n",
              "          await google.colab.output.renderOutput(dataTable, element);\n",
              "          const docLink = document.createElement('div');\n",
              "          docLink.innerHTML = docLinkHtml;\n",
              "          element.appendChild(docLink);\n",
              "        }\n",
              "      </script>\n",
              "    </div>\n",
              "  </div>\n",
              "  "
            ]
          },
          "metadata": {},
          "execution_count": 43
        }
      ],
      "source": [
        "corr"
      ]
    },
    {
      "cell_type": "code",
      "execution_count": null,
      "id": "379a2944",
      "metadata": {
        "colab": {
          "base_uri": "https://localhost:8080/",
          "height": 473
        },
        "id": "379a2944",
        "outputId": "13d7bc5e-c405-4bc4-d4f5-e666c8810aa5"
      },
      "outputs": [
        {
          "output_type": "execute_result",
          "data": {
            "text/plain": [
              "<matplotlib.axes._subplots.AxesSubplot at 0x7f7503d07210>"
            ]
          },
          "metadata": {},
          "execution_count": 44
        },
        {
          "output_type": "display_data",
          "data": {
            "text/plain": [
              "<Figure size 720x432 with 2 Axes>"
            ],
            "image/png": "[encoded data removed]"
          },
          "metadata": {
            "needs_background": "light"
          }
        }
      ],
      "source": [
        "fig,axis = plt.subplots(figsize = (10,6))\n",
        "sns.heatmap(df.corr(),annot = True) #Correlation Heatmap (Light values means highly correlated)"
      ]
    },
    {
      "cell_type": "markdown",
      "id": "147b7204",
      "metadata": {
        "id": "147b7204"
      },
      "source": [
        "### Dividing the dataset into feature and target values "
      ]
    },
    {
      "cell_type": "code",
      "execution_count": null,
      "id": "dcbe11f4",
      "metadata": {
        "id": "dcbe11f4"
      },
      "outputs": [],
      "source": [
        "x = df[['pickup_longitude','pickup_latitude','dropoff_longitude','dropoff_latitude','passenger_count','hour','day','month','year','dayofweek','dist_travel_km']]"
      ]
    },
    {
      "cell_type": "code",
      "execution_count": null,
      "id": "374ad33e",
      "metadata": {
        "id": "374ad33e"
      },
      "outputs": [],
      "source": [
        "y = df['fare_amount']"
      ]
    },
    {
      "cell_type": "markdown",
      "id": "271b0ada",
      "metadata": {
        "id": "271b0ada"
      },
      "source": [
        "### Dividing the dataset into training and testing dataset"
      ]
    },
    {
      "cell_type": "code",
      "execution_count": null,
      "id": "531acc39",
      "metadata": {
        "id": "531acc39"
      },
      "outputs": [],
      "source": [
        "from sklearn.model_selection import train_test_split\n",
        "X_train,X_test,y_train,y_test = train_test_split(x,y,test_size = 0.33)"
      ]
    },
    {
      "cell_type": "markdown",
      "id": "50cb63a2",
      "metadata": {
        "id": "50cb63a2"
      },
      "source": [
        "### Linear Regression"
      ]
    },
    {
      "cell_type": "code",
      "execution_count": null,
      "id": "e7832a2a",
      "metadata": {
        "id": "e7832a2a"
      },
      "outputs": [],
      "source": [
        "from sklearn.linear_model import LinearRegression\n",
        "regression = LinearRegression()"
      ]
    },
    {
      "cell_type": "code",
      "execution_count": null,
      "id": "250424f0",
      "metadata": {
        "colab": {
          "base_uri": "https://localhost:8080/"
        },
        "id": "250424f0",
        "outputId": "83b155a8-21f5-4c3f-cce0-2eecd0a31d80"
      },
      "outputs": [
        {
          "output_type": "execute_result",
          "data": {
            "text/plain": [
              "LinearRegression()"
            ]
          },
          "metadata": {},
          "execution_count": 49
        }
      ],
      "source": [
        "regression.fit(X_train,y_train)"
      ]
    },
    {
      "cell_type": "code",
      "execution_count": null,
      "id": "20e68d88",
      "metadata": {
        "colab": {
          "base_uri": "https://localhost:8080/"
        },
        "id": "20e68d88",
        "outputId": "e3537104-ea4f-4fc4-d7d5-9c107888f254"
      },
      "outputs": [
        {
          "output_type": "execute_result",
          "data": {
            "text/plain": [
              "3513.1560366227445"
            ]
          },
          "metadata": {},
          "execution_count": 50
        }
      ],
      "source": [
        "regression.intercept_ #To find the linear intercept"
      ]
    },
    {
      "cell_type": "code",
      "execution_count": null,
      "id": "51d71c8f",
      "metadata": {
        "colab": {
          "base_uri": "https://localhost:8080/"
        },
        "id": "51d71c8f",
        "outputId": "476bac7a-1333-42ce-d3f9-df688b8f2a85"
      },
      "outputs": [
        {
          "output_type": "execute_result",
          "data": {
            "text/plain": [
              "array([ 2.45157804e+01, -8.64148972e+00,  2.09691239e+01, -1.49222398e+01,\n",
              "       -5.80396570e-02,  8.23291252e-03,  1.84261826e-03,  4.42080591e-02,\n",
              "        4.05858154e-01, -1.70956702e-02,  1.84851189e+00])"
            ]
          },
          "metadata": {},
          "execution_count": 51
        }
      ],
      "source": [
        "regression.coef_ #To find the linear coeeficient"
      ]
    },
    {
      "cell_type": "code",
      "execution_count": null,
      "id": "1f1eb1de",
      "metadata": {
        "id": "1f1eb1de"
      },
      "outputs": [],
      "source": [
        "prediction = regression.predict(X_test) #To predict the target values"
      ]
    },
    {
      "cell_type": "code",
      "execution_count": null,
      "id": "f0d5ff74",
      "metadata": {
        "colab": {
          "base_uri": "https://localhost:8080/"
        },
        "id": "f0d5ff74",
        "outputId": "b4ca8fe1-42cd-461e-d95a-c5fad85c191b"
      },
      "outputs": [
        {
          "output_type": "stream",
          "name": "stdout",
          "text": [
            "[ 7.69314053  6.6503221   8.91691157 ... 11.19238826  5.11162265\n",
            "  5.22366491]\n"
          ]
        }
      ],
      "source": [
        "print(prediction)"
      ]
    },
    {
      "cell_type": "code",
      "execution_count": null,
      "id": "bee43837",
      "metadata": {
        "colab": {
          "base_uri": "https://localhost:8080/"
        },
        "id": "bee43837",
        "outputId": "95096c9a-aa53-4b90-e60d-6b56008418b2"
      },
      "outputs": [
        {
          "output_type": "execute_result",
          "data": {
            "text/plain": [
              "8916     6.1\n",
              "3281     5.7\n",
              "8614     8.5\n",
              "7867    13.5\n",
              "8579    13.0\n",
              "        ... \n",
              "5103    19.5\n",
              "4758     6.5\n",
              "2004     7.7\n",
              "6225     5.7\n",
              "4648     7.7\n",
              "Name: fare_amount, Length: 2943, dtype: float64"
            ]
          },
          "metadata": {},
          "execution_count": 54
        }
      ],
      "source": [
        "y_test"
      ]
    },
    {
      "cell_type": "markdown",
      "id": "aea79164",
      "metadata": {
        "id": "aea79164"
      },
      "source": [
        "### Metrics Evaluation using R2, Mean Squared Error, Root Mean Sqared Error"
      ]
    },
    {
      "cell_type": "code",
      "execution_count": null,
      "id": "0adbb04a",
      "metadata": {
        "id": "0adbb04a"
      },
      "outputs": [],
      "source": [
        "from sklearn.metrics import r2_score "
      ]
    },
    {
      "cell_type": "code",
      "execution_count": null,
      "id": "e149ee76",
      "metadata": {
        "colab": {
          "base_uri": "https://localhost:8080/"
        },
        "id": "e149ee76",
        "outputId": "eb62fc75-0552-439e-add8-ce0ffdd4a560"
      },
      "outputs": [
        {
          "output_type": "execute_result",
          "data": {
            "text/plain": [
              "0.6636741707173341"
            ]
          },
          "metadata": {},
          "execution_count": 56
        }
      ],
      "source": [
        "r2_score(y_test,prediction)"
      ]
    },
    {
      "cell_type": "code",
      "execution_count": null,
      "id": "fe211918",
      "metadata": {
        "id": "fe211918"
      },
      "outputs": [],
      "source": [
        "from sklearn.metrics import mean_squared_error"
      ]
    },
    {
      "cell_type": "code",
      "execution_count": null,
      "id": "c0f0a43a",
      "metadata": {
        "id": "c0f0a43a"
      },
      "outputs": [],
      "source": [
        "MSE = mean_squared_error(y_test,prediction)"
      ]
    },
    {
      "cell_type": "code",
      "execution_count": null,
      "id": "48d59a67",
      "metadata": {
        "colab": {
          "base_uri": "https://localhost:8080/"
        },
        "id": "48d59a67",
        "outputId": "3a086e34-dfee-4e21-ede9-d22b579af417"
      },
      "outputs": [
        {
          "output_type": "execute_result",
          "data": {
            "text/plain": [
              "9.717330964971087"
            ]
          },
          "metadata": {},
          "execution_count": 59
        }
      ],
      "source": [
        "MSE L"
      ]
    },
    {
      "cell_type": "code",
      "execution_count": null,
      "id": "2511108b",
      "metadata": {
        "id": "2511108b"
      },
      "outputs": [],
      "source": [
        "RMSE = np.sqrt(MSE)"
      ]
    },
    {
      "cell_type": "code",
      "execution_count": null,
      "id": "2dc85cab",
      "metadata": {
        "colab": {
          "base_uri": "https://localhost:8080/"
        },
        "id": "2dc85cab",
        "outputId": "9a15a6c6-f8f1-432c-f8d9-ea290dc7ee46"
      },
      "outputs": [
        {
          "output_type": "execute_result",
          "data": {
            "text/plain": [
              "3.1172633775430474"
            ]
          },
          "metadata": {},
          "execution_count": 61
        }
      ],
      "source": [
        "RMSE"
      ]
    },
    {
      "cell_type": "markdown",
      "id": "b28a869b",
      "metadata": {
        "id": "b28a869b"
      },
      "source": [
        "### Random Forest Regression"
      ]
    },
    {
      "cell_type": "code",
      "execution_count": null,
      "id": "112d3d95",
      "metadata": {
        "id": "112d3d95"
      },
      "outputs": [],
      "source": [
        "from sklearn.ensemble import RandomForestRegressor"
      ]
    },
    {
      "cell_type": "code",
      "execution_count": null,
      "id": "38ec4ad5",
      "metadata": {
        "id": "38ec4ad5"
      },
      "outputs": [],
      "source": [
        "rf = RandomForestRegressor(n_estimators=100) #Here n_estimators means number of trees you want to build before making the prediction"
      ]
    },
    {
      "cell_type": "code",
      "execution_count": null,
      "id": "0534374d",
      "metadata": {
        "colab": {
          "base_uri": "https://localhost:8080/"
        },
        "id": "0534374d",
        "outputId": "76518a05-108d-4466-dd55-732edc6a1787"
      },
      "outputs": [
        {
          "output_type": "execute_result",
          "data": {
            "text/plain": [
              "RandomForestRegressor()"
            ]
          },
          "metadata": {},
          "execution_count": 64
        }
      ],
      "source": [
        "rf.fit(X_train,y_train)"
      ]
    },
    {
      "cell_type": "code",
      "execution_count": null,
      "id": "9204f230",
      "metadata": {
        "id": "9204f230"
      },
      "outputs": [],
      "source": [
        "y_pred = rf.predict(X_test)"
      ]
    },
    {
      "cell_type": "code",
      "execution_count": null,
      "id": "2ff13564",
      "metadata": {
        "colab": {
          "base_uri": "https://localhost:8080/"
        },
        "id": "2ff13564",
        "outputId": "4995b2de-8e42-4b44-e09f-a15692e08e12"
      },
      "outputs": [
        {
          "output_type": "execute_result",
          "data": {
            "text/plain": [
              "array([ 8.311,  6.465,  8.7  , ..., 10.129,  6.246,  4.565])"
            ]
          },
          "metadata": {},
          "execution_count": 66
        }
      ],
      "source": [
        "y_pred"
      ]
    },
    {
      "cell_type": "markdown",
      "id": "8533b89a",
      "metadata": {
        "id": "8533b89a"
      },
      "source": [
        "### Metrics evaluatin for Random Forest"
      ]
    },
    {
      "cell_type": "code",
      "execution_count": null,
      "id": "0d281db3",
      "metadata": {
        "id": "0d281db3"
      },
      "outputs": [],
      "source": [
        "R2_Random = r2_score(y_test,y_pred)"
      ]
    },
    {
      "cell_type": "code",
      "execution_count": null,
      "id": "addc915b",
      "metadata": {
        "colab": {
          "base_uri": "https://localhost:8080/"
        },
        "id": "addc915b",
        "outputId": "e9c545fe-e497-4a75-9a00-65182e4bcc6d"
      },
      "outputs": [
        {
          "output_type": "execute_result",
          "data": {
            "text/plain": [
              "0.75201936145661"
            ]
          },
          "metadata": {},
          "execution_count": 68
        }
      ],
      "source": [
        "R2_Random"
      ]
    },
    {
      "cell_type": "code",
      "execution_count": null,
      "id": "a5afba13",
      "metadata": {
        "id": "a5afba13"
      },
      "outputs": [],
      "source": [
        "MSE_Random = mean_squared_error(y_test,y_pred)"
      ]
    },
    {
      "cell_type": "code",
      "execution_count": null,
      "id": "2a24e004",
      "metadata": {
        "colab": {
          "base_uri": "https://localhost:8080/"
        },
        "id": "2a24e004",
        "outputId": "fe52ac72-d6c4-4968-eabf-99c7034517a2"
      },
      "outputs": [
        {
          "output_type": "execute_result",
          "data": {
            "text/plain": [
              "7.164807837597689"
            ]
          },
          "metadata": {},
          "execution_count": 70
        }
      ],
      "source": [
        "MSE_Random"
      ]
    },
    {
      "cell_type": "code",
      "execution_count": null,
      "id": "2d28c828",
      "metadata": {
        "id": "2d28c828"
      },
      "outputs": [],
      "source": [
        "RMSE_Random = np.sqrt(MSE_Random)"
      ]
    },
    {
      "cell_type": "code",
      "execution_count": null,
      "id": "bd7fce65",
      "metadata": {
        "scrolled": true,
        "colab": {
          "base_uri": "https://localhost:8080/"
        },
        "id": "bd7fce65",
        "outputId": "8ff72503-6f65-45e2-c4ae-7489e344b383"
      },
      "outputs": [
        {
          "output_type": "execute_result",
          "data": {
            "text/plain": [
              "2.676715867924291"
            ]
          },
          "metadata": {},
          "execution_count": 72
        }
      ],
      "source": [
        "RMSE_Random"
      ]
    },
    {
      "cell_type": "code",
      "source": [],
      "metadata": {
        "id": "tdOruryXWJ8w"
      },
      "id": "tdOruryXWJ8w",
      "execution_count": null,
      "outputs": []
    },
    {
      "cell_type": "markdown",
      "source": [
        "# Assignment 2\n",
        "2.\tClassify the email using the binary classification method. Email Spam detection has two states: a) Normal State – Not Spam, b) Abnormal State – Spam. Use K-Nearest Neighbors and Support Vector Machine for classification. Analyze their performance.\n",
        "Dataset link: The emails.csv dataset on the Kaggle https://www.kaggle.com/datasets/balaka18/email-spam-classification-dataset-csv\n",
        "\n"
      ],
      "metadata": {
        "id": "NW1akwG1PWaw"
      },
      "id": "NW1akwG1PWaw"
    },
    {
      "cell_type": "code",
      "execution_count": null,
      "metadata": {
        "id": "qKFQznT3O3fG"
      },
      "outputs": [],
      "source": [
        "import pandas as pd\n",
        "import numpy as np\n",
        "import seaborn as sns\n",
        "import matplotlib.pyplot as plt\n",
        "%matplotlib inline\n",
        "import warnings\n",
        "warnings.filterwarnings('ignore')\n",
        "from sklearn.model_selection import train_test_split\n",
        "from sklearn.svm import SVC\n",
        "from sklearn import metrics"
      ],
      "id": "qKFQznT3O3fG"
    },
    {
      "cell_type": "code",
      "source": [
        "df=pd.read_csv('./emails.csv')"
      ],
      "metadata": {
        "id": "TxKYztmjSEfe"
      },
      "execution_count": null,
      "outputs": [],
      "id": "TxKYztmjSEfe"
    },
    {
      "cell_type": "code",
      "source": [
        "df.head()"
      ],
      "metadata": {
        "colab": {
          "base_uri": "https://localhost:8080/",
          "height": 404
        },
        "id": "qKIVuS_tSEgY",
        "outputId": "c7e0f7e4-8571-4650-e7bb-631f45e9678e"
      },
      "execution_count": null,
      "outputs": [
        {
          "output_type": "execute_result",
          "data": {
            "text/plain": [
              "  Email No.  the  to  ect  and  for  of    a  you  hou  ...  connevey  jay  \\\n",
              "0   Email 1    0   0    1    0    0   0    2    0    0  ...       0.0  0.0   \n",
              "1   Email 2    8  13   24    6    6   2  102    1   27  ...       0.0  0.0   \n",
              "2   Email 3    0   0    1    0    0   0    8    0    0  ...       0.0  0.0   \n",
              "3   Email 4    0   5   22    0    5   1   51    2   10  ...       0.0  0.0   \n",
              "4   Email 5    7   6   17    1    5   2   57    0    9  ...       0.0  0.0   \n",
              "\n",
              "   valued  lay  infrastructure  military  allowing   ff  dry  Prediction  \n",
              "0     0.0  0.0             0.0       0.0       0.0  0.0  0.0         0.0  \n",
              "1     0.0  0.0             0.0       0.0       0.0  1.0  0.0         0.0  \n",
              "2     0.0  0.0             0.0       0.0       0.0  0.0  0.0         0.0  \n",
              "3     0.0  0.0             0.0       0.0       0.0  0.0  0.0         0.0  \n",
              "4     0.0  0.0             0.0       0.0       0.0  1.0  0.0         0.0  \n",
              "\n",
              "[5 rows x 3002 columns]"
            ],
            "text/html": [
              "\n",
              "  <div id=\"df-ade2ebf1-f8a7-4bc3-8d8d-cb2e4156bfc6\">\n",
              "    <div class=\"colab-df-container\">\n",
              "      <div>\n",
              "<style scoped>\n",
              "    .dataframe tbody tr th:only-of-type {\n",
              "        vertical-align: middle;\n",
              "    }\n",
              "\n",
              "    .dataframe tbody tr th {\n",
              "        vertical-align: top;\n",
              "    }\n",
              "\n",
              "    .dataframe thead th {\n",
              "        text-align: right;\n",
              "    }\n",
              "</style>\n",
              "<table border=\"1\" class=\"dataframe\">\n",
              "  <thead>\n",
              "    <tr style=\"text-align: right;\">\n",
              "      <th></th>\n",
              "      <th>Email No.</th>\n",
              "      <th>the</th>\n",
              "      <th>to</th>\n",
              "      <th>ect</th>\n",
              "      <th>and</th>\n",
              "      <th>for</th>\n",
              "      <th>of</th>\n",
              "      <th>a</th>\n",
              "      <th>you</th>\n",
              "      <th>hou</th>\n",
              "      <th>...</th>\n",
              "      <th>connevey</th>\n",
              "      <th>jay</th>\n",
              "      <th>valued</th>\n",
              "      <th>lay</th>\n",
              "      <th>infrastructure</th>\n",
              "      <th>military</th>\n",
              "      <th>allowing</th>\n",
              "      <th>ff</th>\n",
              "      <th>dry</th>\n",
              "      <th>Prediction</th>\n",
              "    </tr>\n",
              "  </thead>\n",
              "  <tbody>\n",
              "    <tr>\n",
              "      <th>0</th>\n",
              "      <td>Email 1</td>\n",
              "      <td>0</td>\n",
              "      <td>0</td>\n",
              "      <td>1</td>\n",
              "      <td>0</td>\n",
              "      <td>0</td>\n",
              "      <td>0</td>\n",
              "      <td>2</td>\n",
              "      <td>0</td>\n",
              "      <td>0</td>\n",
              "      <td>...</td>\n",
              "      <td>0.0</td>\n",
              "      <td>0.0</td>\n",
              "      <td>0.0</td>\n",
              "      <td>0.0</td>\n",
              "      <td>0.0</td>\n",
              "      <td>0.0</td>\n",
              "      <td>0.0</td>\n",
              "      <td>0.0</td>\n",
              "      <td>0.0</td>\n",
              "      <td>0.0</td>\n",
              "    </tr>\n",
              "    <tr>\n",
              "      <th>1</th>\n",
              "      <td>Email 2</td>\n",
              "      <td>8</td>\n",
              "      <td>13</td>\n",
              "      <td>24</td>\n",
              "      <td>6</td>\n",
              "      <td>6</td>\n",
              "      <td>2</td>\n",
              "      <td>102</td>\n",
              "      <td>1</td>\n",
              "      <td>27</td>\n",
              "      <td>...</td>\n",
              "      <td>0.0</td>\n",
              "      <td>0.0</td>\n",
              "      <td>0.0</td>\n",
              "      <td>0.0</td>\n",
              "      <td>0.0</td>\n",
              "      <td>0.0</td>\n",
              "      <td>0.0</td>\n",
              "      <td>1.0</td>\n",
              "      <td>0.0</td>\n",
              "      <td>0.0</td>\n",
              "    </tr>\n",
              "    <tr>\n",
              "      <th>2</th>\n",
              "      <td>Email 3</td>\n",
              "      <td>0</td>\n",
              "      <td>0</td>\n",
              "      <td>1</td>\n",
              "      <td>0</td>\n",
              "      <td>0</td>\n",
              "      <td>0</td>\n",
              "      <td>8</td>\n",
              "      <td>0</td>\n",
              "      <td>0</td>\n",
              "      <td>...</td>\n",
              "      <td>0.0</td>\n",
              "      <td>0.0</td>\n",
              "      <td>0.0</td>\n",
              "      <td>0.0</td>\n",
              "      <td>0.0</td>\n",
              "      <td>0.0</td>\n",
              "      <td>0.0</td>\n",
              "      <td>0.0</td>\n",
              "      <td>0.0</td>\n",
              "      <td>0.0</td>\n",
              "    </tr>\n",
              "    <tr>\n",
              "      <th>3</th>\n",
              "      <td>Email 4</td>\n",
              "      <td>0</td>\n",
              "      <td>5</td>\n",
              "      <td>22</td>\n",
              "      <td>0</td>\n",
              "      <td>5</td>\n",
              "      <td>1</td>\n",
              "      <td>51</td>\n",
              "      <td>2</td>\n",
              "      <td>10</td>\n",
              "      <td>...</td>\n",
              "      <td>0.0</td>\n",
              "      <td>0.0</td>\n",
              "      <td>0.0</td>\n",
              "      <td>0.0</td>\n",
              "      <td>0.0</td>\n",
              "      <td>0.0</td>\n",
              "      <td>0.0</td>\n",
              "      <td>0.0</td>\n",
              "      <td>0.0</td>\n",
              "      <td>0.0</td>\n",
              "    </tr>\n",
              "    <tr>\n",
              "      <th>4</th>\n",
              "      <td>Email 5</td>\n",
              "      <td>7</td>\n",
              "      <td>6</td>\n",
              "      <td>17</td>\n",
              "      <td>1</td>\n",
              "      <td>5</td>\n",
              "      <td>2</td>\n",
              "      <td>57</td>\n",
              "      <td>0</td>\n",
              "      <td>9</td>\n",
              "      <td>...</td>\n",
              "      <td>0.0</td>\n",
              "      <td>0.0</td>\n",
              "      <td>0.0</td>\n",
              "      <td>0.0</td>\n",
              "      <td>0.0</td>\n",
              "      <td>0.0</td>\n",
              "      <td>0.0</td>\n",
              "      <td>1.0</td>\n",
              "      <td>0.0</td>\n",
              "      <td>0.0</td>\n",
              "    </tr>\n",
              "  </tbody>\n",
              "</table>\n",
              "<p>5 rows × 3002 columns</p>\n",
              "</div>\n",
              "      <button class=\"colab-df-convert\" onclick=\"convertToInteractive('df-ade2ebf1-f8a7-4bc3-8d8d-cb2e4156bfc6')\"\n",
              "              title=\"Convert this dataframe to an interactive table.\"\n",
              "              style=\"display:none;\">\n",
              "        \n",
              "  <svg xmlns=\"http://www.w3.org/2000/svg\" height=\"24px\"viewBox=\"0 0 24 24\"\n",
              "       width=\"24px\">\n",
              "    <path d=\"M0 0h24v24H0V0z\" fill=\"none\"/>\n",
              "    <path d=\"M18.56 5.44l.94 2.06.94-2.06 2.06-.94-2.06-.94-.94-2.06-.94 2.06-2.06.94zm-11 1L8.5 8.5l.94-2.06 2.06-.94-2.06-.94L8.5 2.5l-.94 2.06-2.06.94zm10 10l.94 2.06.94-2.06 2.06-.94-2.06-.94-.94-2.06-.94 2.06-2.06.94z\"/><path d=\"M17.41 7.96l-1.37-1.37c-.4-.4-.92-.59-1.43-.59-.52 0-1.04.2-1.43.59L10.3 9.45l-7.72 7.72c-.78.78-.78 2.05 0 2.83L4 21.41c.39.39.9.59 1.41.59.51 0 1.02-.2 1.41-.59l7.78-7.78 2.81-2.81c.8-.78.8-2.07 0-2.86zM5.41 20L4 18.59l7.72-7.72 1.47 1.35L5.41 20z\"/>\n",
              "  </svg>\n",
              "      </button>\n",
              "      \n",
              "  <style>\n",
              "    .colab-df-container {\n",
              "      display:flex;\n",
              "      flex-wrap:wrap;\n",
              "      gap: 12px;\n",
              "    }\n",
              "\n",
              "    .colab-df-convert {\n",
              "      background-color: #E8F0FE;\n",
              "      border: none;\n",
              "      border-radius: 50%;\n",
              "      cursor: pointer;\n",
              "      display: none;\n",
              "      fill: #1967D2;\n",
              "      height: 32px;\n",
              "      padding: 0 0 0 0;\n",
              "      width: 32px;\n",
              "    }\n",
              "\n",
              "    .colab-df-convert:hover {\n",
              "      background-color: #E2EBFA;\n",
              "      box-shadow: 0px 1px 2px rgba(60, 64, 67, 0.3), 0px 1px 3px 1px rgba(60, 64, 67, 0.15);\n",
              "      fill: #174EA6;\n",
              "    }\n",
              "\n",
              "    [theme=dark] .colab-df-convert {\n",
              "      background-color: #3B4455;\n",
              "      fill: #D2E3FC;\n",
              "    }\n",
              "\n",
              "    [theme=dark] .colab-df-convert:hover {\n",
              "      background-color: #434B5C;\n",
              "      box-shadow: 0px 1px 3px 1px rgba(0, 0, 0, 0.15);\n",
              "      filter: drop-shadow(0px 1px 2px rgba(0, 0, 0, 0.3));\n",
              "      fill: #FFFFFF;\n",
              "    }\n",
              "  </style>\n",
              "\n",
              "      <script>\n",
              "        const buttonEl =\n",
              "          document.querySelector('#df-ade2ebf1-f8a7-4bc3-8d8d-cb2e4156bfc6 button.colab-df-convert');\n",
              "        buttonEl.style.display =\n",
              "          google.colab.kernel.accessAllowed ? 'block' : 'none';\n",
              "\n",
              "        async function convertToInteractive(key) {\n",
              "          const element = document.querySelector('#df-ade2ebf1-f8a7-4bc3-8d8d-cb2e4156bfc6');\n",
              "          const dataTable =\n",
              "            await google.colab.kernel.invokeFunction('convertToInteractive',\n",
              "                                                     [key], {});\n",
              "          if (!dataTable) return;\n",
              "\n",
              "          const docLinkHtml = 'Like what you see? Visit the ' +\n",
              "            '<a target=\"_blank\" href=https://colab.research.google.com/notebooks/data_table.ipynb>data table notebook</a>'\n",
              "            + ' to learn more about interactive tables.';\n",
              "          element.innerHTML = '';\n",
              "          dataTable['output_type'] = 'display_data';\n",
              "          await google.colab.output.renderOutput(dataTable, element);\n",
              "          const docLink = document.createElement('div');\n",
              "          docLink.innerHTML = docLinkHtml;\n",
              "          element.appendChild(docLink);\n",
              "        }\n",
              "      </script>\n",
              "    </div>\n",
              "  </div>\n",
              "  "
            ]
          },
          "metadata": {},
          "execution_count": 6
        }
      ],
      "id": "qKIVuS_tSEgY"
    },
    {
      "cell_type": "code",
      "source": [
        "df.columns"
      ],
      "metadata": {
        "colab": {
          "base_uri": "https://localhost:8080/"
        },
        "id": "JYPTBDYjSEkz",
        "outputId": "63b8a142-aca8-4710-e915-9d5a7be6391b"
      },
      "execution_count": null,
      "outputs": [
        {
          "output_type": "execute_result",
          "data": {
            "text/plain": [
              "Index(['Email No.', 'the', 'to', 'ect', 'and', 'for', 'of', 'a', 'you', 'hou',\n",
              "       ...\n",
              "       'connevey', 'jay', 'valued', 'lay', 'infrastructure', 'military',\n",
              "       'allowing', 'ff', 'dry', 'Prediction'],\n",
              "      dtype='object', length=3002)"
            ]
          },
          "metadata": {},
          "execution_count": 7
        }
      ],
      "id": "JYPTBDYjSEkz"
    },
    {
      "cell_type": "code",
      "source": [
        "df.isnull().sum()"
      ],
      "metadata": {
        "colab": {
          "base_uri": "https://localhost:8080/"
        },
        "id": "dakx9bXaVA8O",
        "outputId": "4640af7e-d462-4f77-9821-ef436489fa38"
      },
      "execution_count": null,
      "outputs": [
        {
          "output_type": "execute_result",
          "data": {
            "text/plain": [
              "Email No.     0\n",
              "the           0\n",
              "to            0\n",
              "ect           0\n",
              "and           0\n",
              "             ..\n",
              "military      1\n",
              "allowing      1\n",
              "ff            1\n",
              "dry           1\n",
              "Prediction    1\n",
              "Length: 3002, dtype: int64"
            ]
          },
          "metadata": {},
          "execution_count": 8
        }
      ],
      "id": "dakx9bXaVA8O"
    },
    {
      "cell_type": "code",
      "source": [
        "df.dropna(inplace = True)"
      ],
      "metadata": {
        "id": "m3vWnHKJVFjG"
      },
      "execution_count": null,
      "outputs": [],
      "id": "m3vWnHKJVFjG"
    },
    {
      "cell_type": "code",
      "source": [
        "df.drop(['Email No.'],axis=1,inplace=True)\n",
        "X = df.drop(['Prediction'],axis = 1)\n",
        "y = df['Prediction']"
      ],
      "metadata": {
        "id": "H0j2bc1gSElr"
      },
      "execution_count": null,
      "outputs": [],
      "id": "H0j2bc1gSElr"
    },
    {
      "cell_type": "code",
      "source": [
        "from sklearn.preprocessing import scale\n",
        "X = scale(X)\n",
        "# split into train and test\n",
        "X_train, X_test, y_train, y_test = train_test_split(X, y, test_size = 0.3, random_state = 42)"
      ],
      "metadata": {
        "id": "z2TUfJyXULJU"
      },
      "execution_count": null,
      "outputs": [],
      "id": "z2TUfJyXULJU"
    },
    {
      "cell_type": "markdown",
      "source": [
        "##KNN classifier"
      ],
      "metadata": {
        "id": "Fz8TLbj4VkvK"
      },
      "id": "Fz8TLbj4VkvK"
    },
    {
      "cell_type": "code",
      "source": [
        "from sklearn.neighbors import KNeighborsClassifier\n",
        "knn = KNeighborsClassifier(n_neighbors=7)\n",
        " \n",
        "knn.fit(X_train, y_train)\n",
        "y_pred = knn.predict(X_test)"
      ],
      "metadata": {
        "id": "aqtZl9YzSEpX"
      },
      "execution_count": null,
      "outputs": [],
      "id": "aqtZl9YzSEpX"
    },
    {
      "cell_type": "code",
      "source": [
        "print(\"Prediction\",y_pred)"
      ],
      "metadata": {
        "colab": {
          "base_uri": "https://localhost:8080/"
        },
        "id": "NJjhkXemV-pL",
        "outputId": "ad5d0422-3372-4831-c0c3-9286638d2621"
      },
      "execution_count": null,
      "outputs": [
        {
          "output_type": "stream",
          "name": "stdout",
          "text": [
            "Prediction [1. 1. 1. 1. 1. 1. 1. 1. 1. 1. 1. 1. 1. 1. 1. 0. 1. 1. 0. 1. 1. 1. 1. 1.\n",
            " 1. 1. 1. 0. 0. 0. 1. 0. 0. 0. 0. 0. 0. 1. 1. 1. 1. 0. 1. 0. 0. 1. 1. 0.\n",
            " 0. 0. 1.]\n"
          ]
        }
      ],
      "id": "NJjhkXemV-pL"
    },
    {
      "cell_type": "code",
      "source": [
        "print(\"KNN accuracy = \",metrics.accuracy_score(y_test,y_pred))"
      ],
      "metadata": {
        "colab": {
          "base_uri": "https://localhost:8080/"
        },
        "id": "-J0lm1qBWHII",
        "outputId": "11df56ad-e293-44f7-e62f-6eb3e4dcf3b9"
      },
      "execution_count": null,
      "outputs": [
        {
          "output_type": "stream",
          "name": "stdout",
          "text": [
            "KNN accuracy =  0.5294117647058824\n"
          ]
        }
      ],
      "id": "-J0lm1qBWHII"
    },
    {
      "cell_type": "code",
      "source": [
        "print(\"Confusion matrix\",metrics.confusion_matrix(y_test,y_pred))"
      ],
      "metadata": {
        "colab": {
          "base_uri": "https://localhost:8080/"
        },
        "id": "9m0hzhxUWe8a",
        "outputId": "30dd03ba-f05d-4792-a0d2-b262bdcd6f57"
      },
      "execution_count": null,
      "outputs": [
        {
          "output_type": "stream",
          "name": "stdout",
          "text": [
            "Confusion matrix [[16 23]\n",
            " [ 1 11]]\n"
          ]
        }
      ],
      "id": "9m0hzhxUWe8a"
    },
    {
      "cell_type": "markdown",
      "source": [
        "## SVM classifier"
      ],
      "metadata": {
        "id": "6W82nGEkTUCo"
      },
      "id": "6W82nGEkTUCo"
    },
    {
      "cell_type": "code",
      "source": [
        "# cost C = 1\n",
        "model = SVC(C = 1)\n",
        "\n",
        "# fit\n",
        "model.fit(X_train, y_train)\n",
        "\n",
        "# predict\n",
        "y_pred = model.predict(X_test)"
      ],
      "metadata": {
        "id": "9nDZwGY2SEqx"
      },
      "execution_count": null,
      "outputs": [],
      "id": "9nDZwGY2SEqx"
    },
    {
      "cell_type": "code",
      "source": [
        "metrics.confusion_matrix(y_true=y_test, y_pred=y_pred)"
      ],
      "metadata": {
        "colab": {
          "base_uri": "https://localhost:8080/"
        },
        "id": "78x_IgogSEuY",
        "outputId": "22272849-5a24-49f2-d291-edf4955e58ad"
      },
      "execution_count": null,
      "outputs": [
        {
          "output_type": "execute_result",
          "data": {
            "text/plain": [
              "array([[39,  0],\n",
              "       [11,  1]])"
            ]
          },
          "metadata": {},
          "execution_count": 17
        }
      ],
      "id": "78x_IgogSEuY"
    },
    {
      "cell_type": "code",
      "source": [
        "print(\"SVM accuracy = \",metrics.accuracy_score(y_test,y_pred))"
      ],
      "metadata": {
        "colab": {
          "base_uri": "https://localhost:8080/"
        },
        "id": "nU2cY3grSEvG",
        "outputId": "474a50cd-963b-47a4-8a55-2e2aabdf4f00"
      },
      "execution_count": null,
      "outputs": [
        {
          "output_type": "stream",
          "name": "stdout",
          "text": [
            "SVM accuracy =  0.7843137254901961\n"
          ]
        }
      ],
      "id": "nU2cY3grSEvG"
    },
    {
      "cell_type": "code",
      "source": [],
      "metadata": {
        "id": "i5NfMM1hWl7e"
      },
      "id": "i5NfMM1hWl7e",
      "execution_count": null,
      "outputs": []
    },
    {
      "cell_type": "markdown",
      "metadata": {
        "id": "1803f417"
      },
      "source": [
        "# Assignment 3\n",
        "## Given a bank customer, build a neural network-based classifier that can determine whether they will leave or not in the next 6 months.\n",
        "Dataset Description: The case study is from an open-source dataset from Kaggle. The dataset contains 10,000 sample points with 14 distinct features such as CustomerId, CreditScore, Geography, Gender, Age, Tenure, Balance, etc.\n",
        "Link to the Kaggle project: https://www.kaggle.com/barelydedicated/bank-customer-churn-modeling Perform following steps:\n",
        "1.\tRead the dataset.\n",
        "2.\tDistinguish the feature and target set and divide the data set into training and test sets.\n",
        "3.\tNormalize the train and test data.\n",
        "4.\tInitialize and build the model. Identify the points of improvement and implement the same.\n",
        "5.\tPrint the accuracy score and confusion matrix.\n",
        " "
      ],
      "id": "1803f417"
    },
    {
      "cell_type": "code",
      "execution_count": null,
      "metadata": {
        "id": "1c7a9833"
      },
      "outputs": [],
      "source": [
        "import pandas as pd\n",
        "import numpy as np\n",
        "import seaborn as sns\n",
        "import matplotlib.pyplot as plt #Importing the libraries"
      ],
      "id": "1c7a9833"
    },
    {
      "cell_type": "code",
      "execution_count": null,
      "metadata": {
        "id": "5e325ee1"
      },
      "outputs": [],
      "source": [
        "df = pd.read_csv(\"Churn_Modelling.csv\")"
      ],
      "id": "5e325ee1"
    },
    {
      "cell_type": "markdown",
      "metadata": {
        "id": "96e1c556"
      },
      "source": [
        "## Preprocessing. "
      ],
      "id": "96e1c556"
    },
    {
      "cell_type": "code",
      "execution_count": null,
      "metadata": {
        "colab": {
          "base_uri": "https://localhost:8080/",
          "height": 206
        },
        "id": "ae17ce38",
        "outputId": "d79f5b7e-ebcb-4f34-e042-d04bf4c66f24"
      },
      "outputs": [
        {
          "output_type": "execute_result",
          "data": {
            "text/plain": [
              "   RowNumber  CustomerId   Surname  CreditScore Geography  Gender  Age  \\\n",
              "0          1    15634602  Hargrave          619    France  Female   42   \n",
              "1          2    15647311      Hill          608     Spain  Female   41   \n",
              "2          3    15619304      Onio          502    France  Female   42   \n",
              "3          4    15701354      Boni          699    France  Female   39   \n",
              "4          5    15737888  Mitchell          850     Spain  Female   43   \n",
              "\n",
              "   Tenure    Balance  NumOfProducts  HasCrCard  IsActiveMember  \\\n",
              "0       2       0.00              1          1               1   \n",
              "1       1   83807.86              1          0               1   \n",
              "2       8  159660.80              3          1               0   \n",
              "3       1       0.00              2          0               0   \n",
              "4       2  125510.82              1          1               1   \n",
              "\n",
              "   EstimatedSalary  Exited  \n",
              "0        101348.88       1  \n",
              "1        112542.58       0  \n",
              "2        113931.57       1  \n",
              "3         93826.63       0  \n",
              "4         79084.10       0  "
            ],
            "text/html": [
              "\n",
              "  <div id=\"df-15bd7f23-ee51-47e1-8da9-27cfcf7e11d2\">\n",
              "    <div class=\"colab-df-container\">\n",
              "      <div>\n",
              "<style scoped>\n",
              "    .dataframe tbody tr th:only-of-type {\n",
              "        vertical-align: middle;\n",
              "    }\n",
              "\n",
              "    .dataframe tbody tr th {\n",
              "        vertical-align: top;\n",
              "    }\n",
              "\n",
              "    .dataframe thead th {\n",
              "        text-align: right;\n",
              "    }\n",
              "</style>\n",
              "<table border=\"1\" class=\"dataframe\">\n",
              "  <thead>\n",
              "    <tr style=\"text-align: right;\">\n",
              "      <th></th>\n",
              "      <th>RowNumber</th>\n",
              "      <th>CustomerId</th>\n",
              "      <th>Surname</th>\n",
              "      <th>CreditScore</th>\n",
              "      <th>Geography</th>\n",
              "      <th>Gender</th>\n",
              "      <th>Age</th>\n",
              "      <th>Tenure</th>\n",
              "      <th>Balance</th>\n",
              "      <th>NumOfProducts</th>\n",
              "      <th>HasCrCard</th>\n",
              "      <th>IsActiveMember</th>\n",
              "      <th>EstimatedSalary</th>\n",
              "      <th>Exited</th>\n",
              "    </tr>\n",
              "  </thead>\n",
              "  <tbody>\n",
              "    <tr>\n",
              "      <th>0</th>\n",
              "      <td>1</td>\n",
              "      <td>15634602</td>\n",
              "      <td>Hargrave</td>\n",
              "      <td>619</td>\n",
              "      <td>France</td>\n",
              "      <td>Female</td>\n",
              "      <td>42</td>\n",
              "      <td>2</td>\n",
              "      <td>0.00</td>\n",
              "      <td>1</td>\n",
              "      <td>1</td>\n",
              "      <td>1</td>\n",
              "      <td>101348.88</td>\n",
              "      <td>1</td>\n",
              "    </tr>\n",
              "    <tr>\n",
              "      <th>1</th>\n",
              "      <td>2</td>\n",
              "      <td>15647311</td>\n",
              "      <td>Hill</td>\n",
              "      <td>608</td>\n",
              "      <td>Spain</td>\n",
              "      <td>Female</td>\n",
              "      <td>41</td>\n",
              "      <td>1</td>\n",
              "      <td>83807.86</td>\n",
              "      <td>1</td>\n",
              "      <td>0</td>\n",
              "      <td>1</td>\n",
              "      <td>112542.58</td>\n",
              "      <td>0</td>\n",
              "    </tr>\n",
              "    <tr>\n",
              "      <th>2</th>\n",
              "      <td>3</td>\n",
              "      <td>15619304</td>\n",
              "      <td>Onio</td>\n",
              "      <td>502</td>\n",
              "      <td>France</td>\n",
              "      <td>Female</td>\n",
              "      <td>42</td>\n",
              "      <td>8</td>\n",
              "      <td>159660.80</td>\n",
              "      <td>3</td>\n",
              "      <td>1</td>\n",
              "      <td>0</td>\n",
              "      <td>113931.57</td>\n",
              "      <td>1</td>\n",
              "    </tr>\n",
              "    <tr>\n",
              "      <th>3</th>\n",
              "      <td>4</td>\n",
              "      <td>15701354</td>\n",
              "      <td>Boni</td>\n",
              "      <td>699</td>\n",
              "      <td>France</td>\n",
              "      <td>Female</td>\n",
              "      <td>39</td>\n",
              "      <td>1</td>\n",
              "      <td>0.00</td>\n",
              "      <td>2</td>\n",
              "      <td>0</td>\n",
              "      <td>0</td>\n",
              "      <td>93826.63</td>\n",
              "      <td>0</td>\n",
              "    </tr>\n",
              "    <tr>\n",
              "      <th>4</th>\n",
              "      <td>5</td>\n",
              "      <td>15737888</td>\n",
              "      <td>Mitchell</td>\n",
              "      <td>850</td>\n",
              "      <td>Spain</td>\n",
              "      <td>Female</td>\n",
              "      <td>43</td>\n",
              "      <td>2</td>\n",
              "      <td>125510.82</td>\n",
              "      <td>1</td>\n",
              "      <td>1</td>\n",
              "      <td>1</td>\n",
              "      <td>79084.10</td>\n",
              "      <td>0</td>\n",
              "    </tr>\n",
              "  </tbody>\n",
              "</table>\n",
              "</div>\n",
              "      <button class=\"colab-df-convert\" onclick=\"convertToInteractive('df-15bd7f23-ee51-47e1-8da9-27cfcf7e11d2')\"\n",
              "              title=\"Convert this dataframe to an interactive table.\"\n",
              "              style=\"display:none;\">\n",
              "        \n",
              "  <svg xmlns=\"http://www.w3.org/2000/svg\" height=\"24px\"viewBox=\"0 0 24 24\"\n",
              "       width=\"24px\">\n",
              "    <path d=\"M0 0h24v24H0V0z\" fill=\"none\"/>\n",
              "    <path d=\"M18.56 5.44l.94 2.06.94-2.06 2.06-.94-2.06-.94-.94-2.06-.94 2.06-2.06.94zm-11 1L8.5 8.5l.94-2.06 2.06-.94-2.06-.94L8.5 2.5l-.94 2.06-2.06.94zm10 10l.94 2.06.94-2.06 2.06-.94-2.06-.94-.94-2.06-.94 2.06-2.06.94z\"/><path d=\"M17.41 7.96l-1.37-1.37c-.4-.4-.92-.59-1.43-.59-.52 0-1.04.2-1.43.59L10.3 9.45l-7.72 7.72c-.78.78-.78 2.05 0 2.83L4 21.41c.39.39.9.59 1.41.59.51 0 1.02-.2 1.41-.59l7.78-7.78 2.81-2.81c.8-.78.8-2.07 0-2.86zM5.41 20L4 18.59l7.72-7.72 1.47 1.35L5.41 20z\"/>\n",
              "  </svg>\n",
              "      </button>\n",
              "      \n",
              "  <style>\n",
              "    .colab-df-container {\n",
              "      display:flex;\n",
              "      flex-wrap:wrap;\n",
              "      gap: 12px;\n",
              "    }\n",
              "\n",
              "    .colab-df-convert {\n",
              "      background-color: #E8F0FE;\n",
              "      border: none;\n",
              "      border-radius: 50%;\n",
              "      cursor: pointer;\n",
              "      display: none;\n",
              "      fill: #1967D2;\n",
              "      height: 32px;\n",
              "      padding: 0 0 0 0;\n",
              "      width: 32px;\n",
              "    }\n",
              "\n",
              "    .colab-df-convert:hover {\n",
              "      background-color: #E2EBFA;\n",
              "      box-shadow: 0px 1px 2px rgba(60, 64, 67, 0.3), 0px 1px 3px 1px rgba(60, 64, 67, 0.15);\n",
              "      fill: #174EA6;\n",
              "    }\n",
              "\n",
              "    [theme=dark] .colab-df-convert {\n",
              "      background-color: #3B4455;\n",
              "      fill: #D2E3FC;\n",
              "    }\n",
              "\n",
              "    [theme=dark] .colab-df-convert:hover {\n",
              "      background-color: #434B5C;\n",
              "      box-shadow: 0px 1px 3px 1px rgba(0, 0, 0, 0.15);\n",
              "      filter: drop-shadow(0px 1px 2px rgba(0, 0, 0, 0.3));\n",
              "      fill: #FFFFFF;\n",
              "    }\n",
              "  </style>\n",
              "\n",
              "      <script>\n",
              "        const buttonEl =\n",
              "          document.querySelector('#df-15bd7f23-ee51-47e1-8da9-27cfcf7e11d2 button.colab-df-convert');\n",
              "        buttonEl.style.display =\n",
              "          google.colab.kernel.accessAllowed ? 'block' : 'none';\n",
              "\n",
              "        async function convertToInteractive(key) {\n",
              "          const element = document.querySelector('#df-15bd7f23-ee51-47e1-8da9-27cfcf7e11d2');\n",
              "          const dataTable =\n",
              "            await google.colab.kernel.invokeFunction('convertToInteractive',\n",
              "                                                     [key], {});\n",
              "          if (!dataTable) return;\n",
              "\n",
              "          const docLinkHtml = 'Like what you see? Visit the ' +\n",
              "            '<a target=\"_blank\" href=https://colab.research.google.com/notebooks/data_table.ipynb>data table notebook</a>'\n",
              "            + ' to learn more about interactive tables.';\n",
              "          element.innerHTML = '';\n",
              "          dataTable['output_type'] = 'display_data';\n",
              "          await google.colab.output.renderOutput(dataTable, element);\n",
              "          const docLink = document.createElement('div');\n",
              "          docLink.innerHTML = docLinkHtml;\n",
              "          element.appendChild(docLink);\n",
              "        }\n",
              "      </script>\n",
              "    </div>\n",
              "  </div>\n",
              "  "
            ]
          },
          "metadata": {},
          "execution_count": 5
        }
      ],
      "source": [
        "df.head()"
      ],
      "id": "ae17ce38"
    },
    {
      "cell_type": "code",
      "execution_count": null,
      "metadata": {
        "colab": {
          "base_uri": "https://localhost:8080/"
        },
        "id": "13617c12",
        "outputId": "be0f159c-f647-45c3-c9c1-60338580a5f4"
      },
      "outputs": [
        {
          "output_type": "execute_result",
          "data": {
            "text/plain": [
              "(10000, 14)"
            ]
          },
          "metadata": {},
          "execution_count": 6
        }
      ],
      "source": [
        "df.shape"
      ],
      "id": "13617c12"
    },
    {
      "cell_type": "code",
      "execution_count": null,
      "metadata": {
        "colab": {
          "base_uri": "https://localhost:8080/",
          "height": 344
        },
        "id": "09a88d86",
        "outputId": "277ef478-73c9-49ee-d79d-a33002a0085f"
      },
      "outputs": [
        {
          "output_type": "execute_result",
          "data": {
            "text/plain": [
              "         RowNumber    CustomerId   CreditScore           Age        Tenure  \\\n",
              "count  10000.00000  1.000000e+04  10000.000000  10000.000000  10000.000000   \n",
              "mean    5000.50000  1.569094e+07    650.528800     38.921800      5.012800   \n",
              "std     2886.89568  7.193619e+04     96.653299     10.487806      2.892174   \n",
              "min        1.00000  1.556570e+07    350.000000     18.000000      0.000000   \n",
              "25%     2500.75000  1.562853e+07    584.000000     32.000000      3.000000   \n",
              "50%     5000.50000  1.569074e+07    652.000000     37.000000      5.000000   \n",
              "75%     7500.25000  1.575323e+07    718.000000     44.000000      7.000000   \n",
              "max    10000.00000  1.581569e+07    850.000000     92.000000     10.000000   \n",
              "\n",
              "             Balance  NumOfProducts    HasCrCard  IsActiveMember  \\\n",
              "count   10000.000000   10000.000000  10000.00000    10000.000000   \n",
              "mean    76485.889288       1.530200      0.70550        0.515100   \n",
              "std     62397.405202       0.581654      0.45584        0.499797   \n",
              "min         0.000000       1.000000      0.00000        0.000000   \n",
              "25%         0.000000       1.000000      0.00000        0.000000   \n",
              "50%     97198.540000       1.000000      1.00000        1.000000   \n",
              "75%    127644.240000       2.000000      1.00000        1.000000   \n",
              "max    250898.090000       4.000000      1.00000        1.000000   \n",
              "\n",
              "       EstimatedSalary        Exited  \n",
              "count     10000.000000  10000.000000  \n",
              "mean     100090.239881      0.203700  \n",
              "std       57510.492818      0.402769  \n",
              "min          11.580000      0.000000  \n",
              "25%       51002.110000      0.000000  \n",
              "50%      100193.915000      0.000000  \n",
              "75%      149388.247500      0.000000  \n",
              "max      199992.480000      1.000000  "
            ],
            "text/html": [
              "\n",
              "  <div id=\"df-53f9ffdd-68c4-440f-9679-cc589898cf5c\">\n",
              "    <div class=\"colab-df-container\">\n",
              "      <div>\n",
              "<style scoped>\n",
              "    .dataframe tbody tr th:only-of-type {\n",
              "        vertical-align: middle;\n",
              "    }\n",
              "\n",
              "    .dataframe tbody tr th {\n",
              "        vertical-align: top;\n",
              "    }\n",
              "\n",
              "    .dataframe thead th {\n",
              "        text-align: right;\n",
              "    }\n",
              "</style>\n",
              "<table border=\"1\" class=\"dataframe\">\n",
              "  <thead>\n",
              "    <tr style=\"text-align: right;\">\n",
              "      <th></th>\n",
              "      <th>RowNumber</th>\n",
              "      <th>CustomerId</th>\n",
              "      <th>CreditScore</th>\n",
              "      <th>Age</th>\n",
              "      <th>Tenure</th>\n",
              "      <th>Balance</th>\n",
              "      <th>NumOfProducts</th>\n",
              "      <th>HasCrCard</th>\n",
              "      <th>IsActiveMember</th>\n",
              "      <th>EstimatedSalary</th>\n",
              "      <th>Exited</th>\n",
              "    </tr>\n",
              "  </thead>\n",
              "  <tbody>\n",
              "    <tr>\n",
              "      <th>count</th>\n",
              "      <td>10000.00000</td>\n",
              "      <td>1.000000e+04</td>\n",
              "      <td>10000.000000</td>\n",
              "      <td>10000.000000</td>\n",
              "      <td>10000.000000</td>\n",
              "      <td>10000.000000</td>\n",
              "      <td>10000.000000</td>\n",
              "      <td>10000.00000</td>\n",
              "      <td>10000.000000</td>\n",
              "      <td>10000.000000</td>\n",
              "      <td>10000.000000</td>\n",
              "    </tr>\n",
              "    <tr>\n",
              "      <th>mean</th>\n",
              "      <td>5000.50000</td>\n",
              "      <td>1.569094e+07</td>\n",
              "      <td>650.528800</td>\n",
              "      <td>38.921800</td>\n",
              "      <td>5.012800</td>\n",
              "      <td>76485.889288</td>\n",
              "      <td>1.530200</td>\n",
              "      <td>0.70550</td>\n",
              "      <td>0.515100</td>\n",
              "      <td>100090.239881</td>\n",
              "      <td>0.203700</td>\n",
              "    </tr>\n",
              "    <tr>\n",
              "      <th>std</th>\n",
              "      <td>2886.89568</td>\n",
              "      <td>7.193619e+04</td>\n",
              "      <td>96.653299</td>\n",
              "      <td>10.487806</td>\n",
              "      <td>2.892174</td>\n",
              "      <td>62397.405202</td>\n",
              "      <td>0.581654</td>\n",
              "      <td>0.45584</td>\n",
              "      <td>0.499797</td>\n",
              "      <td>57510.492818</td>\n",
              "      <td>0.402769</td>\n",
              "    </tr>\n",
              "    <tr>\n",
              "      <th>min</th>\n",
              "      <td>1.00000</td>\n",
              "      <td>1.556570e+07</td>\n",
              "      <td>350.000000</td>\n",
              "      <td>18.000000</td>\n",
              "      <td>0.000000</td>\n",
              "      <td>0.000000</td>\n",
              "      <td>1.000000</td>\n",
              "      <td>0.00000</td>\n",
              "      <td>0.000000</td>\n",
              "      <td>11.580000</td>\n",
              "      <td>0.000000</td>\n",
              "    </tr>\n",
              "    <tr>\n",
              "      <th>25%</th>\n",
              "      <td>2500.75000</td>\n",
              "      <td>1.562853e+07</td>\n",
              "      <td>584.000000</td>\n",
              "      <td>32.000000</td>\n",
              "      <td>3.000000</td>\n",
              "      <td>0.000000</td>\n",
              "      <td>1.000000</td>\n",
              "      <td>0.00000</td>\n",
              "      <td>0.000000</td>\n",
              "      <td>51002.110000</td>\n",
              "      <td>0.000000</td>\n",
              "    </tr>\n",
              "    <tr>\n",
              "      <th>50%</th>\n",
              "      <td>5000.50000</td>\n",
              "      <td>1.569074e+07</td>\n",
              "      <td>652.000000</td>\n",
              "      <td>37.000000</td>\n",
              "      <td>5.000000</td>\n",
              "      <td>97198.540000</td>\n",
              "      <td>1.000000</td>\n",
              "      <td>1.00000</td>\n",
              "      <td>1.000000</td>\n",
              "      <td>100193.915000</td>\n",
              "      <td>0.000000</td>\n",
              "    </tr>\n",
              "    <tr>\n",
              "      <th>75%</th>\n",
              "      <td>7500.25000</td>\n",
              "      <td>1.575323e+07</td>\n",
              "      <td>718.000000</td>\n",
              "      <td>44.000000</td>\n",
              "      <td>7.000000</td>\n",
              "      <td>127644.240000</td>\n",
              "      <td>2.000000</td>\n",
              "      <td>1.00000</td>\n",
              "      <td>1.000000</td>\n",
              "      <td>149388.247500</td>\n",
              "      <td>0.000000</td>\n",
              "    </tr>\n",
              "    <tr>\n",
              "      <th>max</th>\n",
              "      <td>10000.00000</td>\n",
              "      <td>1.581569e+07</td>\n",
              "      <td>850.000000</td>\n",
              "      <td>92.000000</td>\n",
              "      <td>10.000000</td>\n",
              "      <td>250898.090000</td>\n",
              "      <td>4.000000</td>\n",
              "      <td>1.00000</td>\n",
              "      <td>1.000000</td>\n",
              "      <td>199992.480000</td>\n",
              "      <td>1.000000</td>\n",
              "    </tr>\n",
              "  </tbody>\n",
              "</table>\n",
              "</div>\n",
              "      <button class=\"colab-df-convert\" onclick=\"convertToInteractive('df-53f9ffdd-68c4-440f-9679-cc589898cf5c')\"\n",
              "              title=\"Convert this dataframe to an interactive table.\"\n",
              "              style=\"display:none;\">\n",
              "        \n",
              "  <svg xmlns=\"http://www.w3.org/2000/svg\" height=\"24px\"viewBox=\"0 0 24 24\"\n",
              "       width=\"24px\">\n",
              "    <path d=\"M0 0h24v24H0V0z\" fill=\"none\"/>\n",
              "    <path d=\"M18.56 5.44l.94 2.06.94-2.06 2.06-.94-2.06-.94-.94-2.06-.94 2.06-2.06.94zm-11 1L8.5 8.5l.94-2.06 2.06-.94-2.06-.94L8.5 2.5l-.94 2.06-2.06.94zm10 10l.94 2.06.94-2.06 2.06-.94-2.06-.94-.94-2.06-.94 2.06-2.06.94z\"/><path d=\"M17.41 7.96l-1.37-1.37c-.4-.4-.92-.59-1.43-.59-.52 0-1.04.2-1.43.59L10.3 9.45l-7.72 7.72c-.78.78-.78 2.05 0 2.83L4 21.41c.39.39.9.59 1.41.59.51 0 1.02-.2 1.41-.59l7.78-7.78 2.81-2.81c.8-.78.8-2.07 0-2.86zM5.41 20L4 18.59l7.72-7.72 1.47 1.35L5.41 20z\"/>\n",
              "  </svg>\n",
              "      </button>\n",
              "      \n",
              "  <style>\n",
              "    .colab-df-container {\n",
              "      display:flex;\n",
              "      flex-wrap:wrap;\n",
              "      gap: 12px;\n",
              "    }\n",
              "\n",
              "    .colab-df-convert {\n",
              "      background-color: #E8F0FE;\n",
              "      border: none;\n",
              "      border-radius: 50%;\n",
              "      cursor: pointer;\n",
              "      display: none;\n",
              "      fill: #1967D2;\n",
              "      height: 32px;\n",
              "      padding: 0 0 0 0;\n",
              "      width: 32px;\n",
              "    }\n",
              "\n",
              "    .colab-df-convert:hover {\n",
              "      background-color: #E2EBFA;\n",
              "      box-shadow: 0px 1px 2px rgba(60, 64, 67, 0.3), 0px 1px 3px 1px rgba(60, 64, 67, 0.15);\n",
              "      fill: #174EA6;\n",
              "    }\n",
              "\n",
              "    [theme=dark] .colab-df-convert {\n",
              "      background-color: #3B4455;\n",
              "      fill: #D2E3FC;\n",
              "    }\n",
              "\n",
              "    [theme=dark] .colab-df-convert:hover {\n",
              "      background-color: #434B5C;\n",
              "      box-shadow: 0px 1px 3px 1px rgba(0, 0, 0, 0.15);\n",
              "      filter: drop-shadow(0px 1px 2px rgba(0, 0, 0, 0.3));\n",
              "      fill: #FFFFFF;\n",
              "    }\n",
              "  </style>\n",
              "\n",
              "      <script>\n",
              "        const buttonEl =\n",
              "          document.querySelector('#df-53f9ffdd-68c4-440f-9679-cc589898cf5c button.colab-df-convert');\n",
              "        buttonEl.style.display =\n",
              "          google.colab.kernel.accessAllowed ? 'block' : 'none';\n",
              "\n",
              "        async function convertToInteractive(key) {\n",
              "          const element = document.querySelector('#df-53f9ffdd-68c4-440f-9679-cc589898cf5c');\n",
              "          const dataTable =\n",
              "            await google.colab.kernel.invokeFunction('convertToInteractive',\n",
              "                                                     [key], {});\n",
              "          if (!dataTable) return;\n",
              "\n",
              "          const docLinkHtml = 'Like what you see? Visit the ' +\n",
              "            '<a target=\"_blank\" href=https://colab.research.google.com/notebooks/data_table.ipynb>data table notebook</a>'\n",
              "            + ' to learn more about interactive tables.';\n",
              "          element.innerHTML = '';\n",
              "          dataTable['output_type'] = 'display_data';\n",
              "          await google.colab.output.renderOutput(dataTable, element);\n",
              "          const docLink = document.createElement('div');\n",
              "          docLink.innerHTML = docLinkHtml;\n",
              "          element.appendChild(docLink);\n",
              "        }\n",
              "      </script>\n",
              "    </div>\n",
              "  </div>\n",
              "  "
            ]
          },
          "metadata": {},
          "execution_count": 7
        }
      ],
      "source": [
        "df.describe()"
      ],
      "id": "09a88d86"
    },
    {
      "cell_type": "code",
      "execution_count": null,
      "metadata": {
        "colab": {
          "base_uri": "https://localhost:8080/",
          "height": 468
        },
        "id": "dad37df4",
        "outputId": "39a2c77e-c3d6-472f-c8ef-ddc343aee4bb"
      },
      "outputs": [
        {
          "output_type": "execute_result",
          "data": {
            "text/plain": [
              "      RowNumber  CustomerId  Surname  CreditScore  Geography  Gender    Age  \\\n",
              "0         False       False    False        False      False   False  False   \n",
              "1         False       False    False        False      False   False  False   \n",
              "2         False       False    False        False      False   False  False   \n",
              "3         False       False    False        False      False   False  False   \n",
              "4         False       False    False        False      False   False  False   \n",
              "...         ...         ...      ...          ...        ...     ...    ...   \n",
              "9995      False       False    False        False      False   False  False   \n",
              "9996      False       False    False        False      False   False  False   \n",
              "9997      False       False    False        False      False   False  False   \n",
              "9998      False       False    False        False      False   False  False   \n",
              "9999      False       False    False        False      False   False  False   \n",
              "\n",
              "      Tenure  Balance  NumOfProducts  HasCrCard  IsActiveMember  \\\n",
              "0      False    False          False      False           False   \n",
              "1      False    False          False      False           False   \n",
              "2      False    False          False      False           False   \n",
              "3      False    False          False      False           False   \n",
              "4      False    False          False      False           False   \n",
              "...      ...      ...            ...        ...             ...   \n",
              "9995   False    False          False      False           False   \n",
              "9996   False    False          False      False           False   \n",
              "9997   False    False          False      False           False   \n",
              "9998   False    False          False      False           False   \n",
              "9999   False    False          False      False           False   \n",
              "\n",
              "      EstimatedSalary  Exited  \n",
              "0               False   False  \n",
              "1               False   False  \n",
              "2               False   False  \n",
              "3               False   False  \n",
              "4               False   False  \n",
              "...               ...     ...  \n",
              "9995            False   False  \n",
              "9996            False   False  \n",
              "9997            False   False  \n",
              "9998            False   False  \n",
              "9999            False   False  \n",
              "\n",
              "[10000 rows x 14 columns]"
            ],
            "text/html": [
              "\n",
              "  <div id=\"df-f5753729-ecb2-4301-af33-334b570d1901\">\n",
              "    <div class=\"colab-df-container\">\n",
              "      <div>\n",
              "<style scoped>\n",
              "    .dataframe tbody tr th:only-of-type {\n",
              "        vertical-align: middle;\n",
              "    }\n",
              "\n",
              "    .dataframe tbody tr th {\n",
              "        vertical-align: top;\n",
              "    }\n",
              "\n",
              "    .dataframe thead th {\n",
              "        text-align: right;\n",
              "    }\n",
              "</style>\n",
              "<table border=\"1\" class=\"dataframe\">\n",
              "  <thead>\n",
              "    <tr style=\"text-align: right;\">\n",
              "      <th></th>\n",
              "      <th>RowNumber</th>\n",
              "      <th>CustomerId</th>\n",
              "      <th>Surname</th>\n",
              "      <th>CreditScore</th>\n",
              "      <th>Geography</th>\n",
              "      <th>Gender</th>\n",
              "      <th>Age</th>\n",
              "      <th>Tenure</th>\n",
              "      <th>Balance</th>\n",
              "      <th>NumOfProducts</th>\n",
              "      <th>HasCrCard</th>\n",
              "      <th>IsActiveMember</th>\n",
              "      <th>EstimatedSalary</th>\n",
              "      <th>Exited</th>\n",
              "    </tr>\n",
              "  </thead>\n",
              "  <tbody>\n",
              "    <tr>\n",
              "      <th>0</th>\n",
              "      <td>False</td>\n",
              "      <td>False</td>\n",
              "      <td>False</td>\n",
              "      <td>False</td>\n",
              "      <td>False</td>\n",
              "      <td>False</td>\n",
              "      <td>False</td>\n",
              "      <td>False</td>\n",
              "      <td>False</td>\n",
              "      <td>False</td>\n",
              "      <td>False</td>\n",
              "      <td>False</td>\n",
              "      <td>False</td>\n",
              "      <td>False</td>\n",
              "    </tr>\n",
              "    <tr>\n",
              "      <th>1</th>\n",
              "      <td>False</td>\n",
              "      <td>False</td>\n",
              "      <td>False</td>\n",
              "      <td>False</td>\n",
              "      <td>False</td>\n",
              "      <td>False</td>\n",
              "      <td>False</td>\n",
              "      <td>False</td>\n",
              "      <td>False</td>\n",
              "      <td>False</td>\n",
              "      <td>False</td>\n",
              "      <td>False</td>\n",
              "      <td>False</td>\n",
              "      <td>False</td>\n",
              "    </tr>\n",
              "    <tr>\n",
              "      <th>2</th>\n",
              "      <td>False</td>\n",
              "      <td>False</td>\n",
              "      <td>False</td>\n",
              "      <td>False</td>\n",
              "      <td>False</td>\n",
              "      <td>False</td>\n",
              "      <td>False</td>\n",
              "      <td>False</td>\n",
              "      <td>False</td>\n",
              "      <td>False</td>\n",
              "      <td>False</td>\n",
              "      <td>False</td>\n",
              "      <td>False</td>\n",
              "      <td>False</td>\n",
              "    </tr>\n",
              "    <tr>\n",
              "      <th>3</th>\n",
              "      <td>False</td>\n",
              "      <td>False</td>\n",
              "      <td>False</td>\n",
              "      <td>False</td>\n",
              "      <td>False</td>\n",
              "      <td>False</td>\n",
              "      <td>False</td>\n",
              "      <td>False</td>\n",
              "      <td>False</td>\n",
              "      <td>False</td>\n",
              "      <td>False</td>\n",
              "      <td>False</td>\n",
              "      <td>False</td>\n",
              "      <td>False</td>\n",
              "    </tr>\n",
              "    <tr>\n",
              "      <th>4</th>\n",
              "      <td>False</td>\n",
              "      <td>False</td>\n",
              "      <td>False</td>\n",
              "      <td>False</td>\n",
              "      <td>False</td>\n",
              "      <td>False</td>\n",
              "      <td>False</td>\n",
              "      <td>False</td>\n",
              "      <td>False</td>\n",
              "      <td>False</td>\n",
              "      <td>False</td>\n",
              "      <td>False</td>\n",
              "      <td>False</td>\n",
              "      <td>False</td>\n",
              "    </tr>\n",
              "    <tr>\n",
              "      <th>...</th>\n",
              "      <td>...</td>\n",
              "      <td>...</td>\n",
              "      <td>...</td>\n",
              "      <td>...</td>\n",
              "      <td>...</td>\n",
              "      <td>...</td>\n",
              "      <td>...</td>\n",
              "      <td>...</td>\n",
              "      <td>...</td>\n",
              "      <td>...</td>\n",
              "      <td>...</td>\n",
              "      <td>...</td>\n",
              "      <td>...</td>\n",
              "      <td>...</td>\n",
              "    </tr>\n",
              "    <tr>\n",
              "      <th>9995</th>\n",
              "      <td>False</td>\n",
              "      <td>False</td>\n",
              "      <td>False</td>\n",
              "      <td>False</td>\n",
              "      <td>False</td>\n",
              "      <td>False</td>\n",
              "      <td>False</td>\n",
              "      <td>False</td>\n",
              "      <td>False</td>\n",
              "      <td>False</td>\n",
              "      <td>False</td>\n",
              "      <td>False</td>\n",
              "      <td>False</td>\n",
              "      <td>False</td>\n",
              "    </tr>\n",
              "    <tr>\n",
              "      <th>9996</th>\n",
              "      <td>False</td>\n",
              "      <td>False</td>\n",
              "      <td>False</td>\n",
              "      <td>False</td>\n",
              "      <td>False</td>\n",
              "      <td>False</td>\n",
              "      <td>False</td>\n",
              "      <td>False</td>\n",
              "      <td>False</td>\n",
              "      <td>False</td>\n",
              "      <td>False</td>\n",
              "      <td>False</td>\n",
              "      <td>False</td>\n",
              "      <td>False</td>\n",
              "    </tr>\n",
              "    <tr>\n",
              "      <th>9997</th>\n",
              "      <td>False</td>\n",
              "      <td>False</td>\n",
              "      <td>False</td>\n",
              "      <td>False</td>\n",
              "      <td>False</td>\n",
              "      <td>False</td>\n",
              "      <td>False</td>\n",
              "      <td>False</td>\n",
              "      <td>False</td>\n",
              "      <td>False</td>\n",
              "      <td>False</td>\n",
              "      <td>False</td>\n",
              "      <td>False</td>\n",
              "      <td>False</td>\n",
              "    </tr>\n",
              "    <tr>\n",
              "      <th>9998</th>\n",
              "      <td>False</td>\n",
              "      <td>False</td>\n",
              "      <td>False</td>\n",
              "      <td>False</td>\n",
              "      <td>False</td>\n",
              "      <td>False</td>\n",
              "      <td>False</td>\n",
              "      <td>False</td>\n",
              "      <td>False</td>\n",
              "      <td>False</td>\n",
              "      <td>False</td>\n",
              "      <td>False</td>\n",
              "      <td>False</td>\n",
              "      <td>False</td>\n",
              "    </tr>\n",
              "    <tr>\n",
              "      <th>9999</th>\n",
              "      <td>False</td>\n",
              "      <td>False</td>\n",
              "      <td>False</td>\n",
              "      <td>False</td>\n",
              "      <td>False</td>\n",
              "      <td>False</td>\n",
              "      <td>False</td>\n",
              "      <td>False</td>\n",
              "      <td>False</td>\n",
              "      <td>False</td>\n",
              "      <td>False</td>\n",
              "      <td>False</td>\n",
              "      <td>False</td>\n",
              "      <td>False</td>\n",
              "    </tr>\n",
              "  </tbody>\n",
              "</table>\n",
              "<p>10000 rows × 14 columns</p>\n",
              "</div>\n",
              "      <button class=\"colab-df-convert\" onclick=\"convertToInteractive('df-f5753729-ecb2-4301-af33-334b570d1901')\"\n",
              "              title=\"Convert this dataframe to an interactive table.\"\n",
              "              style=\"display:none;\">\n",
              "        \n",
              "  <svg xmlns=\"http://www.w3.org/2000/svg\" height=\"24px\"viewBox=\"0 0 24 24\"\n",
              "       width=\"24px\">\n",
              "    <path d=\"M0 0h24v24H0V0z\" fill=\"none\"/>\n",
              "    <path d=\"M18.56 5.44l.94 2.06.94-2.06 2.06-.94-2.06-.94-.94-2.06-.94 2.06-2.06.94zm-11 1L8.5 8.5l.94-2.06 2.06-.94-2.06-.94L8.5 2.5l-.94 2.06-2.06.94zm10 10l.94 2.06.94-2.06 2.06-.94-2.06-.94-.94-2.06-.94 2.06-2.06.94z\"/><path d=\"M17.41 7.96l-1.37-1.37c-.4-.4-.92-.59-1.43-.59-.52 0-1.04.2-1.43.59L10.3 9.45l-7.72 7.72c-.78.78-.78 2.05 0 2.83L4 21.41c.39.39.9.59 1.41.59.51 0 1.02-.2 1.41-.59l7.78-7.78 2.81-2.81c.8-.78.8-2.07 0-2.86zM5.41 20L4 18.59l7.72-7.72 1.47 1.35L5.41 20z\"/>\n",
              "  </svg>\n",
              "      </button>\n",
              "      \n",
              "  <style>\n",
              "    .colab-df-container {\n",
              "      display:flex;\n",
              "      flex-wrap:wrap;\n",
              "      gap: 12px;\n",
              "    }\n",
              "\n",
              "    .colab-df-convert {\n",
              "      background-color: #E8F0FE;\n",
              "      border: none;\n",
              "      border-radius: 50%;\n",
              "      cursor: pointer;\n",
              "      display: none;\n",
              "      fill: #1967D2;\n",
              "      height: 32px;\n",
              "      padding: 0 0 0 0;\n",
              "      width: 32px;\n",
              "    }\n",
              "\n",
              "    .colab-df-convert:hover {\n",
              "      background-color: #E2EBFA;\n",
              "      box-shadow: 0px 1px 2px rgba(60, 64, 67, 0.3), 0px 1px 3px 1px rgba(60, 64, 67, 0.15);\n",
              "      fill: #174EA6;\n",
              "    }\n",
              "\n",
              "    [theme=dark] .colab-df-convert {\n",
              "      background-color: #3B4455;\n",
              "      fill: #D2E3FC;\n",
              "    }\n",
              "\n",
              "    [theme=dark] .colab-df-convert:hover {\n",
              "      background-color: #434B5C;\n",
              "      box-shadow: 0px 1px 3px 1px rgba(0, 0, 0, 0.15);\n",
              "      filter: drop-shadow(0px 1px 2px rgba(0, 0, 0, 0.3));\n",
              "      fill: #FFFFFF;\n",
              "    }\n",
              "  </style>\n",
              "\n",
              "      <script>\n",
              "        const buttonEl =\n",
              "          document.querySelector('#df-f5753729-ecb2-4301-af33-334b570d1901 button.colab-df-convert');\n",
              "        buttonEl.style.display =\n",
              "          google.colab.kernel.accessAllowed ? 'block' : 'none';\n",
              "\n",
              "        async function convertToInteractive(key) {\n",
              "          const element = document.querySelector('#df-f5753729-ecb2-4301-af33-334b570d1901');\n",
              "          const dataTable =\n",
              "            await google.colab.kernel.invokeFunction('convertToInteractive',\n",
              "                                                     [key], {});\n",
              "          if (!dataTable) return;\n",
              "\n",
              "          const docLinkHtml = 'Like what you see? Visit the ' +\n",
              "            '<a target=\"_blank\" href=https://colab.research.google.com/notebooks/data_table.ipynb>data table notebook</a>'\n",
              "            + ' to learn more about interactive tables.';\n",
              "          element.innerHTML = '';\n",
              "          dataTable['output_type'] = 'display_data';\n",
              "          await google.colab.output.renderOutput(dataTable, element);\n",
              "          const docLink = document.createElement('div');\n",
              "          docLink.innerHTML = docLinkHtml;\n",
              "          element.appendChild(docLink);\n",
              "        }\n",
              "      </script>\n",
              "    </div>\n",
              "  </div>\n",
              "  "
            ]
          },
          "metadata": {},
          "execution_count": 8
        }
      ],
      "source": [
        "df.isnull()"
      ],
      "id": "dad37df4"
    },
    {
      "cell_type": "code",
      "execution_count": null,
      "metadata": {
        "colab": {
          "base_uri": "https://localhost:8080/"
        },
        "id": "14f20421",
        "outputId": "1b25b085-5a50-413b-834e-c829610e42db"
      },
      "outputs": [
        {
          "output_type": "execute_result",
          "data": {
            "text/plain": [
              "RowNumber          0\n",
              "CustomerId         0\n",
              "Surname            0\n",
              "CreditScore        0\n",
              "Geography          0\n",
              "Gender             0\n",
              "Age                0\n",
              "Tenure             0\n",
              "Balance            0\n",
              "NumOfProducts      0\n",
              "HasCrCard          0\n",
              "IsActiveMember     0\n",
              "EstimatedSalary    0\n",
              "Exited             0\n",
              "dtype: int64"
            ]
          },
          "metadata": {},
          "execution_count": 9
        }
      ],
      "source": [
        "df.isnull().sum()"
      ],
      "id": "14f20421"
    },
    {
      "cell_type": "code",
      "execution_count": null,
      "metadata": {
        "colab": {
          "base_uri": "https://localhost:8080/"
        },
        "id": "1ca72a6c",
        "outputId": "eeb06535-34ca-4716-c885-2920ca8ae080"
      },
      "outputs": [
        {
          "output_type": "stream",
          "name": "stdout",
          "text": [
            "<class 'pandas.core.frame.DataFrame'>\n",
            "RangeIndex: 10000 entries, 0 to 9999\n",
            "Data columns (total 14 columns):\n",
            " #   Column           Non-Null Count  Dtype  \n",
            "---  ------           --------------  -----  \n",
            " 0   RowNumber        10000 non-null  int64  \n",
            " 1   CustomerId       10000 non-null  int64  \n",
            " 2   Surname          10000 non-null  object \n",
            " 3   CreditScore      10000 non-null  int64  \n",
            " 4   Geography        10000 non-null  object \n",
            " 5   Gender           10000 non-null  object \n",
            " 6   Age              10000 non-null  int64  \n",
            " 7   Tenure           10000 non-null  int64  \n",
            " 8   Balance          10000 non-null  float64\n",
            " 9   NumOfProducts    10000 non-null  int64  \n",
            " 10  HasCrCard        10000 non-null  int64  \n",
            " 11  IsActiveMember   10000 non-null  int64  \n",
            " 12  EstimatedSalary  10000 non-null  float64\n",
            " 13  Exited           10000 non-null  int64  \n",
            "dtypes: float64(2), int64(9), object(3)\n",
            "memory usage: 1.1+ MB\n"
          ]
        }
      ],
      "source": [
        "df.info()"
      ],
      "id": "1ca72a6c"
    },
    {
      "cell_type": "code",
      "execution_count": null,
      "metadata": {
        "colab": {
          "base_uri": "https://localhost:8080/"
        },
        "id": "8d245f53",
        "outputId": "382f73de-8d38-46b9-baa7-08353539be3a"
      },
      "outputs": [
        {
          "output_type": "execute_result",
          "data": {
            "text/plain": [
              "RowNumber            int64\n",
              "CustomerId           int64\n",
              "Surname             object\n",
              "CreditScore          int64\n",
              "Geography           object\n",
              "Gender              object\n",
              "Age                  int64\n",
              "Tenure               int64\n",
              "Balance            float64\n",
              "NumOfProducts        int64\n",
              "HasCrCard            int64\n",
              "IsActiveMember       int64\n",
              "EstimatedSalary    float64\n",
              "Exited               int64\n",
              "dtype: object"
            ]
          },
          "metadata": {},
          "execution_count": 11
        }
      ],
      "source": [
        "df.dtypes"
      ],
      "id": "8d245f53"
    },
    {
      "cell_type": "code",
      "execution_count": null,
      "metadata": {
        "colab": {
          "base_uri": "https://localhost:8080/"
        },
        "id": "3605de14",
        "outputId": "b1088077-9d8f-4932-ff56-8dda59db16ba"
      },
      "outputs": [
        {
          "output_type": "execute_result",
          "data": {
            "text/plain": [
              "Index(['RowNumber', 'CustomerId', 'Surname', 'CreditScore', 'Geography',\n",
              "       'Gender', 'Age', 'Tenure', 'Balance', 'NumOfProducts', 'HasCrCard',\n",
              "       'IsActiveMember', 'EstimatedSalary', 'Exited'],\n",
              "      dtype='object')"
            ]
          },
          "metadata": {},
          "execution_count": 12
        }
      ],
      "source": [
        "df.columns"
      ],
      "id": "3605de14"
    },
    {
      "cell_type": "code",
      "execution_count": null,
      "metadata": {
        "id": "f29a1947"
      },
      "outputs": [],
      "source": [
        "df = df.drop(['RowNumber', 'Surname', 'CustomerId'], axis= 1) #Dropping the unnecessary columns "
      ],
      "id": "f29a1947"
    },
    {
      "cell_type": "code",
      "execution_count": null,
      "metadata": {
        "colab": {
          "base_uri": "https://localhost:8080/",
          "height": 206
        },
        "id": "4dedec85",
        "outputId": "402f70db-b769-4deb-a022-804705846aa4"
      },
      "outputs": [
        {
          "output_type": "execute_result",
          "data": {
            "text/plain": [
              "   CreditScore Geography  Gender  Age  Tenure    Balance  NumOfProducts  \\\n",
              "0          619    France  Female   42       2       0.00              1   \n",
              "1          608     Spain  Female   41       1   83807.86              1   \n",
              "2          502    France  Female   42       8  159660.80              3   \n",
              "3          699    France  Female   39       1       0.00              2   \n",
              "4          850     Spain  Female   43       2  125510.82              1   \n",
              "\n",
              "   HasCrCard  IsActiveMember  EstimatedSalary  Exited  \n",
              "0          1               1        101348.88       1  \n",
              "1          0               1        112542.58       0  \n",
              "2          1               0        113931.57       1  \n",
              "3          0               0         93826.63       0  \n",
              "4          1               1         79084.10       0  "
            ],
            "text/html": [
              "\n",
              "  <div id=\"df-fb43aaca-be62-4197-9396-516cd8131cb5\">\n",
              "    <div class=\"colab-df-container\">\n",
              "      <div>\n",
              "<style scoped>\n",
              "    .dataframe tbody tr th:only-of-type {\n",
              "        vertical-align: middle;\n",
              "    }\n",
              "\n",
              "    .dataframe tbody tr th {\n",
              "        vertical-align: top;\n",
              "    }\n",
              "\n",
              "    .dataframe thead th {\n",
              "        text-align: right;\n",
              "    }\n",
              "</style>\n",
              "<table border=\"1\" class=\"dataframe\">\n",
              "  <thead>\n",
              "    <tr style=\"text-align: right;\">\n",
              "      <th></th>\n",
              "      <th>CreditScore</th>\n",
              "      <th>Geography</th>\n",
              "      <th>Gender</th>\n",
              "      <th>Age</th>\n",
              "      <th>Tenure</th>\n",
              "      <th>Balance</th>\n",
              "      <th>NumOfProducts</th>\n",
              "      <th>HasCrCard</th>\n",
              "      <th>IsActiveMember</th>\n",
              "      <th>EstimatedSalary</th>\n",
              "      <th>Exited</th>\n",
              "    </tr>\n",
              "  </thead>\n",
              "  <tbody>\n",
              "    <tr>\n",
              "      <th>0</th>\n",
              "      <td>619</td>\n",
              "      <td>France</td>\n",
              "      <td>Female</td>\n",
              "      <td>42</td>\n",
              "      <td>2</td>\n",
              "      <td>0.00</td>\n",
              "      <td>1</td>\n",
              "      <td>1</td>\n",
              "      <td>1</td>\n",
              "      <td>101348.88</td>\n",
              "      <td>1</td>\n",
              "    </tr>\n",
              "    <tr>\n",
              "      <th>1</th>\n",
              "      <td>608</td>\n",
              "      <td>Spain</td>\n",
              "      <td>Female</td>\n",
              "      <td>41</td>\n",
              "      <td>1</td>\n",
              "      <td>83807.86</td>\n",
              "      <td>1</td>\n",
              "      <td>0</td>\n",
              "      <td>1</td>\n",
              "      <td>112542.58</td>\n",
              "      <td>0</td>\n",
              "    </tr>\n",
              "    <tr>\n",
              "      <th>2</th>\n",
              "      <td>502</td>\n",
              "      <td>France</td>\n",
              "      <td>Female</td>\n",
              "      <td>42</td>\n",
              "      <td>8</td>\n",
              "      <td>159660.80</td>\n",
              "      <td>3</td>\n",
              "      <td>1</td>\n",
              "      <td>0</td>\n",
              "      <td>113931.57</td>\n",
              "      <td>1</td>\n",
              "    </tr>\n",
              "    <tr>\n",
              "      <th>3</th>\n",
              "      <td>699</td>\n",
              "      <td>France</td>\n",
              "      <td>Female</td>\n",
              "      <td>39</td>\n",
              "      <td>1</td>\n",
              "      <td>0.00</td>\n",
              "      <td>2</td>\n",
              "      <td>0</td>\n",
              "      <td>0</td>\n",
              "      <td>93826.63</td>\n",
              "      <td>0</td>\n",
              "    </tr>\n",
              "    <tr>\n",
              "      <th>4</th>\n",
              "      <td>850</td>\n",
              "      <td>Spain</td>\n",
              "      <td>Female</td>\n",
              "      <td>43</td>\n",
              "      <td>2</td>\n",
              "      <td>125510.82</td>\n",
              "      <td>1</td>\n",
              "      <td>1</td>\n",
              "      <td>1</td>\n",
              "      <td>79084.10</td>\n",
              "      <td>0</td>\n",
              "    </tr>\n",
              "  </tbody>\n",
              "</table>\n",
              "</div>\n",
              "      <button class=\"colab-df-convert\" onclick=\"convertToInteractive('df-fb43aaca-be62-4197-9396-516cd8131cb5')\"\n",
              "              title=\"Convert this dataframe to an interactive table.\"\n",
              "              style=\"display:none;\">\n",
              "        \n",
              "  <svg xmlns=\"http://www.w3.org/2000/svg\" height=\"24px\"viewBox=\"0 0 24 24\"\n",
              "       width=\"24px\">\n",
              "    <path d=\"M0 0h24v24H0V0z\" fill=\"none\"/>\n",
              "    <path d=\"M18.56 5.44l.94 2.06.94-2.06 2.06-.94-2.06-.94-.94-2.06-.94 2.06-2.06.94zm-11 1L8.5 8.5l.94-2.06 2.06-.94-2.06-.94L8.5 2.5l-.94 2.06-2.06.94zm10 10l.94 2.06.94-2.06 2.06-.94-2.06-.94-.94-2.06-.94 2.06-2.06.94z\"/><path d=\"M17.41 7.96l-1.37-1.37c-.4-.4-.92-.59-1.43-.59-.52 0-1.04.2-1.43.59L10.3 9.45l-7.72 7.72c-.78.78-.78 2.05 0 2.83L4 21.41c.39.39.9.59 1.41.59.51 0 1.02-.2 1.41-.59l7.78-7.78 2.81-2.81c.8-.78.8-2.07 0-2.86zM5.41 20L4 18.59l7.72-7.72 1.47 1.35L5.41 20z\"/>\n",
              "  </svg>\n",
              "      </button>\n",
              "      \n",
              "  <style>\n",
              "    .colab-df-container {\n",
              "      display:flex;\n",
              "      flex-wrap:wrap;\n",
              "      gap: 12px;\n",
              "    }\n",
              "\n",
              "    .colab-df-convert {\n",
              "      background-color: #E8F0FE;\n",
              "      border: none;\n",
              "      border-radius: 50%;\n",
              "      cursor: pointer;\n",
              "      display: none;\n",
              "      fill: #1967D2;\n",
              "      height: 32px;\n",
              "      padding: 0 0 0 0;\n",
              "      width: 32px;\n",
              "    }\n",
              "\n",
              "    .colab-df-convert:hover {\n",
              "      background-color: #E2EBFA;\n",
              "      box-shadow: 0px 1px 2px rgba(60, 64, 67, 0.3), 0px 1px 3px 1px rgba(60, 64, 67, 0.15);\n",
              "      fill: #174EA6;\n",
              "    }\n",
              "\n",
              "    [theme=dark] .colab-df-convert {\n",
              "      background-color: #3B4455;\n",
              "      fill: #D2E3FC;\n",
              "    }\n",
              "\n",
              "    [theme=dark] .colab-df-convert:hover {\n",
              "      background-color: #434B5C;\n",
              "      box-shadow: 0px 1px 3px 1px rgba(0, 0, 0, 0.15);\n",
              "      filter: drop-shadow(0px 1px 2px rgba(0, 0, 0, 0.3));\n",
              "      fill: #FFFFFF;\n",
              "    }\n",
              "  </style>\n",
              "\n",
              "      <script>\n",
              "        const buttonEl =\n",
              "          document.querySelector('#df-fb43aaca-be62-4197-9396-516cd8131cb5 button.colab-df-convert');\n",
              "        buttonEl.style.display =\n",
              "          google.colab.kernel.accessAllowed ? 'block' : 'none';\n",
              "\n",
              "        async function convertToInteractive(key) {\n",
              "          const element = document.querySelector('#df-fb43aaca-be62-4197-9396-516cd8131cb5');\n",
              "          const dataTable =\n",
              "            await google.colab.kernel.invokeFunction('convertToInteractive',\n",
              "                                                     [key], {});\n",
              "          if (!dataTable) return;\n",
              "\n",
              "          const docLinkHtml = 'Like what you see? Visit the ' +\n",
              "            '<a target=\"_blank\" href=https://colab.research.google.com/notebooks/data_table.ipynb>data table notebook</a>'\n",
              "            + ' to learn more about interactive tables.';\n",
              "          element.innerHTML = '';\n",
              "          dataTable['output_type'] = 'display_data';\n",
              "          await google.colab.output.renderOutput(dataTable, element);\n",
              "          const docLink = document.createElement('div');\n",
              "          docLink.innerHTML = docLinkHtml;\n",
              "          element.appendChild(docLink);\n",
              "        }\n",
              "      </script>\n",
              "    </div>\n",
              "  </div>\n",
              "  "
            ]
          },
          "metadata": {},
          "execution_count": 14
        }
      ],
      "source": [
        "df.head()"
      ],
      "id": "4dedec85"
    },
    {
      "cell_type": "markdown",
      "metadata": {
        "id": "44410449"
      },
      "source": [
        "## Visualization"
      ],
      "id": "44410449"
    },
    {
      "cell_type": "code",
      "execution_count": null,
      "metadata": {
        "id": "724a60f4"
      },
      "outputs": [],
      "source": [
        "def visualization(x, y, xlabel):\n",
        "    plt.figure(figsize=(10,5))\n",
        "    plt.hist([x, y], color=['red', 'green'], label = ['exit', 'not_exit'])\n",
        "    plt.xlabel(xlabel,fontsize=20)\n",
        "    plt.ylabel(\"No. of customers\", fontsize=20)\n",
        "    plt.legend()"
      ],
      "id": "724a60f4"
    },
    {
      "cell_type": "code",
      "execution_count": null,
      "metadata": {
        "id": "17d2844f"
      },
      "outputs": [],
      "source": [
        "df_churn_exited = df[df['Exited']==1]['Tenure']\n",
        "df_churn_not_exited = df[df['Exited']==0]['Tenure']"
      ],
      "id": "17d2844f"
    },
    {
      "cell_type": "code",
      "execution_count": null,
      "metadata": {
        "colab": {
          "base_uri": "https://localhost:8080/",
          "height": 432
        },
        "id": "d84c8bd1",
        "outputId": "7c993dff-d8af-482d-dc29-a9e961320210"
      },
      "outputs": [
        {
          "output_type": "stream",
          "name": "stderr",
          "text": [
            "/usr/local/lib/python3.7/dist-packages/numpy/core/fromnumeric.py:3208: VisibleDeprecationWarning: Creating an ndarray from ragged nested sequences (which is a list-or-tuple of lists-or-tuples-or ndarrays with different lengths or shapes) is deprecated. If you meant to do this, you must specify 'dtype=object' when creating the ndarray.\n",
            "  return asarray(a).size\n",
            "/usr/local/lib/python3.7/dist-packages/matplotlib/cbook/__init__.py:1376: VisibleDeprecationWarning: Creating an ndarray from ragged nested sequences (which is a list-or-tuple of lists-or-tuples-or ndarrays with different lengths or shapes) is deprecated. If you meant to do this, you must specify 'dtype=object' when creating the ndarray.\n",
            "  X = np.atleast_1d(X.T if isinstance(X, np.ndarray) else np.asarray(X))\n"
          ]
        },
        {
          "output_type": "display_data",
          "data": {
            "text/plain": [
              "<Figure size 720x360 with 1 Axes>"
            ],
            "image/png": "[encoded data removed]"
          },
          "metadata": {
            "needs_background": "light"
          }
        }
      ],
      "source": [
        "visualization(df_churn_exited, df_churn_not_exited, \"Tenure\")"
      ],
      "id": "d84c8bd1"
    },
    {
      "cell_type": "code",
      "execution_count": null,
      "metadata": {
        "id": "068a1a3e"
      },
      "outputs": [],
      "source": [
        "df_churn_exited2 = df[df['Exited']==1]['Age']\n",
        "df_churn_not_exited2 = df[df['Exited']==0]['Age']"
      ],
      "id": "068a1a3e"
    },
    {
      "cell_type": "code",
      "execution_count": null,
      "metadata": {
        "colab": {
          "base_uri": "https://localhost:8080/",
          "height": 343
        },
        "id": "9c4b03a8",
        "outputId": "538d03de-9c07-451c-b1a5-cafb5d5adaa0"
      },
      "outputs": [
        {
          "output_type": "display_data",
          "data": {
            "text/plain": [
              "<Figure size 720x360 with 1 Axes>"
            ],
            "image/png": "[encoded data removed]"
          },
          "metadata": {
            "needs_background": "light"
          }
        }
      ],
      "source": [
        "visualization(df_churn_exited2, df_churn_not_exited2, \"Age\")"
      ],
      "id": "9c4b03a8"
    },
    {
      "cell_type": "markdown",
      "metadata": {
        "id": "cd5a1362"
      },
      "source": [
        "## Converting the Categorical Variables"
      ],
      "id": "cd5a1362"
    },
    {
      "cell_type": "code",
      "execution_count": null,
      "metadata": {
        "id": "4990b0a7"
      },
      "outputs": [],
      "source": [
        "X = df[['CreditScore','Gender','Age','Tenure','Balance','NumOfProducts','HasCrCard','IsActiveMember','EstimatedSalary']]\n",
        "states = pd.get_dummies(df['Geography'],drop_first = True)\n",
        "gender = pd.get_dummies(df['Gender'],drop_first = True)"
      ],
      "id": "4990b0a7"
    },
    {
      "cell_type": "code",
      "execution_count": null,
      "metadata": {
        "id": "2aa73c92"
      },
      "outputs": [],
      "source": [
        "\n",
        "df = pd.concat([df,gender,states], axis = 1)"
      ],
      "id": "2aa73c92"
    },
    {
      "cell_type": "markdown",
      "metadata": {
        "id": "9840f548"
      },
      "source": [
        "## Splitting the training and testing Dataset"
      ],
      "id": "9840f548"
    },
    {
      "cell_type": "code",
      "execution_count": null,
      "metadata": {
        "colab": {
          "base_uri": "https://localhost:8080/",
          "height": 206
        },
        "id": "8a684704",
        "outputId": "80a77f3b-a65c-45c8-ee36-2018b0f10306"
      },
      "outputs": [
        {
          "output_type": "execute_result",
          "data": {
            "text/plain": [
              "   CreditScore Geography  Gender  Age  Tenure    Balance  NumOfProducts  \\\n",
              "0          619    France  Female   42       2       0.00              1   \n",
              "1          608     Spain  Female   41       1   83807.86              1   \n",
              "2          502    France  Female   42       8  159660.80              3   \n",
              "3          699    France  Female   39       1       0.00              2   \n",
              "4          850     Spain  Female   43       2  125510.82              1   \n",
              "\n",
              "   HasCrCard  IsActiveMember  EstimatedSalary  Exited  Male  Germany  Spain  \n",
              "0          1               1        101348.88       1     0        0      0  \n",
              "1          0               1        112542.58       0     0        0      1  \n",
              "2          1               0        113931.57       1     0        0      0  \n",
              "3          0               0         93826.63       0     0        0      0  \n",
              "4          1               1         79084.10       0     0        0      1  "
            ],
            "text/html": [
              "\n",
              "  <div id=\"df-a93fb3d9-bfc8-48f6-a6ed-13e4467ec912\">\n",
              "    <div class=\"colab-df-container\">\n",
              "      <div>\n",
              "<style scoped>\n",
              "    .dataframe tbody tr th:only-of-type {\n",
              "        vertical-align: middle;\n",
              "    }\n",
              "\n",
              "    .dataframe tbody tr th {\n",
              "        vertical-align: top;\n",
              "    }\n",
              "\n",
              "    .dataframe thead th {\n",
              "        text-align: right;\n",
              "    }\n",
              "</style>\n",
              "<table border=\"1\" class=\"dataframe\">\n",
              "  <thead>\n",
              "    <tr style=\"text-align: right;\">\n",
              "      <th></th>\n",
              "      <th>CreditScore</th>\n",
              "      <th>Geography</th>\n",
              "      <th>Gender</th>\n",
              "      <th>Age</th>\n",
              "      <th>Tenure</th>\n",
              "      <th>Balance</th>\n",
              "      <th>NumOfProducts</th>\n",
              "      <th>HasCrCard</th>\n",
              "      <th>IsActiveMember</th>\n",
              "      <th>EstimatedSalary</th>\n",
              "      <th>Exited</th>\n",
              "      <th>Male</th>\n",
              "      <th>Germany</th>\n",
              "      <th>Spain</th>\n",
              "    </tr>\n",
              "  </thead>\n",
              "  <tbody>\n",
              "    <tr>\n",
              "      <th>0</th>\n",
              "      <td>619</td>\n",
              "      <td>France</td>\n",
              "      <td>Female</td>\n",
              "      <td>42</td>\n",
              "      <td>2</td>\n",
              "      <td>0.00</td>\n",
              "      <td>1</td>\n",
              "      <td>1</td>\n",
              "      <td>1</td>\n",
              "      <td>101348.88</td>\n",
              "      <td>1</td>\n",
              "      <td>0</td>\n",
              "      <td>0</td>\n",
              "      <td>0</td>\n",
              "    </tr>\n",
              "    <tr>\n",
              "      <th>1</th>\n",
              "      <td>608</td>\n",
              "      <td>Spain</td>\n",
              "      <td>Female</td>\n",
              "      <td>41</td>\n",
              "      <td>1</td>\n",
              "      <td>83807.86</td>\n",
              "      <td>1</td>\n",
              "      <td>0</td>\n",
              "      <td>1</td>\n",
              "      <td>112542.58</td>\n",
              "      <td>0</td>\n",
              "      <td>0</td>\n",
              "      <td>0</td>\n",
              "      <td>1</td>\n",
              "    </tr>\n",
              "    <tr>\n",
              "      <th>2</th>\n",
              "      <td>502</td>\n",
              "      <td>France</td>\n",
              "      <td>Female</td>\n",
              "      <td>42</td>\n",
              "      <td>8</td>\n",
              "      <td>159660.80</td>\n",
              "      <td>3</td>\n",
              "      <td>1</td>\n",
              "      <td>0</td>\n",
              "      <td>113931.57</td>\n",
              "      <td>1</td>\n",
              "      <td>0</td>\n",
              "      <td>0</td>\n",
              "      <td>0</td>\n",
              "    </tr>\n",
              "    <tr>\n",
              "      <th>3</th>\n",
              "      <td>699</td>\n",
              "      <td>France</td>\n",
              "      <td>Female</td>\n",
              "      <td>39</td>\n",
              "      <td>1</td>\n",
              "      <td>0.00</td>\n",
              "      <td>2</td>\n",
              "      <td>0</td>\n",
              "      <td>0</td>\n",
              "      <td>93826.63</td>\n",
              "      <td>0</td>\n",
              "      <td>0</td>\n",
              "      <td>0</td>\n",
              "      <td>0</td>\n",
              "    </tr>\n",
              "    <tr>\n",
              "      <th>4</th>\n",
              "      <td>850</td>\n",
              "      <td>Spain</td>\n",
              "      <td>Female</td>\n",
              "      <td>43</td>\n",
              "      <td>2</td>\n",
              "      <td>125510.82</td>\n",
              "      <td>1</td>\n",
              "      <td>1</td>\n",
              "      <td>1</td>\n",
              "      <td>79084.10</td>\n",
              "      <td>0</td>\n",
              "      <td>0</td>\n",
              "      <td>0</td>\n",
              "      <td>1</td>\n",
              "    </tr>\n",
              "  </tbody>\n",
              "</table>\n",
              "</div>\n",
              "      <button class=\"colab-df-convert\" onclick=\"convertToInteractive('df-a93fb3d9-bfc8-48f6-a6ed-13e4467ec912')\"\n",
              "              title=\"Convert this dataframe to an interactive table.\"\n",
              "              style=\"display:none;\">\n",
              "        \n",
              "  <svg xmlns=\"http://www.w3.org/2000/svg\" height=\"24px\"viewBox=\"0 0 24 24\"\n",
              "       width=\"24px\">\n",
              "    <path d=\"M0 0h24v24H0V0z\" fill=\"none\"/>\n",
              "    <path d=\"M18.56 5.44l.94 2.06.94-2.06 2.06-.94-2.06-.94-.94-2.06-.94 2.06-2.06.94zm-11 1L8.5 8.5l.94-2.06 2.06-.94-2.06-.94L8.5 2.5l-.94 2.06-2.06.94zm10 10l.94 2.06.94-2.06 2.06-.94-2.06-.94-.94-2.06-.94 2.06-2.06.94z\"/><path d=\"M17.41 7.96l-1.37-1.37c-.4-.4-.92-.59-1.43-.59-.52 0-1.04.2-1.43.59L10.3 9.45l-7.72 7.72c-.78.78-.78 2.05 0 2.83L4 21.41c.39.39.9.59 1.41.59.51 0 1.02-.2 1.41-.59l7.78-7.78 2.81-2.81c.8-.78.8-2.07 0-2.86zM5.41 20L4 18.59l7.72-7.72 1.47 1.35L5.41 20z\"/>\n",
              "  </svg>\n",
              "      </button>\n",
              "      \n",
              "  <style>\n",
              "    .colab-df-container {\n",
              "      display:flex;\n",
              "      flex-wrap:wrap;\n",
              "      gap: 12px;\n",
              "    }\n",
              "\n",
              "    .colab-df-convert {\n",
              "      background-color: #E8F0FE;\n",
              "      border: none;\n",
              "      border-radius: 50%;\n",
              "      cursor: pointer;\n",
              "      display: none;\n",
              "      fill: #1967D2;\n",
              "      height: 32px;\n",
              "      padding: 0 0 0 0;\n",
              "      width: 32px;\n",
              "    }\n",
              "\n",
              "    .colab-df-convert:hover {\n",
              "      background-color: #E2EBFA;\n",
              "      box-shadow: 0px 1px 2px rgba(60, 64, 67, 0.3), 0px 1px 3px 1px rgba(60, 64, 67, 0.15);\n",
              "      fill: #174EA6;\n",
              "    }\n",
              "\n",
              "    [theme=dark] .colab-df-convert {\n",
              "      background-color: #3B4455;\n",
              "      fill: #D2E3FC;\n",
              "    }\n",
              "\n",
              "    [theme=dark] .colab-df-convert:hover {\n",
              "      background-color: #434B5C;\n",
              "      box-shadow: 0px 1px 3px 1px rgba(0, 0, 0, 0.15);\n",
              "      filter: drop-shadow(0px 1px 2px rgba(0, 0, 0, 0.3));\n",
              "      fill: #FFFFFF;\n",
              "    }\n",
              "  </style>\n",
              "\n",
              "      <script>\n",
              "        const buttonEl =\n",
              "          document.querySelector('#df-a93fb3d9-bfc8-48f6-a6ed-13e4467ec912 button.colab-df-convert');\n",
              "        buttonEl.style.display =\n",
              "          google.colab.kernel.accessAllowed ? 'block' : 'none';\n",
              "\n",
              "        async function convertToInteractive(key) {\n",
              "          const element = document.querySelector('#df-a93fb3d9-bfc8-48f6-a6ed-13e4467ec912');\n",
              "          const dataTable =\n",
              "            await google.colab.kernel.invokeFunction('convertToInteractive',\n",
              "                                                     [key], {});\n",
              "          if (!dataTable) return;\n",
              "\n",
              "          const docLinkHtml = 'Like what you see? Visit the ' +\n",
              "            '<a target=\"_blank\" href=https://colab.research.google.com/notebooks/data_table.ipynb>data table notebook</a>'\n",
              "            + ' to learn more about interactive tables.';\n",
              "          element.innerHTML = '';\n",
              "          dataTable['output_type'] = 'display_data';\n",
              "          await google.colab.output.renderOutput(dataTable, element);\n",
              "          const docLink = document.createElement('div');\n",
              "          docLink.innerHTML = docLinkHtml;\n",
              "          element.appendChild(docLink);\n",
              "        }\n",
              "      </script>\n",
              "    </div>\n",
              "  </div>\n",
              "  "
            ]
          },
          "metadata": {},
          "execution_count": 22
        }
      ],
      "source": [
        "df.head()"
      ],
      "id": "8a684704"
    },
    {
      "cell_type": "code",
      "execution_count": null,
      "metadata": {
        "id": "c7773473"
      },
      "outputs": [],
      "source": [
        "X = df[['CreditScore','Age','Tenure','Balance','NumOfProducts','HasCrCard','IsActiveMember','EstimatedSalary','Male','Germany','Spain']]"
      ],
      "id": "c7773473"
    },
    {
      "cell_type": "code",
      "execution_count": null,
      "metadata": {
        "id": "eaf134ac"
      },
      "outputs": [],
      "source": [
        "y = df['Exited']"
      ],
      "id": "eaf134ac"
    },
    {
      "cell_type": "code",
      "execution_count": null,
      "metadata": {
        "id": "356bb0be"
      },
      "outputs": [],
      "source": [
        "from sklearn.model_selection import train_test_split\n",
        "X_train,X_test,y_train,y_test = train_test_split(X,y,test_size = 0.30)"
      ],
      "id": "356bb0be"
    },
    {
      "cell_type": "markdown",
      "metadata": {
        "id": "3f57ac21"
      },
      "source": [
        "## Normalizing the values with mean as 0 and Standard Deviation as 1"
      ],
      "id": "3f57ac21"
    },
    {
      "cell_type": "code",
      "execution_count": null,
      "metadata": {
        "id": "5ec5fe2a"
      },
      "outputs": [],
      "source": [
        "from sklearn.preprocessing import StandardScaler\n",
        "sc = StandardScaler()"
      ],
      "id": "5ec5fe2a"
    },
    {
      "cell_type": "code",
      "execution_count": null,
      "metadata": {
        "id": "5660c8ea"
      },
      "outputs": [],
      "source": [
        "X_train  = sc.fit_transform(X_train)\n",
        "X_test = sc.transform(X_test)"
      ],
      "id": "5660c8ea"
    },
    {
      "cell_type": "code",
      "execution_count": null,
      "metadata": {
        "colab": {
          "base_uri": "https://localhost:8080/"
        },
        "id": "8ff66916",
        "outputId": "8116214d-3009-43a7-f676-c62d527246d8"
      },
      "outputs": [
        {
          "output_type": "execute_result",
          "data": {
            "text/plain": [
              "array([[ 1.68610581, -0.46622705, -1.73914869, ...,  0.90427302,\n",
              "        -0.58658846, -0.56525206],\n",
              "       [ 1.39679256, -0.08376023, -1.39175568, ..., -1.10586071,\n",
              "        -0.58658846, -0.56525206],\n",
              "       [-0.97970913, -0.94431058, -0.34957663, ...,  0.90427302,\n",
              "        -0.58658846, -0.56525206],\n",
              "       ...,\n",
              "       [-0.58706972, -0.75307717,  1.38738845, ...,  0.90427302,\n",
              "        -0.58658846, -0.56525206],\n",
              "       [-1.49633993, -0.17937694,  0.3452094 , ..., -1.10586071,\n",
              "         1.70477271, -0.56525206],\n",
              "       [-0.91771344, -1.61362751,  0.3452094 , ..., -1.10586071,\n",
              "        -0.58658846, -0.56525206]])"
            ]
          },
          "metadata": {},
          "execution_count": 28
        }
      ],
      "source": [
        "X_train"
      ],
      "id": "8ff66916"
    },
    {
      "cell_type": "code",
      "execution_count": null,
      "metadata": {
        "colab": {
          "base_uri": "https://localhost:8080/"
        },
        "id": "000dfb2c",
        "outputId": "e9cf59b9-7a4a-4fba-a898-bd9500f88c0c"
      },
      "outputs": [
        {
          "output_type": "execute_result",
          "data": {
            "text/plain": [
              "array([[-1.35168331e+00, -1.61362751e+00,  1.03999544e+00, ...,\n",
              "        -1.10586071e+00, -5.86588460e-01, -5.65252064e-01],\n",
              "       [-1.44467685e+00, -7.53077166e-01, -1.73914869e+00, ...,\n",
              "         9.04273015e-01,  1.70477271e+00, -5.65252064e-01],\n",
              "       [ 7.35505132e-01,  2.03089881e-01,  6.92602419e-01, ...,\n",
              "         9.04273015e-01, -5.86588460e-01, -5.65252064e-01],\n",
              "       ...,\n",
              "       [ 1.51045134e+00,  2.68912420e+00, -2.18361325e-03, ...,\n",
              "         9.04273015e-01, -5.86588460e-01,  1.76912224e+00],\n",
              "       [-1.43434424e+00,  2.03089881e-01,  1.03999544e+00, ...,\n",
              "        -1.10586071e+00,  1.70477271e+00, -5.65252064e-01],\n",
              "       [-4.83743561e-01, -8.48693871e-01,  1.03999544e+00, ...,\n",
              "         9.04273015e-01, -5.86588460e-01, -5.65252064e-01]])"
            ]
          },
          "metadata": {},
          "execution_count": 29
        }
      ],
      "source": [
        "X_test"
      ],
      "id": "000dfb2c"
    },
    {
      "cell_type": "markdown",
      "metadata": {
        "id": "28bb6477"
      },
      "source": [
        "## Building the Classifier Model using Keras "
      ],
      "id": "28bb6477"
    },
    {
      "cell_type": "code",
      "execution_count": null,
      "metadata": {
        "id": "28a7bc7a"
      },
      "outputs": [],
      "source": [
        "import keras #Keras is the wrapper on the top of tenserflow\n",
        "#Can use Tenserflow as well but won't be able to understand the errors initially. "
      ],
      "id": "28a7bc7a"
    },
    {
      "cell_type": "code",
      "execution_count": null,
      "metadata": {
        "id": "63ce4558"
      },
      "outputs": [],
      "source": [
        "from keras.models import Sequential #To create sequential neural network\n",
        "from keras.layers import Dense #To create hidden layers"
      ],
      "id": "63ce4558"
    },
    {
      "cell_type": "code",
      "execution_count": null,
      "metadata": {
        "id": "a0a9697f"
      },
      "outputs": [],
      "source": [
        "classifier = Sequential()"
      ],
      "id": "a0a9697f"
    },
    {
      "cell_type": "code",
      "execution_count": null,
      "metadata": {
        "id": "ba1ddc28"
      },
      "outputs": [],
      "source": [
        "#To add the layers\n",
        "#Dense helps to contruct the neurons\n",
        "#Input Dimension means we have 11 features \n",
        "# Units is to create the hidden layers\n",
        "#Uniform helps to distribute the weight uniformly\n",
        "classifier.add(Dense(activation = \"relu\",input_dim = 11,units = 6,kernel_initializer = \"uniform\")) "
      ],
      "id": "ba1ddc28"
    },
    {
      "cell_type": "code",
      "execution_count": null,
      "metadata": {
        "id": "7097043e"
      },
      "outputs": [],
      "source": [
        "classifier.add(Dense(activation = \"relu\",units = 6,kernel_initializer = \"uniform\"))   #Adding second hidden layers"
      ],
      "id": "7097043e"
    },
    {
      "cell_type": "code",
      "execution_count": null,
      "metadata": {
        "id": "e57ac0e3"
      },
      "outputs": [],
      "source": [
        "classifier.add(Dense(activation = \"sigmoid\",units = 1,kernel_initializer = \"uniform\")) #Final neuron will be having siigmoid function"
      ],
      "id": "e57ac0e3"
    },
    {
      "cell_type": "code",
      "execution_count": null,
      "metadata": {
        "id": "6ae0211d"
      },
      "outputs": [],
      "source": [
        "classifier.compile(optimizer=\"adam\",loss = 'binary_crossentropy',metrics = ['accuracy']) #To compile the Artificial Neural Network. Ussed Binary crossentropy as we just have only two output"
      ],
      "id": "6ae0211d"
    },
    {
      "cell_type": "code",
      "execution_count": null,
      "metadata": {
        "colab": {
          "base_uri": "https://localhost:8080/"
        },
        "id": "8a8586b3",
        "outputId": "6500384b-f2c4-4c1a-d26d-f88ac93e54b8"
      },
      "outputs": [
        {
          "output_type": "stream",
          "name": "stdout",
          "text": [
            "Model: \"sequential\"\n",
            "_________________________________________________________________\n",
            " Layer (type)                Output Shape              Param #   \n",
            "=================================================================\n",
            " dense (Dense)               (None, 6)                 72        \n",
            "                                                                 \n",
            " dense_1 (Dense)             (None, 6)                 42        \n",
            "                                                                 \n",
            " dense_2 (Dense)             (None, 1)                 7         \n",
            "                                                                 \n",
            "=================================================================\n",
            "Total params: 121\n",
            "Trainable params: 121\n",
            "Non-trainable params: 0\n",
            "_________________________________________________________________\n"
          ]
        }
      ],
      "source": [
        "classifier.summary() #3 layers created. 6 neurons in 1st,6neurons in 2nd layer and 1 neuron in last"
      ],
      "id": "8a8586b3"
    },
    {
      "cell_type": "code",
      "execution_count": null,
      "metadata": {
        "colab": {
          "base_uri": "https://localhost:8080/"
        },
        "id": "ae89f97c",
        "outputId": "716de15f-86db-4808-8b4c-e3ea45097e09"
      },
      "outputs": [
        {
          "output_type": "stream",
          "name": "stdout",
          "text": [
            "Epoch 1/10\n",
            "700/700 [==============================] - 2s 2ms/step - loss: 0.4076 - accuracy: 0.8339\n",
            "Epoch 2/10\n",
            "700/700 [==============================] - 2s 3ms/step - loss: 0.4063 - accuracy: 0.8327\n",
            "Epoch 3/10\n",
            "700/700 [==============================] - 2s 3ms/step - loss: 0.4054 - accuracy: 0.8347\n",
            "Epoch 4/10\n",
            "700/700 [==============================] - 1s 1ms/step - loss: 0.4046 - accuracy: 0.8350\n",
            "Epoch 5/10\n",
            "700/700 [==============================] - 1s 1ms/step - loss: 0.4037 - accuracy: 0.8363\n",
            "Epoch 6/10\n",
            "700/700 [==============================] - 1s 1ms/step - loss: 0.4029 - accuracy: 0.8369\n",
            "Epoch 7/10\n",
            "700/700 [==============================] - 1s 1ms/step - loss: 0.4026 - accuracy: 0.8371\n",
            "Epoch 8/10\n",
            "700/700 [==============================] - 1s 1ms/step - loss: 0.4022 - accuracy: 0.8377\n",
            "Epoch 9/10\n",
            "700/700 [==============================] - 1s 1ms/step - loss: 0.4017 - accuracy: 0.8369\n",
            "Epoch 10/10\n",
            "700/700 [==============================] - 1s 1ms/step - loss: 0.4012 - accuracy: 0.8363\n"
          ]
        },
        {
          "output_type": "execute_result",
          "data": {
            "text/plain": [
              "<keras.callbacks.History at 0x7fe978e88f90>"
            ]
          },
          "metadata": {},
          "execution_count": 39
        }
      ],
      "source": [
        "classifier.fit(X_train,y_train,batch_size=10,epochs=10) #Fitting the ANN to training dataset"
      ],
      "id": "ae89f97c"
    },
    {
      "cell_type": "code",
      "execution_count": null,
      "metadata": {
        "colab": {
          "base_uri": "https://localhost:8080/"
        },
        "id": "425a7f07",
        "outputId": "ebefd3be-aa41-4b83-af18-a0b1295f0771"
      },
      "outputs": [
        {
          "output_type": "stream",
          "name": "stdout",
          "text": [
            "94/94 [==============================] - 0s 835us/step\n"
          ]
        }
      ],
      "source": [
        "y_pred =classifier.predict(X_test)\n",
        "y_pred = (y_pred > 0.5) #Predicting the result"
      ],
      "id": "425a7f07"
    },
    {
      "cell_type": "code",
      "execution_count": null,
      "metadata": {
        "id": "8e9c2742"
      },
      "outputs": [],
      "source": [
        "from sklearn.metrics import confusion_matrix,accuracy_score,classification_report"
      ],
      "id": "8e9c2742"
    },
    {
      "cell_type": "code",
      "execution_count": null,
      "metadata": {
        "id": "8449c9fb"
      },
      "outputs": [],
      "source": [
        "cm = confusion_matrix(y_test,y_pred)"
      ],
      "id": "8449c9fb"
    },
    {
      "cell_type": "code",
      "execution_count": null,
      "metadata": {
        "colab": {
          "base_uri": "https://localhost:8080/"
        },
        "id": "0f1cbc0d",
        "outputId": "47514b74-8d21-43e3-c8bf-2b42d614d8aa"
      },
      "outputs": [
        {
          "output_type": "execute_result",
          "data": {
            "text/plain": [
              "array([[2301,   64],\n",
              "       [ 454,  181]])"
            ]
          },
          "metadata": {},
          "execution_count": 43
        }
      ],
      "source": [
        "cm"
      ],
      "id": "0f1cbc0d"
    },
    {
      "cell_type": "code",
      "execution_count": null,
      "metadata": {
        "id": "5e08bb26"
      },
      "outputs": [],
      "source": [
        "accuracy = accuracy_score(y_test,y_pred)"
      ],
      "id": "5e08bb26"
    },
    {
      "cell_type": "code",
      "execution_count": null,
      "metadata": {
        "colab": {
          "base_uri": "https://localhost:8080/"
        },
        "id": "46799eb2",
        "outputId": "d8df1648-ceb1-4748-f990-0b3740c9867b"
      },
      "outputs": [
        {
          "output_type": "execute_result",
          "data": {
            "text/plain": [
              "0.8273333333333334"
            ]
          },
          "metadata": {},
          "execution_count": 45
        }
      ],
      "source": [
        "accuracy"
      ],
      "id": "46799eb2"
    },
    {
      "cell_type": "code",
      "execution_count": null,
      "metadata": {
        "colab": {
          "base_uri": "https://localhost:8080/",
          "height": 459
        },
        "id": "ced868a2",
        "outputId": "ce0d8826-e800-4914-e34d-b7fc3c4e1efc"
      },
      "outputs": [
        {
          "output_type": "execute_result",
          "data": {
            "text/plain": [
              "Text(69.0, 0.5, 'Truth')"
            ]
          },
          "metadata": {},
          "execution_count": 46
        },
        {
          "output_type": "display_data",
          "data": {
            "text/plain": [
              "<Figure size 720x504 with 2 Axes>"
            ],
            "image/png": "[encoded data removed]"
          },
          "metadata": {
            "needs_background": "light"
          }
        }
      ],
      "source": [
        "plt.figure(figsize = (10,7))\n",
        "sns.heatmap(cm,annot = True)\n",
        "plt.xlabel('Predicted')\n",
        "plt.ylabel('Truth')"
      ],
      "id": "ced868a2"
    },
    {
      "cell_type": "code",
      "execution_count": null,
      "metadata": {
        "colab": {
          "base_uri": "https://localhost:8080/"
        },
        "id": "51fedf33",
        "outputId": "549af61b-b7c7-4860-f020-f133a0e5fa76"
      },
      "outputs": [
        {
          "output_type": "stream",
          "name": "stdout",
          "text": [
            "              precision    recall  f1-score   support\n",
            "\n",
            "           0       0.84      0.97      0.90      2365\n",
            "           1       0.74      0.29      0.41       635\n",
            "\n",
            "    accuracy                           0.83      3000\n",
            "   macro avg       0.79      0.63      0.66      3000\n",
            "weighted avg       0.81      0.83      0.80      3000\n",
            "\n"
          ]
        }
      ],
      "source": [
        "print(classification_report(y_test,y_pred))"
      ],
      "id": "51fedf33"
    },
    {
      "cell_type": "code",
      "execution_count": null,
      "metadata": {
        "id": "82a4cc31"
      },
      "outputs": [],
      "source": [],
      "id": "82a4cc31"
    },
    {
      "cell_type": "code",
      "source": [],
      "metadata": {
        "id": "9lnaDBOOYwDb"
      },
      "id": "9lnaDBOOYwDb",
      "execution_count": null,
      "outputs": []
    },
    {
      "cell_type": "markdown",
      "metadata": {
        "id": "6503825a"
      },
      "source": [
        "# Assignment 4\n",
        "## Implement Gradient Descent Algorithm to find the local minima of a function.\n",
        "For example, find the local minima of the function y=(x+3)² starting from the point x=2.\n"
      ],
      "id": "6503825a"
    },
    {
      "cell_type": "markdown",
      "metadata": {
        "id": "0b6b64f1"
      },
      "source": [
        "##  We know the answer just by looking at the graph. y = (x+3)² reaches it’s minimum value when x = -3 (i.e when x=-3, y=0). Hence x=-3 is the local and global minima of the function.Below is the implementation in python "
      ],
      "id": "0b6b64f1"
    },
    {
      "cell_type": "code",
      "execution_count": null,
      "metadata": {
        "id": "87309be9"
      },
      "outputs": [],
      "source": [
        "current_x = 2 # The algorithm starts at x=3\n",
        "rate = 0.01 # Learning rate\n",
        "precision = 0.000001 #This tells us when to stop the algorithm\n",
        "previous_step_size = 1 \n",
        "max_iters = 10000 # maximum number of iterations\n",
        "iters = 0 #iteration counter\n",
        "df = lambda x: 2*(x+3) #Gradient of our function"
      ],
      "id": "87309be9"
    },
    {
      "cell_type": "code",
      "execution_count": null,
      "metadata": {
        "colab": {
          "base_uri": "https://localhost:8080/"
        },
        "id": "04f10545",
        "outputId": "76ce98ee-aedc-47e0-cb39-c65de0059168"
      },
      "outputs": [
        {
          "output_type": "stream",
          "name": "stdout",
          "text": [
            "Iteration 1 \n",
            "X value is 1.9\n",
            "Iteration 2 \n",
            "X value is 1.8019999999999998\n",
            "Iteration 3 \n",
            "X value is 1.70596\n",
            "Iteration 4 \n",
            "X value is 1.6118408\n",
            "Iteration 5 \n",
            "X value is 1.519603984\n",
            "Iteration 6 \n",
            "X value is 1.42921190432\n",
            "Iteration 7 \n",
            "X value is 1.3406276662336\n",
            "Iteration 8 \n",
            "X value is 1.253815112908928\n",
            "Iteration 9 \n",
            "X value is 1.1687388106507495\n",
            "Iteration 10 \n",
            "X value is 1.0853640344377344\n",
            "Iteration 11 \n",
            "X value is 1.0036567537489798\n",
            "Iteration 12 \n",
            "X value is 0.9235836186740002\n",
            "Iteration 13 \n",
            "X value is 0.8451119463005202\n",
            "Iteration 14 \n",
            "X value is 0.7682097073745098\n",
            "Iteration 15 \n",
            "X value is 0.6928455132270196\n",
            "Iteration 16 \n",
            "X value is 0.6189886029624792\n",
            "Iteration 17 \n",
            "X value is 0.5466088309032295\n",
            "Iteration 18 \n",
            "X value is 0.4756766542851649\n",
            "Iteration 19 \n",
            "X value is 0.40616312119946163\n",
            "Iteration 20 \n",
            "X value is 0.3380398587754724\n",
            "Iteration 21 \n",
            "X value is 0.27127906159996296\n",
            "Iteration 22 \n",
            "X value is 0.2058534803679637\n",
            "Iteration 23 \n",
            "X value is 0.14173641076060442\n",
            "Iteration 24 \n",
            "X value is 0.07890168254539233\n",
            "Iteration 25 \n",
            "X value is 0.017323648894484484\n",
            "Iteration 26 \n",
            "X value is -0.04302282408340521\n",
            "Iteration 27 \n",
            "X value is -0.10216236760173711\n",
            "Iteration 28 \n",
            "X value is -0.16011912024970237\n",
            "Iteration 29 \n",
            "X value is -0.21691673784470833\n",
            "Iteration 30 \n",
            "X value is -0.27257840308781417\n",
            "Iteration 31 \n",
            "X value is -0.3271268350260579\n",
            "Iteration 32 \n",
            "X value is -0.38058429832553675\n",
            "Iteration 33 \n",
            "X value is -0.432972612359026\n",
            "Iteration 34 \n",
            "X value is -0.4843131601118455\n",
            "Iteration 35 \n",
            "X value is -0.5346268969096086\n",
            "Iteration 36 \n",
            "X value is -0.5839343589714164\n",
            "Iteration 37 \n",
            "X value is -0.632255671791988\n",
            "Iteration 38 \n",
            "X value is -0.6796105583561483\n",
            "Iteration 39 \n",
            "X value is -0.7260183471890252\n",
            "Iteration 40 \n",
            "X value is -0.7714979802452447\n",
            "Iteration 41 \n",
            "X value is -0.8160680206403399\n",
            "Iteration 42 \n",
            "X value is -0.8597466602275331\n",
            "Iteration 43 \n",
            "X value is -0.9025517270229825\n",
            "Iteration 44 \n",
            "X value is -0.9445006924825228\n",
            "Iteration 45 \n",
            "X value is -0.9856106786328723\n",
            "Iteration 46 \n",
            "X value is -1.025898465060215\n",
            "Iteration 47 \n",
            "X value is -1.0653804957590107\n",
            "Iteration 48 \n",
            "X value is -1.1040728858438305\n",
            "Iteration 49 \n",
            "X value is -1.1419914281269539\n",
            "Iteration 50 \n",
            "X value is -1.1791515995644148\n",
            "Iteration 51 \n",
            "X value is -1.2155685675731265\n",
            "Iteration 52 \n",
            "X value is -1.2512571962216639\n",
            "Iteration 53 \n",
            "X value is -1.2862320522972306\n",
            "Iteration 54 \n",
            "X value is -1.320507411251286\n",
            "Iteration 55 \n",
            "X value is -1.3540972630262602\n",
            "Iteration 56 \n",
            "X value is -1.387015317765735\n",
            "Iteration 57 \n",
            "X value is -1.4192750114104202\n",
            "Iteration 58 \n",
            "X value is -1.4508895111822118\n",
            "Iteration 59 \n",
            "X value is -1.4818717209585675\n",
            "Iteration 60 \n",
            "X value is -1.512234286539396\n",
            "Iteration 61 \n",
            "X value is -1.5419896008086083\n",
            "Iteration 62 \n",
            "X value is -1.571149808792436\n",
            "Iteration 63 \n",
            "X value is -1.5997268126165873\n",
            "Iteration 64 \n",
            "X value is -1.6277322763642557\n",
            "Iteration 65 \n",
            "X value is -1.6551776308369706\n",
            "Iteration 66 \n",
            "X value is -1.6820740782202313\n",
            "Iteration 67 \n",
            "X value is -1.7084325966558267\n",
            "Iteration 68 \n",
            "X value is -1.7342639447227102\n",
            "Iteration 69 \n",
            "X value is -1.759578665828256\n",
            "Iteration 70 \n",
            "X value is -1.784387092511691\n",
            "Iteration 71 \n",
            "X value is -1.808699350661457\n",
            "Iteration 72 \n",
            "X value is -1.832525363648228\n",
            "Iteration 73 \n",
            "X value is -1.8558748563752634\n",
            "Iteration 74 \n",
            "X value is -1.8787573592477582\n",
            "Iteration 75 \n",
            "X value is -1.901182212062803\n",
            "Iteration 76 \n",
            "X value is -1.923158567821547\n",
            "Iteration 77 \n",
            "X value is -1.9446953964651161\n",
            "Iteration 78 \n",
            "X value is -1.9658014885358137\n",
            "Iteration 79 \n",
            "X value is -1.9864854587650975\n",
            "Iteration 80 \n",
            "X value is -2.0067557495897956\n",
            "Iteration 81 \n",
            "X value is -2.026620634598\n",
            "Iteration 82 \n",
            "X value is -2.04608822190604\n",
            "Iteration 83 \n",
            "X value is -2.065166457467919\n",
            "Iteration 84 \n",
            "X value is -2.0838631283185607\n",
            "Iteration 85 \n",
            "X value is -2.1021858657521895\n",
            "Iteration 86 \n",
            "X value is -2.1201421484371457\n",
            "Iteration 87 \n",
            "X value is -2.137739305468403\n",
            "Iteration 88 \n",
            "X value is -2.1549845193590347\n",
            "Iteration 89 \n",
            "X value is -2.171884828971854\n",
            "Iteration 90 \n",
            "X value is -2.188447132392417\n",
            "Iteration 91 \n",
            "X value is -2.204678189744569\n",
            "Iteration 92 \n",
            "X value is -2.2205846259496775\n",
            "Iteration 93 \n",
            "X value is -2.236172933430684\n",
            "Iteration 94 \n",
            "X value is -2.2514494747620706\n",
            "Iteration 95 \n",
            "X value is -2.266420485266829\n",
            "Iteration 96 \n",
            "X value is -2.2810920755614923\n",
            "Iteration 97 \n",
            "X value is -2.2954702340502626\n",
            "Iteration 98 \n",
            "X value is -2.3095608293692576\n",
            "Iteration 99 \n",
            "X value is -2.3233696127818724\n",
            "Iteration 100 \n",
            "X value is -2.336902220526235\n",
            "Iteration 101 \n",
            "X value is -2.3501641761157104\n",
            "Iteration 102 \n",
            "X value is -2.3631608925933962\n",
            "Iteration 103 \n",
            "X value is -2.375897674741528\n",
            "Iteration 104 \n",
            "X value is -2.3883797212466975\n",
            "Iteration 105 \n",
            "X value is -2.4006121268217635\n",
            "Iteration 106 \n",
            "X value is -2.4125998842853282\n",
            "Iteration 107 \n",
            "X value is -2.4243478865996217\n",
            "Iteration 108 \n",
            "X value is -2.4358609288676294\n",
            "Iteration 109 \n",
            "X value is -2.447143710290277\n",
            "Iteration 110 \n",
            "X value is -2.458200836084471\n",
            "Iteration 111 \n",
            "X value is -2.4690368193627816\n",
            "Iteration 112 \n",
            "X value is -2.479656082975526\n",
            "Iteration 113 \n",
            "X value is -2.4900629613160152\n",
            "Iteration 114 \n",
            "X value is -2.500261702089695\n",
            "Iteration 115 \n",
            "X value is -2.510256468047901\n",
            "Iteration 116 \n",
            "X value is -2.520051338686943\n",
            "Iteration 117 \n",
            "X value is -2.5296503119132043\n",
            "Iteration 118 \n",
            "X value is -2.53905730567494\n",
            "Iteration 119 \n",
            "X value is -2.5482761595614414\n",
            "Iteration 120 \n",
            "X value is -2.5573106363702127\n",
            "Iteration 121 \n",
            "X value is -2.5661644236428085\n",
            "Iteration 122 \n",
            "X value is -2.5748411351699523\n",
            "Iteration 123 \n",
            "X value is -2.5833443124665534\n",
            "Iteration 124 \n",
            "X value is -2.591677426217222\n",
            "Iteration 125 \n",
            "X value is -2.599843877692878\n",
            "Iteration 126 \n",
            "X value is -2.6078470001390204\n",
            "Iteration 127 \n",
            "X value is -2.61569006013624\n",
            "Iteration 128 \n",
            "X value is -2.623376258933515\n",
            "Iteration 129 \n",
            "X value is -2.6309087337548447\n",
            "Iteration 130 \n",
            "X value is -2.638290559079748\n",
            "Iteration 131 \n",
            "X value is -2.6455247478981527\n",
            "Iteration 132 \n",
            "X value is -2.6526142529401895\n",
            "Iteration 133 \n",
            "X value is -2.6595619678813858\n",
            "Iteration 134 \n",
            "X value is -2.666370728523758\n",
            "Iteration 135 \n",
            "X value is -2.6730433139532828\n",
            "Iteration 136 \n",
            "X value is -2.679582447674217\n",
            "Iteration 137 \n",
            "X value is -2.685990798720733\n",
            "Iteration 138 \n",
            "X value is -2.6922709827463183\n",
            "Iteration 139 \n",
            "X value is -2.698425563091392\n",
            "Iteration 140 \n",
            "X value is -2.7044570518295643\n",
            "Iteration 141 \n",
            "X value is -2.7103679107929732\n",
            "Iteration 142 \n",
            "X value is -2.7161605525771138\n",
            "Iteration 143 \n",
            "X value is -2.7218373415255717\n",
            "Iteration 144 \n",
            "X value is -2.72740059469506\n",
            "Iteration 145 \n",
            "X value is -2.7328525828011587\n",
            "Iteration 146 \n",
            "X value is -2.7381955311451356\n",
            "Iteration 147 \n",
            "X value is -2.743431620522233\n",
            "Iteration 148 \n",
            "X value is -2.748562988111788\n",
            "Iteration 149 \n",
            "X value is -2.7535917283495523\n",
            "Iteration 150 \n",
            "X value is -2.7585198937825615\n",
            "Iteration 151 \n",
            "X value is -2.76334949590691\n",
            "Iteration 152 \n",
            "X value is -2.768082505988772\n",
            "Iteration 153 \n",
            "X value is -2.7727208558689966\n",
            "Iteration 154 \n",
            "X value is -2.777266438751617\n",
            "Iteration 155 \n",
            "X value is -2.7817211099765844\n",
            "Iteration 156 \n",
            "X value is -2.7860866877770527\n",
            "Iteration 157 \n",
            "X value is -2.790364954021512\n",
            "Iteration 158 \n",
            "X value is -2.7945576549410815\n",
            "Iteration 159 \n",
            "X value is -2.79866650184226\n",
            "Iteration 160 \n",
            "X value is -2.802693171805415\n",
            "Iteration 161 \n",
            "X value is -2.8066393083693066\n",
            "Iteration 162 \n",
            "X value is -2.8105065222019205\n",
            "Iteration 163 \n",
            "X value is -2.8142963917578823\n",
            "Iteration 164 \n",
            "X value is -2.818010463922725\n",
            "Iteration 165 \n",
            "X value is -2.82165025464427\n",
            "Iteration 166 \n",
            "X value is -2.8252172495513848\n",
            "Iteration 167 \n",
            "X value is -2.828712904560357\n",
            "Iteration 168 \n",
            "X value is -2.83213864646915\n",
            "Iteration 169 \n",
            "X value is -2.8354958735397666\n",
            "Iteration 170 \n",
            "X value is -2.838785956068971\n",
            "Iteration 171 \n",
            "X value is -2.842010236947592\n",
            "Iteration 172 \n",
            "X value is -2.84517003220864\n",
            "Iteration 173 \n",
            "X value is -2.8482666315644676\n",
            "Iteration 174 \n",
            "X value is -2.851301298933178\n",
            "Iteration 175 \n",
            "X value is -2.8542752729545144\n",
            "Iteration 176 \n",
            "X value is -2.857189767495424\n",
            "Iteration 177 \n",
            "X value is -2.8600459721455156\n",
            "Iteration 178 \n",
            "X value is -2.8628450527026055\n",
            "Iteration 179 \n",
            "X value is -2.8655881516485535\n",
            "Iteration 180 \n",
            "X value is -2.8682763886155827\n",
            "Iteration 181 \n",
            "X value is -2.870910860843271\n",
            "Iteration 182 \n",
            "X value is -2.8734926436264057\n",
            "Iteration 183 \n",
            "X value is -2.8760227907538773\n",
            "Iteration 184 \n",
            "X value is -2.8785023349388\n",
            "Iteration 185 \n",
            "X value is -2.880932288240024\n",
            "Iteration 186 \n",
            "X value is -2.8833136424752235\n",
            "Iteration 187 \n",
            "X value is -2.885647369625719\n",
            "Iteration 188 \n",
            "X value is -2.8879344222332044\n",
            "Iteration 189 \n",
            "X value is -2.8901757337885403\n",
            "Iteration 190 \n",
            "X value is -2.8923722191127696\n",
            "Iteration 191 \n",
            "X value is -2.894524774730514\n",
            "Iteration 192 \n",
            "X value is -2.896634279235904\n",
            "Iteration 193 \n",
            "X value is -2.898701593651186\n",
            "Iteration 194 \n",
            "X value is -2.900727561778162\n",
            "Iteration 195 \n",
            "X value is -2.9027130105425987\n",
            "Iteration 196 \n",
            "X value is -2.9046587503317465\n",
            "Iteration 197 \n",
            "X value is -2.9065655753251116\n",
            "Iteration 198 \n",
            "X value is -2.9084342638186094\n",
            "Iteration 199 \n",
            "X value is -2.910265578542237\n",
            "Iteration 200 \n",
            "X value is -2.9120602669713924\n",
            "Iteration 201 \n",
            "X value is -2.9138190616319646\n",
            "Iteration 202 \n",
            "X value is -2.915542680399325\n",
            "Iteration 203 \n",
            "X value is -2.9172318267913386\n",
            "Iteration 204 \n",
            "X value is -2.918887190255512\n",
            "Iteration 205 \n",
            "X value is -2.920509446450402\n",
            "Iteration 206 \n",
            "X value is -2.9220992575213938\n",
            "Iteration 207 \n",
            "X value is -2.9236572723709657\n",
            "Iteration 208 \n",
            "X value is -2.9251841269235466\n",
            "Iteration 209 \n",
            "X value is -2.9266804443850756\n",
            "Iteration 210 \n",
            "X value is -2.928146835497374\n",
            "Iteration 211 \n",
            "X value is -2.9295838987874263\n",
            "Iteration 212 \n",
            "X value is -2.9309922208116777\n",
            "Iteration 213 \n",
            "X value is -2.932372376395444\n",
            "Iteration 214 \n",
            "X value is -2.933724928867535\n",
            "Iteration 215 \n",
            "X value is -2.9350504302901843\n",
            "Iteration 216 \n",
            "X value is -2.9363494216843806\n",
            "Iteration 217 \n",
            "X value is -2.937622433250693\n",
            "Iteration 218 \n",
            "X value is -2.938869984585679\n",
            "Iteration 219 \n",
            "X value is -2.9400925848939656\n",
            "Iteration 220 \n",
            "X value is -2.9412907331960865\n",
            "Iteration 221 \n",
            "X value is -2.9424649185321647\n",
            "Iteration 222 \n",
            "X value is -2.9436156201615216\n",
            "Iteration 223 \n",
            "X value is -2.944743307758291\n",
            "Iteration 224 \n",
            "X value is -2.9458484416031254\n",
            "Iteration 225 \n",
            "X value is -2.946931472771063\n",
            "Iteration 226 \n",
            "X value is -2.9479928433156415\n",
            "Iteration 227 \n",
            "X value is -2.9490329864493288\n",
            "Iteration 228 \n",
            "X value is -2.9500523267203422\n",
            "Iteration 229 \n",
            "X value is -2.9510512801859354\n",
            "Iteration 230 \n",
            "X value is -2.952030254582217\n",
            "Iteration 231 \n",
            "X value is -2.9529896494905725\n",
            "Iteration 232 \n",
            "X value is -2.953929856500761\n",
            "Iteration 233 \n",
            "X value is -2.954851259370746\n",
            "Iteration 234 \n",
            "X value is -2.955754234183331\n",
            "Iteration 235 \n",
            "X value is -2.9566391494996647\n",
            "Iteration 236 \n",
            "X value is -2.9575063665096715\n",
            "Iteration 237 \n",
            "X value is -2.958356239179478\n",
            "Iteration 238 \n",
            "X value is -2.9591891143958886\n",
            "Iteration 239 \n",
            "X value is -2.9600053321079707\n",
            "Iteration 240 \n",
            "X value is -2.960805225465811\n",
            "Iteration 241 \n",
            "X value is -2.9615891209564946\n",
            "Iteration 242 \n",
            "X value is -2.9623573385373647\n",
            "Iteration 243 \n",
            "X value is -2.9631101917666176\n",
            "Iteration 244 \n",
            "X value is -2.963847987931285\n",
            "Iteration 245 \n",
            "X value is -2.9645710281726596\n",
            "Iteration 246 \n",
            "X value is -2.9652796076092063\n",
            "Iteration 247 \n",
            "X value is -2.965974015457022\n",
            "Iteration 248 \n",
            "X value is -2.9666545351478817\n",
            "Iteration 249 \n",
            "X value is -2.967321444444924\n",
            "Iteration 250 \n",
            "X value is -2.9679750155560254\n",
            "Iteration 251 \n",
            "X value is -2.9686155152449047\n",
            "Iteration 252 \n",
            "X value is -2.969243204940007\n",
            "Iteration 253 \n",
            "X value is -2.9698583408412067\n",
            "Iteration 254 \n",
            "X value is -2.9704611740243827\n",
            "Iteration 255 \n",
            "X value is -2.9710519505438953\n",
            "Iteration 256 \n",
            "X value is -2.9716309115330173\n",
            "Iteration 257 \n",
            "X value is -2.9721982933023567\n",
            "Iteration 258 \n",
            "X value is -2.9727543274363097\n",
            "Iteration 259 \n",
            "X value is -2.9732992408875836\n",
            "Iteration 260 \n",
            "X value is -2.973833256069832\n",
            "Iteration 261 \n",
            "X value is -2.9743565909484353\n",
            "Iteration 262 \n",
            "X value is -2.9748694591294664\n",
            "Iteration 263 \n",
            "X value is -2.9753720699468773\n",
            "Iteration 264 \n",
            "X value is -2.9758646285479395\n",
            "Iteration 265 \n",
            "X value is -2.9763473359769805\n",
            "Iteration 266 \n",
            "X value is -2.976820389257441\n",
            "Iteration 267 \n",
            "X value is -2.9772839814722922\n",
            "Iteration 268 \n",
            "X value is -2.9777383018428463\n",
            "Iteration 269 \n",
            "X value is -2.9781835358059894\n",
            "Iteration 270 \n",
            "X value is -2.9786198650898696\n",
            "Iteration 271 \n",
            "X value is -2.9790474677880723\n",
            "Iteration 272 \n",
            "X value is -2.979466518432311\n",
            "Iteration 273 \n",
            "X value is -2.9798771880636648\n",
            "Iteration 274 \n",
            "X value is -2.9802796443023913\n",
            "Iteration 275 \n",
            "X value is -2.9806740514163437\n",
            "Iteration 276 \n",
            "X value is -2.9810605703880166\n",
            "Iteration 277 \n",
            "X value is -2.981439358980256\n",
            "Iteration 278 \n",
            "X value is -2.981810571800651\n",
            "Iteration 279 \n",
            "X value is -2.9821743603646382\n",
            "Iteration 280 \n",
            "X value is -2.9825308731573457\n",
            "Iteration 281 \n",
            "X value is -2.982880255694199\n",
            "Iteration 282 \n",
            "X value is -2.983222650580315\n",
            "Iteration 283 \n",
            "X value is -2.983558197568709\n",
            "Iteration 284 \n",
            "X value is -2.983887033617335\n",
            "Iteration 285 \n",
            "X value is -2.984209292944988\n",
            "Iteration 286 \n",
            "X value is -2.9845251070860885\n",
            "Iteration 287 \n",
            "X value is -2.984834604944367\n",
            "Iteration 288 \n",
            "X value is -2.9851379128454796\n",
            "Iteration 289 \n",
            "X value is -2.98543515458857\n",
            "Iteration 290 \n",
            "X value is -2.9857264514967983\n",
            "Iteration 291 \n",
            "X value is -2.9860119224668624\n",
            "Iteration 292 \n",
            "X value is -2.9862916840175253\n",
            "Iteration 293 \n",
            "X value is -2.9865658503371746\n",
            "Iteration 294 \n",
            "X value is -2.986834533330431\n",
            "Iteration 295 \n",
            "X value is -2.987097842663822\n",
            "Iteration 296 \n",
            "X value is -2.987355885810546\n",
            "Iteration 297 \n",
            "X value is -2.987608768094335\n",
            "Iteration 298 \n",
            "X value is -2.9878565927324483\n",
            "Iteration 299 \n",
            "X value is -2.9880994608777995\n",
            "Iteration 300 \n",
            "X value is -2.9883374716602438\n",
            "Iteration 301 \n",
            "X value is -2.988570722227039\n",
            "Iteration 302 \n",
            "X value is -2.988799307782498\n",
            "Iteration 303 \n",
            "X value is -2.989023321626848\n",
            "Iteration 304 \n",
            "X value is -2.989242855194311\n",
            "Iteration 305 \n",
            "X value is -2.989457998090425\n",
            "Iteration 306 \n",
            "X value is -2.9896688381286163\n",
            "Iteration 307 \n",
            "X value is -2.989875461366044\n",
            "Iteration 308 \n",
            "X value is -2.9900779521387233\n",
            "Iteration 309 \n",
            "X value is -2.990276393095949\n",
            "Iteration 310 \n",
            "X value is -2.99047086523403\n",
            "Iteration 311 \n",
            "X value is -2.9906614479293494\n",
            "Iteration 312 \n",
            "X value is -2.9908482189707626\n",
            "Iteration 313 \n",
            "X value is -2.9910312545913476\n",
            "Iteration 314 \n",
            "X value is -2.9912106294995207\n",
            "Iteration 315 \n",
            "X value is -2.9913864169095303\n",
            "Iteration 316 \n",
            "X value is -2.99155868857134\n",
            "Iteration 317 \n",
            "X value is -2.991727514799913\n",
            "Iteration 318 \n",
            "X value is -2.9918929645039145\n",
            "Iteration 319 \n",
            "X value is -2.9920551052138364\n",
            "Iteration 320 \n",
            "X value is -2.99221400310956\n",
            "Iteration 321 \n",
            "X value is -2.9923697230473687\n",
            "Iteration 322 \n",
            "X value is -2.9925223285864213\n",
            "Iteration 323 \n",
            "X value is -2.992671882014693\n",
            "Iteration 324 \n",
            "X value is -2.9928184443743993\n",
            "Iteration 325 \n",
            "X value is -2.9929620754869113\n",
            "Iteration 326 \n",
            "X value is -2.993102833977173\n",
            "Iteration 327 \n",
            "X value is -2.9932407772976295\n",
            "Iteration 328 \n",
            "X value is -2.993375961751677\n",
            "Iteration 329 \n",
            "X value is -2.993508442516643\n",
            "Iteration 330 \n",
            "X value is -2.9936382736663103\n",
            "Iteration 331 \n",
            "X value is -2.993765508192984\n",
            "Iteration 332 \n",
            "X value is -2.993890198029124\n",
            "Iteration 333 \n",
            "X value is -2.9940123940685415\n",
            "Iteration 334 \n",
            "X value is -2.994132146187171\n",
            "Iteration 335 \n",
            "X value is -2.9942495032634273\n",
            "Iteration 336 \n",
            "X value is -2.9943645131981587\n",
            "Iteration 337 \n",
            "X value is -2.9944772229341954\n",
            "Iteration 338 \n",
            "X value is -2.9945876784755114\n",
            "Iteration 339 \n",
            "X value is -2.9946959249060012\n",
            "Iteration 340 \n",
            "X value is -2.9948020064078813\n",
            "Iteration 341 \n",
            "X value is -2.9949059662797235\n",
            "Iteration 342 \n",
            "X value is -2.9950078469541292\n",
            "Iteration 343 \n",
            "X value is -2.995107690015047\n",
            "Iteration 344 \n",
            "X value is -2.995205536214746\n",
            "Iteration 345 \n",
            "X value is -2.995301425490451\n",
            "Iteration 346 \n",
            "X value is -2.995395396980642\n",
            "Iteration 347 \n",
            "X value is -2.9954874890410292\n",
            "Iteration 348 \n",
            "X value is -2.9955777392602085\n",
            "Iteration 349 \n",
            "X value is -2.9956661844750045\n",
            "Iteration 350 \n",
            "X value is -2.9957528607855046\n",
            "Iteration 351 \n",
            "X value is -2.9958378035697946\n",
            "Iteration 352 \n",
            "X value is -2.9959210474983986\n",
            "Iteration 353 \n",
            "X value is -2.9960026265484307\n",
            "Iteration 354 \n",
            "X value is -2.996082574017462\n",
            "Iteration 355 \n",
            "X value is -2.9961609225371126\n",
            "Iteration 356 \n",
            "X value is -2.9962377040863704\n",
            "Iteration 357 \n",
            "X value is -2.996312950004643\n",
            "Iteration 358 \n",
            "X value is -2.9963866910045502\n",
            "Iteration 359 \n",
            "X value is -2.9964589571844593\n",
            "Iteration 360 \n",
            "X value is -2.9965297780407703\n",
            "Iteration 361 \n",
            "X value is -2.996599182479955\n",
            "Iteration 362 \n",
            "X value is -2.9966671988303557\n",
            "Iteration 363 \n",
            "X value is -2.9967338548537485\n",
            "Iteration 364 \n",
            "X value is -2.9967991777566736\n",
            "Iteration 365 \n",
            "X value is -2.99686319420154\n",
            "Iteration 366 \n",
            "X value is -2.9969259303175093\n",
            "Iteration 367 \n",
            "X value is -2.9969874117111592\n",
            "Iteration 368 \n",
            "X value is -2.997047663476936\n",
            "Iteration 369 \n",
            "X value is -2.997106710207397\n",
            "Iteration 370 \n",
            "X value is -2.997164576003249\n",
            "Iteration 371 \n",
            "X value is -2.997221284483184\n",
            "Iteration 372 \n",
            "X value is -2.99727685879352\n",
            "Iteration 373 \n",
            "X value is -2.99733132161765\n",
            "Iteration 374 \n",
            "X value is -2.9973846951852967\n",
            "Iteration 375 \n",
            "X value is -2.997437001281591\n",
            "Iteration 376 \n",
            "X value is -2.9974882612559592\n",
            "Iteration 377 \n",
            "X value is -2.99753849603084\n",
            "Iteration 378 \n",
            "X value is -2.9975877261102233\n",
            "Iteration 379 \n",
            "X value is -2.9976359715880188\n",
            "Iteration 380 \n",
            "X value is -2.9976832521562584\n",
            "Iteration 381 \n",
            "X value is -2.9977295871131333\n",
            "Iteration 382 \n",
            "X value is -2.9977749953708708\n",
            "Iteration 383 \n",
            "X value is -2.997819495463453\n",
            "Iteration 384 \n",
            "X value is -2.9978631055541842\n",
            "Iteration 385 \n",
            "X value is -2.9979058434431005\n",
            "Iteration 386 \n",
            "X value is -2.9979477265742385\n",
            "Iteration 387 \n",
            "X value is -2.9979887720427536\n",
            "Iteration 388 \n",
            "X value is -2.9980289966018985\n",
            "Iteration 389 \n",
            "X value is -2.9980684166698603\n",
            "Iteration 390 \n",
            "X value is -2.9981070483364634\n",
            "Iteration 391 \n",
            "X value is -2.998144907369734\n",
            "Iteration 392 \n",
            "X value is -2.9981820092223392\n",
            "Iteration 393 \n",
            "X value is -2.9982183690378923\n",
            "Iteration 394 \n",
            "X value is -2.9982540016571346\n",
            "Iteration 395 \n",
            "X value is -2.998288921623992\n",
            "Iteration 396 \n",
            "X value is -2.998323143191512\n",
            "Iteration 397 \n",
            "X value is -2.998356680327682\n",
            "Iteration 398 \n",
            "X value is -2.9983895467211283\n",
            "Iteration 399 \n",
            "X value is -2.9984217557867057\n",
            "Iteration 400 \n",
            "X value is -2.9984533206709716\n",
            "Iteration 401 \n",
            "X value is -2.9984842542575523\n",
            "Iteration 402 \n",
            "X value is -2.9985145691724013\n",
            "Iteration 403 \n",
            "X value is -2.9985442777889535\n",
            "Iteration 404 \n",
            "X value is -2.9985733922331743\n",
            "Iteration 405 \n",
            "X value is -2.998601924388511\n",
            "Iteration 406 \n",
            "X value is -2.9986298859007405\n",
            "Iteration 407 \n",
            "X value is -2.998657288182726\n",
            "Iteration 408 \n",
            "X value is -2.998684142419071\n",
            "Iteration 409 \n",
            "X value is -2.9987104595706895\n",
            "Iteration 410 \n",
            "X value is -2.9987362503792756\n",
            "Iteration 411 \n",
            "X value is -2.99876152537169\n",
            "Iteration 412 \n",
            "X value is -2.9987862948642565\n",
            "Iteration 413 \n",
            "X value is -2.9988105689669715\n",
            "Iteration 414 \n",
            "X value is -2.998834357587632\n",
            "Iteration 415 \n",
            "X value is -2.9988576704358794\n",
            "Iteration 416 \n",
            "X value is -2.9988805170271617\n",
            "Iteration 417 \n",
            "X value is -2.9989029066866184\n",
            "Iteration 418 \n",
            "X value is -2.998924848552886\n",
            "Iteration 419 \n",
            "X value is -2.998946351581828\n",
            "Iteration 420 \n",
            "X value is -2.998967424550192\n",
            "Iteration 421 \n",
            "X value is -2.998988076059188\n",
            "Iteration 422 \n",
            "X value is -2.9990083145380044\n",
            "Iteration 423 \n",
            "X value is -2.9990281482472443\n",
            "Iteration 424 \n",
            "X value is -2.9990475852822995\n",
            "Iteration 425 \n",
            "X value is -2.9990666335766534\n",
            "Iteration 426 \n",
            "X value is -2.9990853009051204\n",
            "Iteration 427 \n",
            "X value is -2.999103594887018\n",
            "Iteration 428 \n",
            "X value is -2.999121522989278\n",
            "Iteration 429 \n",
            "X value is -2.999139092529492\n",
            "Iteration 430 \n",
            "X value is -2.9991563106789023\n",
            "Iteration 431 \n",
            "X value is -2.999173184465324\n",
            "Iteration 432 \n",
            "X value is -2.999189720776018\n",
            "Iteration 433 \n",
            "X value is -2.9992059263604975\n",
            "Iteration 434 \n",
            "X value is -2.9992218078332877\n",
            "Iteration 435 \n",
            "X value is -2.999237371676622\n",
            "Iteration 436 \n",
            "X value is -2.9992526242430895\n",
            "Iteration 437 \n",
            "X value is -2.9992675717582276\n",
            "Iteration 438 \n",
            "X value is -2.999282220323063\n",
            "Iteration 439 \n",
            "X value is -2.9992965759166017\n",
            "Iteration 440 \n",
            "X value is -2.9993106443982698\n",
            "Iteration 441 \n",
            "X value is -2.9993244315103045\n",
            "Iteration 442 \n",
            "X value is -2.9993379428800986\n",
            "Iteration 443 \n",
            "X value is -2.9993511840224967\n",
            "Iteration 444 \n",
            "X value is -2.9993641603420467\n",
            "Iteration 445 \n",
            "X value is -2.9993768771352056\n",
            "Iteration 446 \n",
            "X value is -2.9993893395925015\n",
            "Iteration 447 \n",
            "X value is -2.9994015528006517\n",
            "Iteration 448 \n",
            "X value is -2.9994135217446387\n",
            "Iteration 449 \n",
            "X value is -2.999425251309746\n",
            "Iteration 450 \n",
            "X value is -2.999436746283551\n",
            "Iteration 451 \n",
            "X value is -2.99944801135788\n",
            "Iteration 452 \n",
            "X value is -2.9994590511307226\n",
            "Iteration 453 \n",
            "X value is -2.999469870108108\n",
            "Iteration 454 \n",
            "X value is -2.999480472705946\n",
            "Iteration 455 \n",
            "X value is -2.999490863251827\n",
            "Iteration 456 \n",
            "X value is -2.999501045986791\n",
            "Iteration 457 \n",
            "X value is -2.999511025067055\n",
            "Iteration 458 \n",
            "X value is -2.999520804565714\n",
            "Iteration 459 \n",
            "X value is -2.9995303884744\n",
            "Iteration 460 \n",
            "X value is -2.999539780704912\n",
            "Iteration 461 \n",
            "X value is -2.9995489850908137\n",
            "Iteration 462 \n",
            "X value is -2.999558005388997\n",
            "Iteration 463 \n",
            "X value is -2.999566845281217\n",
            "Iteration 464 \n",
            "X value is -2.999575508375593\n",
            "Iteration 465 \n",
            "X value is -2.999583998208081\n",
            "Iteration 466 \n",
            "X value is -2.9995923182439195\n",
            "Iteration 467 \n",
            "X value is -2.999600471879041\n",
            "Iteration 468 \n",
            "X value is -2.9996084624414605\n",
            "Iteration 469 \n",
            "X value is -2.999616293192631\n",
            "Iteration 470 \n",
            "X value is -2.9996239673287786\n",
            "Iteration 471 \n",
            "X value is -2.999631487982203\n",
            "Iteration 472 \n",
            "X value is -2.999638858222559\n",
            "Iteration 473 \n",
            "X value is -2.9996460810581076\n",
            "Iteration 474 \n",
            "X value is -2.9996531594369453\n",
            "Iteration 475 \n",
            "X value is -2.9996600962482063\n",
            "Iteration 476 \n",
            "X value is -2.999666894323242\n",
            "Iteration 477 \n",
            "X value is -2.999673556436777\n",
            "Iteration 478 \n",
            "X value is -2.9996800853080416\n",
            "Iteration 479 \n",
            "X value is -2.999686483601881\n",
            "Iteration 480 \n",
            "X value is -2.999692753929843\n",
            "Iteration 481 \n",
            "X value is -2.9996988988512463\n",
            "Iteration 482 \n",
            "X value is -2.9997049208742212\n",
            "Iteration 483 \n",
            "X value is -2.999710822456737\n",
            "Iteration 484 \n",
            "X value is -2.999716606007602\n",
            "Iteration 485 \n",
            "X value is -2.9997222738874503\n",
            "Iteration 486 \n",
            "X value is -2.9997278284097013\n",
            "Iteration 487 \n",
            "X value is -2.9997332718415075\n",
            "Iteration 488 \n",
            "X value is -2.9997386064046774\n",
            "Iteration 489 \n",
            "X value is -2.999743834276584\n",
            "Iteration 490 \n",
            "X value is -2.999748957591052\n",
            "Iteration 491 \n",
            "X value is -2.999753978439231\n",
            "Iteration 492 \n",
            "X value is -2.9997588988704464\n",
            "Iteration 493 \n",
            "X value is -2.9997637208930374\n",
            "Iteration 494 \n",
            "X value is -2.999768446475177\n",
            "Iteration 495 \n",
            "X value is -2.9997730775456732\n",
            "Iteration 496 \n",
            "X value is -2.9997776159947596\n",
            "Iteration 497 \n",
            "X value is -2.999782063674864\n",
            "Iteration 498 \n",
            "X value is -2.999786422401367\n",
            "Iteration 499 \n",
            "X value is -2.9997906939533396\n",
            "Iteration 500 \n",
            "X value is -2.9997948800742726\n",
            "Iteration 501 \n",
            "X value is -2.9997989824727873\n",
            "Iteration 502 \n",
            "X value is -2.999803002823332\n",
            "Iteration 503 \n",
            "X value is -2.999806942766865\n",
            "Iteration 504 \n",
            "X value is -2.9998108039115277\n",
            "Iteration 505 \n",
            "X value is -2.999814587833297\n",
            "Iteration 506 \n",
            "X value is -2.999818296076631\n",
            "Iteration 507 \n",
            "X value is -2.9998219301550986\n",
            "Iteration 508 \n",
            "X value is -2.9998254915519964\n",
            "Iteration 509 \n",
            "X value is -2.9998289817209565\n",
            "Iteration 510 \n",
            "X value is -2.9998324020865375\n",
            "Iteration 511 \n",
            "X value is -2.9998357540448066\n",
            "Iteration 512 \n",
            "X value is -2.9998390389639105\n",
            "Iteration 513 \n",
            "X value is -2.9998422581846325\n",
            "Iteration 514 \n",
            "X value is -2.9998454130209398\n",
            "Iteration 515 \n",
            "X value is -2.999848504760521\n",
            "Iteration 516 \n",
            "X value is -2.9998515346653107\n",
            "Iteration 517 \n",
            "X value is -2.9998545039720046\n",
            "Iteration 518 \n",
            "X value is -2.9998574138925647\n",
            "Iteration 519 \n",
            "X value is -2.9998602656147133\n",
            "Iteration 520 \n",
            "X value is -2.999863060302419\n",
            "Iteration 521 \n",
            "X value is -2.9998657990963706\n",
            "Iteration 522 \n",
            "X value is -2.9998684831144433\n",
            "Iteration 523 \n",
            "X value is -2.9998711134521545\n",
            "Iteration 524 \n",
            "X value is -2.9998736911831116\n",
            "Iteration 525 \n",
            "X value is -2.9998762173594495\n",
            "Iteration 526 \n",
            "X value is -2.9998786930122607\n",
            "Iteration 527 \n",
            "X value is -2.9998811191520156\n",
            "Iteration 528 \n",
            "X value is -2.9998834967689754\n",
            "Iteration 529 \n",
            "X value is -2.9998858268335957\n",
            "Iteration 530 \n",
            "X value is -2.999888110296924\n",
            "Iteration 531 \n",
            "X value is -2.9998903480909855\n",
            "Iteration 532 \n",
            "X value is -2.999892541129166\n",
            "Iteration 533 \n",
            "X value is -2.9998946903065824\n",
            "Iteration 534 \n",
            "X value is -2.9998967965004506\n",
            "Iteration 535 \n",
            "X value is -2.9998988605704415\n",
            "Iteration 536 \n",
            "X value is -2.999900883359033\n",
            "Iteration 537 \n",
            "X value is -2.999902865691852\n",
            "Iteration 538 \n",
            "X value is -2.999904808378015\n",
            "Iteration 539 \n",
            "X value is -2.999906712210455\n",
            "Iteration 540 \n",
            "X value is -2.9999085779662455\n",
            "Iteration 541 \n",
            "X value is -2.9999104064069204\n",
            "Iteration 542 \n",
            "X value is -2.999912198278782\n",
            "Iteration 543 \n",
            "X value is -2.9999139543132065\n",
            "Iteration 544 \n",
            "X value is -2.9999156752269425\n",
            "Iteration 545 \n",
            "X value is -2.9999173617224035\n",
            "Iteration 546 \n",
            "X value is -2.9999190144879555\n",
            "Iteration 547 \n",
            "X value is -2.9999206341981965\n",
            "Iteration 548 \n",
            "X value is -2.9999222215142325\n",
            "Iteration 549 \n",
            "X value is -2.9999237770839478\n",
            "Iteration 550 \n",
            "X value is -2.9999253015422687\n",
            "Iteration 551 \n",
            "X value is -2.9999267955114233\n",
            "Iteration 552 \n",
            "X value is -2.999928259601195\n",
            "Iteration 553 \n",
            "X value is -2.999929694409171\n",
            "Iteration 554 \n",
            "X value is -2.9999311005209877\n",
            "Iteration 555 \n",
            "X value is -2.999932478510568\n",
            "Iteration 556 \n",
            "X value is -2.9999338289403563\n",
            "Iteration 557 \n",
            "X value is -2.9999351523615494\n",
            "Iteration 558 \n",
            "X value is -2.9999364493143186\n",
            "Iteration 559 \n",
            "X value is -2.9999377203280324\n",
            "Iteration 560 \n",
            "X value is -2.999938965921472\n",
            "Iteration 561 \n",
            "X value is -2.9999401866030424\n",
            "Iteration 562 \n",
            "X value is -2.9999413828709818\n",
            "Iteration 563 \n",
            "X value is -2.999942555213562\n",
            "Iteration 564 \n",
            "X value is -2.999943704109291\n",
            "Iteration 565 \n",
            "X value is -2.999944830027105\n",
            "Iteration 566 \n",
            "X value is -2.999945933426563\n",
            "Iteration 567 \n",
            "X value is -2.999947014758032\n",
            "Iteration 568 \n",
            "X value is -2.9999480744628713\n",
            "Iteration 569 \n",
            "X value is -2.999949112973614\n",
            "Iteration 570 \n",
            "X value is -2.999950130714142\n",
            "Iteration 571 \n",
            "X value is -2.999951128099859\n",
            "The local minimum occurs at -2.999951128099859\n"
          ]
        }
      ],
      "source": [
        "while previous_step_size > precision and iters < max_iters: #When Previous Step SIze will be less than Precision then we will reach the global maxima\n",
        "    previous_x = current_x #Store current x value in prev_x\n",
        "    current_x = current_x - rate * df(previous_x) #Grad descent\n",
        "    previous_step_size = abs(current_x - previous_x) #Change in x\n",
        "    iters = iters+1 #iteration count\n",
        "    print(\"Iteration\",iters,\"\\nX value is\",current_x) #Print iterations\n",
        "    \n",
        "print(\"The local minimum occurs at\", current_x)"
      ],
      "id": "04f10545"
    },
    {
      "cell_type": "code",
      "execution_count": null,
      "metadata": {
        "id": "3d887888"
      },
      "outputs": [],
      "source": [],
      "id": "3d887888"
    },
    {
      "cell_type": "code",
      "source": [],
      "metadata": {
        "id": "ak1rQfSmY7qb"
      },
      "id": "ak1rQfSmY7qb",
      "execution_count": null,
      "outputs": []
    },
    {
      "cell_type": "markdown",
      "source": [
        "# Assignment 5\n",
        "KNN algorithm on diabetes dataset"
      ],
      "metadata": {
        "id": "TOdx8FWuXFJo"
      },
      "id": "TOdx8FWuXFJo"
    },
    {
      "cell_type": "code",
      "execution_count": null,
      "metadata": {
        "id": "nKCWne59XA2o"
      },
      "outputs": [],
      "source": [
        "import pandas as pd\n",
        "import numpy as np\n",
        "import seaborn as sns\n",
        "import matplotlib.pyplot as plt\n",
        "%matplotlib inline\n",
        "import warnings\n",
        "warnings.filterwarnings('ignore')\n",
        "from sklearn.model_selection import train_test_split\n",
        "from sklearn.svm import SVC\n",
        "from sklearn import metrics"
      ],
      "id": "nKCWne59XA2o"
    },
    {
      "cell_type": "code",
      "source": [
        "df=pd.read_csv('diabetes.csv')"
      ],
      "metadata": {
        "id": "ODTIFQf4XEWc"
      },
      "execution_count": null,
      "outputs": [],
      "id": "ODTIFQf4XEWc"
    },
    {
      "cell_type": "code",
      "source": [
        "df.columns"
      ],
      "metadata": {
        "colab": {
          "base_uri": "https://localhost:8080/"
        },
        "id": "teanhyOkXatu",
        "outputId": "c0df2475-3b6a-456a-e28f-bdf7e20d988d"
      },
      "execution_count": null,
      "outputs": [
        {
          "output_type": "execute_result",
          "data": {
            "text/plain": [
              "Index(['Pregnancies', 'Glucose', 'BloodPressure', 'SkinThickness', 'Insulin',\n",
              "       'BMI', 'Pedigree', 'Age', 'Outcome'],\n",
              "      dtype='object')"
            ]
          },
          "metadata": {},
          "execution_count": 5
        }
      ],
      "id": "teanhyOkXatu"
    },
    {
      "cell_type": "markdown",
      "source": [
        "Check for null values. If present remove null values from the dataset"
      ],
      "metadata": {
        "id": "ZYJn0zy_X7mj"
      },
      "id": "ZYJn0zy_X7mj"
    },
    {
      "cell_type": "code",
      "source": [
        "df.isnull().sum()"
      ],
      "metadata": {
        "colab": {
          "base_uri": "https://localhost:8080/"
        },
        "id": "3WaDM-m2X_xF",
        "outputId": "e8e55077-72d3-4d83-b9da-1e5f66ddbb16"
      },
      "execution_count": null,
      "outputs": [
        {
          "output_type": "execute_result",
          "data": {
            "text/plain": [
              "Pregnancies      0\n",
              "Glucose          0\n",
              "BloodPressure    0\n",
              "SkinThickness    0\n",
              "Insulin          0\n",
              "BMI              0\n",
              "Pedigree         0\n",
              "Age              0\n",
              "Outcome          0\n",
              "dtype: int64"
            ]
          },
          "metadata": {},
          "execution_count": 6
        }
      ],
      "id": "3WaDM-m2X_xF"
    },
    {
      "cell_type": "code",
      "source": [],
      "metadata": {
        "id": "la5YpJfwYC23"
      },
      "execution_count": null,
      "outputs": [],
      "id": "la5YpJfwYC23"
    },
    {
      "cell_type": "markdown",
      "source": [
        "Outcome is the label/target, other columns are features"
      ],
      "metadata": {
        "id": "rr_y9CaxXuBc"
      },
      "id": "rr_y9CaxXuBc"
    },
    {
      "cell_type": "code",
      "source": [
        "X = df.drop('Outcome',axis = 1)\n",
        "y = df['Outcome']"
      ],
      "metadata": {
        "id": "eS4Nbv31Xauq"
      },
      "execution_count": null,
      "outputs": [],
      "id": "eS4Nbv31Xauq"
    },
    {
      "cell_type": "code",
      "source": [
        "from sklearn.preprocessing import scale\n",
        "X = scale(X)\n",
        "# split into train and test\n",
        "X_train, X_test, y_train, y_test = train_test_split(X, y, test_size = 0.3, random_state = 42)"
      ],
      "metadata": {
        "id": "QAuoEGF4Xa0B"
      },
      "execution_count": null,
      "outputs": [],
      "id": "QAuoEGF4Xa0B"
    },
    {
      "cell_type": "code",
      "source": [
        "from sklearn.neighbors import KNeighborsClassifier\n",
        "knn = KNeighborsClassifier(n_neighbors=7)\n",
        " \n",
        "knn.fit(X_train, y_train)\n",
        "y_pred = knn.predict(X_test)"
      ],
      "metadata": {
        "id": "7Hzpo3DYXEXW"
      },
      "execution_count": null,
      "outputs": [],
      "id": "7Hzpo3DYXEXW"
    },
    {
      "cell_type": "code",
      "source": [
        "print(\"Confusion matrix: \")\n",
        "cs = metrics.confusion_matrix(y_test,y_pred)\n",
        "print(cs)"
      ],
      "metadata": {
        "colab": {
          "base_uri": "https://localhost:8080/"
        },
        "id": "Nr1kzK-JXEcL",
        "outputId": "b64ac1f1-c47f-4aea-f9c8-5670d05c4807"
      },
      "execution_count": null,
      "outputs": [
        {
          "output_type": "stream",
          "name": "stdout",
          "text": [
            "Confusion matrix: \n",
            "[[123  28]\n",
            " [ 37  43]]\n"
          ]
        }
      ],
      "id": "Nr1kzK-JXEcL"
    },
    {
      "cell_type": "code",
      "source": [
        "print(\"Acccuracy \",metrics.accuracy_score(y_test,y_pred))"
      ],
      "metadata": {
        "colab": {
          "base_uri": "https://localhost:8080/"
        },
        "id": "dOOO5IR3XEc_",
        "outputId": "19bee35b-13ee-4d91-b55d-ce497201653b"
      },
      "execution_count": null,
      "outputs": [
        {
          "output_type": "stream",
          "name": "stdout",
          "text": [
            "Acccuracy  0.7186147186147186\n"
          ]
        }
      ],
      "id": "dOOO5IR3XEc_"
    },
    {
      "cell_type": "markdown",
      "source": [
        "Classification error rate: proportion of instances misclassified over the whole set of instances.\n",
        "Error rate is calculated as the total number of two incorrect predictions (FN + FP) divided by the total number of a dataset (examples in the dataset.\n",
        "\n",
        "Also error_rate = 1- accuracy"
      ],
      "metadata": {
        "id": "CcYBOmD2aKtU"
      },
      "id": "CcYBOmD2aKtU"
    },
    {
      "cell_type": "code",
      "source": [
        "total_misclassified = cs[0,1] + cs[1,0]\n",
        "print(total_misclassified)\n",
        "total_examples = cs[0,0]+cs[0,1]+cs[1,0]+cs[1,1]\n",
        "print(total_examples)\n",
        "print(\"Error rate\",total_misclassified/total_examples)\n",
        "print(\"Error rate \",1-metrics.accuracy_score(y_test,y_pred))"
      ],
      "metadata": {
        "colab": {
          "base_uri": "https://localhost:8080/"
        },
        "id": "qCIjQd9RZDVV",
        "outputId": "f0c0d176-936c-4249-e3ad-f55d7d32e55f"
      },
      "execution_count": null,
      "outputs": [
        {
          "output_type": "stream",
          "name": "stdout",
          "text": [
            "65\n",
            "231\n",
            "Error rate 0.2813852813852814\n",
            "Error rate  0.2813852813852814\n"
          ]
        }
      ],
      "id": "qCIjQd9RZDVV"
    },
    {
      "cell_type": "code",
      "source": [
        "print(\"Precision score\",metrics.precision_score(y_test,y_pred))"
      ],
      "metadata": {
        "colab": {
          "base_uri": "https://localhost:8080/"
        },
        "id": "ITatd86kZK8b",
        "outputId": "56f984eb-9a9d-480d-d7ff-6a9491ba8ce3"
      },
      "execution_count": null,
      "outputs": [
        {
          "output_type": "stream",
          "name": "stdout",
          "text": [
            "Precision score 0.6056338028169014\n"
          ]
        }
      ],
      "id": "ITatd86kZK8b"
    },
    {
      "cell_type": "code",
      "source": [
        "print(\"Recall score \",metrics.recall_score(y_test,y_pred))"
      ],
      "metadata": {
        "colab": {
          "base_uri": "https://localhost:8080/"
        },
        "id": "CGtYrqGHZU1z",
        "outputId": "b40b18a4-fd9f-4593-cbcd-22d0baf41ab1"
      },
      "execution_count": null,
      "outputs": [
        {
          "output_type": "stream",
          "name": "stdout",
          "text": [
            "Recall score  0.5375\n"
          ]
        }
      ],
      "id": "CGtYrqGHZU1z"
    },
    {
      "cell_type": "code",
      "source": [
        "print(\"Classification report \",metrics.classification_report(y_test,y_pred))"
      ],
      "metadata": {
        "colab": {
          "base_uri": "https://localhost:8080/"
        },
        "id": "LSJOCp6YZc_R",
        "outputId": "03fb1d11-7de9-4645-c6d8-e584da71b7de"
      },
      "execution_count": null,
      "outputs": [
        {
          "output_type": "stream",
          "name": "stdout",
          "text": [
            "Classification report                precision    recall  f1-score   support\n",
            "\n",
            "           0       0.77      0.81      0.79       151\n",
            "           1       0.61      0.54      0.57        80\n",
            "\n",
            "    accuracy                           0.72       231\n",
            "   macro avg       0.69      0.68      0.68       231\n",
            "weighted avg       0.71      0.72      0.71       231\n",
            "\n"
          ]
        }
      ],
      "id": "LSJOCp6YZc_R"
    }
  ],
  "metadata": {
    "kernelspec": {
      "display_name": "Python 3",
      "language": "python",
      "name": "python3"
    },
    "language_info": {
      "codemirror_mode": {
        "name": "ipython",
        "version": 3
      },
      "file_extension": ".py",
      "mimetype": "text/x-python",
      "name": "python",
      "nbconvert_exporter": "python",
      "pygments_lexer": "ipython3",
      "version": "3.8.8"
    },
    "colab": {
      "provenance": [],
      "collapsed_sections": [
        "9fa47041",
        "9ead348e",
        "4e65531d",
        "862aaa86",
        "147b7204",
        "271b0ada",
        "50cb63a2",
        "aea79164",
        "b28a869b",
        "8533b89a",
        "NW1akwG1PWaw",
        "Fz8TLbj4VkvK",
        "6W82nGEkTUCo",
        "1803f417",
        "96e1c556",
        "44410449",
        "cd5a1362",
        "9840f548",
        "3f57ac21",
        "6503825a",
        "TOdx8FWuXFJo"
      ]
    }
  },
  "nbformat": 4,
  "nbformat_minor": 5
}